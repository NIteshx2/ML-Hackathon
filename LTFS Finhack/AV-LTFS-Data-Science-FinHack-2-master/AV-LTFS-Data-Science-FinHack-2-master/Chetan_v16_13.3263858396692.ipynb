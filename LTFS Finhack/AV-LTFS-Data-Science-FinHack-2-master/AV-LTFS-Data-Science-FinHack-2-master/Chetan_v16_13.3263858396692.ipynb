{
 "cells": [
  {
   "cell_type": "markdown",
   "metadata": {},
   "source": [
    "# LTFS Data Science FinHack 2\n",
    "\n",
    "LTFS receives a lot of requests for its various finance offerings that include housing loan, two-wheeler loan, real estate financing and micro loans. The number of applications received is something that varies a lot with season. Going through these applications is a manual process and is tedious. Accurately forecasting the number of cases received can help with resource and manpower management resulting into quick response on applications and more efficient processing.\n",
    "\n",
    "## Problem Statement\n",
    "You have been appointed with the task of forecasting daily cases for next 3 months for 2 different business segments aggregated at the country level keeping in consideration the following major Indian festivals (inclusive but not exhaustive list): Diwali, Dussehra, Ganesh Chaturthi, Navratri, Holi etc. (You are free to use any publicly available open source external datasets). Some other examples could be:\n",
    "\n",
    "Weather Macroeconomic variables Note that the external dataset must belong to a reliable source.\n",
    "\n",
    "Data Dictionary The train data has been provided in the following way:\n",
    "\n",
    "* For business segment 1, historical data has been made available at branch ID level For business segment 2, historical data has been made available at State level.\n",
    "\n",
    "Train File Variable Definition application_date Date of application segment Business Segment (1/2) branch_id Anonymised id for branch at which application was received state State in which application was received (Karnataka, MP etc.) zone Zone of state in which application was received (Central, East etc.) case_count (Target) Number of cases/applications received\n",
    "\n",
    "Test File Forecasting needs to be done at country level for the dates provided in test set for each segment.\n",
    "\n",
    "Variable Definition id Unique id for each sample in test set application_date Date of application segment Business Segment (1/2)\n",
    "\n",
    "### Evaluation\n",
    "Evaluation Metric The evaluation metric for scoring the forecasts is **MAPE (Mean Absolute Percentage Error)* M with the formula:\n",
    "\n",
    "\n",
    "Where At is the actual value and Ft is the forecast value.\n",
    "\n",
    "The Final score is calculated using MAPE for both the segments using the formula:\n",
    "\n",
    "### Important Notes\n",
    "\n",
    "Note that feasibility of implementation of top solutions will be considered while adjudging winners The solution must produce satisfactory results for both the business segments\n",
    "\n",
    "Public and Private Split Test data is further divided into Public (1st Month) and Private (Next 2 months)"
   ]
  },
  {
   "cell_type": "markdown",
   "metadata": {},
   "source": [
    "# Import Libraries"
   ]
  },
  {
   "cell_type": "code",
   "execution_count": 1,
   "metadata": {
    "_cell_guid": "b1076dfc-b9ad-4769-8c92-a6c4dae69d19",
    "_uuid": "8f2839f25d086af736a60e9eeb907d3b93b6e0e5"
   },
   "outputs": [],
   "source": [
    "import numpy as np  \n",
    "import pandas as pd  \n",
    "import matplotlib.pyplot as plt\n",
    "import seaborn as sns\n",
    "import warnings\n",
    "warnings.filterwarnings('ignore')\n",
    "import os\n",
    "\n",
    "# for dirname, _, filenames in os.walk('/kaggle/input'):\n",
    "#     for filename in filenames:\n",
    "#         print(os.path.join(dirname, filename))"
   ]
  },
  {
   "cell_type": "code",
   "execution_count": 2,
   "metadata": {},
   "outputs": [],
   "source": [
    "def mean_absolute_percentage_error(y_true, y_pred): \n",
    "    y_true, y_pred = np.array(y_true), np.array(y_pred)\n",
    "    return np.mean(np.abs((y_true - y_pred) / y_true)) * 100"
   ]
  },
  {
   "cell_type": "code",
   "execution_count": 3,
   "metadata": {},
   "outputs": [],
   "source": [
    "# !python -m pip install --upgrade pip"
   ]
  },
  {
   "cell_type": "code",
   "execution_count": 4,
   "metadata": {},
   "outputs": [],
   "source": [
    "# !pip install holidays"
   ]
  },
  {
   "cell_type": "code",
   "execution_count": 5,
   "metadata": {},
   "outputs": [],
   "source": [
    "import holidays\n",
    "from datetime import date\n",
    "\n",
    "ind_holidays = holidays.IND(years=[2017,2018,2019])\n",
    "\n",
    "hol=['2017-02-24','2017-03-13','2017-03-28','2017-04-05','2017-04-09','2017-04-14','2017-05-10','2017-06-25','2017-06-26','2017-08-07','2017-09-30',\n",
    "     '2017-10-02','2017-10-19','2018-02-24','2018-03-13','2018-03-28','2018-04-05','2018-04-09','2018-04-14','2018-05-10','2018-06-25','2018-06-26',\n",
    "     '2018-08-07','2018-09-30','2018-10-02','2018-10-19','2019-02-24','2019-03-13','2019-03-28','2019-04-05','2019-04-09','2019-04-14','2019-05-10',\n",
    "     '2019-06-25','2019-06-26','2019-08-07','2019-09-30','2019-10-02','2019-10-19']\n",
    "\n",
    "for date, name in sorted(ind_holidays.items()):\n",
    "    hol.append(str(date))"
   ]
  },
  {
   "cell_type": "markdown",
   "metadata": {},
   "source": [
    "# Import Datasets"
   ]
  },
  {
   "cell_type": "code",
   "execution_count": 6,
   "metadata": {},
   "outputs": [],
   "source": [
    "train = pd.read_csv('./train_fwYjLYX.csv', parse_dates=True)"
   ]
  },
  {
   "cell_type": "code",
   "execution_count": 7,
   "metadata": {},
   "outputs": [],
   "source": [
    "test = pd.read_csv('./test_1eLl9Yf.csv',parse_dates=True)\n",
    "sample_sub = pd.read_csv('./sample_submission_IIzFVsf.csv')"
   ]
  },
  {
   "cell_type": "markdown",
   "metadata": {},
   "source": [
    "# Data Processing"
   ]
  },
  {
   "cell_type": "code",
   "execution_count": 8,
   "metadata": {},
   "outputs": [
    {
     "name": "stdout",
     "output_type": "stream",
     "text": [
      "<class 'pandas.core.frame.DataFrame'>\n",
      "RangeIndex: 80402 entries, 0 to 80401\n",
      "Data columns (total 6 columns):\n",
      "application_date    80402 non-null object\n",
      "segment             80402 non-null int64\n",
      "branch_id           66898 non-null float64\n",
      "state               80402 non-null object\n",
      "zone                66898 non-null object\n",
      "case_count          80402 non-null float64\n",
      "dtypes: float64(2), int64(1), object(3)\n",
      "memory usage: 3.7+ MB\n"
     ]
    }
   ],
   "source": [
    "train.info()"
   ]
  },
  {
   "cell_type": "code",
   "execution_count": 9,
   "metadata": {},
   "outputs": [
    {
     "data": {
      "text/plain": [
       "((80402, 6), (180, 3), (180, 4))"
      ]
     },
     "execution_count": 9,
     "metadata": {},
     "output_type": "execute_result"
    }
   ],
   "source": [
    "train.shape, test.shape, sample_sub.shape"
   ]
  },
  {
   "cell_type": "code",
   "execution_count": 10,
   "metadata": {},
   "outputs": [
    {
     "data": {
      "text/plain": [
       "application_date     844\n",
       "segment                2\n",
       "branch_id             83\n",
       "state                 20\n",
       "zone                   5\n",
       "case_count          3245\n",
       "dtype: int64"
      ]
     },
     "execution_count": 10,
     "metadata": {},
     "output_type": "execute_result"
    }
   ],
   "source": [
    "train.nunique()"
   ]
  },
  {
   "cell_type": "code",
   "execution_count": 11,
   "metadata": {
    "_cell_guid": "79c7e3d0-c299-4dcb-8224-4455121ee9b0",
    "_uuid": "d629ff2d2480ee46fbb7e2d37f6b5fab8052498a"
   },
   "outputs": [
    {
     "data": {
      "text/html": [
       "<div>\n",
       "<style scoped>\n",
       "    .dataframe tbody tr th:only-of-type {\n",
       "        vertical-align: middle;\n",
       "    }\n",
       "\n",
       "    .dataframe tbody tr th {\n",
       "        vertical-align: top;\n",
       "    }\n",
       "\n",
       "    .dataframe thead th {\n",
       "        text-align: right;\n",
       "    }\n",
       "</style>\n",
       "<table border=\"1\" class=\"dataframe\">\n",
       "  <thead>\n",
       "    <tr style=\"text-align: right;\">\n",
       "      <th></th>\n",
       "      <th>application_date</th>\n",
       "      <th>segment</th>\n",
       "      <th>branch_id</th>\n",
       "      <th>state</th>\n",
       "      <th>zone</th>\n",
       "      <th>case_count</th>\n",
       "    </tr>\n",
       "  </thead>\n",
       "  <tbody>\n",
       "    <tr>\n",
       "      <th>0</th>\n",
       "      <td>2017-04-01</td>\n",
       "      <td>1</td>\n",
       "      <td>1.0</td>\n",
       "      <td>WEST BENGAL</td>\n",
       "      <td>EAST</td>\n",
       "      <td>40.0</td>\n",
       "    </tr>\n",
       "    <tr>\n",
       "      <th>1</th>\n",
       "      <td>2017-04-03</td>\n",
       "      <td>1</td>\n",
       "      <td>1.0</td>\n",
       "      <td>WEST BENGAL</td>\n",
       "      <td>EAST</td>\n",
       "      <td>5.0</td>\n",
       "    </tr>\n",
       "    <tr>\n",
       "      <th>2</th>\n",
       "      <td>2017-04-04</td>\n",
       "      <td>1</td>\n",
       "      <td>1.0</td>\n",
       "      <td>WEST BENGAL</td>\n",
       "      <td>EAST</td>\n",
       "      <td>4.0</td>\n",
       "    </tr>\n",
       "    <tr>\n",
       "      <th>3</th>\n",
       "      <td>2017-04-05</td>\n",
       "      <td>1</td>\n",
       "      <td>1.0</td>\n",
       "      <td>WEST BENGAL</td>\n",
       "      <td>EAST</td>\n",
       "      <td>113.0</td>\n",
       "    </tr>\n",
       "    <tr>\n",
       "      <th>4</th>\n",
       "      <td>2017-04-07</td>\n",
       "      <td>1</td>\n",
       "      <td>1.0</td>\n",
       "      <td>WEST BENGAL</td>\n",
       "      <td>EAST</td>\n",
       "      <td>76.0</td>\n",
       "    </tr>\n",
       "  </tbody>\n",
       "</table>\n",
       "</div>"
      ],
      "text/plain": [
       "  application_date  segment  branch_id        state  zone  case_count\n",
       "0       2017-04-01        1        1.0  WEST BENGAL  EAST        40.0\n",
       "1       2017-04-03        1        1.0  WEST BENGAL  EAST         5.0\n",
       "2       2017-04-04        1        1.0  WEST BENGAL  EAST         4.0\n",
       "3       2017-04-05        1        1.0  WEST BENGAL  EAST       113.0\n",
       "4       2017-04-07        1        1.0  WEST BENGAL  EAST        76.0"
      ]
     },
     "execution_count": 11,
     "metadata": {},
     "output_type": "execute_result"
    }
   ],
   "source": [
    "train.head()"
   ]
  },
  {
   "cell_type": "code",
   "execution_count": 12,
   "metadata": {},
   "outputs": [
    {
     "data": {
      "text/html": [
       "<div>\n",
       "<style scoped>\n",
       "    .dataframe tbody tr th:only-of-type {\n",
       "        vertical-align: middle;\n",
       "    }\n",
       "\n",
       "    .dataframe tbody tr th {\n",
       "        vertical-align: top;\n",
       "    }\n",
       "\n",
       "    .dataframe thead th {\n",
       "        text-align: right;\n",
       "    }\n",
       "</style>\n",
       "<table border=\"1\" class=\"dataframe\">\n",
       "  <thead>\n",
       "    <tr style=\"text-align: right;\">\n",
       "      <th></th>\n",
       "      <th>id</th>\n",
       "      <th>application_date</th>\n",
       "      <th>segment</th>\n",
       "    </tr>\n",
       "  </thead>\n",
       "  <tbody>\n",
       "    <tr>\n",
       "      <th>175</th>\n",
       "      <td>176</td>\n",
       "      <td>2019-10-20</td>\n",
       "      <td>2</td>\n",
       "    </tr>\n",
       "    <tr>\n",
       "      <th>176</th>\n",
       "      <td>177</td>\n",
       "      <td>2019-10-21</td>\n",
       "      <td>2</td>\n",
       "    </tr>\n",
       "    <tr>\n",
       "      <th>177</th>\n",
       "      <td>178</td>\n",
       "      <td>2019-10-22</td>\n",
       "      <td>2</td>\n",
       "    </tr>\n",
       "    <tr>\n",
       "      <th>178</th>\n",
       "      <td>179</td>\n",
       "      <td>2019-10-23</td>\n",
       "      <td>2</td>\n",
       "    </tr>\n",
       "    <tr>\n",
       "      <th>179</th>\n",
       "      <td>180</td>\n",
       "      <td>2019-10-24</td>\n",
       "      <td>2</td>\n",
       "    </tr>\n",
       "  </tbody>\n",
       "</table>\n",
       "</div>"
      ],
      "text/plain": [
       "      id application_date  segment\n",
       "175  176       2019-10-20        2\n",
       "176  177       2019-10-21        2\n",
       "177  178       2019-10-22        2\n",
       "178  179       2019-10-23        2\n",
       "179  180       2019-10-24        2"
      ]
     },
     "execution_count": 12,
     "metadata": {},
     "output_type": "execute_result"
    }
   ],
   "source": [
    "test.tail()"
   ]
  },
  {
   "cell_type": "code",
   "execution_count": 13,
   "metadata": {},
   "outputs": [
    {
     "data": {
      "text/plain": [
       "2    93\n",
       "1    87\n",
       "Name: segment, dtype: int64"
      ]
     },
     "execution_count": 13,
     "metadata": {},
     "output_type": "execute_result"
    }
   ],
   "source": [
    "test['segment'].value_counts()"
   ]
  },
  {
   "cell_type": "code",
   "execution_count": 14,
   "metadata": {},
   "outputs": [
    {
     "data": {
      "text/html": [
       "<div>\n",
       "<style scoped>\n",
       "    .dataframe tbody tr th:only-of-type {\n",
       "        vertical-align: middle;\n",
       "    }\n",
       "\n",
       "    .dataframe tbody tr th {\n",
       "        vertical-align: top;\n",
       "    }\n",
       "\n",
       "    .dataframe thead th {\n",
       "        text-align: right;\n",
       "    }\n",
       "</style>\n",
       "<table border=\"1\" class=\"dataframe\">\n",
       "  <thead>\n",
       "    <tr style=\"text-align: right;\">\n",
       "      <th></th>\n",
       "      <th>id</th>\n",
       "      <th>application_date</th>\n",
       "      <th>segment</th>\n",
       "      <th>case_count</th>\n",
       "    </tr>\n",
       "  </thead>\n",
       "  <tbody>\n",
       "    <tr>\n",
       "      <th>0</th>\n",
       "      <td>1</td>\n",
       "      <td>2019-07-06</td>\n",
       "      <td>1</td>\n",
       "      <td>5</td>\n",
       "    </tr>\n",
       "    <tr>\n",
       "      <th>1</th>\n",
       "      <td>2</td>\n",
       "      <td>2019-07-07</td>\n",
       "      <td>1</td>\n",
       "      <td>5</td>\n",
       "    </tr>\n",
       "    <tr>\n",
       "      <th>2</th>\n",
       "      <td>3</td>\n",
       "      <td>2019-07-08</td>\n",
       "      <td>1</td>\n",
       "      <td>5</td>\n",
       "    </tr>\n",
       "    <tr>\n",
       "      <th>3</th>\n",
       "      <td>4</td>\n",
       "      <td>2019-07-09</td>\n",
       "      <td>1</td>\n",
       "      <td>5</td>\n",
       "    </tr>\n",
       "    <tr>\n",
       "      <th>4</th>\n",
       "      <td>5</td>\n",
       "      <td>2019-07-10</td>\n",
       "      <td>1</td>\n",
       "      <td>5</td>\n",
       "    </tr>\n",
       "  </tbody>\n",
       "</table>\n",
       "</div>"
      ],
      "text/plain": [
       "   id application_date  segment  case_count\n",
       "0   1       2019-07-06        1           5\n",
       "1   2       2019-07-07        1           5\n",
       "2   3       2019-07-08        1           5\n",
       "3   4       2019-07-09        1           5\n",
       "4   5       2019-07-10        1           5"
      ]
     },
     "execution_count": 14,
     "metadata": {},
     "output_type": "execute_result"
    }
   ],
   "source": [
    "sample_sub.head()"
   ]
  },
  {
   "cell_type": "code",
   "execution_count": 15,
   "metadata": {},
   "outputs": [],
   "source": [
    "train['application_date'] = pd.to_datetime(train['application_date'],format='%Y-%m-%d')\n",
    "test['application_date'] = pd.to_datetime(test['application_date'],format='%Y-%m-%d')"
   ]
  },
  {
   "cell_type": "code",
   "execution_count": 16,
   "metadata": {},
   "outputs": [],
   "source": [
    "train1 = train[train['segment'] == 1].groupby(['application_date']).sum().reset_index()[['application_date','case_count']].sort_values('application_date')\n",
    "train2 = train[train['segment'] == 2].groupby(['application_date']).sum().reset_index()[['application_date','case_count']].sort_values('application_date')"
   ]
  },
  {
   "cell_type": "code",
   "execution_count": 17,
   "metadata": {},
   "outputs": [
    {
     "data": {
      "text/html": [
       "<div>\n",
       "<style scoped>\n",
       "    .dataframe tbody tr th:only-of-type {\n",
       "        vertical-align: middle;\n",
       "    }\n",
       "\n",
       "    .dataframe tbody tr th {\n",
       "        vertical-align: top;\n",
       "    }\n",
       "\n",
       "    .dataframe thead th {\n",
       "        text-align: right;\n",
       "    }\n",
       "</style>\n",
       "<table border=\"1\" class=\"dataframe\">\n",
       "  <thead>\n",
       "    <tr style=\"text-align: right;\">\n",
       "      <th></th>\n",
       "      <th>application_date</th>\n",
       "      <th>case_count</th>\n",
       "    </tr>\n",
       "  </thead>\n",
       "  <tbody>\n",
       "    <tr>\n",
       "      <th>0</th>\n",
       "      <td>2017-04-01</td>\n",
       "      <td>897.0</td>\n",
       "    </tr>\n",
       "    <tr>\n",
       "      <th>1</th>\n",
       "      <td>2017-04-02</td>\n",
       "      <td>605.0</td>\n",
       "    </tr>\n",
       "    <tr>\n",
       "      <th>2</th>\n",
       "      <td>2017-04-03</td>\n",
       "      <td>2016.0</td>\n",
       "    </tr>\n",
       "    <tr>\n",
       "      <th>3</th>\n",
       "      <td>2017-04-04</td>\n",
       "      <td>2245.0</td>\n",
       "    </tr>\n",
       "    <tr>\n",
       "      <th>4</th>\n",
       "      <td>2017-04-05</td>\n",
       "      <td>2415.0</td>\n",
       "    </tr>\n",
       "  </tbody>\n",
       "</table>\n",
       "</div>"
      ],
      "text/plain": [
       "  application_date  case_count\n",
       "0       2017-04-01       897.0\n",
       "1       2017-04-02       605.0\n",
       "2       2017-04-03      2016.0\n",
       "3       2017-04-04      2245.0\n",
       "4       2017-04-05      2415.0"
      ]
     },
     "execution_count": 17,
     "metadata": {},
     "output_type": "execute_result"
    }
   ],
   "source": [
    "train2.head()"
   ]
  },
  {
   "cell_type": "code",
   "execution_count": 18,
   "metadata": {},
   "outputs": [
    {
     "data": {
      "text/html": [
       "<div>\n",
       "<style scoped>\n",
       "    .dataframe tbody tr th:only-of-type {\n",
       "        vertical-align: middle;\n",
       "    }\n",
       "\n",
       "    .dataframe tbody tr th {\n",
       "        vertical-align: top;\n",
       "    }\n",
       "\n",
       "    .dataframe thead th {\n",
       "        text-align: right;\n",
       "    }\n",
       "</style>\n",
       "<table border=\"1\" class=\"dataframe\">\n",
       "  <thead>\n",
       "    <tr style=\"text-align: right;\">\n",
       "      <th></th>\n",
       "      <th>application_date</th>\n",
       "      <th>case_count</th>\n",
       "    </tr>\n",
       "  </thead>\n",
       "  <tbody>\n",
       "    <tr>\n",
       "      <th>0</th>\n",
       "      <td>2017-04-01</td>\n",
       "      <td>299.0</td>\n",
       "    </tr>\n",
       "    <tr>\n",
       "      <th>1</th>\n",
       "      <td>2017-04-03</td>\n",
       "      <td>42.0</td>\n",
       "    </tr>\n",
       "    <tr>\n",
       "      <th>2</th>\n",
       "      <td>2017-04-04</td>\n",
       "      <td>23.0</td>\n",
       "    </tr>\n",
       "    <tr>\n",
       "      <th>3</th>\n",
       "      <td>2017-04-05</td>\n",
       "      <td>1530.0</td>\n",
       "    </tr>\n",
       "    <tr>\n",
       "      <th>4</th>\n",
       "      <td>2017-04-07</td>\n",
       "      <td>1341.0</td>\n",
       "    </tr>\n",
       "  </tbody>\n",
       "</table>\n",
       "</div>"
      ],
      "text/plain": [
       "  application_date  case_count\n",
       "0       2017-04-01       299.0\n",
       "1       2017-04-03        42.0\n",
       "2       2017-04-04        23.0\n",
       "3       2017-04-05      1530.0\n",
       "4       2017-04-07      1341.0"
      ]
     },
     "execution_count": 18,
     "metadata": {},
     "output_type": "execute_result"
    }
   ],
   "source": [
    "train1.head()"
   ]
  },
  {
   "cell_type": "code",
   "execution_count": 19,
   "metadata": {},
   "outputs": [],
   "source": [
    "def create_date_featues(df):\n",
    "    df['Year'] = pd.to_datetime(df['application_date']).dt.year\n",
    "    df['Month'] = pd.to_datetime(df['application_date']).dt.month\n",
    "    df['Day'] = pd.to_datetime(df['application_date']).dt.day\n",
    "    df['Dayofweek'] = pd.to_datetime(df['application_date']).dt.dayofweek\n",
    "    df['DayOfyear'] = pd.to_datetime(df['application_date']).dt.dayofyear\n",
    "    df['Week'] = pd.to_datetime(df['application_date']).dt.week \n",
    "    df['Quarter'] = pd.to_datetime(df['application_date']).dt.quarter  \n",
    "    df['Is_month_start'] = pd.to_datetime(df['application_date']).dt.is_month_start \n",
    "    df['Is_month_end'] = pd.to_datetime(df['application_date']).dt.is_month_end \n",
    "    df['Is_quarter_start'] = pd.to_datetime(df['application_date']).dt.is_quarter_start\n",
    "    df['Is_quarter_end'] = pd.to_datetime(df['application_date']).dt.is_quarter_end \n",
    "    df['Is_year_start'] = pd.to_datetime(df['application_date']).dt.is_year_start \n",
    "    df['Is_year_end'] = pd.to_datetime(df['application_date']).dt.is_year_end\n",
    "    df['Semester'] = np.where(df['Quarter'].isin([1,2]),1,2)\n",
    "    #df['Is_weekend'] = np.where(df['Dayofweek'].isin([5,6]),1,0)\n",
    "    #df['Is_weekday'] = np.where(df['Dayofweek'].isin([0,1,2,3,4]),1,0)\n",
    "    #df['Days_in_month'] = pd.to_datetime(df['application_date']).dt.days_in_month \n",
    "    return df"
   ]
  },
  {
   "cell_type": "code",
   "execution_count": 20,
   "metadata": {},
   "outputs": [],
   "source": [
    "train1 = create_date_featues(train1)\n",
    "train2 = create_date_featues(train2)"
   ]
  },
  {
   "cell_type": "code",
   "execution_count": 21,
   "metadata": {},
   "outputs": [
    {
     "data": {
      "text/html": [
       "<div>\n",
       "<style scoped>\n",
       "    .dataframe tbody tr th:only-of-type {\n",
       "        vertical-align: middle;\n",
       "    }\n",
       "\n",
       "    .dataframe tbody tr th {\n",
       "        vertical-align: top;\n",
       "    }\n",
       "\n",
       "    .dataframe thead th {\n",
       "        text-align: right;\n",
       "    }\n",
       "</style>\n",
       "<table border=\"1\" class=\"dataframe\">\n",
       "  <thead>\n",
       "    <tr style=\"text-align: right;\">\n",
       "      <th></th>\n",
       "      <th>application_date</th>\n",
       "      <th>case_count</th>\n",
       "      <th>Year</th>\n",
       "      <th>Month</th>\n",
       "      <th>Day</th>\n",
       "      <th>Dayofweek</th>\n",
       "      <th>DayOfyear</th>\n",
       "      <th>Week</th>\n",
       "      <th>Quarter</th>\n",
       "      <th>Is_month_start</th>\n",
       "      <th>Is_month_end</th>\n",
       "      <th>Is_quarter_start</th>\n",
       "      <th>Is_quarter_end</th>\n",
       "      <th>Is_year_start</th>\n",
       "      <th>Is_year_end</th>\n",
       "      <th>Semester</th>\n",
       "    </tr>\n",
       "  </thead>\n",
       "  <tbody>\n",
       "    <tr>\n",
       "      <th>0</th>\n",
       "      <td>2017-04-01</td>\n",
       "      <td>897.0</td>\n",
       "      <td>2017</td>\n",
       "      <td>4</td>\n",
       "      <td>1</td>\n",
       "      <td>5</td>\n",
       "      <td>91</td>\n",
       "      <td>13</td>\n",
       "      <td>2</td>\n",
       "      <td>True</td>\n",
       "      <td>False</td>\n",
       "      <td>True</td>\n",
       "      <td>False</td>\n",
       "      <td>False</td>\n",
       "      <td>False</td>\n",
       "      <td>1</td>\n",
       "    </tr>\n",
       "    <tr>\n",
       "      <th>1</th>\n",
       "      <td>2017-04-02</td>\n",
       "      <td>605.0</td>\n",
       "      <td>2017</td>\n",
       "      <td>4</td>\n",
       "      <td>2</td>\n",
       "      <td>6</td>\n",
       "      <td>92</td>\n",
       "      <td>13</td>\n",
       "      <td>2</td>\n",
       "      <td>False</td>\n",
       "      <td>False</td>\n",
       "      <td>False</td>\n",
       "      <td>False</td>\n",
       "      <td>False</td>\n",
       "      <td>False</td>\n",
       "      <td>1</td>\n",
       "    </tr>\n",
       "    <tr>\n",
       "      <th>2</th>\n",
       "      <td>2017-04-03</td>\n",
       "      <td>2016.0</td>\n",
       "      <td>2017</td>\n",
       "      <td>4</td>\n",
       "      <td>3</td>\n",
       "      <td>0</td>\n",
       "      <td>93</td>\n",
       "      <td>14</td>\n",
       "      <td>2</td>\n",
       "      <td>False</td>\n",
       "      <td>False</td>\n",
       "      <td>False</td>\n",
       "      <td>False</td>\n",
       "      <td>False</td>\n",
       "      <td>False</td>\n",
       "      <td>1</td>\n",
       "    </tr>\n",
       "    <tr>\n",
       "      <th>3</th>\n",
       "      <td>2017-04-04</td>\n",
       "      <td>2245.0</td>\n",
       "      <td>2017</td>\n",
       "      <td>4</td>\n",
       "      <td>4</td>\n",
       "      <td>1</td>\n",
       "      <td>94</td>\n",
       "      <td>14</td>\n",
       "      <td>2</td>\n",
       "      <td>False</td>\n",
       "      <td>False</td>\n",
       "      <td>False</td>\n",
       "      <td>False</td>\n",
       "      <td>False</td>\n",
       "      <td>False</td>\n",
       "      <td>1</td>\n",
       "    </tr>\n",
       "    <tr>\n",
       "      <th>4</th>\n",
       "      <td>2017-04-05</td>\n",
       "      <td>2415.0</td>\n",
       "      <td>2017</td>\n",
       "      <td>4</td>\n",
       "      <td>5</td>\n",
       "      <td>2</td>\n",
       "      <td>95</td>\n",
       "      <td>14</td>\n",
       "      <td>2</td>\n",
       "      <td>False</td>\n",
       "      <td>False</td>\n",
       "      <td>False</td>\n",
       "      <td>False</td>\n",
       "      <td>False</td>\n",
       "      <td>False</td>\n",
       "      <td>1</td>\n",
       "    </tr>\n",
       "  </tbody>\n",
       "</table>\n",
       "</div>"
      ],
      "text/plain": [
       "  application_date  case_count  Year  Month  Day  Dayofweek  DayOfyear  Week  \\\n",
       "0       2017-04-01       897.0  2017      4    1          5         91    13   \n",
       "1       2017-04-02       605.0  2017      4    2          6         92    13   \n",
       "2       2017-04-03      2016.0  2017      4    3          0         93    14   \n",
       "3       2017-04-04      2245.0  2017      4    4          1         94    14   \n",
       "4       2017-04-05      2415.0  2017      4    5          2         95    14   \n",
       "\n",
       "   Quarter  Is_month_start  Is_month_end  Is_quarter_start  Is_quarter_end  \\\n",
       "0        2            True         False              True           False   \n",
       "1        2           False         False             False           False   \n",
       "2        2           False         False             False           False   \n",
       "3        2           False         False             False           False   \n",
       "4        2           False         False             False           False   \n",
       "\n",
       "   Is_year_start  Is_year_end  Semester  \n",
       "0          False        False         1  \n",
       "1          False        False         1  \n",
       "2          False        False         1  \n",
       "3          False        False         1  \n",
       "4          False        False         1  "
      ]
     },
     "execution_count": 21,
     "metadata": {},
     "output_type": "execute_result"
    }
   ],
   "source": [
    "train2.head()"
   ]
  },
  {
   "cell_type": "code",
   "execution_count": 22,
   "metadata": {},
   "outputs": [],
   "source": [
    "train1['Is_holiday'] = train1['application_date'].isin(hol)\n",
    "train2['Is_holiday'] = train2['application_date'].isin(hol)"
   ]
  },
  {
   "cell_type": "code",
   "execution_count": 23,
   "metadata": {},
   "outputs": [
    {
     "data": {
      "text/html": [
       "<div>\n",
       "<style scoped>\n",
       "    .dataframe tbody tr th:only-of-type {\n",
       "        vertical-align: middle;\n",
       "    }\n",
       "\n",
       "    .dataframe tbody tr th {\n",
       "        vertical-align: top;\n",
       "    }\n",
       "\n",
       "    .dataframe thead th {\n",
       "        text-align: right;\n",
       "    }\n",
       "</style>\n",
       "<table border=\"1\" class=\"dataframe\">\n",
       "  <thead>\n",
       "    <tr style=\"text-align: right;\">\n",
       "      <th></th>\n",
       "      <th>application_date</th>\n",
       "      <th>case_count</th>\n",
       "      <th>Year</th>\n",
       "      <th>Month</th>\n",
       "      <th>Day</th>\n",
       "      <th>Dayofweek</th>\n",
       "      <th>DayOfyear</th>\n",
       "      <th>Week</th>\n",
       "      <th>Quarter</th>\n",
       "      <th>Is_month_start</th>\n",
       "      <th>Is_month_end</th>\n",
       "      <th>Is_quarter_start</th>\n",
       "      <th>Is_quarter_end</th>\n",
       "      <th>Is_year_start</th>\n",
       "      <th>Is_year_end</th>\n",
       "      <th>Semester</th>\n",
       "      <th>Is_holiday</th>\n",
       "    </tr>\n",
       "  </thead>\n",
       "  <tbody>\n",
       "    <tr>\n",
       "      <th>0</th>\n",
       "      <td>2017-04-01</td>\n",
       "      <td>299.0</td>\n",
       "      <td>2017</td>\n",
       "      <td>4</td>\n",
       "      <td>1</td>\n",
       "      <td>5</td>\n",
       "      <td>91</td>\n",
       "      <td>13</td>\n",
       "      <td>2</td>\n",
       "      <td>True</td>\n",
       "      <td>False</td>\n",
       "      <td>True</td>\n",
       "      <td>False</td>\n",
       "      <td>False</td>\n",
       "      <td>False</td>\n",
       "      <td>1</td>\n",
       "      <td>False</td>\n",
       "    </tr>\n",
       "    <tr>\n",
       "      <th>1</th>\n",
       "      <td>2017-04-03</td>\n",
       "      <td>42.0</td>\n",
       "      <td>2017</td>\n",
       "      <td>4</td>\n",
       "      <td>3</td>\n",
       "      <td>0</td>\n",
       "      <td>93</td>\n",
       "      <td>14</td>\n",
       "      <td>2</td>\n",
       "      <td>False</td>\n",
       "      <td>False</td>\n",
       "      <td>False</td>\n",
       "      <td>False</td>\n",
       "      <td>False</td>\n",
       "      <td>False</td>\n",
       "      <td>1</td>\n",
       "      <td>False</td>\n",
       "    </tr>\n",
       "    <tr>\n",
       "      <th>2</th>\n",
       "      <td>2017-04-04</td>\n",
       "      <td>23.0</td>\n",
       "      <td>2017</td>\n",
       "      <td>4</td>\n",
       "      <td>4</td>\n",
       "      <td>1</td>\n",
       "      <td>94</td>\n",
       "      <td>14</td>\n",
       "      <td>2</td>\n",
       "      <td>False</td>\n",
       "      <td>False</td>\n",
       "      <td>False</td>\n",
       "      <td>False</td>\n",
       "      <td>False</td>\n",
       "      <td>False</td>\n",
       "      <td>1</td>\n",
       "      <td>False</td>\n",
       "    </tr>\n",
       "    <tr>\n",
       "      <th>3</th>\n",
       "      <td>2017-04-05</td>\n",
       "      <td>1530.0</td>\n",
       "      <td>2017</td>\n",
       "      <td>4</td>\n",
       "      <td>5</td>\n",
       "      <td>2</td>\n",
       "      <td>95</td>\n",
       "      <td>14</td>\n",
       "      <td>2</td>\n",
       "      <td>False</td>\n",
       "      <td>False</td>\n",
       "      <td>False</td>\n",
       "      <td>False</td>\n",
       "      <td>False</td>\n",
       "      <td>False</td>\n",
       "      <td>1</td>\n",
       "      <td>True</td>\n",
       "    </tr>\n",
       "    <tr>\n",
       "      <th>4</th>\n",
       "      <td>2017-04-07</td>\n",
       "      <td>1341.0</td>\n",
       "      <td>2017</td>\n",
       "      <td>4</td>\n",
       "      <td>7</td>\n",
       "      <td>4</td>\n",
       "      <td>97</td>\n",
       "      <td>14</td>\n",
       "      <td>2</td>\n",
       "      <td>False</td>\n",
       "      <td>False</td>\n",
       "      <td>False</td>\n",
       "      <td>False</td>\n",
       "      <td>False</td>\n",
       "      <td>False</td>\n",
       "      <td>1</td>\n",
       "      <td>False</td>\n",
       "    </tr>\n",
       "  </tbody>\n",
       "</table>\n",
       "</div>"
      ],
      "text/plain": [
       "  application_date  case_count  Year  Month  Day  Dayofweek  DayOfyear  Week  \\\n",
       "0       2017-04-01       299.0  2017      4    1          5         91    13   \n",
       "1       2017-04-03        42.0  2017      4    3          0         93    14   \n",
       "2       2017-04-04        23.0  2017      4    4          1         94    14   \n",
       "3       2017-04-05      1530.0  2017      4    5          2         95    14   \n",
       "4       2017-04-07      1341.0  2017      4    7          4         97    14   \n",
       "\n",
       "   Quarter  Is_month_start  Is_month_end  Is_quarter_start  Is_quarter_end  \\\n",
       "0        2            True         False              True           False   \n",
       "1        2           False         False             False           False   \n",
       "2        2           False         False             False           False   \n",
       "3        2           False         False             False           False   \n",
       "4        2           False         False             False           False   \n",
       "\n",
       "   Is_year_start  Is_year_end  Semester  Is_holiday  \n",
       "0          False        False         1       False  \n",
       "1          False        False         1       False  \n",
       "2          False        False         1       False  \n",
       "3          False        False         1        True  \n",
       "4          False        False         1       False  "
      ]
     },
     "execution_count": 23,
     "metadata": {},
     "output_type": "execute_result"
    }
   ],
   "source": [
    "train1.head()"
   ]
  },
  {
   "cell_type": "code",
   "execution_count": 24,
   "metadata": {},
   "outputs": [],
   "source": [
    "# train1.head() "
   ]
  },
  {
   "cell_type": "code",
   "execution_count": 25,
   "metadata": {},
   "outputs": [],
   "source": [
    "train1.drop(['application_date'], axis=1, inplace=True)\n",
    "train2.drop(['application_date'], axis=1, inplace=True)"
   ]
  },
  {
   "cell_type": "code",
   "execution_count": 26,
   "metadata": {},
   "outputs": [],
   "source": [
    "train1 = train1[train1['case_count'] > 15].reset_index(drop=True)\n",
    "train1 = train1[train1['case_count'] <= 8000].reset_index(drop=True)\n",
    "train2 = train2[(train2['case_count'] < 40000)].reset_index(drop=True)"
   ]
  },
  {
   "cell_type": "code",
   "execution_count": 27,
   "metadata": {},
   "outputs": [
    {
     "data": {
      "text/plain": [
       "((780, 16), (843, 16))"
      ]
     },
     "execution_count": 27,
     "metadata": {},
     "output_type": "execute_result"
    }
   ],
   "source": [
    "train1.shape, train2.shape"
   ]
  },
  {
   "cell_type": "markdown",
   "metadata": {},
   "source": [
    "# Train test split"
   ]
  },
  {
   "cell_type": "markdown",
   "metadata": {},
   "source": [
    "## Business Segment 1"
   ]
  },
  {
   "cell_type": "code",
   "execution_count": 28,
   "metadata": {},
   "outputs": [],
   "source": [
    "# !pip install sklearn"
   ]
  },
  {
   "cell_type": "code",
   "execution_count": 29,
   "metadata": {},
   "outputs": [],
   "source": [
    "X = train1.drop(labels=['case_count'], axis=1)\n",
    "y = train1['case_count'].values\n",
    "\n",
    "from sklearn.model_selection import train_test_split\n",
    "X_train, X_cv, y_train, y_cv = train_test_split(X, y, test_size=0.25, random_state=42)"
   ]
  },
  {
   "cell_type": "code",
   "execution_count": 30,
   "metadata": {},
   "outputs": [
    {
     "data": {
      "text/plain": [
       "((585, 15), (585,), (195, 15), (195,))"
      ]
     },
     "execution_count": 30,
     "metadata": {},
     "output_type": "execute_result"
    }
   ],
   "source": [
    "X_train.shape, y_train.shape, X_cv.shape, y_cv.shape"
   ]
  },
  {
   "cell_type": "code",
   "execution_count": 31,
   "metadata": {},
   "outputs": [],
   "source": [
    "# X_train"
   ]
  },
  {
   "cell_type": "code",
   "execution_count": 36,
   "metadata": {},
   "outputs": [],
   "source": [
    "# categorical = ['m' , 'd' , 'day' ,'y' , 'segment']\n",
    "\n",
    "# def column_index(df, query_cols):\n",
    "#     cols = df.columns.values\n",
    "#     sidx = np.argsort(cols)\n",
    "#     return sidx[np.searchsorted(cols, query_cols, sorter=sidx)]\n",
    "# categorical_features_indices = column_index(X_train, categorical)\n",
    "\n",
    "#train.describe()\n",
    "from catboost import CatBoostRegressor\n",
    "\n",
    "model =  CatBoostRegressor(iterations=1500,\n",
    "                             learning_rate=0.001,\n",
    "                             depth=16,\n",
    "                             eval_metric='MAPE',\n",
    "                             random_seed = 42,\n",
    "                             bagging_temperature = 0.2,\n",
    "                             od_type='Iter',\n",
    "                             metric_period = 50,\n",
    "                             task_type = \"GPU\",\n",
    "                             devices='0:1',\n",
    "                             \n",
    "                             od_wait=100)"
   ]
  },
  {
   "cell_type": "code",
   "execution_count": 37,
   "metadata": {},
   "outputs": [
    {
     "name": "stdout",
     "output_type": "stream",
     "text": [
      "0:\tlearn: 2.1201677\ttest: 4.2431121\tbest: 4.2431121 (0)\ttotal: 2.62s\tremaining: 1h 5m 26s\n",
      "50:\tlearn: 2.0786425\ttest: 4.1935237\tbest: 4.1935237 (50)\ttotal: 29.5s\tremaining: 13m 57s\n",
      "100:\tlearn: 2.0384609\ttest: 4.1499865\tbest: 4.1499865 (100)\ttotal: 1m 1s\tremaining: 14m 7s\n",
      "150:\tlearn: 1.9995814\ttest: 4.1063139\tbest: 4.1063139 (150)\ttotal: 1m 16s\tremaining: 11m 25s\n",
      "200:\tlearn: 1.9636602\ttest: 4.0660159\tbest: 4.0660159 (200)\ttotal: 1m 46s\tremaining: 11m 29s\n",
      "250:\tlearn: 1.9286798\ttest: 4.0271375\tbest: 4.0271375 (250)\ttotal: 2m 25s\tremaining: 12m 1s\n",
      "300:\tlearn: 1.8944209\ttest: 3.9862899\tbest: 3.9862899 (300)\ttotal: 3m 2s\tremaining: 12m 6s\n",
      "350:\tlearn: 1.8622475\ttest: 3.9500770\tbest: 3.9500770 (350)\ttotal: 3m 35s\tremaining: 11m 46s\n",
      "400:\tlearn: 1.8295648\ttest: 3.9128487\tbest: 3.9128487 (400)\ttotal: 4m 3s\tremaining: 11m 7s\n",
      "450:\tlearn: 1.7980364\ttest: 3.8774758\tbest: 3.8774758 (450)\ttotal: 4m 28s\tremaining: 10m 24s\n",
      "500:\tlearn: 1.7683469\ttest: 3.8474409\tbest: 3.8474409 (500)\ttotal: 4m 55s\tremaining: 9m 48s\n",
      "550:\tlearn: 1.7385658\ttest: 3.8144744\tbest: 3.8144744 (550)\ttotal: 5m 38s\tremaining: 9m 43s\n",
      "600:\tlearn: 1.7105496\ttest: 3.7836648\tbest: 3.7836648 (600)\ttotal: 6m 5s\tremaining: 9m 6s\n",
      "650:\tlearn: 1.6817699\ttest: 3.7507603\tbest: 3.7507603 (650)\ttotal: 6m 45s\tremaining: 8m 48s\n",
      "700:\tlearn: 1.6536313\ttest: 3.7209347\tbest: 3.7209347 (700)\ttotal: 7m 29s\tremaining: 8m 32s\n",
      "750:\tlearn: 1.6267934\ttest: 3.6938755\tbest: 3.6938755 (750)\ttotal: 8m 10s\tremaining: 8m 8s\n",
      "800:\tlearn: 1.6003418\ttest: 3.6656538\tbest: 3.6656538 (800)\ttotal: 8m 37s\tremaining: 7m 31s\n",
      "850:\tlearn: 1.5754275\ttest: 3.6403117\tbest: 3.6403117 (850)\ttotal: 9m 6s\tremaining: 6m 57s\n",
      "900:\tlearn: 1.5514558\ttest: 3.6170279\tbest: 3.6170279 (900)\ttotal: 9m 45s\tremaining: 6m 29s\n",
      "950:\tlearn: 1.5281717\ttest: 3.5935440\tbest: 3.5935440 (950)\ttotal: 10m 17s\tremaining: 5m 56s\n",
      "1000:\tlearn: 1.5046669\ttest: 3.5722021\tbest: 3.5722021 (1000)\ttotal: 10m 47s\tremaining: 5m 22s\n",
      "1050:\tlearn: 1.4819038\ttest: 3.5504651\tbest: 3.5504651 (1050)\ttotal: 11m 22s\tremaining: 4m 51s\n",
      "1100:\tlearn: 1.4597535\ttest: 3.5292268\tbest: 3.5292268 (1100)\ttotal: 11m 53s\tremaining: 4m 18s\n",
      "1150:\tlearn: 1.4396232\ttest: 3.5101275\tbest: 3.5101275 (1150)\ttotal: 12m 15s\tremaining: 3m 42s\n",
      "1200:\tlearn: 1.4189292\ttest: 3.4915853\tbest: 3.4915853 (1200)\ttotal: 12m 50s\tremaining: 3m 11s\n",
      "1250:\tlearn: 1.3987965\ttest: 3.4736441\tbest: 3.4736441 (1250)\ttotal: 13m 53s\tremaining: 2m 45s\n",
      "1300:\tlearn: 1.3789982\ttest: 3.4553069\tbest: 3.4553069 (1300)\ttotal: 14m 21s\tremaining: 2m 11s\n",
      "1350:\tlearn: 1.3601638\ttest: 3.4361566\tbest: 3.4361566 (1350)\ttotal: 14m 56s\tremaining: 1m 38s\n",
      "1400:\tlearn: 1.3421231\ttest: 3.4185553\tbest: 3.4185553 (1400)\ttotal: 15m 39s\tremaining: 1m 6s\n",
      "1450:\tlearn: 1.3257622\ttest: 3.4021876\tbest: 3.4021876 (1450)\ttotal: 16m 16s\tremaining: 33s\n",
      "1499:\tlearn: 1.3103268\ttest: 3.3868737\tbest: 3.3868737 (1499)\ttotal: 16m 39s\tremaining: 0us\n",
      "bestTest = 3.386873685\n",
      "bestIteration = 1499\n"
     ]
    },
    {
     "data": {
      "text/plain": [
       "<catboost.core.CatBoostRegressor at 0x28aad7b1048>"
      ]
     },
     "execution_count": 37,
     "metadata": {},
     "output_type": "execute_result"
    }
   ],
   "source": [
    "model.fit(X_train, y_train,\n",
    "                 eval_set=(X_cv, y_cv),\n",
    "                  #cat_features=categorical_features_indices,\n",
    "                 use_best_model=True)"
   ]
  },
  {
   "cell_type": "code",
   "execution_count": 38,
   "metadata": {},
   "outputs": [
    {
     "name": "stdout",
     "output_type": "stream",
     "text": [
      "MAPE: 294.36756658875123\n",
      "MAPEcat: 338.6876084234327\n"
     ]
    }
   ],
   "source": [
    "from sklearn.ensemble import BaggingRegressor, RandomForestRegressor\n",
    "br = RandomForestRegressor(random_state=0)\n",
    "br.fit(X_train, y_train)\n",
    "y_pred = br.predict(X_cv)\n",
    "y_predcat = model.predict(X_cv)\n",
    "print('MAPE:', mean_absolute_percentage_error(y_cv, y_pred))\n",
    "print('MAPEcat:', mean_absolute_percentage_error(y_cv, y_predcat))"
   ]
  },
  {
   "cell_type": "markdown",
   "metadata": {},
   "source": [
    "## Business Segment 2"
   ]
  },
  {
   "cell_type": "code",
   "execution_count": 40,
   "metadata": {},
   "outputs": [],
   "source": [
    "X = train2.drop(labels=['case_count'], axis=1)\n",
    "y = train2['case_count'].values\n",
    "\n",
    "from sklearn.model_selection import train_test_split\n",
    "X_train, X_cv, y_train, y_cv = train_test_split(X, y, test_size=0.25, random_state=42)"
   ]
  },
  {
   "cell_type": "code",
   "execution_count": 41,
   "metadata": {},
   "outputs": [
    {
     "name": "stdout",
     "output_type": "stream",
     "text": [
      "MAPE: 24.30836327079303\n"
     ]
    }
   ],
   "source": [
    "from sklearn.ensemble import BaggingRegressor, RandomForestRegressor\n",
    "br = RandomForestRegressor(random_state=0)\n",
    "br.fit(X_train, y_train)\n",
    "y_pred = br.predict(X_cv)\n",
    "print('MAPE:', mean_absolute_percentage_error(y_cv, y_pred))"
   ]
  },
  {
   "cell_type": "markdown",
   "metadata": {},
   "source": [
    "# Predict on test set"
   ]
  },
  {
   "cell_type": "code",
   "execution_count": 42,
   "metadata": {},
   "outputs": [
    {
     "data": {
      "text/html": [
       "<div>\n",
       "<style scoped>\n",
       "    .dataframe tbody tr th:only-of-type {\n",
       "        vertical-align: middle;\n",
       "    }\n",
       "\n",
       "    .dataframe tbody tr th {\n",
       "        vertical-align: top;\n",
       "    }\n",
       "\n",
       "    .dataframe thead th {\n",
       "        text-align: right;\n",
       "    }\n",
       "</style>\n",
       "<table border=\"1\" class=\"dataframe\">\n",
       "  <thead>\n",
       "    <tr style=\"text-align: right;\">\n",
       "      <th></th>\n",
       "      <th>id</th>\n",
       "      <th>application_date</th>\n",
       "      <th>segment</th>\n",
       "    </tr>\n",
       "  </thead>\n",
       "  <tbody>\n",
       "    <tr>\n",
       "      <th>0</th>\n",
       "      <td>1</td>\n",
       "      <td>2019-07-06</td>\n",
       "      <td>1</td>\n",
       "    </tr>\n",
       "    <tr>\n",
       "      <th>1</th>\n",
       "      <td>2</td>\n",
       "      <td>2019-07-07</td>\n",
       "      <td>1</td>\n",
       "    </tr>\n",
       "  </tbody>\n",
       "</table>\n",
       "</div>"
      ],
      "text/plain": [
       "   id application_date  segment\n",
       "0   1       2019-07-06        1\n",
       "1   2       2019-07-07        1"
      ]
     },
     "execution_count": 42,
     "metadata": {},
     "output_type": "execute_result"
    }
   ],
   "source": [
    "test.head(2)"
   ]
  },
  {
   "cell_type": "code",
   "execution_count": 43,
   "metadata": {},
   "outputs": [],
   "source": [
    "test1 = test[test['segment'] == 1][['application_date']].sort_values('application_date')\n",
    "test2 = test[test['segment'] == 2][['application_date']].sort_values('application_date')"
   ]
  },
  {
   "cell_type": "code",
   "execution_count": 44,
   "metadata": {},
   "outputs": [],
   "source": [
    "test1 = create_date_featues(test1)\n",
    "test2 = create_date_featues(test2)"
   ]
  },
  {
   "cell_type": "code",
   "execution_count": 45,
   "metadata": {},
   "outputs": [],
   "source": [
    "test1['Is_holiday'] = test1['application_date'].isin(hol)\n",
    "test2['Is_holiday'] = test2['application_date'].isin(hol)"
   ]
  },
  {
   "cell_type": "code",
   "execution_count": 46,
   "metadata": {},
   "outputs": [],
   "source": [
    "test1.drop(['application_date'], axis=1, inplace=True)\n",
    "test2.drop(['application_date'], axis=1, inplace=True)"
   ]
  },
  {
   "cell_type": "code",
   "execution_count": 47,
   "metadata": {},
   "outputs": [
    {
     "data": {
      "text/plain": [
       "((87, 15), (93, 15))"
      ]
     },
     "execution_count": 47,
     "metadata": {},
     "output_type": "execute_result"
    }
   ],
   "source": [
    "test1.shape, test2.shape"
   ]
  },
  {
   "cell_type": "markdown",
   "metadata": {},
   "source": [
    "## Business Segment 1"
   ]
  },
  {
   "cell_type": "code",
   "execution_count": 48,
   "metadata": {},
   "outputs": [],
   "source": [
    "X = train1.drop(labels=['case_count'], axis=1)\n",
    "y = train1['case_count'].values\n",
    "Xtest = test1"
   ]
  },
  {
   "cell_type": "code",
   "execution_count": 49,
   "metadata": {},
   "outputs": [
    {
     "data": {
      "text/html": [
       "<div>\n",
       "<style scoped>\n",
       "    .dataframe tbody tr th:only-of-type {\n",
       "        vertical-align: middle;\n",
       "    }\n",
       "\n",
       "    .dataframe tbody tr th {\n",
       "        vertical-align: top;\n",
       "    }\n",
       "\n",
       "    .dataframe thead th {\n",
       "        text-align: right;\n",
       "    }\n",
       "</style>\n",
       "<table border=\"1\" class=\"dataframe\">\n",
       "  <thead>\n",
       "    <tr style=\"text-align: right;\">\n",
       "      <th></th>\n",
       "      <th>Year</th>\n",
       "      <th>Month</th>\n",
       "      <th>Day</th>\n",
       "      <th>Dayofweek</th>\n",
       "      <th>DayOfyear</th>\n",
       "      <th>Week</th>\n",
       "      <th>Quarter</th>\n",
       "      <th>Is_month_start</th>\n",
       "      <th>Is_month_end</th>\n",
       "      <th>Is_quarter_start</th>\n",
       "      <th>Is_quarter_end</th>\n",
       "      <th>Is_year_start</th>\n",
       "      <th>Is_year_end</th>\n",
       "      <th>Semester</th>\n",
       "      <th>Is_holiday</th>\n",
       "    </tr>\n",
       "  </thead>\n",
       "  <tbody>\n",
       "    <tr>\n",
       "      <th>0</th>\n",
       "      <td>2017</td>\n",
       "      <td>4</td>\n",
       "      <td>1</td>\n",
       "      <td>5</td>\n",
       "      <td>91</td>\n",
       "      <td>13</td>\n",
       "      <td>2</td>\n",
       "      <td>True</td>\n",
       "      <td>False</td>\n",
       "      <td>True</td>\n",
       "      <td>False</td>\n",
       "      <td>False</td>\n",
       "      <td>False</td>\n",
       "      <td>1</td>\n",
       "      <td>False</td>\n",
       "    </tr>\n",
       "    <tr>\n",
       "      <th>1</th>\n",
       "      <td>2017</td>\n",
       "      <td>4</td>\n",
       "      <td>3</td>\n",
       "      <td>0</td>\n",
       "      <td>93</td>\n",
       "      <td>14</td>\n",
       "      <td>2</td>\n",
       "      <td>False</td>\n",
       "      <td>False</td>\n",
       "      <td>False</td>\n",
       "      <td>False</td>\n",
       "      <td>False</td>\n",
       "      <td>False</td>\n",
       "      <td>1</td>\n",
       "      <td>False</td>\n",
       "    </tr>\n",
       "    <tr>\n",
       "      <th>2</th>\n",
       "      <td>2017</td>\n",
       "      <td>4</td>\n",
       "      <td>4</td>\n",
       "      <td>1</td>\n",
       "      <td>94</td>\n",
       "      <td>14</td>\n",
       "      <td>2</td>\n",
       "      <td>False</td>\n",
       "      <td>False</td>\n",
       "      <td>False</td>\n",
       "      <td>False</td>\n",
       "      <td>False</td>\n",
       "      <td>False</td>\n",
       "      <td>1</td>\n",
       "      <td>False</td>\n",
       "    </tr>\n",
       "    <tr>\n",
       "      <th>3</th>\n",
       "      <td>2017</td>\n",
       "      <td>4</td>\n",
       "      <td>5</td>\n",
       "      <td>2</td>\n",
       "      <td>95</td>\n",
       "      <td>14</td>\n",
       "      <td>2</td>\n",
       "      <td>False</td>\n",
       "      <td>False</td>\n",
       "      <td>False</td>\n",
       "      <td>False</td>\n",
       "      <td>False</td>\n",
       "      <td>False</td>\n",
       "      <td>1</td>\n",
       "      <td>True</td>\n",
       "    </tr>\n",
       "    <tr>\n",
       "      <th>4</th>\n",
       "      <td>2017</td>\n",
       "      <td>4</td>\n",
       "      <td>7</td>\n",
       "      <td>4</td>\n",
       "      <td>97</td>\n",
       "      <td>14</td>\n",
       "      <td>2</td>\n",
       "      <td>False</td>\n",
       "      <td>False</td>\n",
       "      <td>False</td>\n",
       "      <td>False</td>\n",
       "      <td>False</td>\n",
       "      <td>False</td>\n",
       "      <td>1</td>\n",
       "      <td>False</td>\n",
       "    </tr>\n",
       "  </tbody>\n",
       "</table>\n",
       "</div>"
      ],
      "text/plain": [
       "   Year  Month  Day  Dayofweek  DayOfyear  Week  Quarter  Is_month_start  \\\n",
       "0  2017      4    1          5         91    13        2            True   \n",
       "1  2017      4    3          0         93    14        2           False   \n",
       "2  2017      4    4          1         94    14        2           False   \n",
       "3  2017      4    5          2         95    14        2           False   \n",
       "4  2017      4    7          4         97    14        2           False   \n",
       "\n",
       "   Is_month_end  Is_quarter_start  Is_quarter_end  Is_year_start  Is_year_end  \\\n",
       "0         False              True           False          False        False   \n",
       "1         False             False           False          False        False   \n",
       "2         False             False           False          False        False   \n",
       "3         False             False           False          False        False   \n",
       "4         False             False           False          False        False   \n",
       "\n",
       "   Semester  Is_holiday  \n",
       "0         1       False  \n",
       "1         1       False  \n",
       "2         1       False  \n",
       "3         1        True  \n",
       "4         1       False  "
      ]
     },
     "execution_count": 49,
     "metadata": {},
     "output_type": "execute_result"
    }
   ],
   "source": [
    "X.head()"
   ]
  },
  {
   "cell_type": "code",
   "execution_count": 50,
   "metadata": {},
   "outputs": [
    {
     "data": {
      "text/plain": [
       "((780, 15), (780,), (87, 15))"
      ]
     },
     "execution_count": 50,
     "metadata": {},
     "output_type": "execute_result"
    }
   ],
   "source": [
    "X.shape, y.shape, Xtest.shape"
   ]
  },
  {
   "cell_type": "code",
   "execution_count": 51,
   "metadata": {},
   "outputs": [
    {
     "name": "stdout",
     "output_type": "stream",
     "text": [
      "0:\tlearn: 2.5630376\ttest: 0.7589418\tbest: 0.7589418 (0)\ttotal: 147ms\tremaining: 3m 40s\n",
      "50:\tlearn: 2.5128848\ttest: 0.7603129\tbest: 0.7589418 (0)\ttotal: 25.7s\tremaining: 12m 9s\n",
      "100:\tlearn: 2.4635722\ttest: 0.7616877\tbest: 0.7589418 (0)\ttotal: 57.4s\tremaining: 13m 14s\n",
      "bestTest = 0.758941795\n",
      "bestIteration = 0\n",
      "Shrink model to first 1 iterations.\n",
      "MAPE:  312.11078516621626\n",
      "0:\tlearn: 2.6507627\ttest: 0.7593125\tbest: 0.7593125 (0)\ttotal: 147ms\tremaining: 3m 39s\n",
      "50:\tlearn: 2.5995587\ttest: 0.7601610\tbest: 0.7593125 (0)\ttotal: 31.2s\tremaining: 14m 45s\n",
      "100:\tlearn: 2.5481346\ttest: 0.7610150\tbest: 0.7593125 (0)\ttotal: 1m 15s\tremaining: 17m 19s\n",
      "bestTest = 0.7593124896\n",
      "bestIteration = 0\n",
      "Shrink model to first 1 iterations.\n",
      "MAPE:  164.9750890411083\n",
      "0:\tlearn: 2.6375325\ttest: 0.7594081\tbest: 0.7594081 (0)\ttotal: 283ms\tremaining: 7m 3s\n",
      "50:\tlearn: 2.5887832\ttest: 0.7602960\tbest: 0.7594081 (0)\ttotal: 31.3s\tremaining: 14m 48s\n",
      "100:\tlearn: 2.5401979\ttest: 0.7612812\tbest: 0.7594081 (0)\ttotal: 1m 50s\tremaining: 25m 29s\n",
      "bestTest = 0.759408092\n",
      "bestIteration = 0\n",
      "Shrink model to first 1 iterations.\n",
      "MAPE:  177.38570727446788\n",
      "0:\tlearn: 2.3345516\ttest: 0.7586783\tbest: 0.7586783 (0)\ttotal: 292ms\tremaining: 7m 18s\n",
      "50:\tlearn: 2.2916209\ttest: 0.7589988\tbest: 0.7586757 (1)\ttotal: 39.6s\tremaining: 18m 45s\n",
      "100:\tlearn: 2.2504834\ttest: 0.7593338\tbest: 0.7586757 (1)\ttotal: 1m 41s\tremaining: 23m 26s\n",
      "bestTest = 0.7586757425\n",
      "bestIteration = 1\n",
      "Shrink model to first 2 iterations.\n",
      "MAPE:  644.8230671824971\n",
      "0:\tlearn: 2.4732669\ttest: 0.7592124\tbest: 0.7592124 (0)\ttotal: 5.22s\tremaining: 2h 10m 22s\n",
      "50:\tlearn: 2.4277579\ttest: 0.7602177\tbest: 0.7592124 (0)\ttotal: 35.6s\tremaining: 16m 52s\n",
      "100:\tlearn: 2.3812680\ttest: 0.7610402\tbest: 0.7592124 (0)\ttotal: 1m 39s\tremaining: 23m\n",
      "bestTest = 0.7592124035\n",
      "bestIteration = 0\n",
      "Shrink model to first 1 iterations.\n",
      "MAPE:  419.37144593965974\n",
      "0:\tlearn: 2.6769518\ttest: 0.7587367\tbest: 0.7587367 (0)\ttotal: 327ms\tremaining: 8m 10s\n",
      "50:\tlearn: 2.6219389\ttest: 0.7596311\tbest: 0.7587314 (2)\ttotal: 48.4s\tremaining: 22m 55s\n",
      "100:\tlearn: 2.5698740\ttest: 0.7604837\tbest: 0.7587314 (2)\ttotal: 1m 22s\tremaining: 18m 56s\n",
      "bestTest = 0.7587313539\n",
      "bestIteration = 2\n",
      "Shrink model to first 3 iterations.\n",
      "MAPE:  163.4606489805658\n",
      "0:\tlearn: 2.6371465\ttest: 0.7590565\tbest: 0.7590565 (0)\ttotal: 215ms\tremaining: 5m 22s\n",
      "50:\tlearn: 2.5905198\ttest: 0.7600728\tbest: 0.7590554 (1)\ttotal: 27.7s\tremaining: 13m 7s\n",
      "100:\tlearn: 2.5428470\ttest: 0.7611420\tbest: 0.7590554 (1)\ttotal: 42.3s\tremaining: 9m 46s\n",
      "bestTest = 0.7590554043\n",
      "bestIteration = 1\n",
      "Shrink model to first 2 iterations.\n",
      "MAPE:  199.93137506621338\n",
      "0:\tlearn: 2.6222709\ttest: 0.7593173\tbest: 0.7593173 (0)\ttotal: 317ms\tremaining: 7m 55s\n",
      "50:\tlearn: 2.5728478\ttest: 0.7604446\tbest: 0.7593173 (0)\ttotal: 37s\tremaining: 17m 30s\n",
      "100:\tlearn: 2.5222842\ttest: 0.7614215\tbest: 0.7593173 (0)\ttotal: 1m 6s\tremaining: 15m 26s\n",
      "bestTest = 0.7593172625\n",
      "bestIteration = 0\n",
      "Shrink model to first 1 iterations.\n",
      "MAPE:  203.73031477316292\n",
      "0:\tlearn: 2.7274616\ttest: 0.7590861\tbest: 0.7590861 (0)\ttotal: 2.73s\tremaining: 1h 8m 9s\n",
      "50:\tlearn: 2.6749080\ttest: 0.7599859\tbest: 0.7590861 (0)\ttotal: 41.5s\tremaining: 19m 37s\n",
      "100:\tlearn: 2.6217797\ttest: 0.7609526\tbest: 0.7590861 (0)\ttotal: 1m 27s\tremaining: 20m 11s\n",
      "bestTest = 0.7590861388\n",
      "bestIteration = 0\n",
      "Shrink model to first 1 iterations.\n",
      "MAPE:  70.68843997550125\n",
      "0:\tlearn: 2.5039760\ttest: 0.7592606\tbest: 0.7592606 (0)\ttotal: 2.73s\tremaining: 1h 8m 19s\n",
      "50:\tlearn: 2.4546482\ttest: 0.7601074\tbest: 0.7592408 (2)\ttotal: 42s\tremaining: 19m 52s\n",
      "100:\tlearn: 2.4068759\ttest: 0.7610461\tbest: 0.7592408 (2)\ttotal: 1m 14s\tremaining: 17m 18s\n",
      "bestTest = 0.7592408239\n",
      "bestIteration = 2\n",
      "Shrink model to first 3 iterations.\n",
      "MAPE:  372.4001139293608\n",
      "0:\tlearn: 2.5475912\ttest: 0.7589386\tbest: 0.7589386 (0)\ttotal: 498ms\tremaining: 12m 26s\n",
      "50:\tlearn: 2.5004677\ttest: 0.7601151\tbest: 0.7589386 (0)\ttotal: 27.3s\tremaining: 12m 54s\n",
      "100:\tlearn: 2.4541197\ttest: 0.7613028\tbest: 0.7589386 (0)\ttotal: 1m 12s\tremaining: 16m 40s\n",
      "bestTest = 0.7589386131\n",
      "bestIteration = 0\n",
      "Shrink model to first 1 iterations.\n",
      "MAPE:  333.24695620674214\n",
      "0:\tlearn: 2.6896433\ttest: 0.7590962\tbest: 0.7590962 (0)\ttotal: 5.27s\tremaining: 2h 11m 42s\n",
      "50:\tlearn: 2.6420018\ttest: 0.7601405\tbest: 0.7590962 (0)\ttotal: 57.1s\tremaining: 27m 2s\n",
      "100:\tlearn: 2.5940615\ttest: 0.7611893\tbest: 0.7590962 (0)\ttotal: 1m 49s\tremaining: 25m 11s\n",
      "bestTest = 0.7590961908\n",
      "bestIteration = 0\n",
      "Shrink model to first 1 iterations.\n",
      "MAPE:  123.6400262242474\n",
      "0:\tlearn: 2.7033435\ttest: 0.7592995\tbest: 0.7592995 (0)\ttotal: 2.69s\tremaining: 1h 7m 11s\n",
      "50:\tlearn: 2.6498691\ttest: 0.7599037\tbest: 0.7592995 (0)\ttotal: 46.2s\tremaining: 21m 53s\n",
      "100:\tlearn: 2.5968051\ttest: 0.7604737\tbest: 0.7592995 (0)\ttotal: 1m 55s\tremaining: 26m 40s\n",
      "bestTest = 0.7592994726\n",
      "bestIteration = 0\n",
      "Shrink model to first 1 iterations.\n",
      "MAPE:  91.0422735255418\n",
      "0:\tlearn: 2.5094115\ttest: 0.7592462\tbest: 0.7592462 (0)\ttotal: 310ms\tremaining: 7m 44s\n",
      "50:\tlearn: 2.4586879\ttest: 0.7599473\tbest: 0.7592462 (0)\ttotal: 23.6s\tremaining: 11m 9s\n",
      "100:\tlearn: 2.4082487\ttest: 0.7606356\tbest: 0.7592462 (0)\ttotal: 1m 13s\tremaining: 17m 3s\n",
      "bestTest = 0.7592461753\n",
      "bestIteration = 0\n",
      "Shrink model to first 1 iterations.\n",
      "MAPE:  365.810418763847\n",
      "0:\tlearn: 2.5902700\ttest: 0.7593599\tbest: 0.7593599 (0)\ttotal: 172ms\tremaining: 4m 17s\n",
      "50:\tlearn: 2.5413117\ttest: 0.7602776\tbest: 0.7593599 (0)\ttotal: 33.6s\tremaining: 15m 54s\n",
      "100:\tlearn: 2.4957695\ttest: 0.7613777\tbest: 0.7593599 (0)\ttotal: 1m 4s\tremaining: 14m 57s\n",
      "bestTest = 0.7593599292\n",
      "bestIteration = 0\n",
      "Shrink model to first 1 iterations.\n",
      "MAPE:  247.32341547227898\n"
     ]
    }
   ],
   "source": [
    "from sklearn.model_selection import KFold\n",
    "from sklearn.ensemble import BaggingRegressor, RandomForestRegressor\n",
    "\n",
    "rs = 101\n",
    "errlgb = []\n",
    "y_pred_totlgb = []\n",
    "\n",
    "fold = KFold(n_splits=15, shuffle=True, random_state=rs)\n",
    "\n",
    "for train_index, test_index in fold.split(X):\n",
    "    X_train, X_test = X.loc[train_index], X.loc[test_index]\n",
    "    y_train, y_test = y[train_index], y[test_index]\n",
    "    #br = RandomForestRegressor(random_state=rs)\n",
    "    #br = BaggingRegressor(n_estimators=10, random_state=1)\n",
    "    model.fit(X_train, y_train,\n",
    "                 eval_set=(X_cv, y_cv),\n",
    "                  #cat_features=categorical_features_indices,\n",
    "                 use_best_model=True)\n",
    "    #br.fit(X_train, y_train)\n",
    "    y_pred = model.predict(X_test)\n",
    "    print(\"MAPE: \", mean_absolute_percentage_error(y_test, y_pred))\n",
    "    errlgb.append(mean_absolute_percentage_error(y_test, y_pred))\n",
    "    p = br.predict(Xtest)    \n",
    "    y_pred_totlgb.append(p)"
   ]
  },
  {
   "cell_type": "code",
   "execution_count": 52,
   "metadata": {},
   "outputs": [],
   "source": [
    "#errlgb"
   ]
  },
  {
   "cell_type": "code",
   "execution_count": 53,
   "metadata": {},
   "outputs": [
    {
     "data": {
      "text/plain": [
       "259.3293385014274"
      ]
     },
     "execution_count": 53,
     "metadata": {},
     "output_type": "execute_result"
    }
   ],
   "source": [
    "np.mean(errlgb)"
   ]
  },
  {
   "cell_type": "code",
   "execution_count": 54,
   "metadata": {},
   "outputs": [
    {
     "data": {
      "text/html": [
       "<div>\n",
       "<style scoped>\n",
       "    .dataframe tbody tr th:only-of-type {\n",
       "        vertical-align: middle;\n",
       "    }\n",
       "\n",
       "    .dataframe tbody tr th {\n",
       "        vertical-align: top;\n",
       "    }\n",
       "\n",
       "    .dataframe thead th {\n",
       "        text-align: right;\n",
       "    }\n",
       "</style>\n",
       "<table border=\"1\" class=\"dataframe\">\n",
       "  <thead>\n",
       "    <tr style=\"text-align: right;\">\n",
       "      <th></th>\n",
       "      <th>Year</th>\n",
       "      <th>Month</th>\n",
       "      <th>Day</th>\n",
       "      <th>Dayofweek</th>\n",
       "      <th>DayOfyear</th>\n",
       "      <th>Week</th>\n",
       "      <th>Quarter</th>\n",
       "      <th>Is_month_start</th>\n",
       "      <th>Is_month_end</th>\n",
       "      <th>Is_quarter_start</th>\n",
       "      <th>Is_quarter_end</th>\n",
       "      <th>Is_year_start</th>\n",
       "      <th>Is_year_end</th>\n",
       "      <th>Semester</th>\n",
       "      <th>Is_holiday</th>\n",
       "      <th>case_count</th>\n",
       "    </tr>\n",
       "  </thead>\n",
       "  <tbody>\n",
       "    <tr>\n",
       "      <th>0</th>\n",
       "      <td>2019</td>\n",
       "      <td>7</td>\n",
       "      <td>6</td>\n",
       "      <td>5</td>\n",
       "      <td>187</td>\n",
       "      <td>27</td>\n",
       "      <td>3</td>\n",
       "      <td>False</td>\n",
       "      <td>False</td>\n",
       "      <td>False</td>\n",
       "      <td>False</td>\n",
       "      <td>False</td>\n",
       "      <td>False</td>\n",
       "      <td>2</td>\n",
       "      <td>False</td>\n",
       "      <td>3702.12</td>\n",
       "    </tr>\n",
       "    <tr>\n",
       "      <th>1</th>\n",
       "      <td>2019</td>\n",
       "      <td>7</td>\n",
       "      <td>7</td>\n",
       "      <td>6</td>\n",
       "      <td>188</td>\n",
       "      <td>27</td>\n",
       "      <td>3</td>\n",
       "      <td>False</td>\n",
       "      <td>False</td>\n",
       "      <td>False</td>\n",
       "      <td>False</td>\n",
       "      <td>False</td>\n",
       "      <td>False</td>\n",
       "      <td>2</td>\n",
       "      <td>False</td>\n",
       "      <td>3419.32</td>\n",
       "    </tr>\n",
       "    <tr>\n",
       "      <th>2</th>\n",
       "      <td>2019</td>\n",
       "      <td>7</td>\n",
       "      <td>8</td>\n",
       "      <td>0</td>\n",
       "      <td>189</td>\n",
       "      <td>28</td>\n",
       "      <td>3</td>\n",
       "      <td>False</td>\n",
       "      <td>False</td>\n",
       "      <td>False</td>\n",
       "      <td>False</td>\n",
       "      <td>False</td>\n",
       "      <td>False</td>\n",
       "      <td>2</td>\n",
       "      <td>False</td>\n",
       "      <td>4096.76</td>\n",
       "    </tr>\n",
       "    <tr>\n",
       "      <th>3</th>\n",
       "      <td>2019</td>\n",
       "      <td>7</td>\n",
       "      <td>9</td>\n",
       "      <td>1</td>\n",
       "      <td>190</td>\n",
       "      <td>28</td>\n",
       "      <td>3</td>\n",
       "      <td>False</td>\n",
       "      <td>False</td>\n",
       "      <td>False</td>\n",
       "      <td>False</td>\n",
       "      <td>False</td>\n",
       "      <td>False</td>\n",
       "      <td>2</td>\n",
       "      <td>False</td>\n",
       "      <td>4873.25</td>\n",
       "    </tr>\n",
       "    <tr>\n",
       "      <th>4</th>\n",
       "      <td>2019</td>\n",
       "      <td>7</td>\n",
       "      <td>10</td>\n",
       "      <td>2</td>\n",
       "      <td>191</td>\n",
       "      <td>28</td>\n",
       "      <td>3</td>\n",
       "      <td>False</td>\n",
       "      <td>False</td>\n",
       "      <td>False</td>\n",
       "      <td>False</td>\n",
       "      <td>False</td>\n",
       "      <td>False</td>\n",
       "      <td>2</td>\n",
       "      <td>False</td>\n",
       "      <td>6764.75</td>\n",
       "    </tr>\n",
       "  </tbody>\n",
       "</table>\n",
       "</div>"
      ],
      "text/plain": [
       "   Year  Month  Day  Dayofweek  DayOfyear  Week  Quarter  Is_month_start  \\\n",
       "0  2019      7    6          5        187    27        3           False   \n",
       "1  2019      7    7          6        188    27        3           False   \n",
       "2  2019      7    8          0        189    28        3           False   \n",
       "3  2019      7    9          1        190    28        3           False   \n",
       "4  2019      7   10          2        191    28        3           False   \n",
       "\n",
       "   Is_month_end  Is_quarter_start  Is_quarter_end  Is_year_start  Is_year_end  \\\n",
       "0         False             False           False          False        False   \n",
       "1         False             False           False          False        False   \n",
       "2         False             False           False          False        False   \n",
       "3         False             False           False          False        False   \n",
       "4         False             False           False          False        False   \n",
       "\n",
       "   Semester  Is_holiday  case_count  \n",
       "0         2       False     3702.12  \n",
       "1         2       False     3419.32  \n",
       "2         2       False     4096.76  \n",
       "3         2       False     4873.25  \n",
       "4         2       False     6764.75  "
      ]
     },
     "execution_count": 54,
     "metadata": {},
     "output_type": "execute_result"
    }
   ],
   "source": [
    "y_pred1 = np.mean(y_pred_totlgb,0)\n",
    "test1['case_count'] = y_pred1\n",
    "test1.head()"
   ]
  },
  {
   "cell_type": "code",
   "execution_count": 55,
   "metadata": {},
   "outputs": [],
   "source": [
    "test1.drop('case_count', axis=1, inplace=True)"
   ]
  },
  {
   "cell_type": "code",
   "execution_count": 102,
   "metadata": {},
   "outputs": [
    {
     "data": {
      "text/html": [
       "<div>\n",
       "<style scoped>\n",
       "    .dataframe tbody tr th:only-of-type {\n",
       "        vertical-align: middle;\n",
       "    }\n",
       "\n",
       "    .dataframe tbody tr th {\n",
       "        vertical-align: top;\n",
       "    }\n",
       "\n",
       "    .dataframe thead th {\n",
       "        text-align: right;\n",
       "    }\n",
       "</style>\n",
       "<table border=\"1\" class=\"dataframe\">\n",
       "  <thead>\n",
       "    <tr style=\"text-align: right;\">\n",
       "      <th></th>\n",
       "      <th>Year</th>\n",
       "      <th>Month</th>\n",
       "      <th>Day</th>\n",
       "      <th>Dayofweek</th>\n",
       "      <th>DayOfyear</th>\n",
       "      <th>Week</th>\n",
       "      <th>Quarter</th>\n",
       "      <th>Is_month_start</th>\n",
       "      <th>Is_month_end</th>\n",
       "      <th>Is_quarter_start</th>\n",
       "      <th>Is_quarter_end</th>\n",
       "      <th>Is_year_start</th>\n",
       "      <th>Is_year_end</th>\n",
       "      <th>Semester</th>\n",
       "      <th>Is_holiday</th>\n",
       "    </tr>\n",
       "  </thead>\n",
       "  <tbody>\n",
       "    <tr>\n",
       "      <th>0</th>\n",
       "      <td>2019</td>\n",
       "      <td>7</td>\n",
       "      <td>6</td>\n",
       "      <td>5</td>\n",
       "      <td>187</td>\n",
       "      <td>27</td>\n",
       "      <td>3</td>\n",
       "      <td>False</td>\n",
       "      <td>False</td>\n",
       "      <td>False</td>\n",
       "      <td>False</td>\n",
       "      <td>False</td>\n",
       "      <td>False</td>\n",
       "      <td>2</td>\n",
       "      <td>False</td>\n",
       "    </tr>\n",
       "    <tr>\n",
       "      <th>1</th>\n",
       "      <td>2019</td>\n",
       "      <td>7</td>\n",
       "      <td>7</td>\n",
       "      <td>6</td>\n",
       "      <td>188</td>\n",
       "      <td>27</td>\n",
       "      <td>3</td>\n",
       "      <td>False</td>\n",
       "      <td>False</td>\n",
       "      <td>False</td>\n",
       "      <td>False</td>\n",
       "      <td>False</td>\n",
       "      <td>False</td>\n",
       "      <td>2</td>\n",
       "      <td>False</td>\n",
       "    </tr>\n",
       "    <tr>\n",
       "      <th>2</th>\n",
       "      <td>2019</td>\n",
       "      <td>7</td>\n",
       "      <td>8</td>\n",
       "      <td>0</td>\n",
       "      <td>189</td>\n",
       "      <td>28</td>\n",
       "      <td>3</td>\n",
       "      <td>False</td>\n",
       "      <td>False</td>\n",
       "      <td>False</td>\n",
       "      <td>False</td>\n",
       "      <td>False</td>\n",
       "      <td>False</td>\n",
       "      <td>2</td>\n",
       "      <td>False</td>\n",
       "    </tr>\n",
       "    <tr>\n",
       "      <th>3</th>\n",
       "      <td>2019</td>\n",
       "      <td>7</td>\n",
       "      <td>9</td>\n",
       "      <td>1</td>\n",
       "      <td>190</td>\n",
       "      <td>28</td>\n",
       "      <td>3</td>\n",
       "      <td>False</td>\n",
       "      <td>False</td>\n",
       "      <td>False</td>\n",
       "      <td>False</td>\n",
       "      <td>False</td>\n",
       "      <td>False</td>\n",
       "      <td>2</td>\n",
       "      <td>False</td>\n",
       "    </tr>\n",
       "    <tr>\n",
       "      <th>4</th>\n",
       "      <td>2019</td>\n",
       "      <td>7</td>\n",
       "      <td>10</td>\n",
       "      <td>2</td>\n",
       "      <td>191</td>\n",
       "      <td>28</td>\n",
       "      <td>3</td>\n",
       "      <td>False</td>\n",
       "      <td>False</td>\n",
       "      <td>False</td>\n",
       "      <td>False</td>\n",
       "      <td>False</td>\n",
       "      <td>False</td>\n",
       "      <td>2</td>\n",
       "      <td>False</td>\n",
       "    </tr>\n",
       "  </tbody>\n",
       "</table>\n",
       "</div>"
      ],
      "text/plain": [
       "   Year  Month  Day  Dayofweek  DayOfyear  Week  Quarter  Is_month_start  \\\n",
       "0  2019      7    6          5        187    27        3           False   \n",
       "1  2019      7    7          6        188    27        3           False   \n",
       "2  2019      7    8          0        189    28        3           False   \n",
       "3  2019      7    9          1        190    28        3           False   \n",
       "4  2019      7   10          2        191    28        3           False   \n",
       "\n",
       "   Is_month_end  Is_quarter_start  Is_quarter_end  Is_year_start  Is_year_end  \\\n",
       "0         False             False           False          False        False   \n",
       "1         False             False           False          False        False   \n",
       "2         False             False           False          False        False   \n",
       "3         False             False           False          False        False   \n",
       "4         False             False           False          False        False   \n",
       "\n",
       "   Semester  Is_holiday  \n",
       "0         2       False  \n",
       "1         2       False  \n",
       "2         2       False  \n",
       "3         2       False  \n",
       "4         2       False  "
      ]
     },
     "execution_count": 102,
     "metadata": {},
     "output_type": "execute_result"
    }
   ],
   "source": [
    "test1.head()"
   ]
  },
  {
   "cell_type": "markdown",
   "metadata": {},
   "source": [
    "## Business Segment 2"
   ]
  },
  {
   "cell_type": "code",
   "execution_count": 88,
   "metadata": {},
   "outputs": [],
   "source": [
    "X = train2.drop(labels=['case_count'], axis=1)\n",
    "y = train2['case_count'].values\n",
    "Xtest = test2"
   ]
  },
  {
   "cell_type": "code",
   "execution_count": 89,
   "metadata": {},
   "outputs": [
    {
     "name": "stdout",
     "output_type": "stream",
     "text": [
      "MAPE:  28.199633374168513\n",
      "MAPE:  23.5522591623917\n",
      "MAPE:  68.09462367527296\n",
      "MAPE:  20.630346434056847\n",
      "MAPE:  23.119737125254293\n",
      "MAPE:  25.182672863971455\n",
      "MAPE:  19.43303315111579\n",
      "MAPE:  20.692230037799536\n",
      "MAPE:  20.838826500175802\n",
      "MAPE:  14.80553177926803\n",
      "MAPE:  31.87529544503569\n",
      "MAPE:  21.950667964336162\n",
      "MAPE:  18.13027824093041\n",
      "MAPE:  19.80911990219689\n",
      "MAPE:  25.75019287878\n"
     ]
    }
   ],
   "source": [
    "from sklearn.model_selection import KFold, TimeSeriesSplit\n",
    "from sklearn.ensemble import BaggingRegressor, RandomForestRegressor\n",
    "\n",
    "rs = 101\n",
    "errlgb = []\n",
    "y_pred_totlgb = []\n",
    "\n",
    "fold = KFold(n_splits=15, shuffle=True, random_state=rs)\n",
    "\n",
    "for train_index, test_index in fold.split(X):\n",
    "    X_train, X_test = X.loc[train_index], X.loc[test_index]\n",
    "    y_train, y_test = y[train_index], y[test_index]\n",
    "    #br = RandomForestRegressor(random_state=rs)\n",
    "    br = BaggingRegressor(n_estimators=10, random_state=rs)\n",
    "    br.fit(X_train, y_train)\n",
    "    y_pred = br.predict(X_test)\n",
    "    print(\"MAPE: \", mean_absolute_percentage_error(y_test, y_pred))\n",
    "    errlgb.append(mean_absolute_percentage_error(y_test, y_pred))\n",
    "    p = br.predict(Xtest)\n",
    "    y_pred_totlgb.append(p)"
   ]
  },
  {
   "cell_type": "code",
   "execution_count": 90,
   "metadata": {},
   "outputs": [
    {
     "data": {
      "text/plain": [
       "25.470963235650274"
      ]
     },
     "execution_count": 90,
     "metadata": {},
     "output_type": "execute_result"
    }
   ],
   "source": [
    "np.mean(errlgb)"
   ]
  },
  {
   "cell_type": "code",
   "execution_count": 110,
   "metadata": {},
   "outputs": [
    {
     "data": {
      "text/plain": [
       "15"
      ]
     },
     "execution_count": 110,
     "metadata": {},
     "output_type": "execute_result"
    }
   ],
   "source": [
    "len(y_pred_totlgb)"
   ]
  },
  {
   "cell_type": "code",
   "execution_count": 91,
   "metadata": {},
   "outputs": [],
   "source": [
    "y_pred2 = np.mean(y_pred_totlgb,0)\n",
    "test2['case_count'] = y_pred2"
   ]
  },
  {
   "cell_type": "code",
   "execution_count": 92,
   "metadata": {},
   "outputs": [
    {
     "data": {
      "text/html": [
       "<div>\n",
       "<style scoped>\n",
       "    .dataframe tbody tr th:only-of-type {\n",
       "        vertical-align: middle;\n",
       "    }\n",
       "\n",
       "    .dataframe tbody tr th {\n",
       "        vertical-align: top;\n",
       "    }\n",
       "\n",
       "    .dataframe thead th {\n",
       "        text-align: right;\n",
       "    }\n",
       "</style>\n",
       "<table border=\"1\" class=\"dataframe\">\n",
       "  <thead>\n",
       "    <tr style=\"text-align: right;\">\n",
       "      <th></th>\n",
       "      <th>Year</th>\n",
       "      <th>Month</th>\n",
       "      <th>Day</th>\n",
       "      <th>Dayofweek</th>\n",
       "      <th>DayOfyear</th>\n",
       "      <th>Week</th>\n",
       "      <th>Quarter</th>\n",
       "      <th>Is_month_start</th>\n",
       "      <th>Is_month_end</th>\n",
       "      <th>Is_quarter_start</th>\n",
       "      <th>Is_quarter_end</th>\n",
       "      <th>Is_year_start</th>\n",
       "      <th>Is_year_end</th>\n",
       "      <th>Semester</th>\n",
       "      <th>Is_holiday</th>\n",
       "      <th>case_count</th>\n",
       "    </tr>\n",
       "  </thead>\n",
       "  <tbody>\n",
       "    <tr>\n",
       "      <th>175</th>\n",
       "      <td>2019</td>\n",
       "      <td>10</td>\n",
       "      <td>20</td>\n",
       "      <td>6</td>\n",
       "      <td>293</td>\n",
       "      <td>42</td>\n",
       "      <td>4</td>\n",
       "      <td>False</td>\n",
       "      <td>False</td>\n",
       "      <td>False</td>\n",
       "      <td>False</td>\n",
       "      <td>False</td>\n",
       "      <td>False</td>\n",
       "      <td>2</td>\n",
       "      <td>False</td>\n",
       "      <td>16146.993333</td>\n",
       "    </tr>\n",
       "    <tr>\n",
       "      <th>176</th>\n",
       "      <td>2019</td>\n",
       "      <td>10</td>\n",
       "      <td>21</td>\n",
       "      <td>0</td>\n",
       "      <td>294</td>\n",
       "      <td>43</td>\n",
       "      <td>4</td>\n",
       "      <td>False</td>\n",
       "      <td>False</td>\n",
       "      <td>False</td>\n",
       "      <td>False</td>\n",
       "      <td>False</td>\n",
       "      <td>False</td>\n",
       "      <td>2</td>\n",
       "      <td>False</td>\n",
       "      <td>23640.100000</td>\n",
       "    </tr>\n",
       "    <tr>\n",
       "      <th>177</th>\n",
       "      <td>2019</td>\n",
       "      <td>10</td>\n",
       "      <td>22</td>\n",
       "      <td>1</td>\n",
       "      <td>295</td>\n",
       "      <td>43</td>\n",
       "      <td>4</td>\n",
       "      <td>False</td>\n",
       "      <td>False</td>\n",
       "      <td>False</td>\n",
       "      <td>False</td>\n",
       "      <td>False</td>\n",
       "      <td>False</td>\n",
       "      <td>2</td>\n",
       "      <td>False</td>\n",
       "      <td>26812.140000</td>\n",
       "    </tr>\n",
       "    <tr>\n",
       "      <th>178</th>\n",
       "      <td>2019</td>\n",
       "      <td>10</td>\n",
       "      <td>23</td>\n",
       "      <td>2</td>\n",
       "      <td>296</td>\n",
       "      <td>43</td>\n",
       "      <td>4</td>\n",
       "      <td>False</td>\n",
       "      <td>False</td>\n",
       "      <td>False</td>\n",
       "      <td>False</td>\n",
       "      <td>False</td>\n",
       "      <td>False</td>\n",
       "      <td>2</td>\n",
       "      <td>False</td>\n",
       "      <td>28211.240000</td>\n",
       "    </tr>\n",
       "    <tr>\n",
       "      <th>179</th>\n",
       "      <td>2019</td>\n",
       "      <td>10</td>\n",
       "      <td>24</td>\n",
       "      <td>3</td>\n",
       "      <td>297</td>\n",
       "      <td>43</td>\n",
       "      <td>4</td>\n",
       "      <td>False</td>\n",
       "      <td>False</td>\n",
       "      <td>False</td>\n",
       "      <td>False</td>\n",
       "      <td>False</td>\n",
       "      <td>False</td>\n",
       "      <td>2</td>\n",
       "      <td>False</td>\n",
       "      <td>28125.320000</td>\n",
       "    </tr>\n",
       "  </tbody>\n",
       "</table>\n",
       "</div>"
      ],
      "text/plain": [
       "     Year  Month  Day  Dayofweek  DayOfyear  Week  Quarter  Is_month_start  \\\n",
       "175  2019     10   20          6        293    42        4           False   \n",
       "176  2019     10   21          0        294    43        4           False   \n",
       "177  2019     10   22          1        295    43        4           False   \n",
       "178  2019     10   23          2        296    43        4           False   \n",
       "179  2019     10   24          3        297    43        4           False   \n",
       "\n",
       "     Is_month_end  Is_quarter_start  Is_quarter_end  Is_year_start  \\\n",
       "175         False             False           False          False   \n",
       "176         False             False           False          False   \n",
       "177         False             False           False          False   \n",
       "178         False             False           False          False   \n",
       "179         False             False           False          False   \n",
       "\n",
       "     Is_year_end  Semester  Is_holiday    case_count  \n",
       "175        False         2       False  16146.993333  \n",
       "176        False         2       False  23640.100000  \n",
       "177        False         2       False  26812.140000  \n",
       "178        False         2       False  28211.240000  \n",
       "179        False         2       False  28125.320000  "
      ]
     },
     "execution_count": 92,
     "metadata": {},
     "output_type": "execute_result"
    }
   ],
   "source": [
    "test2.tail()"
   ]
  },
  {
   "cell_type": "markdown",
   "metadata": {},
   "source": [
    "# Submission"
   ]
  },
  {
   "cell_type": "code",
   "execution_count": 93,
   "metadata": {},
   "outputs": [
    {
     "data": {
      "text/plain": [
       "(87, 93)"
      ]
     },
     "execution_count": 93,
     "metadata": {},
     "output_type": "execute_result"
    }
   ],
   "source": [
    "len(y_pred1), len(y_pred2)"
   ]
  },
  {
   "cell_type": "code",
   "execution_count": 94,
   "metadata": {},
   "outputs": [],
   "source": [
    "y_pred = np.concatenate((y_pred1, y_pred2))"
   ]
  },
  {
   "cell_type": "code",
   "execution_count": 95,
   "metadata": {},
   "outputs": [],
   "source": [
    "test['case_count'] = y_pred"
   ]
  },
  {
   "cell_type": "code",
   "execution_count": 96,
   "metadata": {},
   "outputs": [],
   "source": [
    "test.to_csv('Output.csv', index=False)"
   ]
  },
  {
   "cell_type": "code",
   "execution_count": 97,
   "metadata": {},
   "outputs": [
    {
     "data": {
      "text/html": [
       "<div>\n",
       "<style scoped>\n",
       "    .dataframe tbody tr th:only-of-type {\n",
       "        vertical-align: middle;\n",
       "    }\n",
       "\n",
       "    .dataframe tbody tr th {\n",
       "        vertical-align: top;\n",
       "    }\n",
       "\n",
       "    .dataframe thead th {\n",
       "        text-align: right;\n",
       "    }\n",
       "</style>\n",
       "<table border=\"1\" class=\"dataframe\">\n",
       "  <thead>\n",
       "    <tr style=\"text-align: right;\">\n",
       "      <th></th>\n",
       "      <th>id</th>\n",
       "      <th>application_date</th>\n",
       "      <th>segment</th>\n",
       "      <th>case_count</th>\n",
       "    </tr>\n",
       "  </thead>\n",
       "  <tbody>\n",
       "    <tr>\n",
       "      <th>0</th>\n",
       "      <td>1</td>\n",
       "      <td>2019-07-06</td>\n",
       "      <td>1</td>\n",
       "      <td>2856.900000</td>\n",
       "    </tr>\n",
       "    <tr>\n",
       "      <th>1</th>\n",
       "      <td>2</td>\n",
       "      <td>2019-07-07</td>\n",
       "      <td>1</td>\n",
       "      <td>1746.833333</td>\n",
       "    </tr>\n",
       "    <tr>\n",
       "      <th>2</th>\n",
       "      <td>3</td>\n",
       "      <td>2019-07-08</td>\n",
       "      <td>1</td>\n",
       "      <td>4103.873333</td>\n",
       "    </tr>\n",
       "    <tr>\n",
       "      <th>3</th>\n",
       "      <td>4</td>\n",
       "      <td>2019-07-09</td>\n",
       "      <td>1</td>\n",
       "      <td>3536.120000</td>\n",
       "    </tr>\n",
       "    <tr>\n",
       "      <th>4</th>\n",
       "      <td>5</td>\n",
       "      <td>2019-07-10</td>\n",
       "      <td>1</td>\n",
       "      <td>3681.453333</td>\n",
       "    </tr>\n",
       "    <tr>\n",
       "      <th>5</th>\n",
       "      <td>6</td>\n",
       "      <td>2019-07-11</td>\n",
       "      <td>1</td>\n",
       "      <td>3654.306667</td>\n",
       "    </tr>\n",
       "    <tr>\n",
       "      <th>6</th>\n",
       "      <td>7</td>\n",
       "      <td>2019-07-12</td>\n",
       "      <td>1</td>\n",
       "      <td>3660.973333</td>\n",
       "    </tr>\n",
       "    <tr>\n",
       "      <th>7</th>\n",
       "      <td>8</td>\n",
       "      <td>2019-07-13</td>\n",
       "      <td>1</td>\n",
       "      <td>2791.260000</td>\n",
       "    </tr>\n",
       "    <tr>\n",
       "      <th>8</th>\n",
       "      <td>9</td>\n",
       "      <td>2019-07-14</td>\n",
       "      <td>1</td>\n",
       "      <td>1746.260000</td>\n",
       "    </tr>\n",
       "    <tr>\n",
       "      <th>9</th>\n",
       "      <td>10</td>\n",
       "      <td>2019-07-15</td>\n",
       "      <td>1</td>\n",
       "      <td>3912.826667</td>\n",
       "    </tr>\n",
       "    <tr>\n",
       "      <th>10</th>\n",
       "      <td>11</td>\n",
       "      <td>2019-07-16</td>\n",
       "      <td>1</td>\n",
       "      <td>3455.740000</td>\n",
       "    </tr>\n",
       "    <tr>\n",
       "      <th>11</th>\n",
       "      <td>12</td>\n",
       "      <td>2019-07-17</td>\n",
       "      <td>1</td>\n",
       "      <td>3646.966667</td>\n",
       "    </tr>\n",
       "    <tr>\n",
       "      <th>12</th>\n",
       "      <td>13</td>\n",
       "      <td>2019-07-18</td>\n",
       "      <td>1</td>\n",
       "      <td>3587.446667</td>\n",
       "    </tr>\n",
       "    <tr>\n",
       "      <th>13</th>\n",
       "      <td>14</td>\n",
       "      <td>2019-07-19</td>\n",
       "      <td>1</td>\n",
       "      <td>3558.486667</td>\n",
       "    </tr>\n",
       "    <tr>\n",
       "      <th>14</th>\n",
       "      <td>15</td>\n",
       "      <td>2019-07-20</td>\n",
       "      <td>1</td>\n",
       "      <td>2498.533333</td>\n",
       "    </tr>\n",
       "  </tbody>\n",
       "</table>\n",
       "</div>"
      ],
      "text/plain": [
       "    id application_date  segment   case_count\n",
       "0    1       2019-07-06        1  2856.900000\n",
       "1    2       2019-07-07        1  1746.833333\n",
       "2    3       2019-07-08        1  4103.873333\n",
       "3    4       2019-07-09        1  3536.120000\n",
       "4    5       2019-07-10        1  3681.453333\n",
       "5    6       2019-07-11        1  3654.306667\n",
       "6    7       2019-07-12        1  3660.973333\n",
       "7    8       2019-07-13        1  2791.260000\n",
       "8    9       2019-07-14        1  1746.260000\n",
       "9   10       2019-07-15        1  3912.826667\n",
       "10  11       2019-07-16        1  3455.740000\n",
       "11  12       2019-07-17        1  3646.966667\n",
       "12  13       2019-07-18        1  3587.446667\n",
       "13  14       2019-07-19        1  3558.486667\n",
       "14  15       2019-07-20        1  2498.533333"
      ]
     },
     "execution_count": 97,
     "metadata": {},
     "output_type": "execute_result"
    }
   ],
   "source": [
    "test.head(15)"
   ]
  },
  {
   "cell_type": "code",
   "execution_count": 98,
   "metadata": {},
   "outputs": [
    {
     "data": {
      "text/html": [
       "<a download=\"submission.csv\" href=\"data:text/csv;base64,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\" target=\"_blank\">Download CSV file</a>"
      ],
      "text/plain": [
       "<IPython.core.display.HTML object>"
      ]
     },
     "execution_count": 98,
     "metadata": {},
     "output_type": "execute_result"
    }
   ],
   "source": [
    "from IPython.display import HTML\n",
    "import pandas as pd\n",
    "import numpy as np\n",
    "import base64\n",
    "\n",
    "def create_download_link(df, title = \"Download CSV file\", filename = \"submission.csv\"):  \n",
    "    csv = df.to_csv(index=False)\n",
    "    b64 = base64.b64encode(csv.encode())\n",
    "    payload = b64.decode()\n",
    "    html = '<a download=\"{filename}\" href=\"data:text/csv;base64,{payload}\" target=\"_blank\">{title}</a>'\n",
    "    html = html.format(payload=payload,title=title,filename=filename)\n",
    "    return HTML(html)\n",
    "\n",
    "create_download_link(test)"
   ]
  },
  {
   "cell_type": "code",
   "execution_count": null,
   "metadata": {},
   "outputs": [],
   "source": []
  },
  {
   "cell_type": "code",
   "execution_count": null,
   "metadata": {},
   "outputs": [],
   "source": [
    "\n"
   ]
  }
 ],
 "metadata": {
  "kernelspec": {
   "display_name": "Python 3",
   "language": "python",
   "name": "python3"
  },
  "language_info": {
   "codemirror_mode": {
    "name": "ipython",
    "version": 3
   },
   "file_extension": ".py",
   "mimetype": "text/x-python",
   "name": "python",
   "nbconvert_exporter": "python",
   "pygments_lexer": "ipython3",
   "version": "3.6.6"
  },
  "toc": {
   "base_numbering": 1,
   "nav_menu": {},
   "number_sections": false,
   "sideBar": true,
   "skip_h1_title": false,
   "title_cell": "Table of Contents",
   "title_sidebar": "Contents",
   "toc_cell": false,
   "toc_position": {
    "height": "calc(100% - 180px)",
    "left": "10px",
    "top": "150px",
    "width": "307.2px"
   },
   "toc_section_display": true,
   "toc_window_display": true
  }
 },
 "nbformat": 4,
 "nbformat_minor": 1
}
