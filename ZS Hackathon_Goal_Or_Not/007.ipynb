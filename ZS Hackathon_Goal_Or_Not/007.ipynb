{
 "cells": [
  {
   "cell_type": "code",
   "execution_count": null,
   "metadata": {},
   "outputs": [],
   "source": [
    "# coding: utf-8\n",
    "import numpy as np\n",
    "import pandas as pd\n",
    "\n",
    "from xgboost.sklearn import XGBClassifier\n",
    "from sklearn.cross_validation import cross_val_score\n",
    "\n",
    "# Load data and roughly clean it, then sort as game date\n",
    "df = pd.read_csv(\"../input/data.csv\")\n",
    "df.drop(['game_event_id', 'game_id', 'lat', 'lon', 'team_id', 'team_name'], axis=1, inplace=True)\n",
    "df.sort_values('game_date',  inplace=True)\n",
    "mask = df['shot_made_flag'].isnull()\n",
    "\n",
    "\n",
    "# Clean data\n",
    "actiontypes = dict(df.action_type.value_counts())\n",
    "df['type'] = df.apply(lambda row: row['action_type'] if actiontypes[row['action_type']] > 20\\\n",
    "                          else row['combined_shot_type'], axis=1)\n",
    "df.drop(['action_type', 'combined_shot_type'], axis=1, inplace=True)\n",
    "\n",
    "df['away'] = df.matchup.str.contains('@')\n",
    "df.drop('matchup', axis=1, inplace=True)\n",
    "\n",
    "df['distance'] = df.apply(lambda row: row['shot_distance'] if row['shot_distance'] <45 else 45, axis=1)\n",
    "\n",
    "df['time_remaining'] = df.apply(lambda row: row['minutes_remaining'] * 60 + row['seconds_remaining'], axis=1)\n",
    "df['last_moments'] = df.apply(lambda row: 1 if row['time_remaining'] < 3 else 0, axis=1)\n",
    "\n",
    "data = pd.get_dummies(df['type'],prefix=\"action_type\")\n",
    "\n",
    "features=[\"away\", \"period\", \"playoffs\", \"shot_type\", \"shot_zone_area\", \"shot_zone_basic\", \"season\",\n",
    "           \"shot_zone_range\", \"opponent\", \"distance\", \"minutes_remaining\", \"last_moments\"]\n",
    "for f in features:\n",
    "    data = pd.concat([data, pd.get_dummies(df[f], prefix=f),], axis=1)\n",
    "\n",
    "# Need work on game_date, add this into feature and increse n_estimators can inprove results but waste time and memory \n",
    "\n",
    "X = data[~mask]\n",
    "y = df.shot_made_flag[~mask]\n",
    "\n",
    "print(\"-\" * 10 + \"XGBClassifier\" + \"-\" * 10)\n",
    "clf_xgb = XGBClassifier(max_depth=7, learning_rate=0.012, n_estimators=1000, subsample=0.62, colsample_bytree=0.6, seed=1)\n",
    "clf_xgb.fit(X, y)\n",
    "\n",
    "target_x = data[mask]\n",
    "target_y = clf_xgb.predict_proba(target_x)[:,1]\n",
    "target_id = df[mask][\"shot_id\"]\n",
    "submission = pd.DataFrame({\"shot_id\":target_id, \"shot_made_flag\":target_y})\n",
    "submission.sort_values('shot_id',  inplace=True)\n",
    "submission.to_csv(\"file008.csv\",index=False)\n"
   ]
  }
 ],
 "metadata": {
  "kernelspec": {
   "display_name": "Python 3",
   "language": "python",
   "name": "python3"
  },
  "language_info": {
   "codemirror_mode": {
    "name": "ipython",
    "version": 3
   },
   "file_extension": ".py",
   "mimetype": "text/x-python",
   "name": "python",
   "nbconvert_exporter": "python",
   "pygments_lexer": "ipython3",
   "version": "3.6.5"
  }
 },
 "nbformat": 4,
 "nbformat_minor": 2
}
