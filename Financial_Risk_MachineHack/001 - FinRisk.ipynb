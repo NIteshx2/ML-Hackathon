{
 "cells": [
  {
   "cell_type": "markdown",
   "metadata": {},
   "source": [
    "* V3 : 0.4457\n",
    "* v4 : 0.4457 with nb\n",
    "* v5 : 0.3725 lgb basic only\n",
    "* v6 : 0.35033 lgb 1500 itr + 0.01 lr\n",
    "* v7 : 0.34 lgb 300 itr + 0.002 lr"
   ]
  },
  {
   "cell_type": "code",
   "execution_count": 1,
   "metadata": {},
   "outputs": [],
   "source": [
    "import pandas as pd \n",
    "import numpy as np\n",
    "import matplotlib.pyplot as plt"
   ]
  },
  {
   "cell_type": "code",
   "execution_count": 2,
   "metadata": {},
   "outputs": [],
   "source": [
    "import pandas as pd\n",
    "import numpy as np\n",
    "import matplotlib.pyplot as plt\n",
    "import seaborn as sns\n",
    "TARGET = 'IsUnderRisk'"
   ]
  },
  {
   "cell_type": "markdown",
   "metadata": {},
   "source": [
    "## READING"
   ]
  },
  {
   "cell_type": "code",
   "execution_count": 3,
   "metadata": {},
   "outputs": [],
   "source": [
    "train = pd.read_csv('./Train.csv')\n",
    "test = pd.read_csv('./Test.csv')\n",
    "sample = pd.read_excel('./Sample_Submission.xlsx')"
   ]
  },
  {
   "cell_type": "code",
   "execution_count": 4,
   "metadata": {},
   "outputs": [
    {
     "data": {
      "text/plain": [
       "(776, 543, 233)"
      ]
     },
     "execution_count": 4,
     "metadata": {},
     "output_type": "execute_result"
    }
   ],
   "source": [
    "df = train.append(test)\n",
    "len(df) , len(train) , len(test)"
   ]
  },
  {
   "cell_type": "code",
   "execution_count": 5,
   "metadata": {},
   "outputs": [],
   "source": [
    "from pandas_profiling import ProfileReport\n"
   ]
  },
  {
   "cell_type": "markdown",
   "metadata": {},
   "source": [
    "## EDA"
   ]
  },
  {
   "cell_type": "code",
   "execution_count": 6,
   "metadata": {},
   "outputs": [
    {
     "data": {
      "text/html": [
       "<div>\n",
       "<style scoped>\n",
       "    .dataframe tbody tr th:only-of-type {\n",
       "        vertical-align: middle;\n",
       "    }\n",
       "\n",
       "    .dataframe tbody tr th {\n",
       "        vertical-align: top;\n",
       "    }\n",
       "\n",
       "    .dataframe thead th {\n",
       "        text-align: right;\n",
       "    }\n",
       "</style>\n",
       "<table border=\"1\" class=\"dataframe\">\n",
       "  <thead>\n",
       "    <tr style=\"text-align: right;\">\n",
       "      <th></th>\n",
       "      <th>City</th>\n",
       "      <th>Location_Score</th>\n",
       "      <th>Internal_Audit_Score</th>\n",
       "      <th>External_Audit_Score</th>\n",
       "      <th>Fin_Score</th>\n",
       "      <th>Loss_score</th>\n",
       "      <th>Past_Results</th>\n",
       "      <th>IsUnderRisk</th>\n",
       "    </tr>\n",
       "  </thead>\n",
       "  <tbody>\n",
       "    <tr>\n",
       "      <th>0</th>\n",
       "      <td>2</td>\n",
       "      <td>8.032</td>\n",
       "      <td>14</td>\n",
       "      <td>8</td>\n",
       "      <td>3</td>\n",
       "      <td>6</td>\n",
       "      <td>0</td>\n",
       "      <td>1</td>\n",
       "    </tr>\n",
       "    <tr>\n",
       "      <th>1</th>\n",
       "      <td>31</td>\n",
       "      <td>77.730</td>\n",
       "      <td>8</td>\n",
       "      <td>3</td>\n",
       "      <td>3</td>\n",
       "      <td>8</td>\n",
       "      <td>1</td>\n",
       "      <td>0</td>\n",
       "    </tr>\n",
       "    <tr>\n",
       "      <th>2</th>\n",
       "      <td>40</td>\n",
       "      <td>59.203</td>\n",
       "      <td>3</td>\n",
       "      <td>12</td>\n",
       "      <td>11</td>\n",
       "      <td>3</td>\n",
       "      <td>0</td>\n",
       "      <td>1</td>\n",
       "    </tr>\n",
       "    <tr>\n",
       "      <th>3</th>\n",
       "      <td>12</td>\n",
       "      <td>73.080</td>\n",
       "      <td>4</td>\n",
       "      <td>5</td>\n",
       "      <td>7</td>\n",
       "      <td>6</td>\n",
       "      <td>0</td>\n",
       "      <td>0</td>\n",
       "    </tr>\n",
       "    <tr>\n",
       "      <th>4</th>\n",
       "      <td>4</td>\n",
       "      <td>15.666</td>\n",
       "      <td>13</td>\n",
       "      <td>15</td>\n",
       "      <td>6</td>\n",
       "      <td>7</td>\n",
       "      <td>2</td>\n",
       "      <td>1</td>\n",
       "    </tr>\n",
       "  </tbody>\n",
       "</table>\n",
       "</div>"
      ],
      "text/plain": [
       "   City  Location_Score  Internal_Audit_Score  External_Audit_Score  \\\n",
       "0     2           8.032                    14                     8   \n",
       "1    31          77.730                     8                     3   \n",
       "2    40          59.203                     3                    12   \n",
       "3    12          73.080                     4                     5   \n",
       "4     4          15.666                    13                    15   \n",
       "\n",
       "   Fin_Score  Loss_score  Past_Results  IsUnderRisk  \n",
       "0          3           6             0            1  \n",
       "1          3           8             1            0  \n",
       "2         11           3             0            1  \n",
       "3          7           6             0            0  \n",
       "4          6           7             2            1  "
      ]
     },
     "execution_count": 6,
     "metadata": {},
     "output_type": "execute_result"
    }
   ],
   "source": [
    "train.head()"
   ]
  },
  {
   "cell_type": "code",
   "execution_count": 7,
   "metadata": {},
   "outputs": [
    {
     "data": {
      "text/plain": [
       "0.6261510128913443"
      ]
     },
     "execution_count": 7,
     "metadata": {},
     "output_type": "execute_result"
    }
   ],
   "source": [
    "train.IsUnderRisk.sum()/len(train.IsUnderRisk)"
   ]
  },
  {
   "cell_type": "code",
   "execution_count": 8,
   "metadata": {},
   "outputs": [
    {
     "data": {
      "text/html": [
       "<div>\n",
       "<style scoped>\n",
       "    .dataframe tbody tr th:only-of-type {\n",
       "        vertical-align: middle;\n",
       "    }\n",
       "\n",
       "    .dataframe tbody tr th {\n",
       "        vertical-align: top;\n",
       "    }\n",
       "\n",
       "    .dataframe thead th {\n",
       "        text-align: right;\n",
       "    }\n",
       "</style>\n",
       "<table border=\"1\" class=\"dataframe\">\n",
       "  <thead>\n",
       "    <tr style=\"text-align: right;\">\n",
       "      <th></th>\n",
       "      <th>City</th>\n",
       "      <th>Location_Score</th>\n",
       "      <th>Internal_Audit_Score</th>\n",
       "      <th>External_Audit_Score</th>\n",
       "      <th>Fin_Score</th>\n",
       "      <th>Loss_score</th>\n",
       "      <th>Past_Results</th>\n",
       "    </tr>\n",
       "  </thead>\n",
       "  <tbody>\n",
       "    <tr>\n",
       "      <th>0</th>\n",
       "      <td>41</td>\n",
       "      <td>18.272</td>\n",
       "      <td>13</td>\n",
       "      <td>12</td>\n",
       "      <td>9</td>\n",
       "      <td>7</td>\n",
       "      <td>0</td>\n",
       "    </tr>\n",
       "    <tr>\n",
       "      <th>1</th>\n",
       "      <td>17</td>\n",
       "      <td>64.799</td>\n",
       "      <td>6</td>\n",
       "      <td>10</td>\n",
       "      <td>7</td>\n",
       "      <td>4</td>\n",
       "      <td>1</td>\n",
       "    </tr>\n",
       "    <tr>\n",
       "      <th>2</th>\n",
       "      <td>31</td>\n",
       "      <td>68.890</td>\n",
       "      <td>3</td>\n",
       "      <td>3</td>\n",
       "      <td>7</td>\n",
       "      <td>8</td>\n",
       "      <td>0</td>\n",
       "    </tr>\n",
       "    <tr>\n",
       "      <th>3</th>\n",
       "      <td>3</td>\n",
       "      <td>16.492</td>\n",
       "      <td>15</td>\n",
       "      <td>10</td>\n",
       "      <td>7</td>\n",
       "      <td>4</td>\n",
       "      <td>1</td>\n",
       "    </tr>\n",
       "    <tr>\n",
       "      <th>4</th>\n",
       "      <td>9</td>\n",
       "      <td>17.178</td>\n",
       "      <td>7</td>\n",
       "      <td>3</td>\n",
       "      <td>8</td>\n",
       "      <td>3</td>\n",
       "      <td>1</td>\n",
       "    </tr>\n",
       "  </tbody>\n",
       "</table>\n",
       "</div>"
      ],
      "text/plain": [
       "   City  Location_Score  Internal_Audit_Score  External_Audit_Score  \\\n",
       "0    41          18.272                    13                    12   \n",
       "1    17          64.799                     6                    10   \n",
       "2    31          68.890                     3                     3   \n",
       "3     3          16.492                    15                    10   \n",
       "4     9          17.178                     7                     3   \n",
       "\n",
       "   Fin_Score  Loss_score  Past_Results  \n",
       "0          9           7             0  \n",
       "1          7           4             1  \n",
       "2          7           8             0  \n",
       "3          7           4             1  \n",
       "4          8           3             1  "
      ]
     },
     "execution_count": 8,
     "metadata": {},
     "output_type": "execute_result"
    }
   ],
   "source": [
    "test.head()"
   ]
  },
  {
   "cell_type": "code",
   "execution_count": 9,
   "metadata": {},
   "outputs": [],
   "source": [
    "profile = ProfileReport(train, title=\"Pandas Profiling Report\")\n"
   ]
  },
  {
   "cell_type": "code",
   "execution_count": 10,
   "metadata": {},
   "outputs": [],
   "source": [
    "# profile"
   ]
  },
  {
   "cell_type": "markdown",
   "metadata": {},
   "source": [
    "## PREPROCESS\n",
    "* None as of now"
   ]
  },
  {
   "cell_type": "code",
   "execution_count": 11,
   "metadata": {},
   "outputs": [],
   "source": [
    "# OHE"
   ]
  },
  {
   "cell_type": "code",
   "execution_count": 12,
   "metadata": {},
   "outputs": [],
   "source": [
    "from sklearn import preprocessing\n",
    "le = preprocessing.LabelEncoder()\n",
    "from sklearn.preprocessing import OneHotEncoder \n",
    "  \n",
    "# creating one hot encoder object with categorical feature 0 \n",
    "# indicating the first column \n",
    "# onehotencoder = OneHotEncoder(categorical_features = [0])\n",
    "# data = onehotencoder.fit_transform(data).toarray() \n",
    "\n",
    "for col in df.columns :\n",
    "    if col != TARGET and col == 'City':\n",
    "            dums = pd.get_dummies(df[col])\n",
    "            df = df.drop([col] , axis = 1)\n",
    "            df = pd.concat([df , dums] , axis = 1)\n",
    "\n",
    "# df[-50:]"
   ]
  },
  {
   "cell_type": "code",
   "execution_count": 13,
   "metadata": {
    "scrolled": true
   },
   "outputs": [],
   "source": [
    "usingDf = 1\n",
    "\n",
    "if usingDf == True :\n",
    "    test = df[df[TARGET].isna()]\n",
    "    train = df[~df[TARGET].isna()]\n",
    "\n",
    "# test"
   ]
  },
  {
   "cell_type": "code",
   "execution_count": 14,
   "metadata": {},
   "outputs": [
    {
     "data": {
      "text/plain": [
       "543"
      ]
     },
     "execution_count": 14,
     "metadata": {},
     "output_type": "execute_result"
    }
   ],
   "source": [
    "len(train)"
   ]
  },
  {
   "cell_type": "markdown",
   "metadata": {},
   "source": [
    "## TRAIN TEST SPLIT"
   ]
  },
  {
   "cell_type": "code",
   "execution_count": 15,
   "metadata": {},
   "outputs": [],
   "source": [
    "# sample\n",
    "TARGET = 'IsUnderRisk'\n",
    "validation = 0\n",
    "from sklearn.model_selection import train_test_split\n",
    "# train_test_split(train , test, test_size=0.3, random_state=42)\n",
    "\n",
    "X = train.drop([TARGET] , axis = 1)\n",
    "y = train[TARGET]\n",
    "\n",
    "\n",
    "\n",
    "# train_y.value_counts()\n",
    "\n",
    "if validation == True : \n",
    "    train_X , test_X , train_y , test_y = train_test_split(X, y, test_size=0.3, random_state=42)\n",
    "else :\n",
    "    train_X = X\n",
    "    train_y = y\n",
    "    test_X = test.drop([TARGET] , axis = 1)\n",
    "#     test_X = test.drop()"
   ]
  },
  {
   "cell_type": "markdown",
   "metadata": {},
   "source": [
    "## MODEL CREATION"
   ]
  },
  {
   "cell_type": "code",
   "execution_count": 16,
   "metadata": {},
   "outputs": [
    {
     "data": {
      "text/html": [
       "<div>\n",
       "<style scoped>\n",
       "    .dataframe tbody tr th:only-of-type {\n",
       "        vertical-align: middle;\n",
       "    }\n",
       "\n",
       "    .dataframe tbody tr th {\n",
       "        vertical-align: top;\n",
       "    }\n",
       "\n",
       "    .dataframe thead th {\n",
       "        text-align: right;\n",
       "    }\n",
       "</style>\n",
       "<table border=\"1\" class=\"dataframe\">\n",
       "  <thead>\n",
       "    <tr style=\"text-align: right;\">\n",
       "      <th></th>\n",
       "      <th>0</th>\n",
       "      <th>1</th>\n",
       "    </tr>\n",
       "  </thead>\n",
       "  <tbody>\n",
       "    <tr>\n",
       "      <th>0</th>\n",
       "      <td>0.005016</td>\n",
       "      <td>0.994984</td>\n",
       "    </tr>\n",
       "    <tr>\n",
       "      <th>1</th>\n",
       "      <td>0.612204</td>\n",
       "      <td>0.387796</td>\n",
       "    </tr>\n",
       "    <tr>\n",
       "      <th>2</th>\n",
       "      <td>0.844945</td>\n",
       "      <td>0.155055</td>\n",
       "    </tr>\n",
       "    <tr>\n",
       "      <th>3</th>\n",
       "      <td>0.004671</td>\n",
       "      <td>0.995329</td>\n",
       "    </tr>\n",
       "    <tr>\n",
       "      <th>4</th>\n",
       "      <td>0.175931</td>\n",
       "      <td>0.824069</td>\n",
       "    </tr>\n",
       "    <tr>\n",
       "      <th>...</th>\n",
       "      <td>...</td>\n",
       "      <td>...</td>\n",
       "    </tr>\n",
       "    <tr>\n",
       "      <th>228</th>\n",
       "      <td>0.853997</td>\n",
       "      <td>0.146003</td>\n",
       "    </tr>\n",
       "    <tr>\n",
       "      <th>229</th>\n",
       "      <td>0.525997</td>\n",
       "      <td>0.474003</td>\n",
       "    </tr>\n",
       "    <tr>\n",
       "      <th>230</th>\n",
       "      <td>0.041434</td>\n",
       "      <td>0.958566</td>\n",
       "    </tr>\n",
       "    <tr>\n",
       "      <th>231</th>\n",
       "      <td>0.007320</td>\n",
       "      <td>0.992680</td>\n",
       "    </tr>\n",
       "    <tr>\n",
       "      <th>232</th>\n",
       "      <td>0.863342</td>\n",
       "      <td>0.136658</td>\n",
       "    </tr>\n",
       "  </tbody>\n",
       "</table>\n",
       "<p>233 rows × 2 columns</p>\n",
       "</div>"
      ],
      "text/plain": [
       "            0         1\n",
       "0    0.005016  0.994984\n",
       "1    0.612204  0.387796\n",
       "2    0.844945  0.155055\n",
       "3    0.004671  0.995329\n",
       "4    0.175931  0.824069\n",
       "..        ...       ...\n",
       "228  0.853997  0.146003\n",
       "229  0.525997  0.474003\n",
       "230  0.041434  0.958566\n",
       "231  0.007320  0.992680\n",
       "232  0.863342  0.136658\n",
       "\n",
       "[233 rows x 2 columns]"
      ]
     },
     "execution_count": 16,
     "metadata": {},
     "output_type": "execute_result"
    }
   ],
   "source": [
    "sample"
   ]
  },
  {
   "cell_type": "code",
   "execution_count": 17,
   "metadata": {},
   "outputs": [],
   "source": [
    "def giveRes(model , test_X ,proba) :\n",
    "    if proba == 0 :\n",
    "        rf_preds = model.predict(test_X)\n",
    "    else :\n",
    "        rf_preds = model.predict_proba(test_X)[: ,1]\n",
    "    return rf_preds"
   ]
  },
  {
   "cell_type": "code",
   "execution_count": 18,
   "metadata": {},
   "outputs": [],
   "source": [
    "def resultWithValidation(model ,X , y, test_X , proba):\n",
    "    train_X , val_X , train_y , val_y = train_test_split(X, y, test_size=0.3, random_state=42)\n",
    "    model.fit(train_X, train_y,\n",
    "                 eval_set=(val_X, val_y),\n",
    "                 #cat_features=categorical_features_indices,\n",
    "                 use_best_model=True)\n",
    "    if proba == 0 :\n",
    "        rf_preds = model.predict(test_X)\n",
    "    else :\n",
    "        rf_preds = model.predict_proba(test_X)[: ,1]\n",
    "    return rf_preds\n"
   ]
  },
  {
   "cell_type": "code",
   "execution_count": 1,
   "metadata": {},
   "outputs": [
    {
     "ename": "NameError",
     "evalue": "name 'train_X' is not defined",
     "output_type": "error",
     "traceback": [
      "\u001b[1;31m---------------------------------------------------------------------------\u001b[0m",
      "\u001b[1;31mNameError\u001b[0m                                 Traceback (most recent call last)",
      "\u001b[1;32m<ipython-input-1-c5152f4bffa2>\u001b[0m in \u001b[0;36m<module>\u001b[1;34m\u001b[0m\n\u001b[0;32m      6\u001b[0m                                max_features = 'sqrt')\n\u001b[0;32m      7\u001b[0m \u001b[1;31m# Fit on training data\u001b[0m\u001b[1;33m\u001b[0m\u001b[1;33m\u001b[0m\u001b[0m\n\u001b[1;32m----> 8\u001b[1;33m \u001b[0mrf\u001b[0m\u001b[1;33m.\u001b[0m\u001b[0mfit\u001b[0m\u001b[1;33m(\u001b[0m\u001b[0mtrain_X\u001b[0m \u001b[1;33m,\u001b[0m \u001b[0mtrain_y\u001b[0m\u001b[1;33m)\u001b[0m\u001b[1;33m\u001b[0m\u001b[0m\n\u001b[0m",
      "\u001b[1;31mNameError\u001b[0m: name 'train_X' is not defined"
     ]
    }
   ],
   "source": [
    "from sklearn.ensemble import RandomForestClassifier\n",
    "from sklearn.metrics import log_loss\n",
    "# Create the model with 100 trees\n",
    "rf = RandomForestClassifier(n_estimators=1000, \n",
    "                               bootstrap = True,\n",
    "                               max_features = 'sqrt')\n",
    "# Fit on training data\n",
    "rf.fit(train_X , train_y)"
   ]
  },
  {
   "cell_type": "code",
   "execution_count": 33,
   "metadata": {},
   "outputs": [],
   "source": [
    "from catboost import CatBoostRegressor\n",
    "from catboost import CatBoostClassifier\n",
    "catb =  CatBoostClassifier(iterations=10000,\n",
    "                             learning_rate=0.0005,\n",
    "                             depth=4,\n",
    "                             eval_metric='Logloss',\n",
    "                             random_seed = 42,\n",
    "                             bagging_temperature = 0.2,\n",
    "                             od_type='Iter',\n",
    "                             metric_period = 50,\n",
    "                             task_type = \"GPU\",\n",
    "                             devices='0:4',\n",
    "                             \n",
    "                             od_wait=100)\n",
    "# def result_with_validaton(model ,X , y, test_X , absolute):\n"
   ]
  },
  {
   "cell_type": "code",
   "execution_count": 34,
   "metadata": {},
   "outputs": [],
   "source": [
    "from sklearn.naive_bayes import GaussianNB\n",
    "gnb = GaussianNB()\n",
    "gnb = gnb.fit(train_X, train_y)"
   ]
  },
  {
   "cell_type": "code",
   "execution_count": 35,
   "metadata": {},
   "outputs": [],
   "source": [
    "# import numpy as np\n",
    "from sklearn.linear_model import LinearRegression\n",
    "reg = LinearRegression().fit(train_X, train_y)"
   ]
  },
  {
   "cell_type": "code",
   "execution_count": 42,
   "metadata": {},
   "outputs": [],
   "source": [
    "y3 = giveRes(reg , test_X , 0)\n",
    "y2 = giveRes(gnb , test_X , 0)"
   ]
  },
  {
   "cell_type": "code",
   "execution_count": null,
   "metadata": {},
   "outputs": [],
   "source": [
    "y0 = giveRes(rf , test_X ,proba = 1)"
   ]
  },
  {
   "cell_type": "code",
   "execution_count": 38,
   "metadata": {},
   "outputs": [
    {
     "name": "stdout",
     "output_type": "stream",
     "text": [
      "0:\tlearn: 0.6925987\ttest: 0.6924814\tbest: 0.6924814 (0)\ttotal: 45.6ms\tremaining: 7m 36s\n",
      "50:\tlearn: 0.6668541\ttest: 0.6621279\tbest: 0.6621279 (50)\ttotal: 2.41s\tremaining: 7m 49s\n",
      "100:\tlearn: 0.6429855\ttest: 0.6340211\tbest: 0.6340211 (100)\ttotal: 4.72s\tremaining: 7m 42s\n",
      "150:\tlearn: 0.6207844\ttest: 0.6077843\tbest: 0.6077843 (150)\ttotal: 7.1s\tremaining: 7m 42s\n",
      "200:\tlearn: 0.6004091\ttest: 0.5839603\tbest: 0.5839603 (200)\ttotal: 9.53s\tremaining: 7m 44s\n",
      "250:\tlearn: 0.5816042\ttest: 0.5619959\tbest: 0.5619959 (250)\ttotal: 11.8s\tremaining: 7m 39s\n",
      "300:\tlearn: 0.5641297\ttest: 0.5415795\tbest: 0.5415795 (300)\ttotal: 14.1s\tremaining: 7m 35s\n",
      "350:\tlearn: 0.5484432\ttest: 0.5236989\tbest: 0.5236989 (350)\ttotal: 16.4s\tremaining: 7m 30s\n",
      "400:\tlearn: 0.5335897\ttest: 0.5067942\tbest: 0.5067942 (400)\ttotal: 18.8s\tremaining: 7m 29s\n",
      "450:\tlearn: 0.5196993\ttest: 0.4908620\tbest: 0.4908620 (450)\ttotal: 21.1s\tremaining: 7m 27s\n",
      "500:\tlearn: 0.5069657\ttest: 0.4764962\tbest: 0.4764962 (500)\ttotal: 23.6s\tremaining: 7m 27s\n",
      "550:\tlearn: 0.4950223\ttest: 0.4630841\tbest: 0.4630841 (550)\ttotal: 25.9s\tremaining: 7m 24s\n",
      "600:\tlearn: 0.4840458\ttest: 0.4508976\tbest: 0.4508976 (600)\ttotal: 28.2s\tremaining: 7m 21s\n",
      "650:\tlearn: 0.4737499\ttest: 0.4395324\tbest: 0.4395324 (650)\ttotal: 30.6s\tremaining: 7m 20s\n",
      "700:\tlearn: 0.4642095\ttest: 0.4290490\tbest: 0.4290490 (700)\ttotal: 33s\tremaining: 7m 18s\n",
      "750:\tlearn: 0.4553516\ttest: 0.4193897\tbest: 0.4193897 (750)\ttotal: 35.4s\tremaining: 7m 15s\n",
      "800:\tlearn: 0.4471152\ttest: 0.4105290\tbest: 0.4105290 (800)\ttotal: 37.7s\tremaining: 7m 13s\n",
      "850:\tlearn: 0.4393357\ttest: 0.4021252\tbest: 0.4021252 (850)\ttotal: 40.2s\tremaining: 7m 12s\n",
      "900:\tlearn: 0.4320289\ttest: 0.3941727\tbest: 0.3941727 (900)\ttotal: 42.7s\tremaining: 7m 10s\n",
      "950:\tlearn: 0.4251979\ttest: 0.3867750\tbest: 0.3867750 (950)\ttotal: 44.9s\tremaining: 7m 7s\n",
      "1000:\tlearn: 0.4188257\ttest: 0.3800118\tbest: 0.3800118 (1000)\ttotal: 47.3s\tremaining: 7m 4s\n",
      "1050:\tlearn: 0.4128507\ttest: 0.3737052\tbest: 0.3737052 (1050)\ttotal: 49.6s\tremaining: 7m 2s\n",
      "1100:\tlearn: 0.4071654\ttest: 0.3677412\tbest: 0.3677412 (1100)\ttotal: 51.9s\tremaining: 6m 59s\n",
      "1150:\tlearn: 0.4017318\ttest: 0.3620373\tbest: 0.3620373 (1150)\ttotal: 54.1s\tremaining: 6m 56s\n",
      "1200:\tlearn: 0.3966267\ttest: 0.3568132\tbest: 0.3568132 (1200)\ttotal: 56.4s\tremaining: 6m 53s\n",
      "1250:\tlearn: 0.3919187\ttest: 0.3519540\tbest: 0.3519540 (1250)\ttotal: 58.7s\tremaining: 6m 50s\n",
      "1300:\tlearn: 0.3873912\ttest: 0.3473005\tbest: 0.3473005 (1300)\ttotal: 1m\tremaining: 6m 47s\n",
      "1350:\tlearn: 0.3830556\ttest: 0.3428706\tbest: 0.3428706 (1350)\ttotal: 1m 3s\tremaining: 6m 44s\n",
      "1400:\tlearn: 0.3790319\ttest: 0.3387935\tbest: 0.3387935 (1400)\ttotal: 1m 5s\tremaining: 6m 43s\n",
      "1450:\tlearn: 0.3751885\ttest: 0.3349891\tbest: 0.3349891 (1450)\ttotal: 1m 8s\tremaining: 6m 40s\n",
      "1500:\tlearn: 0.3715487\ttest: 0.3313353\tbest: 0.3313353 (1500)\ttotal: 1m 10s\tremaining: 6m 38s\n",
      "1550:\tlearn: 0.3680256\ttest: 0.3277921\tbest: 0.3277921 (1550)\ttotal: 1m 12s\tremaining: 6m 35s\n",
      "1600:\tlearn: 0.3646932\ttest: 0.3245640\tbest: 0.3245640 (1600)\ttotal: 1m 14s\tremaining: 6m 32s\n",
      "1650:\tlearn: 0.3615042\ttest: 0.3214815\tbest: 0.3214815 (1650)\ttotal: 1m 17s\tremaining: 6m 30s\n",
      "1700:\tlearn: 0.3584492\ttest: 0.3185200\tbest: 0.3185200 (1700)\ttotal: 1m 19s\tremaining: 6m 29s\n",
      "1750:\tlearn: 0.3554569\ttest: 0.3156933\tbest: 0.3156933 (1750)\ttotal: 1m 22s\tremaining: 6m 28s\n",
      "1800:\tlearn: 0.3527441\ttest: 0.3131451\tbest: 0.3131451 (1800)\ttotal: 1m 24s\tremaining: 6m 26s\n",
      "1850:\tlearn: 0.3501422\ttest: 0.3106640\tbest: 0.3106640 (1850)\ttotal: 1m 27s\tremaining: 6m 23s\n",
      "1900:\tlearn: 0.3476497\ttest: 0.3083338\tbest: 0.3083338 (1900)\ttotal: 1m 30s\tremaining: 6m 24s\n",
      "1950:\tlearn: 0.3451299\ttest: 0.3059208\tbest: 0.3059208 (1950)\ttotal: 1m 32s\tremaining: 6m 23s\n",
      "2000:\tlearn: 0.3426733\ttest: 0.3037247\tbest: 0.3037247 (2000)\ttotal: 1m 35s\tremaining: 6m 23s\n",
      "2050:\tlearn: 0.3403193\ttest: 0.3015587\tbest: 0.3015587 (2050)\ttotal: 1m 38s\tremaining: 6m 21s\n",
      "2100:\tlearn: 0.3380096\ttest: 0.2994608\tbest: 0.2994608 (2100)\ttotal: 1m 41s\tremaining: 6m 20s\n",
      "2150:\tlearn: 0.3357877\ttest: 0.2974438\tbest: 0.2974438 (2150)\ttotal: 1m 44s\tremaining: 6m 22s\n",
      "2200:\tlearn: 0.3337068\ttest: 0.2955982\tbest: 0.2955982 (2200)\ttotal: 1m 47s\tremaining: 6m 22s\n",
      "2250:\tlearn: 0.3317657\ttest: 0.2938946\tbest: 0.2938946 (2250)\ttotal: 1m 50s\tremaining: 6m 21s\n",
      "2300:\tlearn: 0.3297676\ttest: 0.2921846\tbest: 0.2921846 (2300)\ttotal: 1m 53s\tremaining: 6m 19s\n",
      "2350:\tlearn: 0.3278899\ttest: 0.2905582\tbest: 0.2905582 (2350)\ttotal: 1m 56s\tremaining: 6m 17s\n",
      "2400:\tlearn: 0.3260300\ttest: 0.2889380\tbest: 0.2889380 (2400)\ttotal: 1m 58s\tremaining: 6m 14s\n",
      "2450:\tlearn: 0.3242543\ttest: 0.2874361\tbest: 0.2874361 (2450)\ttotal: 2m\tremaining: 6m 11s\n",
      "2500:\tlearn: 0.3225231\ttest: 0.2858957\tbest: 0.2858957 (2500)\ttotal: 2m 3s\tremaining: 6m 9s\n",
      "2550:\tlearn: 0.3209160\ttest: 0.2845369\tbest: 0.2845369 (2550)\ttotal: 2m 5s\tremaining: 6m 6s\n",
      "2600:\tlearn: 0.3193401\ttest: 0.2832248\tbest: 0.2832248 (2600)\ttotal: 2m 7s\tremaining: 6m 3s\n",
      "2650:\tlearn: 0.3177584\ttest: 0.2818292\tbest: 0.2818292 (2650)\ttotal: 2m 10s\tremaining: 6m\n",
      "2700:\tlearn: 0.3162278\ttest: 0.2805451\tbest: 0.2805451 (2700)\ttotal: 2m 12s\tremaining: 5m 57s\n",
      "2750:\tlearn: 0.3147079\ttest: 0.2792063\tbest: 0.2792063 (2750)\ttotal: 2m 14s\tremaining: 5m 54s\n",
      "2800:\tlearn: 0.3133116\ttest: 0.2780773\tbest: 0.2780773 (2800)\ttotal: 2m 16s\tremaining: 5m 51s\n",
      "2850:\tlearn: 0.3119628\ttest: 0.2769194\tbest: 0.2769194 (2850)\ttotal: 2m 19s\tremaining: 5m 49s\n",
      "2900:\tlearn: 0.3106102\ttest: 0.2757427\tbest: 0.2757427 (2900)\ttotal: 2m 21s\tremaining: 5m 46s\n",
      "2950:\tlearn: 0.3093130\ttest: 0.2746968\tbest: 0.2746968 (2950)\ttotal: 2m 23s\tremaining: 5m 43s\n",
      "3000:\tlearn: 0.3080440\ttest: 0.2736362\tbest: 0.2736362 (3000)\ttotal: 2m 26s\tremaining: 5m 40s\n",
      "3050:\tlearn: 0.3068174\ttest: 0.2725932\tbest: 0.2725932 (3050)\ttotal: 2m 28s\tremaining: 5m 38s\n",
      "3100:\tlearn: 0.3055567\ttest: 0.2715403\tbest: 0.2715403 (3100)\ttotal: 2m 30s\tremaining: 5m 35s\n",
      "3150:\tlearn: 0.3043588\ttest: 0.2705615\tbest: 0.2705615 (3150)\ttotal: 2m 33s\tremaining: 5m 32s\n",
      "3200:\tlearn: 0.3032078\ttest: 0.2696147\tbest: 0.2696147 (3200)\ttotal: 2m 35s\tremaining: 5m 30s\n",
      "3250:\tlearn: 0.3020921\ttest: 0.2686720\tbest: 0.2686720 (3250)\ttotal: 2m 37s\tremaining: 5m 27s\n",
      "3300:\tlearn: 0.3009151\ttest: 0.2677191\tbest: 0.2677191 (3300)\ttotal: 2m 40s\tremaining: 5m 25s\n",
      "3350:\tlearn: 0.2998125\ttest: 0.2668194\tbest: 0.2668194 (3350)\ttotal: 2m 42s\tremaining: 5m 22s\n",
      "3400:\tlearn: 0.2987591\ttest: 0.2659730\tbest: 0.2659730 (3400)\ttotal: 2m 44s\tremaining: 5m 20s\n",
      "3450:\tlearn: 0.2977782\ttest: 0.2651328\tbest: 0.2651328 (3450)\ttotal: 2m 47s\tremaining: 5m 17s\n",
      "3500:\tlearn: 0.2967761\ttest: 0.2643473\tbest: 0.2643473 (3500)\ttotal: 2m 49s\tremaining: 5m 15s\n",
      "3550:\tlearn: 0.2957048\ttest: 0.2635121\tbest: 0.2635121 (3550)\ttotal: 2m 52s\tremaining: 5m 12s\n",
      "3600:\tlearn: 0.2947214\ttest: 0.2627001\tbest: 0.2627001 (3600)\ttotal: 2m 54s\tremaining: 5m 10s\n",
      "3650:\tlearn: 0.2937866\ttest: 0.2619620\tbest: 0.2619620 (3650)\ttotal: 2m 57s\tremaining: 5m 8s\n",
      "3700:\tlearn: 0.2928432\ttest: 0.2612091\tbest: 0.2612091 (3700)\ttotal: 2m 59s\tremaining: 5m 5s\n",
      "3750:\tlearn: 0.2918777\ttest: 0.2604370\tbest: 0.2604370 (3750)\ttotal: 3m 1s\tremaining: 5m 3s\n",
      "3800:\tlearn: 0.2909597\ttest: 0.2596580\tbest: 0.2596580 (3800)\ttotal: 3m 4s\tremaining: 5m 1s\n",
      "3850:\tlearn: 0.2900559\ttest: 0.2589955\tbest: 0.2589955 (3850)\ttotal: 3m 7s\tremaining: 4m 59s\n",
      "3900:\tlearn: 0.2892171\ttest: 0.2583499\tbest: 0.2583472 (3899)\ttotal: 3m 9s\tremaining: 4m 56s\n",
      "3950:\tlearn: 0.2883899\ttest: 0.2577564\tbest: 0.2577564 (3950)\ttotal: 3m 12s\tremaining: 4m 54s\n",
      "4000:\tlearn: 0.2875756\ttest: 0.2571029\tbest: 0.2571029 (4000)\ttotal: 3m 14s\tremaining: 4m 52s\n",
      "4050:\tlearn: 0.2867342\ttest: 0.2564413\tbest: 0.2564413 (4050)\ttotal: 3m 17s\tremaining: 4m 49s\n",
      "4100:\tlearn: 0.2859463\ttest: 0.2558942\tbest: 0.2558942 (4100)\ttotal: 3m 19s\tremaining: 4m 47s\n",
      "4150:\tlearn: 0.2851586\ttest: 0.2552301\tbest: 0.2552301 (4150)\ttotal: 3m 21s\tremaining: 4m 44s\n",
      "4200:\tlearn: 0.2843528\ttest: 0.2546714\tbest: 0.2546714 (4200)\ttotal: 3m 24s\tremaining: 4m 42s\n",
      "4250:\tlearn: 0.2835821\ttest: 0.2541124\tbest: 0.2541124 (4250)\ttotal: 3m 26s\tremaining: 4m 39s\n",
      "4300:\tlearn: 0.2828745\ttest: 0.2535258\tbest: 0.2535258 (4300)\ttotal: 3m 29s\tremaining: 4m 37s\n",
      "4350:\tlearn: 0.2821558\ttest: 0.2529455\tbest: 0.2529455 (4350)\ttotal: 3m 31s\tremaining: 4m 34s\n",
      "4400:\tlearn: 0.2814410\ttest: 0.2524114\tbest: 0.2524114 (4400)\ttotal: 3m 34s\tremaining: 4m 32s\n"
     ]
    },
    {
     "name": "stdout",
     "output_type": "stream",
     "text": [
      "4450:\tlearn: 0.2807214\ttest: 0.2518886\tbest: 0.2518886 (4450)\ttotal: 3m 37s\tremaining: 4m 30s\n",
      "4500:\tlearn: 0.2800426\ttest: 0.2514242\tbest: 0.2514242 (4500)\ttotal: 3m 40s\tremaining: 4m 28s\n",
      "4550:\tlearn: 0.2793722\ttest: 0.2509351\tbest: 0.2509351 (4550)\ttotal: 3m 43s\tremaining: 4m 28s\n",
      "4600:\tlearn: 0.2787051\ttest: 0.2504231\tbest: 0.2504231 (4600)\ttotal: 3m 46s\tremaining: 4m 26s\n",
      "4650:\tlearn: 0.2780400\ttest: 0.2499889\tbest: 0.2499889 (4650)\ttotal: 3m 49s\tremaining: 4m 23s\n",
      "4700:\tlearn: 0.2773557\ttest: 0.2494686\tbest: 0.2494686 (4700)\ttotal: 3m 52s\tremaining: 4m 21s\n",
      "4750:\tlearn: 0.2766832\ttest: 0.2489712\tbest: 0.2489712 (4750)\ttotal: 3m 55s\tremaining: 4m 19s\n",
      "4800:\tlearn: 0.2760503\ttest: 0.2485132\tbest: 0.2485132 (4800)\ttotal: 3m 57s\tremaining: 4m 17s\n",
      "4850:\tlearn: 0.2754359\ttest: 0.2480354\tbest: 0.2480354 (4850)\ttotal: 4m\tremaining: 4m 14s\n",
      "4900:\tlearn: 0.2747590\ttest: 0.2475585\tbest: 0.2475585 (4900)\ttotal: 4m 2s\tremaining: 4m 12s\n",
      "4950:\tlearn: 0.2741286\ttest: 0.2471636\tbest: 0.2471636 (4950)\ttotal: 4m 5s\tremaining: 4m 10s\n",
      "5000:\tlearn: 0.2735089\ttest: 0.2467645\tbest: 0.2467645 (5000)\ttotal: 4m 8s\tremaining: 4m 8s\n",
      "5050:\tlearn: 0.2728926\ttest: 0.2463458\tbest: 0.2463458 (5050)\ttotal: 4m 11s\tremaining: 4m 6s\n",
      "5100:\tlearn: 0.2723300\ttest: 0.2459477\tbest: 0.2459477 (5100)\ttotal: 4m 14s\tremaining: 4m 4s\n",
      "5150:\tlearn: 0.2717614\ttest: 0.2455258\tbest: 0.2455258 (5150)\ttotal: 4m 16s\tremaining: 4m 1s\n",
      "5200:\tlearn: 0.2711277\ttest: 0.2451714\tbest: 0.2451700 (5198)\ttotal: 4m 19s\tremaining: 3m 59s\n",
      "5250:\tlearn: 0.2705500\ttest: 0.2447352\tbest: 0.2447352 (5250)\ttotal: 4m 21s\tremaining: 3m 56s\n",
      "5300:\tlearn: 0.2699946\ttest: 0.2443155\tbest: 0.2443116 (5299)\ttotal: 4m 23s\tremaining: 3m 53s\n",
      "5350:\tlearn: 0.2694641\ttest: 0.2439638\tbest: 0.2439571 (5349)\ttotal: 4m 26s\tremaining: 3m 51s\n",
      "5400:\tlearn: 0.2689682\ttest: 0.2436466\tbest: 0.2436466 (5400)\ttotal: 4m 29s\tremaining: 3m 49s\n",
      "5450:\tlearn: 0.2684329\ttest: 0.2432903\tbest: 0.2432903 (5450)\ttotal: 4m 31s\tremaining: 3m 46s\n",
      "5500:\tlearn: 0.2679401\ttest: 0.2429788\tbest: 0.2429788 (5500)\ttotal: 4m 34s\tremaining: 3m 44s\n",
      "5550:\tlearn: 0.2674196\ttest: 0.2426068\tbest: 0.2426068 (5550)\ttotal: 4m 36s\tremaining: 3m 41s\n",
      "5600:\tlearn: 0.2669103\ttest: 0.2422807\tbest: 0.2422807 (5600)\ttotal: 4m 38s\tremaining: 3m 38s\n",
      "5650:\tlearn: 0.2664092\ttest: 0.2419018\tbest: 0.2419018 (5650)\ttotal: 4m 41s\tremaining: 3m 36s\n",
      "5700:\tlearn: 0.2659035\ttest: 0.2415746\tbest: 0.2415746 (5700)\ttotal: 4m 44s\tremaining: 3m 34s\n",
      "5750:\tlearn: 0.2654084\ttest: 0.2412263\tbest: 0.2412263 (5750)\ttotal: 4m 47s\tremaining: 3m 32s\n",
      "5800:\tlearn: 0.2648881\ttest: 0.2409023\tbest: 0.2409023 (5800)\ttotal: 4m 49s\tremaining: 3m 29s\n",
      "5850:\tlearn: 0.2644054\ttest: 0.2406391\tbest: 0.2406391 (5850)\ttotal: 4m 52s\tremaining: 3m 27s\n",
      "5900:\tlearn: 0.2639534\ttest: 0.2403412\tbest: 0.2403412 (5900)\ttotal: 4m 54s\tremaining: 3m 24s\n",
      "5950:\tlearn: 0.2634946\ttest: 0.2400657\tbest: 0.2400657 (5950)\ttotal: 4m 56s\tremaining: 3m 22s\n",
      "6000:\tlearn: 0.2630246\ttest: 0.2397541\tbest: 0.2397541 (6000)\ttotal: 4m 59s\tremaining: 3m 19s\n",
      "6050:\tlearn: 0.2625039\ttest: 0.2394484\tbest: 0.2394484 (6050)\ttotal: 5m 2s\tremaining: 3m 17s\n",
      "6100:\tlearn: 0.2620532\ttest: 0.2391437\tbest: 0.2391437 (6100)\ttotal: 5m 4s\tremaining: 3m 14s\n",
      "6150:\tlearn: 0.2615934\ttest: 0.2388366\tbest: 0.2388366 (6150)\ttotal: 5m 7s\tremaining: 3m 12s\n",
      "6200:\tlearn: 0.2611614\ttest: 0.2385327\tbest: 0.2385327 (6200)\ttotal: 5m 9s\tremaining: 3m 9s\n",
      "6250:\tlearn: 0.2606824\ttest: 0.2382485\tbest: 0.2382485 (6250)\ttotal: 5m 12s\tremaining: 3m 7s\n",
      "6300:\tlearn: 0.2602649\ttest: 0.2379627\tbest: 0.2379627 (6300)\ttotal: 5m 14s\tremaining: 3m 4s\n",
      "6350:\tlearn: 0.2598449\ttest: 0.2377014\tbest: 0.2377014 (6350)\ttotal: 5m 17s\tremaining: 3m 2s\n",
      "6400:\tlearn: 0.2594375\ttest: 0.2374885\tbest: 0.2374882 (6399)\ttotal: 5m 20s\tremaining: 2m 59s\n",
      "6450:\tlearn: 0.2590083\ttest: 0.2372595\tbest: 0.2372595 (6450)\ttotal: 5m 22s\tremaining: 2m 57s\n",
      "6500:\tlearn: 0.2585798\ttest: 0.2369892\tbest: 0.2369883 (6499)\ttotal: 5m 25s\tremaining: 2m 55s\n",
      "6550:\tlearn: 0.2581351\ttest: 0.2367033\tbest: 0.2367033 (6550)\ttotal: 5m 27s\tremaining: 2m 52s\n",
      "6600:\tlearn: 0.2576931\ttest: 0.2364807\tbest: 0.2364807 (6600)\ttotal: 5m 30s\tremaining: 2m 50s\n",
      "6650:\tlearn: 0.2572848\ttest: 0.2362096\tbest: 0.2362096 (6650)\ttotal: 5m 32s\tremaining: 2m 47s\n",
      "6700:\tlearn: 0.2568815\ttest: 0.2359490\tbest: 0.2359478 (6698)\ttotal: 5m 34s\tremaining: 2m 44s\n",
      "6750:\tlearn: 0.2564579\ttest: 0.2357219\tbest: 0.2357219 (6750)\ttotal: 5m 37s\tremaining: 2m 42s\n",
      "6800:\tlearn: 0.2560530\ttest: 0.2354454\tbest: 0.2354454 (6800)\ttotal: 5m 40s\tremaining: 2m 39s\n",
      "6850:\tlearn: 0.2556943\ttest: 0.2351466\tbest: 0.2351466 (6850)\ttotal: 5m 42s\tremaining: 2m 37s\n",
      "6900:\tlearn: 0.2553476\ttest: 0.2349210\tbest: 0.2349210 (6900)\ttotal: 5m 44s\tremaining: 2m 34s\n",
      "6950:\tlearn: 0.2549447\ttest: 0.2346672\tbest: 0.2346672 (6950)\ttotal: 5m 47s\tremaining: 2m 32s\n",
      "7000:\tlearn: 0.2545560\ttest: 0.2344010\tbest: 0.2344010 (7000)\ttotal: 5m 49s\tremaining: 2m 29s\n",
      "7050:\tlearn: 0.2541862\ttest: 0.2342187\tbest: 0.2342187 (7050)\ttotal: 5m 51s\tremaining: 2m 27s\n",
      "7100:\tlearn: 0.2538043\ttest: 0.2339873\tbest: 0.2339873 (7100)\ttotal: 5m 54s\tremaining: 2m 24s\n",
      "7150:\tlearn: 0.2534268\ttest: 0.2337845\tbest: 0.2337845 (7150)\ttotal: 5m 56s\tremaining: 2m 21s\n",
      "7200:\tlearn: 0.2530428\ttest: 0.2335706\tbest: 0.2335706 (7200)\ttotal: 5m 58s\tremaining: 2m 19s\n",
      "7250:\tlearn: 0.2527093\ttest: 0.2333480\tbest: 0.2333480 (7250)\ttotal: 6m 1s\tremaining: 2m 16s\n",
      "7300:\tlearn: 0.2523473\ttest: 0.2331462\tbest: 0.2331462 (7300)\ttotal: 6m 3s\tremaining: 2m 14s\n",
      "7350:\tlearn: 0.2519658\ttest: 0.2329163\tbest: 0.2329163 (7350)\ttotal: 6m 5s\tremaining: 2m 11s\n",
      "7400:\tlearn: 0.2516688\ttest: 0.2327374\tbest: 0.2327374 (7400)\ttotal: 6m 8s\tremaining: 2m 9s\n",
      "7450:\tlearn: 0.2513108\ttest: 0.2325291\tbest: 0.2325291 (7450)\ttotal: 6m 10s\tremaining: 2m 6s\n",
      "7500:\tlearn: 0.2509947\ttest: 0.2323435\tbest: 0.2323435 (7500)\ttotal: 6m 13s\tremaining: 2m 4s\n",
      "7550:\tlearn: 0.2506592\ttest: 0.2321357\tbest: 0.2321357 (7550)\ttotal: 6m 16s\tremaining: 2m 2s\n",
      "7600:\tlearn: 0.2503340\ttest: 0.2319150\tbest: 0.2319150 (7600)\ttotal: 6m 19s\tremaining: 1m 59s\n",
      "7650:\tlearn: 0.2500280\ttest: 0.2317689\tbest: 0.2317689 (7650)\ttotal: 6m 21s\tremaining: 1m 57s\n",
      "7700:\tlearn: 0.2496682\ttest: 0.2315758\tbest: 0.2315758 (7700)\ttotal: 6m 24s\tremaining: 1m 54s\n",
      "7750:\tlearn: 0.2493439\ttest: 0.2313763\tbest: 0.2313763 (7750)\ttotal: 6m 26s\tremaining: 1m 52s\n",
      "7800:\tlearn: 0.2490241\ttest: 0.2312369\tbest: 0.2312369 (7800)\ttotal: 6m 28s\tremaining: 1m 49s\n",
      "7850:\tlearn: 0.2486996\ttest: 0.2310233\tbest: 0.2310233 (7850)\ttotal: 6m 31s\tremaining: 1m 47s\n",
      "7900:\tlearn: 0.2483596\ttest: 0.2308354\tbest: 0.2308354 (7900)\ttotal: 6m 33s\tremaining: 1m 44s\n",
      "7950:\tlearn: 0.2480393\ttest: 0.2306589\tbest: 0.2306589 (7950)\ttotal: 6m 35s\tremaining: 1m 42s\n",
      "8000:\tlearn: 0.2477337\ttest: 0.2304882\tbest: 0.2304882 (8000)\ttotal: 6m 38s\tremaining: 1m 39s\n",
      "8050:\tlearn: 0.2474267\ttest: 0.2303117\tbest: 0.2303117 (8050)\ttotal: 6m 40s\tremaining: 1m 36s\n",
      "8100:\tlearn: 0.2471589\ttest: 0.2301505\tbest: 0.2301505 (8100)\ttotal: 6m 42s\tremaining: 1m 34s\n",
      "8150:\tlearn: 0.2468654\ttest: 0.2299992\tbest: 0.2299992 (8150)\ttotal: 6m 45s\tremaining: 1m 31s\n",
      "8200:\tlearn: 0.2465858\ttest: 0.2298528\tbest: 0.2298528 (8200)\ttotal: 6m 47s\tremaining: 1m 29s\n",
      "8250:\tlearn: 0.2462627\ttest: 0.2297081\tbest: 0.2297081 (8250)\ttotal: 6m 49s\tremaining: 1m 26s\n",
      "8300:\tlearn: 0.2459627\ttest: 0.2295484\tbest: 0.2295484 (8300)\ttotal: 6m 51s\tremaining: 1m 24s\n",
      "8350:\tlearn: 0.2456598\ttest: 0.2293416\tbest: 0.2293416 (8350)\ttotal: 6m 54s\tremaining: 1m 21s\n",
      "8400:\tlearn: 0.2453618\ttest: 0.2291627\tbest: 0.2291627 (8400)\ttotal: 6m 56s\tremaining: 1m 19s\n",
      "8450:\tlearn: 0.2450038\ttest: 0.2289573\tbest: 0.2289573 (8450)\ttotal: 6m 58s\tremaining: 1m 16s\n",
      "8500:\tlearn: 0.2446936\ttest: 0.2287854\tbest: 0.2287854 (8500)\ttotal: 7m 1s\tremaining: 1m 14s\n",
      "8550:\tlearn: 0.2443720\ttest: 0.2286165\tbest: 0.2286165 (8550)\ttotal: 7m 3s\tremaining: 1m 11s\n",
      "8600:\tlearn: 0.2441077\ttest: 0.2285086\tbest: 0.2285086 (8600)\ttotal: 7m 5s\tremaining: 1m 9s\n",
      "8650:\tlearn: 0.2438264\ttest: 0.2283479\tbest: 0.2283479 (8650)\ttotal: 7m 8s\tremaining: 1m 6s\n",
      "8700:\tlearn: 0.2435199\ttest: 0.2281637\tbest: 0.2281637 (8700)\ttotal: 7m 10s\tremaining: 1m 4s\n",
      "8750:\tlearn: 0.2432110\ttest: 0.2280169\tbest: 0.2280169 (8750)\ttotal: 7m 13s\tremaining: 1m 1s\n",
      "8800:\tlearn: 0.2429449\ttest: 0.2278573\tbest: 0.2278573 (8800)\ttotal: 7m 15s\tremaining: 59.3s\n"
     ]
    },
    {
     "name": "stdout",
     "output_type": "stream",
     "text": [
      "8850:\tlearn: 0.2426633\ttest: 0.2277073\tbest: 0.2277073 (8850)\ttotal: 7m 18s\tremaining: 56.9s\n",
      "8900:\tlearn: 0.2424166\ttest: 0.2275707\tbest: 0.2275707 (8900)\ttotal: 7m 20s\tremaining: 54.4s\n",
      "8950:\tlearn: 0.2421598\ttest: 0.2274449\tbest: 0.2274446 (8949)\ttotal: 7m 23s\tremaining: 51.9s\n",
      "9000:\tlearn: 0.2418750\ttest: 0.2273051\tbest: 0.2273051 (9000)\ttotal: 7m 25s\tremaining: 49.5s\n",
      "9050:\tlearn: 0.2416231\ttest: 0.2271602\tbest: 0.2271602 (9050)\ttotal: 7m 27s\tremaining: 47s\n",
      "9100:\tlearn: 0.2413378\ttest: 0.2270505\tbest: 0.2270505 (9100)\ttotal: 7m 30s\tremaining: 44.5s\n",
      "9150:\tlearn: 0.2410910\ttest: 0.2269345\tbest: 0.2269345 (9150)\ttotal: 7m 32s\tremaining: 42s\n",
      "9200:\tlearn: 0.2407994\ttest: 0.2267883\tbest: 0.2267883 (9200)\ttotal: 7m 34s\tremaining: 39.5s\n",
      "9250:\tlearn: 0.2405440\ttest: 0.2266623\tbest: 0.2266582 (9248)\ttotal: 7m 37s\tremaining: 37s\n",
      "9300:\tlearn: 0.2402828\ttest: 0.2265091\tbest: 0.2265091 (9300)\ttotal: 7m 39s\tremaining: 34.5s\n",
      "9350:\tlearn: 0.2400124\ttest: 0.2263784\tbest: 0.2263777 (9349)\ttotal: 7m 41s\tremaining: 32s\n",
      "9400:\tlearn: 0.2397221\ttest: 0.2262687\tbest: 0.2262687 (9400)\ttotal: 7m 43s\tremaining: 29.6s\n",
      "9450:\tlearn: 0.2394536\ttest: 0.2261406\tbest: 0.2261406 (9450)\ttotal: 7m 46s\tremaining: 27.1s\n",
      "9500:\tlearn: 0.2392171\ttest: 0.2259972\tbest: 0.2259960 (9499)\ttotal: 7m 48s\tremaining: 24.6s\n",
      "9550:\tlearn: 0.2389750\ttest: 0.2258871\tbest: 0.2258871 (9550)\ttotal: 7m 50s\tremaining: 22.1s\n",
      "9600:\tlearn: 0.2387395\ttest: 0.2257924\tbest: 0.2257917 (9595)\ttotal: 7m 52s\tremaining: 19.7s\n",
      "9650:\tlearn: 0.2385153\ttest: 0.2256929\tbest: 0.2256929 (9650)\ttotal: 7m 55s\tremaining: 17.2s\n",
      "9700:\tlearn: 0.2382914\ttest: 0.2255980\tbest: 0.2255980 (9700)\ttotal: 7m 57s\tremaining: 14.7s\n",
      "9750:\tlearn: 0.2380631\ttest: 0.2254869\tbest: 0.2254869 (9750)\ttotal: 7m 59s\tremaining: 12.3s\n",
      "9800:\tlearn: 0.2378338\ttest: 0.2253604\tbest: 0.2253604 (9800)\ttotal: 8m 2s\tremaining: 9.79s\n",
      "9850:\tlearn: 0.2375972\ttest: 0.2252513\tbest: 0.2252510 (9849)\ttotal: 8m 4s\tremaining: 7.33s\n",
      "9900:\tlearn: 0.2373396\ttest: 0.2251796\tbest: 0.2251770 (9899)\ttotal: 8m 6s\tremaining: 4.87s\n",
      "9950:\tlearn: 0.2370609\ttest: 0.2250642\tbest: 0.2250630 (9943)\ttotal: 8m 8s\tremaining: 2.41s\n",
      "9999:\tlearn: 0.2367875\ttest: 0.2249558\tbest: 0.2249558 (9999)\ttotal: 8m 11s\tremaining: 0us\n",
      "bestTest = 0.2249557636\n",
      "bestIteration = 9999\n"
     ]
    }
   ],
   "source": [
    "y1 = resultWithValidation(catb ,train_X , train_y, test_X , 1)"
   ]
  },
  {
   "cell_type": "markdown",
   "metadata": {},
   "source": [
    "## Feature importances"
   ]
  },
  {
   "cell_type": "code",
   "execution_count": 61,
   "metadata": {},
   "outputs": [],
   "source": [
    "importance = catb.feature_importances_\n",
    "lst = {}\n",
    "cols = df.columns\n",
    "for i in range(len(importance)):\n",
    "    lst[cols[i]] = importance[i]\n",
    "# lst"
   ]
  },
  {
   "cell_type": "code",
   "execution_count": 66,
   "metadata": {},
   "outputs": [
    {
     "name": "stdout",
     "output_type": "stream",
     "text": [
      "Feature: 0, Score: 7.32046\n",
      "Feature: 1, Score: 44.82151\n",
      "Feature: 2, Score: 18.86866\n",
      "Feature: 3, Score: 16.93117\n",
      "Feature: 4, Score: 0.66263\n",
      "Feature: 5, Score: 0.05747\n",
      "Feature: 6, Score: 0.08632\n",
      "Feature: 7, Score: 0.24740\n",
      "Feature: 8, Score: 0.04146\n",
      "Feature: 9, Score: 0.00834\n",
      "Feature: 10, Score: 0.08133\n",
      "Feature: 11, Score: 0.10553\n",
      "Feature: 12, Score: 1.84471\n",
      "Feature: 13, Score: 0.00015\n",
      "Feature: 14, Score: 0.00839\n",
      "Feature: 15, Score: 0.06041\n",
      "Feature: 16, Score: 0.72844\n",
      "Feature: 17, Score: 0.08817\n",
      "Feature: 18, Score: 0.03698\n",
      "Feature: 19, Score: 0.00759\n",
      "Feature: 20, Score: 0.00462\n",
      "Feature: 21, Score: 0.00648\n",
      "Feature: 22, Score: 0.03595\n",
      "Feature: 23, Score: 0.35074\n",
      "Feature: 24, Score: 0.00513\n",
      "Feature: 25, Score: 0.16638\n",
      "Feature: 26, Score: 0.00496\n",
      "Feature: 27, Score: 0.00516\n",
      "Feature: 28, Score: 0.02681\n",
      "Feature: 29, Score: 0.28010\n",
      "Feature: 30, Score: 0.00581\n",
      "Feature: 31, Score: 0.01349\n",
      "Feature: 32, Score: 0.01105\n",
      "Feature: 33, Score: 0.00388\n",
      "Feature: 34, Score: 0.00541\n",
      "Feature: 35, Score: 0.01733\n",
      "Feature: 36, Score: 0.02004\n",
      "Feature: 37, Score: 0.00667\n",
      "Feature: 38, Score: 0.06031\n",
      "Feature: 39, Score: 0.01642\n",
      "Feature: 40, Score: 0.00000\n",
      "Feature: 41, Score: 0.10628\n",
      "Feature: 42, Score: 0.00000\n",
      "Feature: 43, Score: 1.16242\n",
      "Feature: 44, Score: 0.00047\n",
      "Feature: 45, Score: 0.09977\n",
      "Feature: 46, Score: 3.81392\n",
      "Feature: 47, Score: 1.75804\n",
      "Feature: 48, Score: 0.00000\n",
      "Feature: 49, Score: 0.00526\n",
      "Feature: 50, Score: 0.00000\n"
     ]
    },
    {
     "data": {
      "image/png": "[encoded data removed]",
      "text/plain": [
       "<Figure size 576x396 with 1 Axes>"
      ]
     },
     "metadata": {},
     "output_type": "display_data"
    }
   ],
   "source": [
    "# summarize feature importance\n",
    "for i,v in enumerate(importance):\n",
    "\tprint('Feature: %0d, Score: %.5f' % (i,v))\n",
    "# plot feature importance\n",
    "plt.bar([x for x in range(len(importance))], importance)\n",
    "plt.show()\n",
    "\n",
    "# catb.get_feature_importance(data=None,\n",
    "#                        type='PredictionDiff',\n",
    "#                        prettified=False,\n",
    "#                        thread_count=-1,\n",
    "#                        verbose=False)"
   ]
  },
  {
   "cell_type": "code",
   "execution_count": 26,
   "metadata": {},
   "outputs": [],
   "source": [
    "# y0"
   ]
  },
  {
   "cell_type": "code",
   "execution_count": 27,
   "metadata": {},
   "outputs": [],
   "source": [
    "# y2 "
   ]
  },
  {
   "cell_type": "code",
   "execution_count": 28,
   "metadata": {},
   "outputs": [],
   "source": [
    "# rf_preds = catb.predict(test_X)"
   ]
  },
  {
   "cell_type": "code",
   "execution_count": 2,
   "metadata": {},
   "outputs": [
    {
     "ename": "NameError",
     "evalue": "name 'y0' is not defined",
     "output_type": "error",
     "traceback": [
      "\u001b[1;31m---------------------------------------------------------------------------\u001b[0m",
      "\u001b[1;31mNameError\u001b[0m                                 Traceback (most recent call last)",
      "\u001b[1;32m<ipython-input-2-cbb5bbbfb4ed>\u001b[0m in \u001b[0;36m<module>\u001b[1;34m\u001b[0m\n\u001b[1;32m----> 1\u001b[1;33m \u001b[0mres\u001b[0m \u001b[1;33m=\u001b[0m \u001b[1;33m(\u001b[0m\u001b[0my0\u001b[0m\u001b[1;33m*\u001b[0m\u001b[1;36m3\u001b[0m \u001b[1;33m+\u001b[0m \u001b[0my1\u001b[0m\u001b[1;33m*\u001b[0m\u001b[1;36m3\u001b[0m\u001b[1;33m)\u001b[0m\u001b[1;33m/\u001b[0m\u001b[1;36m6\u001b[0m\u001b[1;33m\u001b[0m\u001b[0m\n\u001b[0m\u001b[0;32m      2\u001b[0m \u001b[1;31m# res = rf_preds\u001b[0m\u001b[1;33m\u001b[0m\u001b[1;33m\u001b[0m\u001b[0m\n\u001b[0;32m      3\u001b[0m \u001b[1;31m# res = y1\u001b[0m\u001b[1;33m\u001b[0m\u001b[1;33m\u001b[0m\u001b[0m\n",
      "\u001b[1;31mNameError\u001b[0m: name 'y0' is not defined"
     ]
    }
   ],
   "source": [
    "res = (y0*3 + y1*3)/6\n",
    "# res = rf_preds\n",
    "# res = y1"
   ]
  },
  {
   "cell_type": "markdown",
   "metadata": {},
   "source": [
    "## GENERATING RESULTS"
   ]
  },
  {
   "cell_type": "code",
   "execution_count": 68,
   "metadata": {},
   "outputs": [],
   "source": [
    "# y0 , y1 , y2 , y3"
   ]
  },
  {
   "cell_type": "code",
   "execution_count": 69,
   "metadata": {},
   "outputs": [],
   "source": [
    "sample[0] = 1 - res\n",
    "sample[1] = res\n",
    "# sample[TARGET] = res\n",
    "sample.to_excel('./Submit.xlsx')"
   ]
  },
  {
   "cell_type": "code",
   "execution_count": 62,
   "metadata": {},
   "outputs": [
    {
     "data": {
      "text/html": [
       "<div>\n",
       "<style scoped>\n",
       "    .dataframe tbody tr th:only-of-type {\n",
       "        vertical-align: middle;\n",
       "    }\n",
       "\n",
       "    .dataframe tbody tr th {\n",
       "        vertical-align: top;\n",
       "    }\n",
       "\n",
       "    .dataframe thead th {\n",
       "        text-align: right;\n",
       "    }\n",
       "</style>\n",
       "<table border=\"1\" class=\"dataframe\">\n",
       "  <thead>\n",
       "    <tr style=\"text-align: right;\">\n",
       "      <th></th>\n",
       "      <th>0</th>\n",
       "      <th>1</th>\n",
       "    </tr>\n",
       "  </thead>\n",
       "  <tbody>\n",
       "    <tr>\n",
       "      <th>0</th>\n",
       "      <td>0.257108</td>\n",
       "      <td>0.742892</td>\n",
       "    </tr>\n",
       "    <tr>\n",
       "      <th>1</th>\n",
       "      <td>0.514850</td>\n",
       "      <td>0.485150</td>\n",
       "    </tr>\n",
       "    <tr>\n",
       "      <th>2</th>\n",
       "      <td>0.953645</td>\n",
       "      <td>0.046355</td>\n",
       "    </tr>\n",
       "    <tr>\n",
       "      <th>3</th>\n",
       "      <td>0.230275</td>\n",
       "      <td>0.769725</td>\n",
       "    </tr>\n",
       "    <tr>\n",
       "      <th>4</th>\n",
       "      <td>0.541790</td>\n",
       "      <td>0.458210</td>\n",
       "    </tr>\n",
       "    <tr>\n",
       "      <th>...</th>\n",
       "      <td>...</td>\n",
       "      <td>...</td>\n",
       "    </tr>\n",
       "    <tr>\n",
       "      <th>228</th>\n",
       "      <td>0.835514</td>\n",
       "      <td>0.164486</td>\n",
       "    </tr>\n",
       "    <tr>\n",
       "      <th>229</th>\n",
       "      <td>0.520545</td>\n",
       "      <td>0.479455</td>\n",
       "    </tr>\n",
       "    <tr>\n",
       "      <th>230</th>\n",
       "      <td>0.655983</td>\n",
       "      <td>0.344017</td>\n",
       "    </tr>\n",
       "    <tr>\n",
       "      <th>231</th>\n",
       "      <td>0.219060</td>\n",
       "      <td>0.780940</td>\n",
       "    </tr>\n",
       "    <tr>\n",
       "      <th>232</th>\n",
       "      <td>0.928756</td>\n",
       "      <td>0.071244</td>\n",
       "    </tr>\n",
       "  </tbody>\n",
       "</table>\n",
       "<p>233 rows × 2 columns</p>\n",
       "</div>"
      ],
      "text/plain": [
       "            0         1\n",
       "0    0.257108  0.742892\n",
       "1    0.514850  0.485150\n",
       "2    0.953645  0.046355\n",
       "3    0.230275  0.769725\n",
       "4    0.541790  0.458210\n",
       "..        ...       ...\n",
       "228  0.835514  0.164486\n",
       "229  0.520545  0.479455\n",
       "230  0.655983  0.344017\n",
       "231  0.219060  0.780940\n",
       "232  0.928756  0.071244\n",
       "\n",
       "[233 rows x 2 columns]"
      ]
     },
     "execution_count": 62,
     "metadata": {},
     "output_type": "execute_result"
    }
   ],
   "source": [
    "sample"
   ]
  },
  {
   "cell_type": "code",
   "execution_count": 32,
   "metadata": {},
   "outputs": [
    {
     "ename": "NameError",
     "evalue": "name 'model' is not defined",
     "output_type": "error",
     "traceback": [
      "\u001b[1;31m---------------------------------------------------------------------------\u001b[0m",
      "\u001b[1;31mNameError\u001b[0m                                 Traceback (most recent call last)",
      "\u001b[1;32m<ipython-input-32-eedaa87d87b5>\u001b[0m in \u001b[0;36m<module>\u001b[1;34m\u001b[0m\n\u001b[0;32m      5\u001b[0m \u001b[1;31m# pd.set_option('display.max_rows', 500)\u001b[0m\u001b[1;33m\u001b[0m\u001b[1;33m\u001b[0m\u001b[0m\n\u001b[0;32m      6\u001b[0m \u001b[1;32mif\u001b[0m \u001b[0mabsolute\u001b[0m \u001b[1;33m==\u001b[0m \u001b[1;36m1\u001b[0m \u001b[1;33m:\u001b[0m\u001b[1;33m\u001b[0m\u001b[0m\n\u001b[1;32m----> 7\u001b[1;33m     \u001b[0mrf_preds\u001b[0m \u001b[1;33m=\u001b[0m \u001b[0mmodel\u001b[0m\u001b[1;33m.\u001b[0m\u001b[0mpredict\u001b[0m\u001b[1;33m(\u001b[0m\u001b[0mtest_X\u001b[0m\u001b[1;33m)\u001b[0m\u001b[1;33m\u001b[0m\u001b[0m\n\u001b[0m\u001b[0;32m      8\u001b[0m \u001b[1;32melse\u001b[0m \u001b[1;33m:\u001b[0m\u001b[1;33m\u001b[0m\u001b[0m\n\u001b[0;32m      9\u001b[0m     \u001b[0mrf_preds\u001b[0m \u001b[1;33m=\u001b[0m \u001b[0mmodel\u001b[0m\u001b[1;33m.\u001b[0m\u001b[0mpredict_proba\u001b[0m\u001b[1;33m(\u001b[0m\u001b[0mtest_X\u001b[0m\u001b[1;33m)\u001b[0m\u001b[1;33m[\u001b[0m\u001b[1;33m:\u001b[0m \u001b[1;33m,\u001b[0m\u001b[1;36m1\u001b[0m\u001b[1;33m]\u001b[0m\u001b[1;33m\u001b[0m\u001b[0m\n",
      "\u001b[1;31mNameError\u001b[0m: name 'model' is not defined"
     ]
    }
   ],
   "source": [
    "sm1 = sample\n",
    "absolute = 1\n",
    "from sklearn.metrics import log_loss\n",
    "\n",
    "# pd.set_option('display.max_rows', 500)\n",
    "if absolute == 1 :\n",
    "    rf_preds = model.predict(test_X)\n",
    "else :\n",
    "    rf_preds = model.predict_proba(test_X)[: ,1]\n",
    "    \n",
    "if validation == 1 :\n",
    "    print(log_loss(val_y, rf_preds))\n",
    "else :\n",
    "    sm1[TARGET] = rf_preds\n",
    "    sm1.to_excel('./Submit1.xlsx')"
   ]
  },
  {
   "cell_type": "code",
   "execution_count": null,
   "metadata": {},
   "outputs": [],
   "source": [
    "rf_preds"
   ]
  },
  {
   "cell_type": "code",
   "execution_count": null,
   "metadata": {},
   "outputs": [],
   "source": []
  },
  {
   "cell_type": "code",
   "execution_count": null,
   "metadata": {},
   "outputs": [],
   "source": [
    "# log_loss( , rf_preds )\n",
    "# for c in sample.columns:\n",
    "#     sm1[c] = rf_preds[: ,c]\n",
    "# sm1[]    \n"
   ]
  },
  {
   "cell_type": "code",
   "execution_count": null,
   "metadata": {},
   "outputs": [],
   "source": []
  }
 ],
 "metadata": {
  "kernelspec": {
   "display_name": "Python 3",
   "language": "python",
   "name": "python3"
  },
  "language_info": {
   "codemirror_mode": {
    "name": "ipython",
    "version": 3
   },
   "file_extension": ".py",
   "mimetype": "text/x-python",
   "name": "python",
   "nbconvert_exporter": "python",
   "pygments_lexer": "ipython3",
   "version": "3.6.6"
  }
 },
 "nbformat": 4,
 "nbformat_minor": 2
}
