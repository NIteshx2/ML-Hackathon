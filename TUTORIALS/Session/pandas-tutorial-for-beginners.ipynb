{
 "cells": [
  {
   "cell_type": "markdown",
   "metadata": {
    "_uuid": "fdb0a9b3640bb8e12c6ce9ab2b9b64f9b0fbff65"
   },
   "source": [
    "# **Pandas Tutorial** \n",
    "1. [Overview](#1)\n",
    "2. [Pandas Library About](#2)\n",
    "3. [Import Library](#3)\n",
    "4. [Pandas Data Structure](#4)\n",
    "    * [Series](#5)\n",
    "    * [DataFrame](#6)\n",
    "5. [Import Data](#7)\n",
    "    * [CSV](#8)\n",
    "    * [Excel](#9)\n",
    "    * [Others(json, SQL, html)](#10)\n",
    "6. [Exporting Data](#11)\n",
    "7. [Create Test Objects](#12)\n",
    "8. [Summariza Data](#13)\n",
    "    * [df.info()](#14)\n",
    "    * [df.shape()](#15)\n",
    "    * [df.index](#16)\n",
    "    * [df.columns](#17)\n",
    "    * [df.count()](#18)\n",
    "    * [df.sum()](#19)\n",
    "    * [df.cumsum()](#20)\n",
    "    * [df.min()](#21)\n",
    "    * [df.max()](#22)\n",
    "    * [idxmin()](#23)\n",
    "    * [idxmax()](#24)\n",
    "    * [df.describe()](#25)\n",
    "    * [df.mean()](#26)\n",
    "    * [df.median()](#27)\n",
    "    * [df.quantile([0.25,0.75])](#28)\n",
    "    * [df.var()](#29)\n",
    "    * [df.std()](#30)\n",
    "    * [df.cummax()](#31)\n",
    "    * [df.cummin()](#32)\n",
    "    * [df['columnName'].cumproad()](#33)\n",
    "    * [len(df)](#34)\n",
    "    * [df.isnull()](#35)\n",
    "    * [df.corr()](#81)\n",
    "9. [Pandas with Selection & Filtering](#36)\n",
    "    * [series['index']](#37)\n",
    "    * [df[n:n]](#38)\n",
    "    * [df.iloc[[0],[5]]](#39)\n",
    "    * [df.loc[n:n]](#40)\n",
    "    * [df['columnName']](#41)\n",
    "    * [df['columnName][n]](#42)\n",
    "    * [df['columnName'].nunique()](#43)\n",
    "    * [df['columnName'].unique()](#44)\n",
    "    * [df.columnName](#45)\n",
    "    * [df['columnName'].value_counts(dropna =False)](#46)\n",
    "    * [df.head(n)](#47)\n",
    "    * [df.tail(n)](#48)\n",
    "    * [df.sample(n)](#49)\n",
    "    * [df.sample(frac=0.5)](#50)\n",
    "    * [df.nlargest(n,'columnName')](#51)\n",
    "    * [df.nsmallest(n,'columnName')](#52)\n",
    "    * [df[df.columnName < n]](#53)\n",
    "    * [df[['columnName','columnName']] ](#54)\n",
    "    * [df.loc[:,\"columnName1\":\"columnName2\"]](#55)\n",
    "    * [Create Filter](#56)\n",
    "    * [df.filter(regex = 'code')](#57)\n",
    "    * [np.logical_and](#58)\n",
    "    * [Filtering with &](#59)\n",
    "10. [Sort Data](#60)\n",
    "    * [df.sort_values('columnName')](#61)\n",
    "    * [df.sort_values('columnName', ascending=False)](#62)\n",
    "    * [df.sort_index()](#63)\n",
    "11. [Rename & Defining New & Change Columns](#64)\n",
    "    * [df.rename(columns= {'columnName' : 'newColumnName'})](#65)\n",
    "    * [Defining New Column](#66)\n",
    "    * [Change Index Name](#67)\n",
    "    * [Make all columns lowercase](#68)\n",
    "    * [Make all columns uppercase](#69)\n",
    "12. [Drop Data](#70)\n",
    "    * [df.drop(columns=['columnName'])](#71)\n",
    "    * [Series.drop(['index'])](#72)\n",
    "    * [Drop an observation (row)](#82)\n",
    "    * [Drop a variable (column)](#83)\n",
    "13. [Convert Data Types](#73)\n",
    "    * [df.dtypes](#74)\n",
    "    * [df['columnName'] = df['columnName'].astype('dataType')](#75)\n",
    "    * [pd.melt(frame=dataFrameName,id_vars = 'columnName', value_vars= ['columnName'])](#76)\n",
    "14. [Apply Function](#77)\n",
    "    * [Method 1](#78)\n",
    "    * [Method 2](#79)\n",
    "15. [Utilities Code](#80)"
   ]
  },
  {
   "cell_type": "markdown",
   "metadata": {
    "_uuid": "cffb32e6054a2bfb615322322c108e19d8d69a69"
   },
   "source": [
    "**# **Overview** <a id=\"1\"></a>\n",
    "<mark>[Return Contents](#0)\n",
    "<hr>\n",
    "\n",
    "Welcome to my Kernel! In this kernel, I show you Pandas functions and how to use pandas. Why do I this? Because everyone who's just starting out or who's a professional is using the pandas.\n",
    "\n",
    "If you have a question or feedback, do not hesitate to write and if you **like** this kernel, please do not forget to **UPVOTE**.\n",
    "\n",
    "<p><h2>Last Updated :<b> 30.06.2019</b></h2></p>"
   ]
  },
  {
   "cell_type": "markdown",
   "metadata": {
    "_uuid": "8851575f447385ce4440ddb0247c64bca54fd46e"
   },
   "source": [
    "# **What is the pandas?** <a id=\"2\"></a>\n",
    "<mark>[Return Contents](#0)\n",
    "<hr>\n",
    "\n",
    "pandas is an open source, BSD-licensed library providing high-performance, easy-to-use data structures and data analysis tools for the Python programming language.\n",
    "\n",
    "pandas is a NumFOCUS sponsored project. This will help ensure the success of development of pandas as a world-class open-source project, and makes it possible to donate to the project."
   ]
  },
  {
   "cell_type": "markdown",
   "metadata": {
    "_uuid": "4f0d13801b0c7e0cac286cb5219ccf2d39047225"
   },
   "source": [
    "# **Import Library** <a id=\"3\"></a>\n",
    "<mark>[Return Contents](#0)\n",
    "<hr>"
   ]
  },
  {
   "cell_type": "code",
   "execution_count": 8,
   "metadata": {
    "_cell_guid": "b1076dfc-b9ad-4769-8c92-a6c4dae69d19",
    "_uuid": "8f2839f25d086af736a60e9eeb907d3b93b6e0e5"
   },
   "outputs": [
    {
     "name": "stdout",
     "output_type": "stream",
     "text": [
      "['.ipynb_checkpoints', '129_792900_bundle_archive', 'Combined_News_DJIA.csv', 'pandas-tutorial-for-beginners.ipynb', 'RedditNews.csv', 'upload_DJIA_table.csv']\n"
     ]
    }
   ],
   "source": [
    "import numpy as np # linear algebra\n",
    "import pandas as pd # import in pandas\n",
    "import seaborn as sns\n",
    "import matplotlib.pyplot as plt\n",
    "\n",
    "import os\n",
    "print(os.listdir(\"./\"))"
   ]
  },
  {
   "cell_type": "markdown",
   "metadata": {
    "_uuid": "a426ae53d18d45d00983d551db00a7467187d619"
   },
   "source": [
    "# **Pandas Data Structure** <a id=\"4\"></a>\n",
    "<mark>[Return Contents](#0)\n",
    "<hr>\n",
    "\n",
    "Pandas has two types of data structures. These are series and dataframe.\n",
    "\n",
    "### **Series** <a id=\"5\"></a>\n",
    "\n",
    "The series is a one-dimensional labeled array. It can accommodate any type of data in it."
   ]
  },
  {
   "cell_type": "code",
   "execution_count": 9,
   "metadata": {
    "_uuid": "1263fb3f8afa0fc2b233693bb8b14305be64a868"
   },
   "outputs": [
    {
     "data": {
      "text/plain": [
       "pandas.core.series.Series"
      ]
     },
     "execution_count": 9,
     "metadata": {},
     "output_type": "execute_result"
    }
   ],
   "source": [
    "mySeries = pd.Series([3,-5,7,4], index=['a','b','c','d'])\n",
    "type(mySeries)"
   ]
  },
  {
   "cell_type": "code",
   "execution_count": 10,
   "metadata": {
    "_uuid": "4941db5853106840306ae97cd0ef7e3d0c5d0533"
   },
   "outputs": [
    {
     "data": {
      "text/plain": [
       "0    1\n",
       "1    2\n",
       "2    3\n",
       "dtype: int64"
      ]
     },
     "execution_count": 10,
     "metadata": {},
     "output_type": "execute_result"
    }
   ],
   "source": [
    "pd.Series([1, 2, 3])"
   ]
  },
  {
   "cell_type": "code",
   "execution_count": 11,
   "metadata": {
    "_uuid": "884f98f71cd3b50623d8bf16e9215348f50e4839"
   },
   "outputs": [
    {
     "name": "stdout",
     "output_type": "stream",
     "text": [
      "<class 'pandas.core.series.Series'>\n"
     ]
    }
   ],
   "source": [
    "series=pd.Series([1,2,3])\n",
    "ser=pd.Series(pd.Categorical([1,2,3,4,4,3]))\n",
    "print(type(ser))"
   ]
  },
  {
   "cell_type": "markdown",
   "metadata": {
    "_uuid": "2b73b3f939dde85b87b827c6ce48887598c5f206"
   },
   "source": [
    "### **DataFrame** <a id=\"6\"></a>\n",
    "\n",
    "The dataframe is a two-dimensional data structure. It contains columns."
   ]
  },
  {
   "cell_type": "code",
   "execution_count": 12,
   "metadata": {
    "_uuid": "5fe39122825e7b4ad3b51dd48fc265326343f289"
   },
   "outputs": [
    {
     "name": "stdout",
     "output_type": "stream",
     "text": [
      "<class 'dict'>\n",
      "<class 'pandas.core.frame.DataFrame'>\n"
     ]
    }
   ],
   "source": [
    "data = {'Country' : ['Belgium', 'India', 'Brazil' ],\n",
    "        'Capital': ['Brussels', 'New Delhi', 'Brassilia'],\n",
    "        'Population': [1234,1234,1234]}\n",
    "datas = pd.DataFrame(data, columns=['Country','Capital','Population'])\n",
    "print(type(data))\n",
    "print(type(datas))"
   ]
  },
  {
   "cell_type": "code",
   "execution_count": 13,
   "metadata": {},
   "outputs": [
    {
     "name": "stdout",
     "output_type": "stream",
     "text": [
      "{'Name': ['John', 'James', 'Awi', 'Kewi'], 'Age': [15, 16, 17, 18]}\n",
      "    Name  Age\n",
      "0   John   15\n",
      "1  James   16\n",
      "2    Awi   17\n",
      "3   Kewi   18\n",
      "**************************************************\n",
      "     Name  Age\n",
      "0    John   15\n",
      "1   James   16\n",
      "2     Awi   17\n",
      "3    Kewi   18\n",
      "4    King   25\n",
      "5  Arthur   35\n",
      "6   Jurdi   45\n",
      "7   Hirdi   55\n"
     ]
    }
   ],
   "source": [
    "dictionary={\"Name\":[\"John\",\"James\",\"Awi\",\"Kewi\"],\n",
    "           \"Age\":[15,16,17,18]}\n",
    "print(dictionary)\n",
    "data_dict=pd.DataFrame(data=dictionary,index=range(4),columns=[\"Name\",\"Age\"])\n",
    "print(data_dict)\n",
    "print(\"*\"*50)\n",
    "dict_new={\"Name\":[\"King\",\"Arthur\",\"Jurdi\",\"Hirdi\"],\n",
    "           \"Age\":[25,35,45,55]}\n",
    "dict_new=pd.DataFrame(data=dict_new,index=range(4),columns=[\"Name\",\"Age\"])\n",
    "data_dict=pd.concat([data_dict,dict_new],axis=0,ignore_index=True)\n",
    "print(data_dict)"
   ]
  },
  {
   "cell_type": "markdown",
   "metadata": {
    "_uuid": "1316f32ba568af226f868caf2b0e693130a5bb5f"
   },
   "source": [
    "# **Import Library** <a id=\"7\"></a>\n",
    "<mark>[Return Contents](#0)\n",
    "<hr>\n",
    "\n",
    "With pandas, we can open CSV, Excel and SQL databases. I will show you how to use this method for CSV and Excel files only.\n",
    "\n",
    "### **CSV(comma - separated values)** <a id=\"8\"></a>\n",
    "\n",
    "It is very easy to open and read CSV files and to overwrite the CSV file."
   ]
  },
  {
   "cell_type": "code",
   "execution_count": 15,
   "metadata": {
    "_uuid": "504c6eeb8668b0a46380e5e24f314269284e119d"
   },
   "outputs": [
    {
     "data": {
      "text/plain": [
       "pandas.core.frame.DataFrame"
      ]
     },
     "execution_count": 15,
     "metadata": {},
     "output_type": "execute_result"
    }
   ],
   "source": [
    "df = pd.read_csv('./DJIA_table.csv')\n",
    "type(df)\n",
    "# If your Python file is not in the same folder as your CSV file, you should do this as follows.\n",
    "# df = pd.read_csv('/home/desktop/Iris.csv')"
   ]
  },
  {
   "cell_type": "markdown",
   "metadata": {
    "_uuid": "644c4eceafba990426b635cd66cb49a4be34de0a"
   },
   "source": [
    "### **Excel** <a id=\"9\"></a>\n",
    "\n",
    "When we want to work with Excel files, we need to type the following code."
   ]
  },
  {
   "cell_type": "code",
   "execution_count": 16,
   "metadata": {
    "_uuid": "468b5105d9feffb1d54cb7752cc57a07687e61dc"
   },
   "outputs": [],
   "source": [
    "# pd.read_excel('filename')\n",
    "# pd.to_excel('dir/dataFrame.xlsx', sheet_name='Sheet1')"
   ]
  },
  {
   "cell_type": "markdown",
   "metadata": {
    "_uuid": "91d6e54d29a522606c7c843ff0efc9fb0ddbf2ca"
   },
   "source": [
    "### **Others(json, SQL, table, html)** <a id=\"10\"></a>"
   ]
  },
  {
   "cell_type": "code",
   "execution_count": 17,
   "metadata": {
    "_uuid": "5fb0849e539bc6afdfa70fcbcba38b869e74f195"
   },
   "outputs": [],
   "source": [
    "# pd.read_sql(query,connection_object) -> Reads from a SQL table/database\n",
    "# pd.read_table(filename) -> From a delimited text file(like TSV)\n",
    "# pd.read_json(json_string) -> Reads from a json formatted string, URL or file\n",
    "# pd.read_html(url) -> Parses an html URL, string or file and extracts tables to a list of dataframes\n",
    "# pd.read_clipboard() -> Takes the contentes of your clipboard and passes it to read_table()\n",
    "# pd.DataFrame(dict) -> From a dict, keys for columns names, values for data as lists"
   ]
  },
  {
   "cell_type": "markdown",
   "metadata": {
    "_uuid": "caaf40c4674f87d855900e5223f51e2a4dd07cfc"
   },
   "source": [
    "# **Exporting Data** <a id=\"11\"></a>\n",
    "<mark>[Return Contents](#0)\n",
    "<hr>"
   ]
  },
  {
   "cell_type": "code",
   "execution_count": 18,
   "metadata": {
    "_uuid": "91ef5e0bc13b063b95ae1e4424c303bd684c02ce"
   },
   "outputs": [],
   "source": [
    "# df.to_csv(filename) -> Writes to a CSV file\n",
    "# df.to_excel(filename) -> Writes on an Excel file\n",
    "# df.to_sql(table_name, connection_object) -> Writes to a SQL table\n",
    "# df.to_json(filename) -> Writes to a file in JSON format\n",
    "# df.to_html(filename) -> Saves as an HTML table\n",
    "# df.to_clipboard() -> Writes to the clipboard"
   ]
  },
  {
   "cell_type": "markdown",
   "metadata": {
    "_uuid": "3b7d9b79a7b22a994648e4fe7cd7cd5622aae105"
   },
   "source": [
    "# **Create Test Objects** <a id=\"12\"></a>\n",
    "<mark>[Return Contents](#0)\n",
    "<hr>"
   ]
  },
  {
   "cell_type": "code",
   "execution_count": 19,
   "metadata": {
    "_uuid": "0cf5537b0c3930da09e825bdf5a0058456c10715"
   },
   "outputs": [
    {
     "data": {
      "text/html": [
       "<div>\n",
       "<style scoped>\n",
       "    .dataframe tbody tr th:only-of-type {\n",
       "        vertical-align: middle;\n",
       "    }\n",
       "\n",
       "    .dataframe tbody tr th {\n",
       "        vertical-align: top;\n",
       "    }\n",
       "\n",
       "    .dataframe thead th {\n",
       "        text-align: right;\n",
       "    }\n",
       "</style>\n",
       "<table border=\"1\" class=\"dataframe\">\n",
       "  <thead>\n",
       "    <tr style=\"text-align: right;\">\n",
       "      <th></th>\n",
       "      <th>0</th>\n",
       "      <th>1</th>\n",
       "      <th>2</th>\n",
       "      <th>3</th>\n",
       "      <th>4</th>\n",
       "    </tr>\n",
       "  </thead>\n",
       "  <tbody>\n",
       "    <tr>\n",
       "      <th>0</th>\n",
       "      <td>0.108170</td>\n",
       "      <td>0.222058</td>\n",
       "      <td>0.760291</td>\n",
       "      <td>0.342322</td>\n",
       "      <td>0.380037</td>\n",
       "    </tr>\n",
       "    <tr>\n",
       "      <th>1</th>\n",
       "      <td>0.927324</td>\n",
       "      <td>0.893402</td>\n",
       "      <td>0.291619</td>\n",
       "      <td>0.629346</td>\n",
       "      <td>0.145010</td>\n",
       "    </tr>\n",
       "    <tr>\n",
       "      <th>2</th>\n",
       "      <td>0.107849</td>\n",
       "      <td>0.041365</td>\n",
       "      <td>0.845299</td>\n",
       "      <td>0.838619</td>\n",
       "      <td>0.771920</td>\n",
       "    </tr>\n",
       "    <tr>\n",
       "      <th>3</th>\n",
       "      <td>0.481560</td>\n",
       "      <td>0.314469</td>\n",
       "      <td>0.941710</td>\n",
       "      <td>0.625653</td>\n",
       "      <td>0.979468</td>\n",
       "    </tr>\n",
       "    <tr>\n",
       "      <th>4</th>\n",
       "      <td>0.672096</td>\n",
       "      <td>0.594094</td>\n",
       "      <td>0.480549</td>\n",
       "      <td>0.525033</td>\n",
       "      <td>0.418137</td>\n",
       "    </tr>\n",
       "    <tr>\n",
       "      <th>5</th>\n",
       "      <td>0.955587</td>\n",
       "      <td>0.906553</td>\n",
       "      <td>0.347288</td>\n",
       "      <td>0.793038</td>\n",
       "      <td>0.242138</td>\n",
       "    </tr>\n",
       "    <tr>\n",
       "      <th>6</th>\n",
       "      <td>0.055854</td>\n",
       "      <td>0.954709</td>\n",
       "      <td>0.829399</td>\n",
       "      <td>0.335896</td>\n",
       "      <td>0.096736</td>\n",
       "    </tr>\n",
       "    <tr>\n",
       "      <th>7</th>\n",
       "      <td>0.237825</td>\n",
       "      <td>0.991741</td>\n",
       "      <td>0.678827</td>\n",
       "      <td>0.316910</td>\n",
       "      <td>0.376989</td>\n",
       "    </tr>\n",
       "    <tr>\n",
       "      <th>8</th>\n",
       "      <td>0.589975</td>\n",
       "      <td>0.231894</td>\n",
       "      <td>0.216944</td>\n",
       "      <td>0.727271</td>\n",
       "      <td>0.599539</td>\n",
       "    </tr>\n",
       "    <tr>\n",
       "      <th>9</th>\n",
       "      <td>0.968752</td>\n",
       "      <td>0.220653</td>\n",
       "      <td>0.149096</td>\n",
       "      <td>0.704981</td>\n",
       "      <td>0.311242</td>\n",
       "    </tr>\n",
       "    <tr>\n",
       "      <th>10</th>\n",
       "      <td>0.156396</td>\n",
       "      <td>0.090241</td>\n",
       "      <td>0.389566</td>\n",
       "      <td>0.877880</td>\n",
       "      <td>0.877808</td>\n",
       "    </tr>\n",
       "    <tr>\n",
       "      <th>11</th>\n",
       "      <td>0.013842</td>\n",
       "      <td>0.780224</td>\n",
       "      <td>0.317590</td>\n",
       "      <td>0.283762</td>\n",
       "      <td>0.820042</td>\n",
       "    </tr>\n",
       "    <tr>\n",
       "      <th>12</th>\n",
       "      <td>0.848677</td>\n",
       "      <td>0.506463</td>\n",
       "      <td>0.824167</td>\n",
       "      <td>0.622875</td>\n",
       "      <td>0.472413</td>\n",
       "    </tr>\n",
       "    <tr>\n",
       "      <th>13</th>\n",
       "      <td>0.057425</td>\n",
       "      <td>0.009574</td>\n",
       "      <td>0.481515</td>\n",
       "      <td>0.208217</td>\n",
       "      <td>0.319217</td>\n",
       "    </tr>\n",
       "    <tr>\n",
       "      <th>14</th>\n",
       "      <td>0.082852</td>\n",
       "      <td>0.184987</td>\n",
       "      <td>0.021049</td>\n",
       "      <td>0.369885</td>\n",
       "      <td>0.279605</td>\n",
       "    </tr>\n",
       "    <tr>\n",
       "      <th>15</th>\n",
       "      <td>0.143081</td>\n",
       "      <td>0.164286</td>\n",
       "      <td>0.728467</td>\n",
       "      <td>0.737944</td>\n",
       "      <td>0.874930</td>\n",
       "    </tr>\n",
       "    <tr>\n",
       "      <th>16</th>\n",
       "      <td>0.752737</td>\n",
       "      <td>0.623107</td>\n",
       "      <td>0.796939</td>\n",
       "      <td>0.459358</td>\n",
       "      <td>0.854985</td>\n",
       "    </tr>\n",
       "    <tr>\n",
       "      <th>17</th>\n",
       "      <td>0.611947</td>\n",
       "      <td>0.375447</td>\n",
       "      <td>0.191364</td>\n",
       "      <td>0.948670</td>\n",
       "      <td>0.152493</td>\n",
       "    </tr>\n",
       "    <tr>\n",
       "      <th>18</th>\n",
       "      <td>0.030633</td>\n",
       "      <td>0.863346</td>\n",
       "      <td>0.003876</td>\n",
       "      <td>0.743524</td>\n",
       "      <td>0.657096</td>\n",
       "    </tr>\n",
       "    <tr>\n",
       "      <th>19</th>\n",
       "      <td>0.813454</td>\n",
       "      <td>0.448220</td>\n",
       "      <td>0.696343</td>\n",
       "      <td>0.939707</td>\n",
       "      <td>0.034092</td>\n",
       "    </tr>\n",
       "  </tbody>\n",
       "</table>\n",
       "</div>"
      ],
      "text/plain": [
       "           0         1         2         3         4\n",
       "0   0.108170  0.222058  0.760291  0.342322  0.380037\n",
       "1   0.927324  0.893402  0.291619  0.629346  0.145010\n",
       "2   0.107849  0.041365  0.845299  0.838619  0.771920\n",
       "3   0.481560  0.314469  0.941710  0.625653  0.979468\n",
       "4   0.672096  0.594094  0.480549  0.525033  0.418137\n",
       "5   0.955587  0.906553  0.347288  0.793038  0.242138\n",
       "6   0.055854  0.954709  0.829399  0.335896  0.096736\n",
       "7   0.237825  0.991741  0.678827  0.316910  0.376989\n",
       "8   0.589975  0.231894  0.216944  0.727271  0.599539\n",
       "9   0.968752  0.220653  0.149096  0.704981  0.311242\n",
       "10  0.156396  0.090241  0.389566  0.877880  0.877808\n",
       "11  0.013842  0.780224  0.317590  0.283762  0.820042\n",
       "12  0.848677  0.506463  0.824167  0.622875  0.472413\n",
       "13  0.057425  0.009574  0.481515  0.208217  0.319217\n",
       "14  0.082852  0.184987  0.021049  0.369885  0.279605\n",
       "15  0.143081  0.164286  0.728467  0.737944  0.874930\n",
       "16  0.752737  0.623107  0.796939  0.459358  0.854985\n",
       "17  0.611947  0.375447  0.191364  0.948670  0.152493\n",
       "18  0.030633  0.863346  0.003876  0.743524  0.657096\n",
       "19  0.813454  0.448220  0.696343  0.939707  0.034092"
      ]
     },
     "execution_count": 19,
     "metadata": {},
     "output_type": "execute_result"
    }
   ],
   "source": [
    "pd.DataFrame(np.random.rand(20,5)) # 5 columns and 20 rows of random floats"
   ]
  },
  {
   "cell_type": "markdown",
   "metadata": {
    "_uuid": "4b6898acc1f32bab20b37fe7b0dee8f47a321301"
   },
   "source": [
    "# **Summarize Data** <a id=\"13\"></a>\n",
    "<mark>[Return Contents](#0)\n",
    "<hr>\n",
    "\n",
    "It's easy to get information about data with pandas. It makes it easier for us. Let's examine the existing functions one by one"
   ]
  },
  {
   "cell_type": "markdown",
   "metadata": {
    "_uuid": "bd615451f4c5670bd4e8fa3f727d1c0f1d82dbed"
   },
   "source": [
    "### **df.info()** <a id=\"14\"></a>\n",
    "This Code provides detailed information about our data.\n",
    "\n",
    "* **RangeIndex:** Specifies how many data there is.\n",
    "* **Data Columns:** Specifies how many columns are found.\n",
    "* **Columns:** Gives information about Columns.\n",
    "* **dtypes:** It says what kind of data you have and how many of these data you have.\n",
    "* **Memory Usage:** It says how much memory usage is.\n",
    "\n",
    "<mark>[Return Contents](#0)\n",
    "<hr>"
   ]
  },
  {
   "cell_type": "code",
   "execution_count": 20,
   "metadata": {
    "_uuid": "10c546875a26f15d71ae9517d1f165b3e9a70781"
   },
   "outputs": [
    {
     "name": "stdout",
     "output_type": "stream",
     "text": [
      "<class 'pandas.core.frame.DataFrame'>\n",
      "RangeIndex: 1989 entries, 0 to 1988\n",
      "Data columns (total 7 columns):\n",
      " #   Column     Non-Null Count  Dtype  \n",
      "---  ------     --------------  -----  \n",
      " 0   Date       1989 non-null   object \n",
      " 1   Open       1989 non-null   float64\n",
      " 2   High       1989 non-null   float64\n",
      " 3   Low        1989 non-null   float64\n",
      " 4   Close      1989 non-null   float64\n",
      " 5   Volume     1989 non-null   int64  \n",
      " 6   Adj Close  1989 non-null   float64\n",
      "dtypes: float64(5), int64(1), object(1)\n",
      "memory usage: 108.9+ KB\n"
     ]
    }
   ],
   "source": [
    "df.info()"
   ]
  },
  {
   "cell_type": "code",
   "execution_count": 21,
   "metadata": {},
   "outputs": [
    {
     "data": {
      "text/plain": [
       "Date          object\n",
       "Open         float64\n",
       "High         float64\n",
       "Low          float64\n",
       "Close        float64\n",
       "Volume         int64\n",
       "Adj Close    float64\n",
       "dtype: object"
      ]
     },
     "execution_count": 21,
     "metadata": {},
     "output_type": "execute_result"
    }
   ],
   "source": [
    "df.dtypes"
   ]
  },
  {
   "cell_type": "markdown",
   "metadata": {
    "_uuid": "f885b5ef0f5cde44dc5fbdffac16695503b35fc6"
   },
   "source": [
    "### **df.shape()** <a id=\"15\"></a>\n",
    "This code shows us the number of rows and columns.\n",
    "\n",
    "<mark>[Return Contents](#0)\n",
    "<hr>"
   ]
  },
  {
   "cell_type": "code",
   "execution_count": 22,
   "metadata": {
    "_uuid": "6a2f6f6ef1d420c6ccdb2d52b1ab531fb1148d24"
   },
   "outputs": [
    {
     "data": {
      "text/plain": [
       "(1989, 7)"
      ]
     },
     "execution_count": 22,
     "metadata": {},
     "output_type": "execute_result"
    }
   ],
   "source": [
    "df.shape"
   ]
  },
  {
   "cell_type": "markdown",
   "metadata": {
    "_uuid": "617ea072afc3ca84a35ccd9b451ea32ead59823f"
   },
   "source": [
    "### **df.index** <a id=\"16\"></a>\n",
    "This code shows the total number of index found.\n",
    "\n",
    "<mark>[Return Contents](#0)\n",
    "<hr>"
   ]
  },
  {
   "cell_type": "code",
   "execution_count": 23,
   "metadata": {
    "_uuid": "7faf88abf28731ab59c9838c665026b6348ce32d"
   },
   "outputs": [
    {
     "data": {
      "text/plain": [
       "RangeIndex(start=0, stop=1989, step=1)"
      ]
     },
     "execution_count": 23,
     "metadata": {},
     "output_type": "execute_result"
    }
   ],
   "source": [
    "df.index"
   ]
  },
  {
   "cell_type": "markdown",
   "metadata": {
    "_uuid": "35bc3f0f534f3882d7462fa91d51f57e8361327b"
   },
   "source": [
    "### **df.columns** <a id=\"17\"></a>\n",
    "This code shows all the columns contained in the data we have examined.\n",
    "\n",
    "<mark>[Return Contents](#0)\n",
    "<hr>"
   ]
  },
  {
   "cell_type": "code",
   "execution_count": 24,
   "metadata": {
    "_uuid": "e31b26213b05a838e5376d370e14acba61790a2e"
   },
   "outputs": [
    {
     "data": {
      "text/plain": [
       "Index(['Date', 'Open', 'High', 'Low', 'Close', 'Volume', 'Adj Close'], dtype='object')"
      ]
     },
     "execution_count": 24,
     "metadata": {},
     "output_type": "execute_result"
    }
   ],
   "source": [
    "df.columns"
   ]
  },
  {
   "cell_type": "code",
   "execution_count": 25,
   "metadata": {
    "_uuid": "291108d9976f3199f059ddbad8c1c559f1eb838e"
   },
   "outputs": [
    {
     "name": "stdout",
     "output_type": "stream",
     "text": [
      "Date\n",
      "Open\n",
      "High\n",
      "Low\n",
      "Close\n",
      "Volume\n",
      "Adj Close\n"
     ]
    }
   ],
   "source": [
    "for col in df.columns:\n",
    "    print(col)"
   ]
  },
  {
   "cell_type": "code",
   "execution_count": 26,
   "metadata": {
    "_uuid": "3af39f165350ea972edaebf76c380ff4c3481dab"
   },
   "outputs": [
    {
     "name": "stdout",
     "output_type": "stream",
     "text": [
      "1 - Date\n",
      "2 - Open\n",
      "3 - High\n",
      "4 - Low\n",
      "5 - Close\n",
      "6 - Volume\n",
      "7 - Adj Close\n"
     ]
    }
   ],
   "source": [
    "for i,col in enumerate(df.columns):\n",
    "    print((i+1),'-',col)"
   ]
  },
  {
   "cell_type": "code",
   "execution_count": 27,
   "metadata": {
    "_uuid": "ec67ad829bf961e81d4ba7a83abff248585a8599"
   },
   "outputs": [],
   "source": [
    "df=df.rename(columns=({'Date':'Date','Open':'Open','High':'High','Low':'Low','Close':'Close','Volume':'Volume','Adj Close':'Adj Close','Difference':'Difference'}))"
   ]
  },
  {
   "cell_type": "markdown",
   "metadata": {
    "_uuid": "9c1b1229f876a1791c34337b13b789106d0bcfef"
   },
   "source": [
    "### **df.count()** <a id=\"18\"></a>\n",
    "This code shows us how many pieces of data are in each column.\n",
    "\n",
    "<mark>[Return Contents](#0)\n",
    "<hr>"
   ]
  },
  {
   "cell_type": "code",
   "execution_count": 28,
   "metadata": {
    "_uuid": "3509654c02ace990c098b9cdef6d43a4d35c2454"
   },
   "outputs": [
    {
     "data": {
      "text/plain": [
       "Date         1989\n",
       "Open         1989\n",
       "High         1989\n",
       "Low          1989\n",
       "Close        1989\n",
       "Volume       1989\n",
       "Adj Close    1989\n",
       "dtype: int64"
      ]
     },
     "execution_count": 28,
     "metadata": {},
     "output_type": "execute_result"
    }
   ],
   "source": [
    "df.count()"
   ]
  },
  {
   "cell_type": "markdown",
   "metadata": {
    "_uuid": "4756f4d3ee72fd0d5a02ff0c48bc27ee0438854a"
   },
   "source": [
    "### **df.sum()** <a id=\"19\"></a>\n",
    "This code shows us the sum of the data in each column.\n",
    "\n",
    "<mark>[Return Contents](#0)\n",
    "<hr>"
   ]
  },
  {
   "cell_type": "code",
   "execution_count": 29,
   "metadata": {
    "_uuid": "01420020ad3f68adc9ae8000c26101d03009fbef"
   },
   "outputs": [
    {
     "data": {
      "text/plain": [
       "Date         2016-07-012016-06-302016-06-292016-06-282016-0...\n",
       "Open                                               2.67702e+07\n",
       "High                                               2.69337e+07\n",
       "Low                                                2.65988e+07\n",
       "Close                                               2.6778e+07\n",
       "Volume                                            323831020000\n",
       "Adj Close                                           2.6778e+07\n",
       "dtype: object"
      ]
     },
     "execution_count": 29,
     "metadata": {},
     "output_type": "execute_result"
    }
   ],
   "source": [
    "df.sum()"
   ]
  },
  {
   "cell_type": "code",
   "execution_count": 30,
   "metadata": {},
   "outputs": [
    {
     "data": {
      "text/plain": [
       "Date          object\n",
       "Open         float64\n",
       "High         float64\n",
       "Low          float64\n",
       "Close        float64\n",
       "Volume         int64\n",
       "Adj Close    float64\n",
       "dtype: object"
      ]
     },
     "execution_count": 30,
     "metadata": {},
     "output_type": "execute_result"
    }
   ],
   "source": [
    "df.dtypes"
   ]
  },
  {
   "cell_type": "code",
   "execution_count": 31,
   "metadata": {},
   "outputs": [
    {
     "data": {
      "text/html": [
       "<div>\n",
       "<style scoped>\n",
       "    .dataframe tbody tr th:only-of-type {\n",
       "        vertical-align: middle;\n",
       "    }\n",
       "\n",
       "    .dataframe tbody tr th {\n",
       "        vertical-align: top;\n",
       "    }\n",
       "\n",
       "    .dataframe thead th {\n",
       "        text-align: right;\n",
       "    }\n",
       "</style>\n",
       "<table border=\"1\" class=\"dataframe\">\n",
       "  <thead>\n",
       "    <tr style=\"text-align: right;\">\n",
       "      <th></th>\n",
       "      <th>Date</th>\n",
       "      <th>Open</th>\n",
       "      <th>High</th>\n",
       "      <th>Low</th>\n",
       "      <th>Close</th>\n",
       "      <th>Volume</th>\n",
       "      <th>Adj Close</th>\n",
       "    </tr>\n",
       "  </thead>\n",
       "  <tbody>\n",
       "    <tr>\n",
       "      <th>4</th>\n",
       "      <td>2016-06-27</td>\n",
       "      <td>17355.210938</td>\n",
       "      <td>17355.210938</td>\n",
       "      <td>17063.080078</td>\n",
       "      <td>17140.240234</td>\n",
       "      <td>138740000</td>\n",
       "      <td>17140.240234</td>\n",
       "    </tr>\n",
       "    <tr>\n",
       "      <th>645</th>\n",
       "      <td>2013-12-09</td>\n",
       "      <td>16019.490234</td>\n",
       "      <td>16058.400391</td>\n",
       "      <td>16015.290039</td>\n",
       "      <td>16025.530273</td>\n",
       "      <td>91810000</td>\n",
       "      <td>16025.530273</td>\n",
       "    </tr>\n",
       "    <tr>\n",
       "      <th>824</th>\n",
       "      <td>2013-03-26</td>\n",
       "      <td>14447.750000</td>\n",
       "      <td>14561.540039</td>\n",
       "      <td>14447.750000</td>\n",
       "      <td>14559.650391</td>\n",
       "      <td>96030000</td>\n",
       "      <td>14559.650391</td>\n",
       "    </tr>\n",
       "  </tbody>\n",
       "</table>\n",
       "</div>"
      ],
      "text/plain": [
       "           Date          Open          High           Low         Close  \\\n",
       "4    2016-06-27  17355.210938  17355.210938  17063.080078  17140.240234   \n",
       "645  2013-12-09  16019.490234  16058.400391  16015.290039  16025.530273   \n",
       "824  2013-03-26  14447.750000  14561.540039  14447.750000  14559.650391   \n",
       "\n",
       "        Volume     Adj Close  \n",
       "4    138740000  17140.240234  \n",
       "645   91810000  16025.530273  \n",
       "824   96030000  14559.650391  "
      ]
     },
     "execution_count": 31,
     "metadata": {},
     "output_type": "execute_result"
    }
   ],
   "source": [
    "df.sample(3)"
   ]
  },
  {
   "cell_type": "code",
   "execution_count": 32,
   "metadata": {},
   "outputs": [
    {
     "data": {
      "text/plain": [
       "26933652.010742"
      ]
     },
     "execution_count": 32,
     "metadata": {},
     "output_type": "execute_result"
    }
   ],
   "source": [
    "np.sum(df.iloc[:,2]) #High"
   ]
  },
  {
   "cell_type": "code",
   "execution_count": 33,
   "metadata": {},
   "outputs": [
    {
     "data": {
      "text/plain": [
       "Open         2.677018e+07\n",
       "High         2.693365e+07\n",
       "Low          2.659876e+07\n",
       "Close        2.677797e+07\n",
       "Volume       3.238310e+11\n",
       "Adj Close    2.677797e+07\n",
       "dtype: float64"
      ]
     },
     "execution_count": 33,
     "metadata": {},
     "output_type": "execute_result"
    }
   ],
   "source": [
    "np.sum(df.iloc[:,1:]) #High"
   ]
  },
  {
   "cell_type": "markdown",
   "metadata": {
    "_uuid": "b2695908688bf1ab5811768b35209483f6a14ae8"
   },
   "source": [
    "### **df.cumsum()** <a id=\"20\"></a>\n",
    "This code gives us cumulative sum of the data.\n",
    "\n",
    "<mark>[Return Contents](#0)\n",
    "<hr>"
   ]
  },
  {
   "cell_type": "code",
   "execution_count": 34,
   "metadata": {
    "_uuid": "82827d42ae7bb44b20a5c960135430e497391895"
   },
   "outputs": [
    {
     "data": {
      "text/html": [
       "<div>\n",
       "<style scoped>\n",
       "    .dataframe tbody tr th:only-of-type {\n",
       "        vertical-align: middle;\n",
       "    }\n",
       "\n",
       "    .dataframe tbody tr th {\n",
       "        vertical-align: top;\n",
       "    }\n",
       "\n",
       "    .dataframe thead th {\n",
       "        text-align: right;\n",
       "    }\n",
       "</style>\n",
       "<table border=\"1\" class=\"dataframe\">\n",
       "  <thead>\n",
       "    <tr style=\"text-align: right;\">\n",
       "      <th></th>\n",
       "      <th>Date</th>\n",
       "      <th>Open</th>\n",
       "      <th>High</th>\n",
       "      <th>Low</th>\n",
       "      <th>Close</th>\n",
       "      <th>Volume</th>\n",
       "      <th>Adj Close</th>\n",
       "    </tr>\n",
       "  </thead>\n",
       "  <tbody>\n",
       "    <tr>\n",
       "      <th>0</th>\n",
       "      <td>2016-07-01</td>\n",
       "      <td>17924.240234</td>\n",
       "      <td>18002.380859</td>\n",
       "      <td>17916.910156</td>\n",
       "      <td>17949.369141</td>\n",
       "      <td>82160000</td>\n",
       "      <td>17949.369141</td>\n",
       "    </tr>\n",
       "    <tr>\n",
       "      <th>1</th>\n",
       "      <td>2016-07-012016-06-30</td>\n",
       "      <td>35637.000000</td>\n",
       "      <td>35932.990234</td>\n",
       "      <td>35628.710937</td>\n",
       "      <td>35879.359375</td>\n",
       "      <td>215190000</td>\n",
       "      <td>35879.359375</td>\n",
       "    </tr>\n",
       "    <tr>\n",
       "      <th>2</th>\n",
       "      <td>2016-07-012016-06-302016-06-29</td>\n",
       "      <td>53093.019531</td>\n",
       "      <td>53637.500000</td>\n",
       "      <td>53084.730468</td>\n",
       "      <td>53574.039063</td>\n",
       "      <td>321570000</td>\n",
       "      <td>53574.039063</td>\n",
       "    </tr>\n",
       "    <tr>\n",
       "      <th>3</th>\n",
       "      <td>2016-07-012016-06-302016-06-292016-06-28</td>\n",
       "      <td>70283.529297</td>\n",
       "      <td>71047.220703</td>\n",
       "      <td>70275.240234</td>\n",
       "      <td>70983.759766</td>\n",
       "      <td>433760000</td>\n",
       "      <td>70983.759766</td>\n",
       "    </tr>\n",
       "    <tr>\n",
       "      <th>4</th>\n",
       "      <td>2016-07-012016-06-302016-06-292016-06-282016-0...</td>\n",
       "      <td>87638.740235</td>\n",
       "      <td>88402.431641</td>\n",
       "      <td>87338.320312</td>\n",
       "      <td>88124.000000</td>\n",
       "      <td>572500000</td>\n",
       "      <td>88124.000000</td>\n",
       "    </tr>\n",
       "  </tbody>\n",
       "</table>\n",
       "</div>"
      ],
      "text/plain": [
       "                                                Date          Open  \\\n",
       "0                                         2016-07-01  17924.240234   \n",
       "1                               2016-07-012016-06-30  35637.000000   \n",
       "2                     2016-07-012016-06-302016-06-29  53093.019531   \n",
       "3           2016-07-012016-06-302016-06-292016-06-28  70283.529297   \n",
       "4  2016-07-012016-06-302016-06-292016-06-282016-0...  87638.740235   \n",
       "\n",
       "           High           Low         Close     Volume     Adj Close  \n",
       "0  18002.380859  17916.910156  17949.369141   82160000  17949.369141  \n",
       "1  35932.990234  35628.710937  35879.359375  215190000  35879.359375  \n",
       "2  53637.500000  53084.730468  53574.039063  321570000  53574.039063  \n",
       "3  71047.220703  70275.240234  70983.759766  433760000  70983.759766  \n",
       "4  88402.431641  87338.320312  88124.000000  572500000  88124.000000  "
      ]
     },
     "execution_count": 34,
     "metadata": {},
     "output_type": "execute_result"
    }
   ],
   "source": [
    "df.cumsum().head()"
   ]
  },
  {
   "cell_type": "code",
   "execution_count": 35,
   "metadata": {},
   "outputs": [
    {
     "data": {
      "text/html": [
       "<div>\n",
       "<style scoped>\n",
       "    .dataframe tbody tr th:only-of-type {\n",
       "        vertical-align: middle;\n",
       "    }\n",
       "\n",
       "    .dataframe tbody tr th {\n",
       "        vertical-align: top;\n",
       "    }\n",
       "\n",
       "    .dataframe thead th {\n",
       "        text-align: right;\n",
       "    }\n",
       "</style>\n",
       "<table border=\"1\" class=\"dataframe\">\n",
       "  <thead>\n",
       "    <tr style=\"text-align: right;\">\n",
       "      <th></th>\n",
       "      <th>Date</th>\n",
       "      <th>Open</th>\n",
       "      <th>High</th>\n",
       "      <th>Low</th>\n",
       "      <th>Close</th>\n",
       "      <th>Volume</th>\n",
       "      <th>Adj Close</th>\n",
       "    </tr>\n",
       "  </thead>\n",
       "  <tbody>\n",
       "    <tr>\n",
       "      <th>1984</th>\n",
       "      <td>2016-07-012016-06-302016-06-292016-06-282016-0...</td>\n",
       "      <td>2.672361e+07</td>\n",
       "      <td>2.688661e+07</td>\n",
       "      <td>2.655264e+07</td>\n",
       "      <td>2.673128e+07</td>\n",
       "      <td>323078860000</td>\n",
       "      <td>2.673128e+07</td>\n",
       "    </tr>\n",
       "    <tr>\n",
       "      <th>1985</th>\n",
       "      <td>2016-07-012016-06-302016-06-292016-06-282016-0...</td>\n",
       "      <td>2.673524e+07</td>\n",
       "      <td>2.689824e+07</td>\n",
       "      <td>2.656410e+07</td>\n",
       "      <td>2.674281e+07</td>\n",
       "      <td>323261410000</td>\n",
       "      <td>2.674281e+07</td>\n",
       "    </tr>\n",
       "    <tr>\n",
       "      <th>1986</th>\n",
       "      <td>2016-07-012016-06-302016-06-292016-06-282016-0...</td>\n",
       "      <td>2.674702e+07</td>\n",
       "      <td>2.691002e+07</td>\n",
       "      <td>2.657570e+07</td>\n",
       "      <td>2.675445e+07</td>\n",
       "      <td>323435000000</td>\n",
       "      <td>2.675445e+07</td>\n",
       "    </tr>\n",
       "    <tr>\n",
       "      <th>1987</th>\n",
       "      <td>2016-07-012016-06-302016-06-292016-06-282016-0...</td>\n",
       "      <td>2.675875e+07</td>\n",
       "      <td>2.692189e+07</td>\n",
       "      <td>2.658737e+07</td>\n",
       "      <td>2.676624e+07</td>\n",
       "      <td>323618190000</td>\n",
       "      <td>2.676624e+07</td>\n",
       "    </tr>\n",
       "    <tr>\n",
       "      <th>1988</th>\n",
       "      <td>2016-07-012016-06-302016-06-292016-06-282016-0...</td>\n",
       "      <td>2.677018e+07</td>\n",
       "      <td>2.693365e+07</td>\n",
       "      <td>2.659876e+07</td>\n",
       "      <td>2.677797e+07</td>\n",
       "      <td>323831020000</td>\n",
       "      <td>2.677797e+07</td>\n",
       "    </tr>\n",
       "  </tbody>\n",
       "</table>\n",
       "</div>"
      ],
      "text/plain": [
       "                                                   Date          Open  \\\n",
       "1984  2016-07-012016-06-302016-06-292016-06-282016-0...  2.672361e+07   \n",
       "1985  2016-07-012016-06-302016-06-292016-06-282016-0...  2.673524e+07   \n",
       "1986  2016-07-012016-06-302016-06-292016-06-282016-0...  2.674702e+07   \n",
       "1987  2016-07-012016-06-302016-06-292016-06-282016-0...  2.675875e+07   \n",
       "1988  2016-07-012016-06-302016-06-292016-06-282016-0...  2.677018e+07   \n",
       "\n",
       "              High           Low         Close        Volume     Adj Close  \n",
       "1984  2.688661e+07  2.655264e+07  2.673128e+07  323078860000  2.673128e+07  \n",
       "1985  2.689824e+07  2.656410e+07  2.674281e+07  323261410000  2.674281e+07  \n",
       "1986  2.691002e+07  2.657570e+07  2.675445e+07  323435000000  2.675445e+07  \n",
       "1987  2.692189e+07  2.658737e+07  2.676624e+07  323618190000  2.676624e+07  \n",
       "1988  2.693365e+07  2.659876e+07  2.677797e+07  323831020000  2.677797e+07  "
      ]
     },
     "execution_count": 35,
     "metadata": {},
     "output_type": "execute_result"
    }
   ],
   "source": [
    "df.cumsum().tail()"
   ]
  },
  {
   "cell_type": "code",
   "execution_count": 36,
   "metadata": {},
   "outputs": [
    {
     "data": {
      "text/html": [
       "<div>\n",
       "<style scoped>\n",
       "    .dataframe tbody tr th:only-of-type {\n",
       "        vertical-align: middle;\n",
       "    }\n",
       "\n",
       "    .dataframe tbody tr th {\n",
       "        vertical-align: top;\n",
       "    }\n",
       "\n",
       "    .dataframe thead th {\n",
       "        text-align: right;\n",
       "    }\n",
       "</style>\n",
       "<table border=\"1\" class=\"dataframe\">\n",
       "  <thead>\n",
       "    <tr style=\"text-align: right;\">\n",
       "      <th></th>\n",
       "      <th>Date</th>\n",
       "      <th>Open</th>\n",
       "      <th>High</th>\n",
       "      <th>Low</th>\n",
       "      <th>Close</th>\n",
       "      <th>Volume</th>\n",
       "      <th>Adj Close</th>\n",
       "    </tr>\n",
       "  </thead>\n",
       "  <tbody>\n",
       "    <tr>\n",
       "      <th>1450</th>\n",
       "      <td>2016-07-012016-06-302016-06-292016-06-282016-0...</td>\n",
       "      <td>2.161230e+07</td>\n",
       "      <td>2.172456e+07</td>\n",
       "      <td>2.149671e+07</td>\n",
       "      <td>2.162005e+07</td>\n",
       "      <td>184642050000</td>\n",
       "      <td>2.162005e+07</td>\n",
       "    </tr>\n",
       "    <tr>\n",
       "      <th>727</th>\n",
       "      <td>2016-07-012016-06-302016-06-292016-06-282016-0...</td>\n",
       "      <td>1.235140e+07</td>\n",
       "      <td>1.241137e+07</td>\n",
       "      <td>1.228731e+07</td>\n",
       "      <td>1.235374e+07</td>\n",
       "      <td>75190380000</td>\n",
       "      <td>1.235374e+07</td>\n",
       "    </tr>\n",
       "    <tr>\n",
       "      <th>1387</th>\n",
       "      <td>2016-07-012016-06-302016-06-292016-06-282016-0...</td>\n",
       "      <td>2.090762e+07</td>\n",
       "      <td>2.101626e+07</td>\n",
       "      <td>2.079555e+07</td>\n",
       "      <td>2.091454e+07</td>\n",
       "      <td>173615340000</td>\n",
       "      <td>2.091454e+07</td>\n",
       "    </tr>\n",
       "    <tr>\n",
       "      <th>1846</th>\n",
       "      <td>2016-07-012016-06-302016-06-292016-06-282016-0...</td>\n",
       "      <td>2.545616e+07</td>\n",
       "      <td>2.559867e+07</td>\n",
       "      <td>2.531194e+07</td>\n",
       "      <td>2.546837e+07</td>\n",
       "      <td>280268470000</td>\n",
       "      <td>2.546837e+07</td>\n",
       "    </tr>\n",
       "    <tr>\n",
       "      <th>1844</th>\n",
       "      <td>2016-07-012016-06-302016-06-292016-06-282016-0...</td>\n",
       "      <td>2.544256e+07</td>\n",
       "      <td>2.558481e+07</td>\n",
       "      <td>2.529867e+07</td>\n",
       "      <td>2.545490e+07</td>\n",
       "      <td>279293870000</td>\n",
       "      <td>2.545490e+07</td>\n",
       "    </tr>\n",
       "  </tbody>\n",
       "</table>\n",
       "</div>"
      ],
      "text/plain": [
       "                                                   Date          Open  \\\n",
       "1450  2016-07-012016-06-302016-06-292016-06-282016-0...  2.161230e+07   \n",
       "727   2016-07-012016-06-302016-06-292016-06-282016-0...  1.235140e+07   \n",
       "1387  2016-07-012016-06-302016-06-292016-06-282016-0...  2.090762e+07   \n",
       "1846  2016-07-012016-06-302016-06-292016-06-282016-0...  2.545616e+07   \n",
       "1844  2016-07-012016-06-302016-06-292016-06-282016-0...  2.544256e+07   \n",
       "\n",
       "              High           Low         Close        Volume     Adj Close  \n",
       "1450  2.172456e+07  2.149671e+07  2.162005e+07  184642050000  2.162005e+07  \n",
       "727   1.241137e+07  1.228731e+07  1.235374e+07   75190380000  1.235374e+07  \n",
       "1387  2.101626e+07  2.079555e+07  2.091454e+07  173615340000  2.091454e+07  \n",
       "1846  2.559867e+07  2.531194e+07  2.546837e+07  280268470000  2.546837e+07  \n",
       "1844  2.558481e+07  2.529867e+07  2.545490e+07  279293870000  2.545490e+07  "
      ]
     },
     "execution_count": 36,
     "metadata": {},
     "output_type": "execute_result"
    }
   ],
   "source": [
    "df.cumsum().sample(5)"
   ]
  },
  {
   "cell_type": "code",
   "execution_count": 37,
   "metadata": {},
   "outputs": [
    {
     "data": {
      "text/html": [
       "<div>\n",
       "<style scoped>\n",
       "    .dataframe tbody tr th:only-of-type {\n",
       "        vertical-align: middle;\n",
       "    }\n",
       "\n",
       "    .dataframe tbody tr th {\n",
       "        vertical-align: top;\n",
       "    }\n",
       "\n",
       "    .dataframe thead th {\n",
       "        text-align: right;\n",
       "    }\n",
       "</style>\n",
       "<table border=\"1\" class=\"dataframe\">\n",
       "  <thead>\n",
       "    <tr style=\"text-align: right;\">\n",
       "      <th></th>\n",
       "      <th>Date</th>\n",
       "      <th>Open</th>\n",
       "      <th>High</th>\n",
       "      <th>Low</th>\n",
       "      <th>Close</th>\n",
       "      <th>Volume</th>\n",
       "      <th>Adj Close</th>\n",
       "    </tr>\n",
       "  </thead>\n",
       "  <tbody>\n",
       "    <tr>\n",
       "      <th>163</th>\n",
       "      <td>2016-07-012016-06-302016-06-292016-06-282016-0...</td>\n",
       "      <td>2.840098e+06</td>\n",
       "      <td>2.855586e+06</td>\n",
       "      <td>2.822219e+06</td>\n",
       "      <td>2.840227e+06</td>\n",
       "      <td>18615600000</td>\n",
       "      <td>2.840227e+06</td>\n",
       "    </tr>\n",
       "    <tr>\n",
       "      <th>1231</th>\n",
       "      <td>2016-07-012016-06-302016-06-292016-06-282016-0...</td>\n",
       "      <td>1.900564e+07</td>\n",
       "      <td>1.910422e+07</td>\n",
       "      <td>1.890502e+07</td>\n",
       "      <td>1.901266e+07</td>\n",
       "      <td>146424650000</td>\n",
       "      <td>1.901266e+07</td>\n",
       "    </tr>\n",
       "  </tbody>\n",
       "</table>\n",
       "</div>"
      ],
      "text/plain": [
       "                                                   Date          Open  \\\n",
       "163   2016-07-012016-06-302016-06-292016-06-282016-0...  2.840098e+06   \n",
       "1231  2016-07-012016-06-302016-06-292016-06-282016-0...  1.900564e+07   \n",
       "\n",
       "              High           Low         Close        Volume     Adj Close  \n",
       "163   2.855586e+06  2.822219e+06  2.840227e+06   18615600000  2.840227e+06  \n",
       "1231  1.910422e+07  1.890502e+07  1.901266e+07  146424650000  1.901266e+07  "
      ]
     },
     "execution_count": 37,
     "metadata": {},
     "output_type": "execute_result"
    }
   ],
   "source": [
    "df.cumsum().sample(frac=0.001)"
   ]
  },
  {
   "cell_type": "markdown",
   "metadata": {
    "_uuid": "8a36d94e3e0d961dbd674c808dc14be1a0958371"
   },
   "source": [
    "### **df.min()** <a id=\"21\"></a>\n",
    "This code brings us the smallest of the data.\n",
    "\n",
    "<mark>[Return Contents](#0)\n",
    "<hr>"
   ]
  },
  {
   "cell_type": "code",
   "execution_count": 38,
   "metadata": {
    "_uuid": "dcef4961748e9eb2b0c1311265d5e2c69a8c8e4a"
   },
   "outputs": [
    {
     "data": {
      "text/plain": [
       "Date         2008-08-08\n",
       "Open            6547.01\n",
       "High            6709.61\n",
       "Low             6469.95\n",
       "Close           6547.05\n",
       "Volume          8410000\n",
       "Adj Close       6547.05\n",
       "dtype: object"
      ]
     },
     "execution_count": 38,
     "metadata": {},
     "output_type": "execute_result"
    }
   ],
   "source": [
    "df.min()"
   ]
  },
  {
   "cell_type": "code",
   "execution_count": 39,
   "metadata": {
    "_uuid": "835180df2fa1834408312c7c13c2a0c8cbd51f58"
   },
   "outputs": [
    {
     "data": {
      "text/plain": [
       "6709.609863000001"
      ]
     },
     "execution_count": 39,
     "metadata": {},
     "output_type": "execute_result"
    }
   ],
   "source": [
    "min(df.High)"
   ]
  },
  {
   "cell_type": "code",
   "execution_count": 40,
   "metadata": {},
   "outputs": [
    {
     "data": {
      "text/plain": [
       "6547.049805"
      ]
     },
     "execution_count": 40,
     "metadata": {},
     "output_type": "execute_result"
    }
   ],
   "source": [
    "min(df.Close)"
   ]
  },
  {
   "cell_type": "markdown",
   "metadata": {
    "_uuid": "6387ac8877231eeb35e210275d9f0c4fe4bab90b"
   },
   "source": [
    "### **df.max()** <a id=\"22\"></a>\n",
    "This code brings up the largest among the data.\n",
    "\n",
    "<mark>[Return Contents](#0)\n",
    "<hr>"
   ]
  },
  {
   "cell_type": "code",
   "execution_count": 41,
   "metadata": {
    "_uuid": "bce741708b2a6387ccdf7bccf7bc44d37307ad31"
   },
   "outputs": [
    {
     "data": {
      "text/plain": [
       "Date         2016-07-01\n",
       "Open            18315.1\n",
       "High            18351.4\n",
       "Low             18272.6\n",
       "Close           18312.4\n",
       "Volume        674920000\n",
       "Adj Close       18312.4\n",
       "dtype: object"
      ]
     },
     "execution_count": 41,
     "metadata": {},
     "output_type": "execute_result"
    }
   ],
   "source": [
    "df.max()"
   ]
  },
  {
   "cell_type": "code",
   "execution_count": 42,
   "metadata": {},
   "outputs": [
    {
     "data": {
      "text/plain": [
       "Date         2008-08-08\n",
       "Open            6547.01\n",
       "High            6709.61\n",
       "Low             6469.95\n",
       "Close           6547.05\n",
       "Volume          8410000\n",
       "Adj Close       6547.05\n",
       "dtype: object"
      ]
     },
     "execution_count": 42,
     "metadata": {},
     "output_type": "execute_result"
    }
   ],
   "source": [
    "df.min()"
   ]
  },
  {
   "cell_type": "code",
   "execution_count": 43,
   "metadata": {
    "_uuid": "413c191960ad02d718829ef628f8effe871aab81"
   },
   "outputs": [
    {
     "data": {
      "text/plain": [
       "18351.359375"
      ]
     },
     "execution_count": 43,
     "metadata": {},
     "output_type": "execute_result"
    }
   ],
   "source": [
    "max(df.High)"
   ]
  },
  {
   "cell_type": "markdown",
   "metadata": {
    "_uuid": "88b7dea1b9cc468b0c4344cb6c7f3fb94f3c616e"
   },
   "source": [
    "### **idxmin()**  <a id=\"23\"></a>\n",
    "This code fetches the smallest value in the data. The use on series and dataframe is different.\n",
    "\n",
    "<mark>[Return Contents](#0)\n",
    "<hr>"
   ]
  },
  {
   "cell_type": "code",
   "execution_count": 44,
   "metadata": {
    "_uuid": "9096b7015c2259e4e4a67beb44d55914a59929a4"
   },
   "outputs": [
    {
     "name": "stdout",
     "output_type": "stream",
     "text": [
      "df:  1842\n",
      "series b\n"
     ]
    }
   ],
   "source": [
    "print(\"df: \",df['Open'].idxmin())\n",
    "print(\"series\", mySeries.idxmin())"
   ]
  },
  {
   "cell_type": "markdown",
   "metadata": {
    "_uuid": "2ad1b3dac499ca9c5e26f1e0f303ef6ea2670e13"
   },
   "source": [
    "### **idxmax()**  <a id=\"24\"></a>\n",
    "This code returns the largest value in the data.\n",
    "\n",
    "<mark>[Return Contents](#0)\n",
    "<hr>"
   ]
  },
  {
   "cell_type": "code",
   "execution_count": 45,
   "metadata": {
    "_uuid": "607b8bea1225ccdaa76a2f70076d5fa438e859ab"
   },
   "outputs": [
    {
     "name": "stdout",
     "output_type": "stream",
     "text": [
      "df:  282\n",
      "series:  c\n"
     ]
    }
   ],
   "source": [
    "print(\"df: \",df['Open'].idxmax())\n",
    "print(\"series: \",mySeries.idxmax())"
   ]
  },
  {
   "cell_type": "markdown",
   "metadata": {
    "_uuid": "97f89c5cc2ca00c8a9848ac77066fee54f935ec3"
   },
   "source": [
    "### **df.describe()**  <a id=\"25\"></a>\n",
    "This Code provides basic statistical information about the data. The numerical column is based.\n",
    "\n",
    "* **count:** vnumber of entries\n",
    "* **mean: **average of entries\n",
    "* **std:** standart deviation\n",
    "* **min:** minimum entry\n",
    "* **25%:** first quantile\n",
    "* **50%:** median or second quantile\n",
    "* **75%:** third quantile\n",
    "* **max:** maximum entry\n",
    "\n",
    "<mark>[Return Contents](#0)\n",
    "<hr>"
   ]
  },
  {
   "cell_type": "code",
   "execution_count": 46,
   "metadata": {
    "_uuid": "f75c57e9f16adc167f8148b2225111056ebbf432"
   },
   "outputs": [
    {
     "data": {
      "text/html": [
       "<div>\n",
       "<style scoped>\n",
       "    .dataframe tbody tr th:only-of-type {\n",
       "        vertical-align: middle;\n",
       "    }\n",
       "\n",
       "    .dataframe tbody tr th {\n",
       "        vertical-align: top;\n",
       "    }\n",
       "\n",
       "    .dataframe thead th {\n",
       "        text-align: right;\n",
       "    }\n",
       "</style>\n",
       "<table border=\"1\" class=\"dataframe\">\n",
       "  <thead>\n",
       "    <tr style=\"text-align: right;\">\n",
       "      <th></th>\n",
       "      <th>Open</th>\n",
       "      <th>High</th>\n",
       "      <th>Low</th>\n",
       "      <th>Close</th>\n",
       "      <th>Volume</th>\n",
       "      <th>Adj Close</th>\n",
       "    </tr>\n",
       "  </thead>\n",
       "  <tbody>\n",
       "    <tr>\n",
       "      <th>count</th>\n",
       "      <td>1989.000000</td>\n",
       "      <td>1989.000000</td>\n",
       "      <td>1989.000000</td>\n",
       "      <td>1989.000000</td>\n",
       "      <td>1.989000e+03</td>\n",
       "      <td>1989.000000</td>\n",
       "    </tr>\n",
       "    <tr>\n",
       "      <th>mean</th>\n",
       "      <td>13459.116048</td>\n",
       "      <td>13541.303173</td>\n",
       "      <td>13372.931728</td>\n",
       "      <td>13463.032255</td>\n",
       "      <td>1.628110e+08</td>\n",
       "      <td>13463.032255</td>\n",
       "    </tr>\n",
       "    <tr>\n",
       "      <th>std</th>\n",
       "      <td>3143.281634</td>\n",
       "      <td>3136.271725</td>\n",
       "      <td>3150.420934</td>\n",
       "      <td>3144.006996</td>\n",
       "      <td>9.392343e+07</td>\n",
       "      <td>3144.006996</td>\n",
       "    </tr>\n",
       "    <tr>\n",
       "      <th>min</th>\n",
       "      <td>6547.009766</td>\n",
       "      <td>6709.609863</td>\n",
       "      <td>6469.950195</td>\n",
       "      <td>6547.049805</td>\n",
       "      <td>8.410000e+06</td>\n",
       "      <td>6547.049805</td>\n",
       "    </tr>\n",
       "    <tr>\n",
       "      <th>25%</th>\n",
       "      <td>10907.339844</td>\n",
       "      <td>11000.980469</td>\n",
       "      <td>10824.759766</td>\n",
       "      <td>10913.379883</td>\n",
       "      <td>1.000000e+08</td>\n",
       "      <td>10913.379883</td>\n",
       "    </tr>\n",
       "    <tr>\n",
       "      <th>50%</th>\n",
       "      <td>13022.049805</td>\n",
       "      <td>13088.110352</td>\n",
       "      <td>12953.129883</td>\n",
       "      <td>13025.580078</td>\n",
       "      <td>1.351700e+08</td>\n",
       "      <td>13025.580078</td>\n",
       "    </tr>\n",
       "    <tr>\n",
       "      <th>75%</th>\n",
       "      <td>16477.699219</td>\n",
       "      <td>16550.070312</td>\n",
       "      <td>16392.769531</td>\n",
       "      <td>16478.410156</td>\n",
       "      <td>1.926000e+08</td>\n",
       "      <td>16478.410156</td>\n",
       "    </tr>\n",
       "    <tr>\n",
       "      <th>max</th>\n",
       "      <td>18315.060547</td>\n",
       "      <td>18351.359375</td>\n",
       "      <td>18272.560547</td>\n",
       "      <td>18312.390625</td>\n",
       "      <td>6.749200e+08</td>\n",
       "      <td>18312.390625</td>\n",
       "    </tr>\n",
       "  </tbody>\n",
       "</table>\n",
       "</div>"
      ],
      "text/plain": [
       "               Open          High           Low         Close        Volume  \\\n",
       "count   1989.000000   1989.000000   1989.000000   1989.000000  1.989000e+03   \n",
       "mean   13459.116048  13541.303173  13372.931728  13463.032255  1.628110e+08   \n",
       "std     3143.281634   3136.271725   3150.420934   3144.006996  9.392343e+07   \n",
       "min     6547.009766   6709.609863   6469.950195   6547.049805  8.410000e+06   \n",
       "25%    10907.339844  11000.980469  10824.759766  10913.379883  1.000000e+08   \n",
       "50%    13022.049805  13088.110352  12953.129883  13025.580078  1.351700e+08   \n",
       "75%    16477.699219  16550.070312  16392.769531  16478.410156  1.926000e+08   \n",
       "max    18315.060547  18351.359375  18272.560547  18312.390625  6.749200e+08   \n",
       "\n",
       "          Adj Close  \n",
       "count   1989.000000  \n",
       "mean   13463.032255  \n",
       "std     3144.006996  \n",
       "min     6547.049805  \n",
       "25%    10913.379883  \n",
       "50%    13025.580078  \n",
       "75%    16478.410156  \n",
       "max    18312.390625  "
      ]
     },
     "execution_count": 46,
     "metadata": {},
     "output_type": "execute_result"
    }
   ],
   "source": [
    "df.describe()"
   ]
  },
  {
   "cell_type": "code",
   "execution_count": 47,
   "metadata": {
    "_uuid": "0ff245ad8884301c88dab68f2c023df49b6f613b"
   },
   "outputs": [
    {
     "data": {
      "text/html": [
       "<div>\n",
       "<style scoped>\n",
       "    .dataframe tbody tr th:only-of-type {\n",
       "        vertical-align: middle;\n",
       "    }\n",
       "\n",
       "    .dataframe tbody tr th {\n",
       "        vertical-align: top;\n",
       "    }\n",
       "\n",
       "    .dataframe thead th {\n",
       "        text-align: right;\n",
       "    }\n",
       "</style>\n",
       "<table border=\"1\" class=\"dataframe\">\n",
       "  <thead>\n",
       "    <tr style=\"text-align: right;\">\n",
       "      <th></th>\n",
       "      <th>Open</th>\n",
       "      <th>High</th>\n",
       "      <th>Low</th>\n",
       "    </tr>\n",
       "  </thead>\n",
       "  <tbody>\n",
       "    <tr>\n",
       "      <th>count</th>\n",
       "      <td>1989.000000</td>\n",
       "      <td>1989.000000</td>\n",
       "      <td>1989.000000</td>\n",
       "    </tr>\n",
       "    <tr>\n",
       "      <th>mean</th>\n",
       "      <td>13459.116048</td>\n",
       "      <td>13541.303173</td>\n",
       "      <td>13372.931728</td>\n",
       "    </tr>\n",
       "    <tr>\n",
       "      <th>std</th>\n",
       "      <td>3143.281634</td>\n",
       "      <td>3136.271725</td>\n",
       "      <td>3150.420934</td>\n",
       "    </tr>\n",
       "    <tr>\n",
       "      <th>min</th>\n",
       "      <td>6547.009766</td>\n",
       "      <td>6709.609863</td>\n",
       "      <td>6469.950195</td>\n",
       "    </tr>\n",
       "    <tr>\n",
       "      <th>25%</th>\n",
       "      <td>10907.339844</td>\n",
       "      <td>11000.980469</td>\n",
       "      <td>10824.759766</td>\n",
       "    </tr>\n",
       "    <tr>\n",
       "      <th>50%</th>\n",
       "      <td>13022.049805</td>\n",
       "      <td>13088.110352</td>\n",
       "      <td>12953.129883</td>\n",
       "    </tr>\n",
       "    <tr>\n",
       "      <th>75%</th>\n",
       "      <td>16477.699219</td>\n",
       "      <td>16550.070312</td>\n",
       "      <td>16392.769531</td>\n",
       "    </tr>\n",
       "    <tr>\n",
       "      <th>max</th>\n",
       "      <td>18315.060547</td>\n",
       "      <td>18351.359375</td>\n",
       "      <td>18272.560547</td>\n",
       "    </tr>\n",
       "  </tbody>\n",
       "</table>\n",
       "</div>"
      ],
      "text/plain": [
       "               Open          High           Low\n",
       "count   1989.000000   1989.000000   1989.000000\n",
       "mean   13459.116048  13541.303173  13372.931728\n",
       "std     3143.281634   3136.271725   3150.420934\n",
       "min     6547.009766   6709.609863   6469.950195\n",
       "25%    10907.339844  11000.980469  10824.759766\n",
       "50%    13022.049805  13088.110352  12953.129883\n",
       "75%    16477.699219  16550.070312  16392.769531\n",
       "max    18315.060547  18351.359375  18272.560547"
      ]
     },
     "execution_count": 47,
     "metadata": {},
     "output_type": "execute_result"
    }
   ],
   "source": [
    "df[['Open','High','Low']].describe()"
   ]
  },
  {
   "cell_type": "markdown",
   "metadata": {
    "_uuid": "ee81ed576d22d6e350d59e961697231de83dbd6c"
   },
   "source": [
    "### **df.mean()**  <a id=\"26\"></a>\n",
    "This code returns the mean value for the numeric column.\n",
    "\n",
    "<mark>[Return Contents](#0)\n",
    "<hr>"
   ]
  },
  {
   "cell_type": "code",
   "execution_count": 48,
   "metadata": {
    "_uuid": "a48fe07b2e9edf425eea43ee8efc7208451053b8"
   },
   "outputs": [
    {
     "data": {
      "text/plain": [
       "Open         1.345912e+04\n",
       "High         1.354130e+04\n",
       "Low          1.337293e+04\n",
       "Close        1.346303e+04\n",
       "Volume       1.628110e+08\n",
       "Adj Close    1.346303e+04\n",
       "dtype: float64"
      ]
     },
     "execution_count": 48,
     "metadata": {},
     "output_type": "execute_result"
    }
   ],
   "source": [
    "df.mean()"
   ]
  },
  {
   "cell_type": "markdown",
   "metadata": {
    "_uuid": "9505e713279ca2d4f9ee8e9e8f493fc6fc1dffaf"
   },
   "source": [
    "### **df.median()**  <a id=\"27\"></a>\n",
    "This code returns median for columns with numeric values.\n",
    "\n",
    "<mark>[Return Contents](#0)\n",
    "<hr>"
   ]
  },
  {
   "cell_type": "code",
   "execution_count": 49,
   "metadata": {
    "_uuid": "e8f946be9ec391af5cf4cdc720bd86f08b1e11f8"
   },
   "outputs": [
    {
     "data": {
      "text/plain": [
       "Open         1.302205e+04\n",
       "High         1.308811e+04\n",
       "Low          1.295313e+04\n",
       "Close        1.302558e+04\n",
       "Volume       1.351700e+08\n",
       "Adj Close    1.302558e+04\n",
       "dtype: float64"
      ]
     },
     "execution_count": 49,
     "metadata": {},
     "output_type": "execute_result"
    }
   ],
   "source": [
    "df.median()"
   ]
  },
  {
   "cell_type": "markdown",
   "metadata": {
    "_uuid": "e6ef1d3c59446abef4af4e9a8f9e4c7091268d07"
   },
   "source": [
    "### **df.quantile([0.25,0.75])**  <a id=\"28\"></a>\n",
    "This code calculates the values 0.25 and 0.75 of the columns for each column.\n",
    "\n",
    "<mark>[Return Contents](#0)\n",
    "<hr>"
   ]
  },
  {
   "cell_type": "code",
   "execution_count": 50,
   "metadata": {
    "_uuid": "8145c67dde8b9aba6803436d28cc7225445343a3"
   },
   "outputs": [
    {
     "data": {
      "text/html": [
       "<div>\n",
       "<style scoped>\n",
       "    .dataframe tbody tr th:only-of-type {\n",
       "        vertical-align: middle;\n",
       "    }\n",
       "\n",
       "    .dataframe tbody tr th {\n",
       "        vertical-align: top;\n",
       "    }\n",
       "\n",
       "    .dataframe thead th {\n",
       "        text-align: right;\n",
       "    }\n",
       "</style>\n",
       "<table border=\"1\" class=\"dataframe\">\n",
       "  <thead>\n",
       "    <tr style=\"text-align: right;\">\n",
       "      <th></th>\n",
       "      <th>Open</th>\n",
       "      <th>High</th>\n",
       "      <th>Low</th>\n",
       "      <th>Close</th>\n",
       "      <th>Volume</th>\n",
       "      <th>Adj Close</th>\n",
       "    </tr>\n",
       "  </thead>\n",
       "  <tbody>\n",
       "    <tr>\n",
       "      <th>0.25</th>\n",
       "      <td>10907.339844</td>\n",
       "      <td>11000.980469</td>\n",
       "      <td>10824.759766</td>\n",
       "      <td>10913.379883</td>\n",
       "      <td>100000000.0</td>\n",
       "      <td>10913.379883</td>\n",
       "    </tr>\n",
       "    <tr>\n",
       "      <th>0.75</th>\n",
       "      <td>16477.699219</td>\n",
       "      <td>16550.070312</td>\n",
       "      <td>16392.769531</td>\n",
       "      <td>16478.410156</td>\n",
       "      <td>192600000.0</td>\n",
       "      <td>16478.410156</td>\n",
       "    </tr>\n",
       "  </tbody>\n",
       "</table>\n",
       "</div>"
      ],
      "text/plain": [
       "              Open          High           Low         Close       Volume  \\\n",
       "0.25  10907.339844  11000.980469  10824.759766  10913.379883  100000000.0   \n",
       "0.75  16477.699219  16550.070312  16392.769531  16478.410156  192600000.0   \n",
       "\n",
       "         Adj Close  \n",
       "0.25  10913.379883  \n",
       "0.75  16478.410156  "
      ]
     },
     "execution_count": 50,
     "metadata": {},
     "output_type": "execute_result"
    }
   ],
   "source": [
    "df.quantile([0.25,0.75])"
   ]
  },
  {
   "cell_type": "code",
   "execution_count": 51,
   "metadata": {},
   "outputs": [
    {
     "data": {
      "text/html": [
       "<div>\n",
       "<style scoped>\n",
       "    .dataframe tbody tr th:only-of-type {\n",
       "        vertical-align: middle;\n",
       "    }\n",
       "\n",
       "    .dataframe tbody tr th {\n",
       "        vertical-align: top;\n",
       "    }\n",
       "\n",
       "    .dataframe thead th {\n",
       "        text-align: right;\n",
       "    }\n",
       "</style>\n",
       "<table border=\"1\" class=\"dataframe\">\n",
       "  <thead>\n",
       "    <tr style=\"text-align: right;\">\n",
       "      <th></th>\n",
       "      <th>Open</th>\n",
       "      <th>High</th>\n",
       "      <th>Low</th>\n",
       "      <th>Close</th>\n",
       "      <th>Volume</th>\n",
       "      <th>Adj Close</th>\n",
       "    </tr>\n",
       "  </thead>\n",
       "  <tbody>\n",
       "    <tr>\n",
       "      <th>0.5</th>\n",
       "      <td>13022.049805</td>\n",
       "      <td>13088.110352</td>\n",
       "      <td>12953.129883</td>\n",
       "      <td>13025.580078</td>\n",
       "      <td>135170000.0</td>\n",
       "      <td>13025.580078</td>\n",
       "    </tr>\n",
       "  </tbody>\n",
       "</table>\n",
       "</div>"
      ],
      "text/plain": [
       "             Open          High           Low         Close       Volume  \\\n",
       "0.5  13022.049805  13088.110352  12953.129883  13025.580078  135170000.0   \n",
       "\n",
       "        Adj Close  \n",
       "0.5  13025.580078  "
      ]
     },
     "execution_count": 51,
     "metadata": {},
     "output_type": "execute_result"
    }
   ],
   "source": [
    "df.quantile([0.5])"
   ]
  },
  {
   "cell_type": "markdown",
   "metadata": {
    "_uuid": "aac3a79b56277361df222d188abf5916e158287c"
   },
   "source": [
    "### **df.var()**  <a id=\"29\"></a>\n",
    "This code calculates the variance value for each column with a numeric value.\n",
    "\n",
    "<mark>[Return Contents](#0)\n",
    "<hr>"
   ]
  },
  {
   "cell_type": "code",
   "execution_count": 52,
   "metadata": {
    "_uuid": "4d6dc0723b2a02b1a30eba32aee013e618a8c777"
   },
   "outputs": [
    {
     "data": {
      "text/plain": [
       "Open         9.880219e+06\n",
       "High         9.836200e+06\n",
       "Low          9.925152e+06\n",
       "Close        9.884780e+06\n",
       "Volume       8.821610e+15\n",
       "Adj Close    9.884780e+06\n",
       "dtype: float64"
      ]
     },
     "execution_count": 52,
     "metadata": {},
     "output_type": "execute_result"
    }
   ],
   "source": [
    "df.var()"
   ]
  },
  {
   "cell_type": "markdown",
   "metadata": {
    "_uuid": "9dadcadc50fa2f35d0be27c491706ae64ddb5879"
   },
   "source": [
    "### **df.std()** <a id=\"30\"></a>\n",
    "This code calculates the standard deviation value for each column with numeric value.\n",
    "\n",
    "<mark>[Return Contents](#0)\n",
    "<hr>"
   ]
  },
  {
   "cell_type": "code",
   "execution_count": 53,
   "metadata": {
    "_uuid": "dc29b13723a50b444d0892194aa9c131a6969217"
   },
   "outputs": [
    {
     "data": {
      "text/plain": [
       "Open         3.143282e+03\n",
       "High         3.136272e+03\n",
       "Low          3.150421e+03\n",
       "Close        3.144007e+03\n",
       "Volume       9.392343e+07\n",
       "Adj Close    3.144007e+03\n",
       "dtype: float64"
      ]
     },
     "execution_count": 53,
     "metadata": {},
     "output_type": "execute_result"
    }
   ],
   "source": [
    "df.std()"
   ]
  },
  {
   "cell_type": "markdown",
   "metadata": {
    "_uuid": "9143f758fa6d821ece2efd8389b09b045bf486c2"
   },
   "source": [
    "### **df.cummax()** <a id=\"31\"></a>\n",
    "This code calculates the cumulative max value between the data.\n",
    "\n",
    "<mark>[Return Contents](#0)\n",
    "<hr>"
   ]
  },
  {
   "cell_type": "code",
   "execution_count": 54,
   "metadata": {
    "_uuid": "beac65acb14480ea7c2a3b1db839bda1b700aed8"
   },
   "outputs": [
    {
     "data": {
      "text/html": [
       "<div>\n",
       "<style scoped>\n",
       "    .dataframe tbody tr th:only-of-type {\n",
       "        vertical-align: middle;\n",
       "    }\n",
       "\n",
       "    .dataframe tbody tr th {\n",
       "        vertical-align: top;\n",
       "    }\n",
       "\n",
       "    .dataframe thead th {\n",
       "        text-align: right;\n",
       "    }\n",
       "</style>\n",
       "<table border=\"1\" class=\"dataframe\">\n",
       "  <thead>\n",
       "    <tr style=\"text-align: right;\">\n",
       "      <th></th>\n",
       "      <th>Date</th>\n",
       "      <th>Open</th>\n",
       "      <th>High</th>\n",
       "      <th>Low</th>\n",
       "      <th>Close</th>\n",
       "      <th>Volume</th>\n",
       "      <th>Adj Close</th>\n",
       "    </tr>\n",
       "  </thead>\n",
       "  <tbody>\n",
       "    <tr>\n",
       "      <th>0</th>\n",
       "      <td>2016-07-01</td>\n",
       "      <td>17924.240234</td>\n",
       "      <td>18002.380859</td>\n",
       "      <td>17916.910156</td>\n",
       "      <td>17949.369141</td>\n",
       "      <td>82160000</td>\n",
       "      <td>17949.369141</td>\n",
       "    </tr>\n",
       "    <tr>\n",
       "      <th>1</th>\n",
       "      <td>2016-07-01</td>\n",
       "      <td>17924.240234</td>\n",
       "      <td>18002.380859</td>\n",
       "      <td>17916.910156</td>\n",
       "      <td>17949.369141</td>\n",
       "      <td>133030000</td>\n",
       "      <td>17949.369141</td>\n",
       "    </tr>\n",
       "    <tr>\n",
       "      <th>2</th>\n",
       "      <td>2016-07-01</td>\n",
       "      <td>17924.240234</td>\n",
       "      <td>18002.380859</td>\n",
       "      <td>17916.910156</td>\n",
       "      <td>17949.369141</td>\n",
       "      <td>133030000</td>\n",
       "      <td>17949.369141</td>\n",
       "    </tr>\n",
       "    <tr>\n",
       "      <th>3</th>\n",
       "      <td>2016-07-01</td>\n",
       "      <td>17924.240234</td>\n",
       "      <td>18002.380859</td>\n",
       "      <td>17916.910156</td>\n",
       "      <td>17949.369141</td>\n",
       "      <td>133030000</td>\n",
       "      <td>17949.369141</td>\n",
       "    </tr>\n",
       "    <tr>\n",
       "      <th>4</th>\n",
       "      <td>2016-07-01</td>\n",
       "      <td>17924.240234</td>\n",
       "      <td>18002.380859</td>\n",
       "      <td>17916.910156</td>\n",
       "      <td>17949.369141</td>\n",
       "      <td>138740000</td>\n",
       "      <td>17949.369141</td>\n",
       "    </tr>\n",
       "    <tr>\n",
       "      <th>...</th>\n",
       "      <td>...</td>\n",
       "      <td>...</td>\n",
       "      <td>...</td>\n",
       "      <td>...</td>\n",
       "      <td>...</td>\n",
       "      <td>...</td>\n",
       "      <td>...</td>\n",
       "    </tr>\n",
       "    <tr>\n",
       "      <th>1984</th>\n",
       "      <td>2016-07-01</td>\n",
       "      <td>18315.060547</td>\n",
       "      <td>18351.359375</td>\n",
       "      <td>18272.560547</td>\n",
       "      <td>18312.390625</td>\n",
       "      <td>674920000</td>\n",
       "      <td>18312.390625</td>\n",
       "    </tr>\n",
       "    <tr>\n",
       "      <th>1985</th>\n",
       "      <td>2016-07-01</td>\n",
       "      <td>18315.060547</td>\n",
       "      <td>18351.359375</td>\n",
       "      <td>18272.560547</td>\n",
       "      <td>18312.390625</td>\n",
       "      <td>674920000</td>\n",
       "      <td>18312.390625</td>\n",
       "    </tr>\n",
       "    <tr>\n",
       "      <th>1986</th>\n",
       "      <td>2016-07-01</td>\n",
       "      <td>18315.060547</td>\n",
       "      <td>18351.359375</td>\n",
       "      <td>18272.560547</td>\n",
       "      <td>18312.390625</td>\n",
       "      <td>674920000</td>\n",
       "      <td>18312.390625</td>\n",
       "    </tr>\n",
       "    <tr>\n",
       "      <th>1987</th>\n",
       "      <td>2016-07-01</td>\n",
       "      <td>18315.060547</td>\n",
       "      <td>18351.359375</td>\n",
       "      <td>18272.560547</td>\n",
       "      <td>18312.390625</td>\n",
       "      <td>674920000</td>\n",
       "      <td>18312.390625</td>\n",
       "    </tr>\n",
       "    <tr>\n",
       "      <th>1988</th>\n",
       "      <td>2016-07-01</td>\n",
       "      <td>18315.060547</td>\n",
       "      <td>18351.359375</td>\n",
       "      <td>18272.560547</td>\n",
       "      <td>18312.390625</td>\n",
       "      <td>674920000</td>\n",
       "      <td>18312.390625</td>\n",
       "    </tr>\n",
       "  </tbody>\n",
       "</table>\n",
       "<p>1989 rows × 7 columns</p>\n",
       "</div>"
      ],
      "text/plain": [
       "            Date          Open          High           Low         Close  \\\n",
       "0     2016-07-01  17924.240234  18002.380859  17916.910156  17949.369141   \n",
       "1     2016-07-01  17924.240234  18002.380859  17916.910156  17949.369141   \n",
       "2     2016-07-01  17924.240234  18002.380859  17916.910156  17949.369141   \n",
       "3     2016-07-01  17924.240234  18002.380859  17916.910156  17949.369141   \n",
       "4     2016-07-01  17924.240234  18002.380859  17916.910156  17949.369141   \n",
       "...          ...           ...           ...           ...           ...   \n",
       "1984  2016-07-01  18315.060547  18351.359375  18272.560547  18312.390625   \n",
       "1985  2016-07-01  18315.060547  18351.359375  18272.560547  18312.390625   \n",
       "1986  2016-07-01  18315.060547  18351.359375  18272.560547  18312.390625   \n",
       "1987  2016-07-01  18315.060547  18351.359375  18272.560547  18312.390625   \n",
       "1988  2016-07-01  18315.060547  18351.359375  18272.560547  18312.390625   \n",
       "\n",
       "         Volume     Adj Close  \n",
       "0      82160000  17949.369141  \n",
       "1     133030000  17949.369141  \n",
       "2     133030000  17949.369141  \n",
       "3     133030000  17949.369141  \n",
       "4     138740000  17949.369141  \n",
       "...         ...           ...  \n",
       "1984  674920000  18312.390625  \n",
       "1985  674920000  18312.390625  \n",
       "1986  674920000  18312.390625  \n",
       "1987  674920000  18312.390625  \n",
       "1988  674920000  18312.390625  \n",
       "\n",
       "[1989 rows x 7 columns]"
      ]
     },
     "execution_count": 54,
     "metadata": {},
     "output_type": "execute_result"
    }
   ],
   "source": [
    "df.cummax()"
   ]
  },
  {
   "cell_type": "markdown",
   "metadata": {
    "_uuid": "3fcc12a897018a10be30af61dd962ce55783ced6"
   },
   "source": [
    "### **df.cummin()** <a id=\"32\"></a>\n",
    "This code returns the cumulative min value of the data.\n",
    "\n",
    "<mark>[Return Contents](#0)\n",
    "<hr>"
   ]
  },
  {
   "cell_type": "code",
   "execution_count": 55,
   "metadata": {
    "_uuid": "1f338476139eeea15cb87f2df4b7f6958daa1e14"
   },
   "outputs": [
    {
     "data": {
      "text/html": [
       "<div>\n",
       "<style scoped>\n",
       "    .dataframe tbody tr th:only-of-type {\n",
       "        vertical-align: middle;\n",
       "    }\n",
       "\n",
       "    .dataframe tbody tr th {\n",
       "        vertical-align: top;\n",
       "    }\n",
       "\n",
       "    .dataframe thead th {\n",
       "        text-align: right;\n",
       "    }\n",
       "</style>\n",
       "<table border=\"1\" class=\"dataframe\">\n",
       "  <thead>\n",
       "    <tr style=\"text-align: right;\">\n",
       "      <th></th>\n",
       "      <th>Date</th>\n",
       "      <th>Open</th>\n",
       "      <th>High</th>\n",
       "      <th>Low</th>\n",
       "      <th>Close</th>\n",
       "      <th>Volume</th>\n",
       "      <th>Adj Close</th>\n",
       "    </tr>\n",
       "  </thead>\n",
       "  <tbody>\n",
       "    <tr>\n",
       "      <th>0</th>\n",
       "      <td>2016-07-01</td>\n",
       "      <td>17924.240234</td>\n",
       "      <td>18002.380859</td>\n",
       "      <td>17916.910156</td>\n",
       "      <td>17949.369141</td>\n",
       "      <td>82160000</td>\n",
       "      <td>17949.369141</td>\n",
       "    </tr>\n",
       "    <tr>\n",
       "      <th>1</th>\n",
       "      <td>2016-06-30</td>\n",
       "      <td>17712.759766</td>\n",
       "      <td>17930.609375</td>\n",
       "      <td>17711.800781</td>\n",
       "      <td>17929.990234</td>\n",
       "      <td>82160000</td>\n",
       "      <td>17929.990234</td>\n",
       "    </tr>\n",
       "    <tr>\n",
       "      <th>2</th>\n",
       "      <td>2016-06-29</td>\n",
       "      <td>17456.019531</td>\n",
       "      <td>17704.509766</td>\n",
       "      <td>17456.019531</td>\n",
       "      <td>17694.679688</td>\n",
       "      <td>82160000</td>\n",
       "      <td>17694.679688</td>\n",
       "    </tr>\n",
       "    <tr>\n",
       "      <th>3</th>\n",
       "      <td>2016-06-28</td>\n",
       "      <td>17190.509766</td>\n",
       "      <td>17409.720703</td>\n",
       "      <td>17190.509766</td>\n",
       "      <td>17409.720703</td>\n",
       "      <td>82160000</td>\n",
       "      <td>17409.720703</td>\n",
       "    </tr>\n",
       "    <tr>\n",
       "      <th>4</th>\n",
       "      <td>2016-06-27</td>\n",
       "      <td>17190.509766</td>\n",
       "      <td>17355.210938</td>\n",
       "      <td>17063.080078</td>\n",
       "      <td>17140.240234</td>\n",
       "      <td>82160000</td>\n",
       "      <td>17140.240234</td>\n",
       "    </tr>\n",
       "    <tr>\n",
       "      <th>...</th>\n",
       "      <td>...</td>\n",
       "      <td>...</td>\n",
       "      <td>...</td>\n",
       "      <td>...</td>\n",
       "      <td>...</td>\n",
       "      <td>...</td>\n",
       "      <td>...</td>\n",
       "    </tr>\n",
       "    <tr>\n",
       "      <th>1984</th>\n",
       "      <td>2008-08-14</td>\n",
       "      <td>6547.009766</td>\n",
       "      <td>6709.609863</td>\n",
       "      <td>6469.950195</td>\n",
       "      <td>6547.049805</td>\n",
       "      <td>8410000</td>\n",
       "      <td>6547.049805</td>\n",
       "    </tr>\n",
       "    <tr>\n",
       "      <th>1985</th>\n",
       "      <td>2008-08-13</td>\n",
       "      <td>6547.009766</td>\n",
       "      <td>6709.609863</td>\n",
       "      <td>6469.950195</td>\n",
       "      <td>6547.049805</td>\n",
       "      <td>8410000</td>\n",
       "      <td>6547.049805</td>\n",
       "    </tr>\n",
       "    <tr>\n",
       "      <th>1986</th>\n",
       "      <td>2008-08-12</td>\n",
       "      <td>6547.009766</td>\n",
       "      <td>6709.609863</td>\n",
       "      <td>6469.950195</td>\n",
       "      <td>6547.049805</td>\n",
       "      <td>8410000</td>\n",
       "      <td>6547.049805</td>\n",
       "    </tr>\n",
       "    <tr>\n",
       "      <th>1987</th>\n",
       "      <td>2008-08-11</td>\n",
       "      <td>6547.009766</td>\n",
       "      <td>6709.609863</td>\n",
       "      <td>6469.950195</td>\n",
       "      <td>6547.049805</td>\n",
       "      <td>8410000</td>\n",
       "      <td>6547.049805</td>\n",
       "    </tr>\n",
       "    <tr>\n",
       "      <th>1988</th>\n",
       "      <td>2008-08-08</td>\n",
       "      <td>6547.009766</td>\n",
       "      <td>6709.609863</td>\n",
       "      <td>6469.950195</td>\n",
       "      <td>6547.049805</td>\n",
       "      <td>8410000</td>\n",
       "      <td>6547.049805</td>\n",
       "    </tr>\n",
       "  </tbody>\n",
       "</table>\n",
       "<p>1989 rows × 7 columns</p>\n",
       "</div>"
      ],
      "text/plain": [
       "            Date          Open          High           Low         Close  \\\n",
       "0     2016-07-01  17924.240234  18002.380859  17916.910156  17949.369141   \n",
       "1     2016-06-30  17712.759766  17930.609375  17711.800781  17929.990234   \n",
       "2     2016-06-29  17456.019531  17704.509766  17456.019531  17694.679688   \n",
       "3     2016-06-28  17190.509766  17409.720703  17190.509766  17409.720703   \n",
       "4     2016-06-27  17190.509766  17355.210938  17063.080078  17140.240234   \n",
       "...          ...           ...           ...           ...           ...   \n",
       "1984  2008-08-14   6547.009766   6709.609863   6469.950195   6547.049805   \n",
       "1985  2008-08-13   6547.009766   6709.609863   6469.950195   6547.049805   \n",
       "1986  2008-08-12   6547.009766   6709.609863   6469.950195   6547.049805   \n",
       "1987  2008-08-11   6547.009766   6709.609863   6469.950195   6547.049805   \n",
       "1988  2008-08-08   6547.009766   6709.609863   6469.950195   6547.049805   \n",
       "\n",
       "        Volume     Adj Close  \n",
       "0     82160000  17949.369141  \n",
       "1     82160000  17929.990234  \n",
       "2     82160000  17694.679688  \n",
       "3     82160000  17409.720703  \n",
       "4     82160000  17140.240234  \n",
       "...        ...           ...  \n",
       "1984   8410000   6547.049805  \n",
       "1985   8410000   6547.049805  \n",
       "1986   8410000   6547.049805  \n",
       "1987   8410000   6547.049805  \n",
       "1988   8410000   6547.049805  \n",
       "\n",
       "[1989 rows x 7 columns]"
      ]
     },
     "execution_count": 55,
     "metadata": {},
     "output_type": "execute_result"
    }
   ],
   "source": [
    "df.cummin()"
   ]
  },
  {
   "cell_type": "markdown",
   "metadata": {
    "_uuid": "0cd60da3b32d18ebbee2e5c4af63880694ec546a"
   },
   "source": [
    "### **df['columnName'].cumproad()** <a id=\"33\"></a>\n",
    "This code returns the cumulative production of the data.\n",
    "\n",
    "<mark>[Return Contents](#0)\n",
    "<hr>"
   ]
  },
  {
   "cell_type": "code",
   "execution_count": 56,
   "metadata": {
    "_uuid": "b1ada72f4fa74e8caf4962f0901b301b110c4ef0"
   },
   "outputs": [
    {
     "data": {
      "text/plain": [
       "0    1.792424e+04\n",
       "1    3.174878e+08\n",
       "2    5.542073e+12\n",
       "3    9.527105e+16\n",
       "4    1.653449e+21\n",
       "Name: Open, dtype: float64"
      ]
     },
     "execution_count": 56,
     "metadata": {},
     "output_type": "execute_result"
    }
   ],
   "source": [
    "df['Open'].cumprod().head()"
   ]
  },
  {
   "cell_type": "markdown",
   "metadata": {
    "_uuid": "dbbb7f7547fa7499cd81ef2e2ceb6e62e353f193"
   },
   "source": [
    "### **len(df)** <a id=\"34\"></a>\n",
    "This code gives you how many data there is.\n",
    "\n",
    "<mark>[Return Contents](#0)\n",
    "<hr>"
   ]
  },
  {
   "cell_type": "code",
   "execution_count": 57,
   "metadata": {
    "_uuid": "e773df58aa59556aea40bbd379b47cb99bfc5629"
   },
   "outputs": [
    {
     "data": {
      "text/plain": [
       "1989"
      ]
     },
     "execution_count": 57,
     "metadata": {},
     "output_type": "execute_result"
    }
   ],
   "source": [
    "len(df)"
   ]
  },
  {
   "cell_type": "markdown",
   "metadata": {
    "_uuid": "14ff3ff54a24aa3ad8996f3ef68e119a7b03f8f9"
   },
   "source": [
    "### **df.isnull()** <a id=\"35\"></a>\n",
    "Checks for null values, returns boolean.\n",
    "\n",
    "<mark>[Return Contents](#0)\n",
    "<hr>"
   ]
  },
  {
   "cell_type": "code",
   "execution_count": 58,
   "metadata": {
    "_uuid": "d6c4c3ed8f7bd639db1eb3487a5e61aff1651847"
   },
   "outputs": [
    {
     "data": {
      "text/html": [
       "<div>\n",
       "<style scoped>\n",
       "    .dataframe tbody tr th:only-of-type {\n",
       "        vertical-align: middle;\n",
       "    }\n",
       "\n",
       "    .dataframe tbody tr th {\n",
       "        vertical-align: top;\n",
       "    }\n",
       "\n",
       "    .dataframe thead th {\n",
       "        text-align: right;\n",
       "    }\n",
       "</style>\n",
       "<table border=\"1\" class=\"dataframe\">\n",
       "  <thead>\n",
       "    <tr style=\"text-align: right;\">\n",
       "      <th></th>\n",
       "      <th>Date</th>\n",
       "      <th>Open</th>\n",
       "      <th>High</th>\n",
       "      <th>Low</th>\n",
       "      <th>Close</th>\n",
       "      <th>Volume</th>\n",
       "      <th>Adj Close</th>\n",
       "    </tr>\n",
       "  </thead>\n",
       "  <tbody>\n",
       "    <tr>\n",
       "      <th>0</th>\n",
       "      <td>False</td>\n",
       "      <td>False</td>\n",
       "      <td>False</td>\n",
       "      <td>False</td>\n",
       "      <td>False</td>\n",
       "      <td>False</td>\n",
       "      <td>False</td>\n",
       "    </tr>\n",
       "    <tr>\n",
       "      <th>1</th>\n",
       "      <td>False</td>\n",
       "      <td>False</td>\n",
       "      <td>False</td>\n",
       "      <td>False</td>\n",
       "      <td>False</td>\n",
       "      <td>False</td>\n",
       "      <td>False</td>\n",
       "    </tr>\n",
       "    <tr>\n",
       "      <th>2</th>\n",
       "      <td>False</td>\n",
       "      <td>False</td>\n",
       "      <td>False</td>\n",
       "      <td>False</td>\n",
       "      <td>False</td>\n",
       "      <td>False</td>\n",
       "      <td>False</td>\n",
       "    </tr>\n",
       "    <tr>\n",
       "      <th>3</th>\n",
       "      <td>False</td>\n",
       "      <td>False</td>\n",
       "      <td>False</td>\n",
       "      <td>False</td>\n",
       "      <td>False</td>\n",
       "      <td>False</td>\n",
       "      <td>False</td>\n",
       "    </tr>\n",
       "    <tr>\n",
       "      <th>4</th>\n",
       "      <td>False</td>\n",
       "      <td>False</td>\n",
       "      <td>False</td>\n",
       "      <td>False</td>\n",
       "      <td>False</td>\n",
       "      <td>False</td>\n",
       "      <td>False</td>\n",
       "    </tr>\n",
       "  </tbody>\n",
       "</table>\n",
       "</div>"
      ],
      "text/plain": [
       "    Date   Open   High    Low  Close  Volume  Adj Close\n",
       "0  False  False  False  False  False   False      False\n",
       "1  False  False  False  False  False   False      False\n",
       "2  False  False  False  False  False   False      False\n",
       "3  False  False  False  False  False   False      False\n",
       "4  False  False  False  False  False   False      False"
      ]
     },
     "execution_count": 58,
     "metadata": {},
     "output_type": "execute_result"
    }
   ],
   "source": [
    "df.isnull().head()"
   ]
  },
  {
   "cell_type": "code",
   "execution_count": 59,
   "metadata": {
    "_uuid": "18fd911db5dbc098851384fda7ad25d8da73eb83"
   },
   "outputs": [
    {
     "data": {
      "text/plain": [
       "array([[False, False, False, ..., False, False, False],\n",
       "       [False, False, False, ..., False, False, False],\n",
       "       [False, False, False, ..., False, False, False],\n",
       "       ...,\n",
       "       [False, False, False, ..., False, False, False],\n",
       "       [False, False, False, ..., False, False, False],\n",
       "       [False, False, False, ..., False, False, False]])"
      ]
     },
     "execution_count": 59,
     "metadata": {},
     "output_type": "execute_result"
    }
   ],
   "source": [
    "df.isnull().values"
   ]
  },
  {
   "cell_type": "code",
   "execution_count": 60,
   "metadata": {},
   "outputs": [
    {
     "data": {
      "text/plain": [
       "False"
      ]
     },
     "execution_count": 60,
     "metadata": {},
     "output_type": "execute_result"
    }
   ],
   "source": [
    "df.isnull().values.any()"
   ]
  },
  {
   "cell_type": "code",
   "execution_count": 61,
   "metadata": {},
   "outputs": [
    {
     "data": {
      "text/plain": [
       "array([0, 1, 2, 3, 4, 5, 6, 7, 8, 9])"
      ]
     },
     "execution_count": 61,
     "metadata": {},
     "output_type": "execute_result"
    }
   ],
   "source": [
    "np.arange(10) #ordinary numbers"
   ]
  },
  {
   "cell_type": "code",
   "execution_count": 62,
   "metadata": {},
   "outputs": [
    {
     "data": {
      "text/plain": [
       "numpy.ndarray"
      ]
     },
     "execution_count": 62,
     "metadata": {},
     "output_type": "execute_result"
    }
   ],
   "source": [
    "type(np.arange(10))"
   ]
  },
  {
   "cell_type": "code",
   "execution_count": 63,
   "metadata": {},
   "outputs": [
    {
     "data": {
      "text/plain": [
       "range(0, 10)"
      ]
     },
     "execution_count": 63,
     "metadata": {},
     "output_type": "execute_result"
    }
   ],
   "source": [
    "range(10) #list number"
   ]
  },
  {
   "cell_type": "code",
   "execution_count": 64,
   "metadata": {},
   "outputs": [
    {
     "data": {
      "text/plain": [
       "range"
      ]
     },
     "execution_count": 64,
     "metadata": {},
     "output_type": "execute_result"
    }
   ],
   "source": [
    "type(range(10))"
   ]
  },
  {
   "cell_type": "code",
   "execution_count": 65,
   "metadata": {},
   "outputs": [
    {
     "data": {
      "text/plain": [
       "list"
      ]
     },
     "execution_count": 65,
     "metadata": {},
     "output_type": "execute_result"
    }
   ],
   "source": [
    "type(list(range(10)))"
   ]
  },
  {
   "cell_type": "code",
   "execution_count": 66,
   "metadata": {},
   "outputs": [
    {
     "data": {
      "text/plain": [
       "[0, 1, 2, 3, 4, 5, 6, 7, 8, 9]"
      ]
     },
     "execution_count": 66,
     "metadata": {},
     "output_type": "execute_result"
    }
   ],
   "source": [
    "list(range(10))"
   ]
  },
  {
   "cell_type": "code",
   "execution_count": 67,
   "metadata": {
    "_uuid": "8eafb2eb0155a59841881bb02e125f9b9b10f123"
   },
   "outputs": [
    {
     "data": {
      "text/plain": [
       "Date         1989\n",
       "Open         1989\n",
       "High         1989\n",
       "Low          1989\n",
       "Close        1989\n",
       "Volume       1989\n",
       "Adj Close    1989\n",
       "dtype: int64"
      ]
     },
     "execution_count": 67,
     "metadata": {},
     "output_type": "execute_result"
    }
   ],
   "source": [
    "df.isna().count()"
   ]
  },
  {
   "cell_type": "code",
   "execution_count": 68,
   "metadata": {
    "_uuid": "635baddd29aa894c3976fe23808b3e0e62e0fe2d"
   },
   "outputs": [
    {
     "data": {
      "text/plain": [
       "False"
      ]
     },
     "execution_count": 68,
     "metadata": {},
     "output_type": "execute_result"
    }
   ],
   "source": [
    "df.isnull().values.any()"
   ]
  },
  {
   "cell_type": "code",
   "execution_count": 69,
   "metadata": {
    "_uuid": "33af62102453a1ea395342a7c3151e428b7595f0"
   },
   "outputs": [
    {
     "data": {
      "text/plain": [
       "Date         0\n",
       "Open         0\n",
       "High         0\n",
       "Low          0\n",
       "Close        0\n",
       "Volume       0\n",
       "Adj Close    0\n",
       "dtype: int64"
      ]
     },
     "execution_count": 69,
     "metadata": {},
     "output_type": "execute_result"
    }
   ],
   "source": [
    "df.isnull().sum()"
   ]
  },
  {
   "cell_type": "markdown",
   "metadata": {
    "_uuid": "9c2242ccb54b0cccecd0f5ebdfda70f454cb35d7"
   },
   "source": [
    "### **df.corr()** <a id=\"81\"></a>\n",
    "it gives information about the correlation between the data.\n",
    "\n",
    "<mark>[Return Contents](#0)\n",
    "<hr>"
   ]
  },
  {
   "cell_type": "code",
   "execution_count": 70,
   "metadata": {
    "_uuid": "7ad15ffbc630aa1ffbeebe5270844112e1c88b18"
   },
   "outputs": [
    {
     "data": {
      "text/html": [
       "<div>\n",
       "<style scoped>\n",
       "    .dataframe tbody tr th:only-of-type {\n",
       "        vertical-align: middle;\n",
       "    }\n",
       "\n",
       "    .dataframe tbody tr th {\n",
       "        vertical-align: top;\n",
       "    }\n",
       "\n",
       "    .dataframe thead th {\n",
       "        text-align: right;\n",
       "    }\n",
       "</style>\n",
       "<table border=\"1\" class=\"dataframe\">\n",
       "  <thead>\n",
       "    <tr style=\"text-align: right;\">\n",
       "      <th></th>\n",
       "      <th>Open</th>\n",
       "      <th>High</th>\n",
       "      <th>Low</th>\n",
       "      <th>Close</th>\n",
       "      <th>Volume</th>\n",
       "      <th>Adj Close</th>\n",
       "    </tr>\n",
       "  </thead>\n",
       "  <tbody>\n",
       "    <tr>\n",
       "      <th>Open</th>\n",
       "      <td>1.000000</td>\n",
       "      <td>0.999592</td>\n",
       "      <td>0.999436</td>\n",
       "      <td>0.998991</td>\n",
       "      <td>-0.691621</td>\n",
       "      <td>0.998991</td>\n",
       "    </tr>\n",
       "    <tr>\n",
       "      <th>High</th>\n",
       "      <td>0.999592</td>\n",
       "      <td>1.000000</td>\n",
       "      <td>0.999373</td>\n",
       "      <td>0.999546</td>\n",
       "      <td>-0.686997</td>\n",
       "      <td>0.999546</td>\n",
       "    </tr>\n",
       "    <tr>\n",
       "      <th>Low</th>\n",
       "      <td>0.999436</td>\n",
       "      <td>0.999373</td>\n",
       "      <td>1.000000</td>\n",
       "      <td>0.999595</td>\n",
       "      <td>-0.699572</td>\n",
       "      <td>0.999595</td>\n",
       "    </tr>\n",
       "    <tr>\n",
       "      <th>Close</th>\n",
       "      <td>0.998991</td>\n",
       "      <td>0.999546</td>\n",
       "      <td>0.999595</td>\n",
       "      <td>1.000000</td>\n",
       "      <td>-0.694281</td>\n",
       "      <td>1.000000</td>\n",
       "    </tr>\n",
       "    <tr>\n",
       "      <th>Volume</th>\n",
       "      <td>-0.691621</td>\n",
       "      <td>-0.686997</td>\n",
       "      <td>-0.699572</td>\n",
       "      <td>-0.694281</td>\n",
       "      <td>1.000000</td>\n",
       "      <td>-0.694281</td>\n",
       "    </tr>\n",
       "    <tr>\n",
       "      <th>Adj Close</th>\n",
       "      <td>0.998991</td>\n",
       "      <td>0.999546</td>\n",
       "      <td>0.999595</td>\n",
       "      <td>1.000000</td>\n",
       "      <td>-0.694281</td>\n",
       "      <td>1.000000</td>\n",
       "    </tr>\n",
       "  </tbody>\n",
       "</table>\n",
       "</div>"
      ],
      "text/plain": [
       "               Open      High       Low     Close    Volume  Adj Close\n",
       "Open       1.000000  0.999592  0.999436  0.998991 -0.691621   0.998991\n",
       "High       0.999592  1.000000  0.999373  0.999546 -0.686997   0.999546\n",
       "Low        0.999436  0.999373  1.000000  0.999595 -0.699572   0.999595\n",
       "Close      0.998991  0.999546  0.999595  1.000000 -0.694281   1.000000\n",
       "Volume    -0.691621 -0.686997 -0.699572 -0.694281  1.000000  -0.694281\n",
       "Adj Close  0.998991  0.999546  0.999595  1.000000 -0.694281   1.000000"
      ]
     },
     "execution_count": 70,
     "metadata": {},
     "output_type": "execute_result"
    }
   ],
   "source": [
    "df.corr()"
   ]
  },
  {
   "cell_type": "code",
   "execution_count": 71,
   "metadata": {},
   "outputs": [
    {
     "data": {
      "image/png": "[encoded data removed]",
      "text/plain": [
       "<Figure size 432x288 with 2 Axes>"
      ]
     },
     "metadata": {
      "needs_background": "light"
     },
     "output_type": "display_data"
    }
   ],
   "source": [
    "import seaborn as sns\n",
    "sns.heatmap(df.corr(),annot=True)\n",
    "plt.show()"
   ]
  },
  {
   "cell_type": "code",
   "execution_count": 72,
   "metadata": {
    "_uuid": "3c5537119df4752f064f4f8a600c9453ae2751bb"
   },
   "outputs": [
    {
     "data": {
      "text/html": [
       "<div>\n",
       "<style scoped>\n",
       "    .dataframe tbody tr th:only-of-type {\n",
       "        vertical-align: middle;\n",
       "    }\n",
       "\n",
       "    .dataframe tbody tr th {\n",
       "        vertical-align: top;\n",
       "    }\n",
       "\n",
       "    .dataframe thead th {\n",
       "        text-align: right;\n",
       "    }\n",
       "</style>\n",
       "<table border=\"1\" class=\"dataframe\">\n",
       "  <thead>\n",
       "    <tr style=\"text-align: right;\">\n",
       "      <th></th>\n",
       "      <th>Open</th>\n",
       "      <th>High</th>\n",
       "      <th>Low</th>\n",
       "      <th>Close</th>\n",
       "    </tr>\n",
       "  </thead>\n",
       "  <tbody>\n",
       "    <tr>\n",
       "      <th>Open</th>\n",
       "      <td>1.000000</td>\n",
       "      <td>0.999592</td>\n",
       "      <td>0.999436</td>\n",
       "      <td>0.998991</td>\n",
       "    </tr>\n",
       "    <tr>\n",
       "      <th>High</th>\n",
       "      <td>0.999592</td>\n",
       "      <td>1.000000</td>\n",
       "      <td>0.999373</td>\n",
       "      <td>0.999546</td>\n",
       "    </tr>\n",
       "    <tr>\n",
       "      <th>Low</th>\n",
       "      <td>0.999436</td>\n",
       "      <td>0.999373</td>\n",
       "      <td>1.000000</td>\n",
       "      <td>0.999595</td>\n",
       "    </tr>\n",
       "    <tr>\n",
       "      <th>Close</th>\n",
       "      <td>0.998991</td>\n",
       "      <td>0.999546</td>\n",
       "      <td>0.999595</td>\n",
       "      <td>1.000000</td>\n",
       "    </tr>\n",
       "  </tbody>\n",
       "</table>\n",
       "</div>"
      ],
      "text/plain": [
       "           Open      High       Low     Close\n",
       "Open   1.000000  0.999592  0.999436  0.998991\n",
       "High   0.999592  1.000000  0.999373  0.999546\n",
       "Low    0.999436  0.999373  1.000000  0.999595\n",
       "Close  0.998991  0.999546  0.999595  1.000000"
      ]
     },
     "execution_count": 72,
     "metadata": {},
     "output_type": "execute_result"
    }
   ],
   "source": [
    "df[['Open','High','Low','Close']].corr()"
   ]
  },
  {
   "cell_type": "code",
   "execution_count": 73,
   "metadata": {
    "_uuid": "0dd9d7733a51734b76395c0c3529b9b4c35bcda3"
   },
   "outputs": [
    {
     "data": {
      "image/png": "[encoded data removed]",
      "text/plain": [
       "<Figure size 432x288 with 2 Axes>"
      ]
     },
     "metadata": {
      "needs_background": "light"
     },
     "output_type": "display_data"
    }
   ],
   "source": [
    "sns.heatmap(df.corr(), vmax=.3, square=True)\n",
    "plt.show()"
   ]
  },
  {
   "cell_type": "code",
   "execution_count": 74,
   "metadata": {
    "_uuid": "40b4734229fcde32b6574ba917181a29c043fa3a"
   },
   "outputs": [
    {
     "data": {
      "image/png": "[encoded data removed]",
      "text/plain": [
       "<Figure size 432x288 with 2 Axes>"
      ]
     },
     "metadata": {},
     "output_type": "display_data"
    }
   ],
   "source": [
    "import numpy as np; np.random.seed(0)\n",
    "import seaborn as sns; sns.set()\n",
    "uniform_data = np.random.rand(10, 12)\n",
    "ax = sns.heatmap(uniform_data)"
   ]
  },
  {
   "cell_type": "code",
   "execution_count": 75,
   "metadata": {
    "_uuid": "4854b5f4703fa91e97ea1fdbce71f1d224cbe668"
   },
   "outputs": [
    {
     "data": {
      "text/html": [
       "<div>\n",
       "<style scoped>\n",
       "    .dataframe tbody tr th:only-of-type {\n",
       "        vertical-align: middle;\n",
       "    }\n",
       "\n",
       "    .dataframe tbody tr th {\n",
       "        vertical-align: top;\n",
       "    }\n",
       "\n",
       "    .dataframe thead th {\n",
       "        text-align: right;\n",
       "    }\n",
       "</style>\n",
       "<table border=\"1\" class=\"dataframe\">\n",
       "  <thead>\n",
       "    <tr style=\"text-align: right;\">\n",
       "      <th></th>\n",
       "      <th>Open</th>\n",
       "      <th>High</th>\n",
       "      <th>Low</th>\n",
       "      <th>Close</th>\n",
       "      <th>Volume</th>\n",
       "    </tr>\n",
       "  </thead>\n",
       "  <tbody>\n",
       "    <tr>\n",
       "      <th>Open</th>\n",
       "      <td>1.000000</td>\n",
       "      <td>0.999592</td>\n",
       "      <td>0.999436</td>\n",
       "      <td>0.998991</td>\n",
       "      <td>-0.691621</td>\n",
       "    </tr>\n",
       "    <tr>\n",
       "      <th>High</th>\n",
       "      <td>0.999592</td>\n",
       "      <td>1.000000</td>\n",
       "      <td>0.999373</td>\n",
       "      <td>0.999546</td>\n",
       "      <td>-0.686997</td>\n",
       "    </tr>\n",
       "    <tr>\n",
       "      <th>Low</th>\n",
       "      <td>0.999436</td>\n",
       "      <td>0.999373</td>\n",
       "      <td>1.000000</td>\n",
       "      <td>0.999595</td>\n",
       "      <td>-0.699572</td>\n",
       "    </tr>\n",
       "    <tr>\n",
       "      <th>Close</th>\n",
       "      <td>0.998991</td>\n",
       "      <td>0.999546</td>\n",
       "      <td>0.999595</td>\n",
       "      <td>1.000000</td>\n",
       "      <td>-0.694281</td>\n",
       "    </tr>\n",
       "    <tr>\n",
       "      <th>Volume</th>\n",
       "      <td>-0.691621</td>\n",
       "      <td>-0.686997</td>\n",
       "      <td>-0.699572</td>\n",
       "      <td>-0.694281</td>\n",
       "      <td>1.000000</td>\n",
       "    </tr>\n",
       "  </tbody>\n",
       "</table>\n",
       "</div>"
      ],
      "text/plain": [
       "            Open      High       Low     Close    Volume\n",
       "Open    1.000000  0.999592  0.999436  0.998991 -0.691621\n",
       "High    0.999592  1.000000  0.999373  0.999546 -0.686997\n",
       "Low     0.999436  0.999373  1.000000  0.999595 -0.699572\n",
       "Close   0.998991  0.999546  0.999595  1.000000 -0.694281\n",
       "Volume -0.691621 -0.686997 -0.699572 -0.694281  1.000000"
      ]
     },
     "execution_count": 75,
     "metadata": {},
     "output_type": "execute_result"
    }
   ],
   "source": [
    "df[['Open','High','Low','Close','Volume']].corr()"
   ]
  },
  {
   "cell_type": "code",
   "execution_count": 76,
   "metadata": {
    "_uuid": "2655a634cea9ea0c33c6f74e007cbbdbcd58446d"
   },
   "outputs": [
    {
     "data": {
      "image/png": "[encoded data removed]",
      "text/plain": [
       "<Figure size 432x288 with 2 Axes>"
      ]
     },
     "metadata": {},
     "output_type": "display_data"
    }
   ],
   "source": [
    "import seaborn as sns\n",
    "import matplotlib.pyplot as plt\n",
    "sns.heatmap(df.corr(),annot=True,fmt='.1f')\n",
    "plt.show()"
   ]
  },
  {
   "cell_type": "markdown",
   "metadata": {
    "_uuid": "37ec533a2bdbadc4271c1eabe3956ca7f112bf11"
   },
   "source": [
    "# **Selection & Filtering** <a id=\"36\"></a>\n",
    "<mark>[Return Contents](#0)\n",
    "<hr>\n",
    "\n",
    "This is how we can choose the data we want with pandas, how we can bring unique data."
   ]
  },
  {
   "cell_type": "markdown",
   "metadata": {
    "_uuid": "cd86aed11ba3388bee1c7038fa653bdd0c40b88c"
   },
   "source": [
    "### **mySeries['b']** <a id=\"37\"></a>\n",
    "This code returns data with a value of B in series.\n",
    "\n",
    "<mark>[Return Contents](#0)\n",
    "<hr>"
   ]
  },
  {
   "cell_type": "code",
   "execution_count": 77,
   "metadata": {
    "_uuid": "d296ecf3432c28312feb0784abb4967686f7e0bc"
   },
   "outputs": [
    {
     "data": {
      "text/plain": [
       "-5"
      ]
     },
     "execution_count": 77,
     "metadata": {},
     "output_type": "execute_result"
    }
   ],
   "source": [
    "mySeries['b']"
   ]
  },
  {
   "cell_type": "markdown",
   "metadata": {
    "_uuid": "b0276f695b6ee645cf6c65fc15198973b1bf1b2f"
   },
   "source": [
    "### **df[n:n]** <a id=\"38\"></a>\n",
    "This code fetches data from N to N.\n",
    "\n",
    "<mark>[Return Contents](#0)\n",
    "<hr>"
   ]
  },
  {
   "cell_type": "code",
   "execution_count": 78,
   "metadata": {
    "_uuid": "68fc73b45d10fbba5dbf09ebcf87621885bf1787"
   },
   "outputs": [
    {
     "data": {
      "text/html": [
       "<div>\n",
       "<style scoped>\n",
       "    .dataframe tbody tr th:only-of-type {\n",
       "        vertical-align: middle;\n",
       "    }\n",
       "\n",
       "    .dataframe tbody tr th {\n",
       "        vertical-align: top;\n",
       "    }\n",
       "\n",
       "    .dataframe thead th {\n",
       "        text-align: right;\n",
       "    }\n",
       "</style>\n",
       "<table border=\"1\" class=\"dataframe\">\n",
       "  <thead>\n",
       "    <tr style=\"text-align: right;\">\n",
       "      <th></th>\n",
       "      <th>Date</th>\n",
       "      <th>Open</th>\n",
       "      <th>High</th>\n",
       "      <th>Low</th>\n",
       "      <th>Close</th>\n",
       "      <th>Volume</th>\n",
       "      <th>Adj Close</th>\n",
       "    </tr>\n",
       "  </thead>\n",
       "  <tbody>\n",
       "    <tr>\n",
       "      <th>1982</th>\n",
       "      <td>2008-08-18</td>\n",
       "      <td>11659.650391</td>\n",
       "      <td>11690.429688</td>\n",
       "      <td>11434.120117</td>\n",
       "      <td>11479.389648</td>\n",
       "      <td>156290000</td>\n",
       "      <td>11479.389648</td>\n",
       "    </tr>\n",
       "    <tr>\n",
       "      <th>1983</th>\n",
       "      <td>2008-08-15</td>\n",
       "      <td>11611.209961</td>\n",
       "      <td>11709.889648</td>\n",
       "      <td>11599.730469</td>\n",
       "      <td>11659.900391</td>\n",
       "      <td>215040000</td>\n",
       "      <td>11659.900391</td>\n",
       "    </tr>\n",
       "    <tr>\n",
       "      <th>1984</th>\n",
       "      <td>2008-08-14</td>\n",
       "      <td>11532.070312</td>\n",
       "      <td>11718.280273</td>\n",
       "      <td>11450.889648</td>\n",
       "      <td>11615.929688</td>\n",
       "      <td>159790000</td>\n",
       "      <td>11615.929688</td>\n",
       "    </tr>\n",
       "    <tr>\n",
       "      <th>1985</th>\n",
       "      <td>2008-08-13</td>\n",
       "      <td>11632.809570</td>\n",
       "      <td>11633.780273</td>\n",
       "      <td>11453.339844</td>\n",
       "      <td>11532.959961</td>\n",
       "      <td>182550000</td>\n",
       "      <td>11532.959961</td>\n",
       "    </tr>\n",
       "    <tr>\n",
       "      <th>1986</th>\n",
       "      <td>2008-08-12</td>\n",
       "      <td>11781.700195</td>\n",
       "      <td>11782.349609</td>\n",
       "      <td>11601.519531</td>\n",
       "      <td>11642.469727</td>\n",
       "      <td>173590000</td>\n",
       "      <td>11642.469727</td>\n",
       "    </tr>\n",
       "    <tr>\n",
       "      <th>1987</th>\n",
       "      <td>2008-08-11</td>\n",
       "      <td>11729.669922</td>\n",
       "      <td>11867.110352</td>\n",
       "      <td>11675.530273</td>\n",
       "      <td>11782.349609</td>\n",
       "      <td>183190000</td>\n",
       "      <td>11782.349609</td>\n",
       "    </tr>\n",
       "    <tr>\n",
       "      <th>1988</th>\n",
       "      <td>2008-08-08</td>\n",
       "      <td>11432.089844</td>\n",
       "      <td>11759.959961</td>\n",
       "      <td>11388.040039</td>\n",
       "      <td>11734.320312</td>\n",
       "      <td>212830000</td>\n",
       "      <td>11734.320312</td>\n",
       "    </tr>\n",
       "  </tbody>\n",
       "</table>\n",
       "</div>"
      ],
      "text/plain": [
       "            Date          Open          High           Low         Close  \\\n",
       "1982  2008-08-18  11659.650391  11690.429688  11434.120117  11479.389648   \n",
       "1983  2008-08-15  11611.209961  11709.889648  11599.730469  11659.900391   \n",
       "1984  2008-08-14  11532.070312  11718.280273  11450.889648  11615.929688   \n",
       "1985  2008-08-13  11632.809570  11633.780273  11453.339844  11532.959961   \n",
       "1986  2008-08-12  11781.700195  11782.349609  11601.519531  11642.469727   \n",
       "1987  2008-08-11  11729.669922  11867.110352  11675.530273  11782.349609   \n",
       "1988  2008-08-08  11432.089844  11759.959961  11388.040039  11734.320312   \n",
       "\n",
       "         Volume     Adj Close  \n",
       "1982  156290000  11479.389648  \n",
       "1983  215040000  11659.900391  \n",
       "1984  159790000  11615.929688  \n",
       "1985  182550000  11532.959961  \n",
       "1986  173590000  11642.469727  \n",
       "1987  183190000  11782.349609  \n",
       "1988  212830000  11734.320312  "
      ]
     },
     "execution_count": 78,
     "metadata": {},
     "output_type": "execute_result"
    }
   ],
   "source": [
    "df[1982:]\n",
    "#Or\n",
    "#df[5:7]"
   ]
  },
  {
   "cell_type": "code",
   "execution_count": 79,
   "metadata": {
    "_uuid": "0fcfcee2e9d8ec446576047b151e3953c1b99009"
   },
   "outputs": [
    {
     "name": "stdout",
     "output_type": "stream",
     "text": [
      "1989\n",
      "7\n"
     ]
    },
    {
     "data": {
      "text/html": [
       "<div>\n",
       "<style scoped>\n",
       "    .dataframe tbody tr th:only-of-type {\n",
       "        vertical-align: middle;\n",
       "    }\n",
       "\n",
       "    .dataframe tbody tr th {\n",
       "        vertical-align: top;\n",
       "    }\n",
       "\n",
       "    .dataframe thead th {\n",
       "        text-align: right;\n",
       "    }\n",
       "</style>\n",
       "<table border=\"1\" class=\"dataframe\">\n",
       "  <thead>\n",
       "    <tr style=\"text-align: right;\">\n",
       "      <th></th>\n",
       "      <th>Date</th>\n",
       "      <th>Open</th>\n",
       "      <th>High</th>\n",
       "      <th>Low</th>\n",
       "      <th>Close</th>\n",
       "      <th>Volume</th>\n",
       "      <th>Adj Close</th>\n",
       "    </tr>\n",
       "  </thead>\n",
       "  <tbody>\n",
       "    <tr>\n",
       "      <th>0</th>\n",
       "      <td>2016-07-01</td>\n",
       "      <td>17924.240234</td>\n",
       "      <td>18002.380859</td>\n",
       "      <td>17916.910156</td>\n",
       "      <td>17949.369141</td>\n",
       "      <td>82160000</td>\n",
       "      <td>17949.369141</td>\n",
       "    </tr>\n",
       "    <tr>\n",
       "      <th>1</th>\n",
       "      <td>2016-06-30</td>\n",
       "      <td>17712.759766</td>\n",
       "      <td>17930.609375</td>\n",
       "      <td>17711.800781</td>\n",
       "      <td>17929.990234</td>\n",
       "      <td>133030000</td>\n",
       "      <td>17929.990234</td>\n",
       "    </tr>\n",
       "    <tr>\n",
       "      <th>2</th>\n",
       "      <td>2016-06-29</td>\n",
       "      <td>17456.019531</td>\n",
       "      <td>17704.509766</td>\n",
       "      <td>17456.019531</td>\n",
       "      <td>17694.679688</td>\n",
       "      <td>106380000</td>\n",
       "      <td>17694.679688</td>\n",
       "    </tr>\n",
       "    <tr>\n",
       "      <th>3</th>\n",
       "      <td>2016-06-28</td>\n",
       "      <td>17190.509766</td>\n",
       "      <td>17409.720703</td>\n",
       "      <td>17190.509766</td>\n",
       "      <td>17409.720703</td>\n",
       "      <td>112190000</td>\n",
       "      <td>17409.720703</td>\n",
       "    </tr>\n",
       "    <tr>\n",
       "      <th>4</th>\n",
       "      <td>2016-06-27</td>\n",
       "      <td>17355.210938</td>\n",
       "      <td>17355.210938</td>\n",
       "      <td>17063.080078</td>\n",
       "      <td>17140.240234</td>\n",
       "      <td>138740000</td>\n",
       "      <td>17140.240234</td>\n",
       "    </tr>\n",
       "    <tr>\n",
       "      <th>5</th>\n",
       "      <td>2016-06-24</td>\n",
       "      <td>17946.630859</td>\n",
       "      <td>17946.630859</td>\n",
       "      <td>17356.339844</td>\n",
       "      <td>17400.750000</td>\n",
       "      <td>239000000</td>\n",
       "      <td>17400.750000</td>\n",
       "    </tr>\n",
       "    <tr>\n",
       "      <th>6</th>\n",
       "      <td>2016-06-23</td>\n",
       "      <td>17844.109375</td>\n",
       "      <td>18011.070312</td>\n",
       "      <td>17844.109375</td>\n",
       "      <td>18011.070312</td>\n",
       "      <td>98070000</td>\n",
       "      <td>18011.070312</td>\n",
       "    </tr>\n",
       "  </tbody>\n",
       "</table>\n",
       "</div>"
      ],
      "text/plain": [
       "         Date          Open          High           Low         Close  \\\n",
       "0  2016-07-01  17924.240234  18002.380859  17916.910156  17949.369141   \n",
       "1  2016-06-30  17712.759766  17930.609375  17711.800781  17929.990234   \n",
       "2  2016-06-29  17456.019531  17704.509766  17456.019531  17694.679688   \n",
       "3  2016-06-28  17190.509766  17409.720703  17190.509766  17409.720703   \n",
       "4  2016-06-27  17355.210938  17355.210938  17063.080078  17140.240234   \n",
       "5  2016-06-24  17946.630859  17946.630859  17356.339844  17400.750000   \n",
       "6  2016-06-23  17844.109375  18011.070312  17844.109375  18011.070312   \n",
       "\n",
       "      Volume     Adj Close  \n",
       "0   82160000  17949.369141  \n",
       "1  133030000  17929.990234  \n",
       "2  106380000  17694.679688  \n",
       "3  112190000  17409.720703  \n",
       "4  138740000  17140.240234  \n",
       "5  239000000  17400.750000  \n",
       "6   98070000  18011.070312  "
      ]
     },
     "execution_count": 79,
     "metadata": {},
     "output_type": "execute_result"
    }
   ],
   "source": [
    "print(len(df))\n",
    "print(len(df.columns))\n",
    "df[:-1982]"
   ]
  },
  {
   "cell_type": "markdown",
   "metadata": {
    "_uuid": "0d16f5649598feb417b990ac8d6e1571a193ef35"
   },
   "source": [
    "### **df.iloc[[n],[n]]** <a id=\"39\"></a>\n",
    "This code brings the data in the N row and N column in the DataFrame.\n",
    "\n",
    "<mark>[Return Contents](#0)\n",
    "<hr>"
   ]
  },
  {
   "cell_type": "code",
   "execution_count": 80,
   "metadata": {
    "_uuid": "de6796a0684aac7f6c37c9c9ff3e67308ba20adb"
   },
   "outputs": [
    {
     "data": {
      "text/html": [
       "<div>\n",
       "<style scoped>\n",
       "    .dataframe tbody tr th:only-of-type {\n",
       "        vertical-align: middle;\n",
       "    }\n",
       "\n",
       "    .dataframe tbody tr th {\n",
       "        vertical-align: top;\n",
       "    }\n",
       "\n",
       "    .dataframe thead th {\n",
       "        text-align: right;\n",
       "    }\n",
       "</style>\n",
       "<table border=\"1\" class=\"dataframe\">\n",
       "  <thead>\n",
       "    <tr style=\"text-align: right;\">\n",
       "      <th></th>\n",
       "      <th>Low</th>\n",
       "    </tr>\n",
       "  </thead>\n",
       "  <tbody>\n",
       "    <tr>\n",
       "      <th>0</th>\n",
       "      <td>17916.910156</td>\n",
       "    </tr>\n",
       "  </tbody>\n",
       "</table>\n",
       "</div>"
      ],
      "text/plain": [
       "            Low\n",
       "0  17916.910156"
      ]
     },
     "execution_count": 80,
     "metadata": {},
     "output_type": "execute_result"
    }
   ],
   "source": [
    "df.iloc[[0],[3]]"
   ]
  },
  {
   "cell_type": "markdown",
   "metadata": {
    "_uuid": "bb3b27a4c73fa3bccaf3457e8a6a8bacdb7f8b88"
   },
   "source": [
    "### **df.loc[n:n]** <a id=\"40\"></a>\n",
    "This code allows us to fetch the data in the range we specify.\n",
    "\n",
    "<mark>[Return Contents](#0)\n",
    "<hr>"
   ]
  },
  {
   "cell_type": "code",
   "execution_count": 81,
   "metadata": {
    "_uuid": "e0791dc5f7012b248d6216bc3edfc5af591c50ea"
   },
   "outputs": [
    {
     "data": {
      "text/html": [
       "<div>\n",
       "<style scoped>\n",
       "    .dataframe tbody tr th:only-of-type {\n",
       "        vertical-align: middle;\n",
       "    }\n",
       "\n",
       "    .dataframe tbody tr th {\n",
       "        vertical-align: top;\n",
       "    }\n",
       "\n",
       "    .dataframe thead th {\n",
       "        text-align: right;\n",
       "    }\n",
       "</style>\n",
       "<table border=\"1\" class=\"dataframe\">\n",
       "  <thead>\n",
       "    <tr style=\"text-align: right;\">\n",
       "      <th></th>\n",
       "      <th>Date</th>\n",
       "      <th>Open</th>\n",
       "      <th>High</th>\n",
       "      <th>Low</th>\n",
       "      <th>Close</th>\n",
       "      <th>Volume</th>\n",
       "      <th>Adj Close</th>\n",
       "    </tr>\n",
       "  </thead>\n",
       "  <tbody>\n",
       "    <tr>\n",
       "      <th>5</th>\n",
       "      <td>2016-06-24</td>\n",
       "      <td>17946.630859</td>\n",
       "      <td>17946.630859</td>\n",
       "      <td>17356.339844</td>\n",
       "      <td>17400.750000</td>\n",
       "      <td>239000000</td>\n",
       "      <td>17400.750000</td>\n",
       "    </tr>\n",
       "    <tr>\n",
       "      <th>6</th>\n",
       "      <td>2016-06-23</td>\n",
       "      <td>17844.109375</td>\n",
       "      <td>18011.070312</td>\n",
       "      <td>17844.109375</td>\n",
       "      <td>18011.070312</td>\n",
       "      <td>98070000</td>\n",
       "      <td>18011.070312</td>\n",
       "    </tr>\n",
       "    <tr>\n",
       "      <th>7</th>\n",
       "      <td>2016-06-22</td>\n",
       "      <td>17832.669922</td>\n",
       "      <td>17920.160156</td>\n",
       "      <td>17770.359375</td>\n",
       "      <td>17780.830078</td>\n",
       "      <td>89440000</td>\n",
       "      <td>17780.830078</td>\n",
       "    </tr>\n",
       "  </tbody>\n",
       "</table>\n",
       "</div>"
      ],
      "text/plain": [
       "         Date          Open          High           Low         Close  \\\n",
       "5  2016-06-24  17946.630859  17946.630859  17356.339844  17400.750000   \n",
       "6  2016-06-23  17844.109375  18011.070312  17844.109375  18011.070312   \n",
       "7  2016-06-22  17832.669922  17920.160156  17770.359375  17780.830078   \n",
       "\n",
       "      Volume     Adj Close  \n",
       "5  239000000  17400.750000  \n",
       "6   98070000  18011.070312  \n",
       "7   89440000  17780.830078  "
      ]
     },
     "execution_count": 81,
     "metadata": {},
     "output_type": "execute_result"
    }
   ],
   "source": [
    "#df.loc[n:]\n",
    "# OR\n",
    "df.loc[5:7]"
   ]
  },
  {
   "cell_type": "code",
   "execution_count": 82,
   "metadata": {
    "_uuid": "e39c76c00a7331f0a7cfda5c8ff0520a3fd3ae12"
   },
   "outputs": [
    {
     "data": {
      "text/html": [
       "<div>\n",
       "<style scoped>\n",
       "    .dataframe tbody tr th:only-of-type {\n",
       "        vertical-align: middle;\n",
       "    }\n",
       "\n",
       "    .dataframe tbody tr th {\n",
       "        vertical-align: top;\n",
       "    }\n",
       "\n",
       "    .dataframe thead th {\n",
       "        text-align: right;\n",
       "    }\n",
       "</style>\n",
       "<table border=\"1\" class=\"dataframe\">\n",
       "  <thead>\n",
       "    <tr style=\"text-align: right;\">\n",
       "      <th></th>\n",
       "      <th>Date</th>\n",
       "      <th>Open</th>\n",
       "      <th>High</th>\n",
       "      <th>Low</th>\n",
       "      <th>Close</th>\n",
       "      <th>Volume</th>\n",
       "      <th>Adj Close</th>\n",
       "    </tr>\n",
       "  </thead>\n",
       "  <tbody>\n",
       "    <tr>\n",
       "      <th>0</th>\n",
       "      <td>2016-07-01</td>\n",
       "      <td>17924.240234</td>\n",
       "      <td>18002.380859</td>\n",
       "      <td>17916.910156</td>\n",
       "      <td>17949.369141</td>\n",
       "      <td>82160000</td>\n",
       "      <td>17949.369141</td>\n",
       "    </tr>\n",
       "    <tr>\n",
       "      <th>1</th>\n",
       "      <td>2016-06-30</td>\n",
       "      <td>17712.759766</td>\n",
       "      <td>17930.609375</td>\n",
       "      <td>17711.800781</td>\n",
       "      <td>17929.990234</td>\n",
       "      <td>133030000</td>\n",
       "      <td>17929.990234</td>\n",
       "    </tr>\n",
       "    <tr>\n",
       "      <th>2</th>\n",
       "      <td>2016-06-29</td>\n",
       "      <td>17456.019531</td>\n",
       "      <td>17704.509766</td>\n",
       "      <td>17456.019531</td>\n",
       "      <td>17694.679688</td>\n",
       "      <td>106380000</td>\n",
       "      <td>17694.679688</td>\n",
       "    </tr>\n",
       "    <tr>\n",
       "      <th>3</th>\n",
       "      <td>2016-06-28</td>\n",
       "      <td>17190.509766</td>\n",
       "      <td>17409.720703</td>\n",
       "      <td>17190.509766</td>\n",
       "      <td>17409.720703</td>\n",
       "      <td>112190000</td>\n",
       "      <td>17409.720703</td>\n",
       "    </tr>\n",
       "    <tr>\n",
       "      <th>4</th>\n",
       "      <td>2016-06-27</td>\n",
       "      <td>17355.210938</td>\n",
       "      <td>17355.210938</td>\n",
       "      <td>17063.080078</td>\n",
       "      <td>17140.240234</td>\n",
       "      <td>138740000</td>\n",
       "      <td>17140.240234</td>\n",
       "    </tr>\n",
       "    <tr>\n",
       "      <th>5</th>\n",
       "      <td>2016-06-24</td>\n",
       "      <td>17946.630859</td>\n",
       "      <td>17946.630859</td>\n",
       "      <td>17356.339844</td>\n",
       "      <td>17400.750000</td>\n",
       "      <td>239000000</td>\n",
       "      <td>17400.750000</td>\n",
       "    </tr>\n",
       "    <tr>\n",
       "      <th>6</th>\n",
       "      <td>2016-06-23</td>\n",
       "      <td>17844.109375</td>\n",
       "      <td>18011.070312</td>\n",
       "      <td>17844.109375</td>\n",
       "      <td>18011.070312</td>\n",
       "      <td>98070000</td>\n",
       "      <td>18011.070312</td>\n",
       "    </tr>\n",
       "    <tr>\n",
       "      <th>7</th>\n",
       "      <td>2016-06-22</td>\n",
       "      <td>17832.669922</td>\n",
       "      <td>17920.160156</td>\n",
       "      <td>17770.359375</td>\n",
       "      <td>17780.830078</td>\n",
       "      <td>89440000</td>\n",
       "      <td>17780.830078</td>\n",
       "    </tr>\n",
       "  </tbody>\n",
       "</table>\n",
       "</div>"
      ],
      "text/plain": [
       "         Date          Open          High           Low         Close  \\\n",
       "0  2016-07-01  17924.240234  18002.380859  17916.910156  17949.369141   \n",
       "1  2016-06-30  17712.759766  17930.609375  17711.800781  17929.990234   \n",
       "2  2016-06-29  17456.019531  17704.509766  17456.019531  17694.679688   \n",
       "3  2016-06-28  17190.509766  17409.720703  17190.509766  17409.720703   \n",
       "4  2016-06-27  17355.210938  17355.210938  17063.080078  17140.240234   \n",
       "5  2016-06-24  17946.630859  17946.630859  17356.339844  17400.750000   \n",
       "6  2016-06-23  17844.109375  18011.070312  17844.109375  18011.070312   \n",
       "7  2016-06-22  17832.669922  17920.160156  17770.359375  17780.830078   \n",
       "\n",
       "      Volume     Adj Close  \n",
       "0   82160000  17949.369141  \n",
       "1  133030000  17929.990234  \n",
       "2  106380000  17694.679688  \n",
       "3  112190000  17409.720703  \n",
       "4  138740000  17140.240234  \n",
       "5  239000000  17400.750000  \n",
       "6   98070000  18011.070312  \n",
       "7   89440000  17780.830078  "
      ]
     },
     "execution_count": 82,
     "metadata": {},
     "output_type": "execute_result"
    }
   ],
   "source": [
    "df.loc[:7]"
   ]
  },
  {
   "cell_type": "markdown",
   "metadata": {
    "_uuid": "5d7dfc275348d58e53436938e96d3233b4d6753e"
   },
   "source": [
    "### **df['columnName']** <a id=\"41\"></a>\n",
    "With this code, we can select and bring any column we want.\n",
    "\n",
    "<mark>[Return Contents](#0)\n",
    "<hr>"
   ]
  },
  {
   "cell_type": "code",
   "execution_count": 83,
   "metadata": {
    "_uuid": "da3167e40f0419054bde6e6d168bb22bce24973b"
   },
   "outputs": [
    {
     "data": {
      "text/plain": [
       "0    17924.240234\n",
       "1    17712.759766\n",
       "2    17456.019531\n",
       "3    17190.509766\n",
       "4    17355.210938\n",
       "Name: Open, dtype: float64"
      ]
     },
     "execution_count": 83,
     "metadata": {},
     "output_type": "execute_result"
    }
   ],
   "source": [
    "df['Open'].head()\n",
    "# OR\n",
    "# df.Open"
   ]
  },
  {
   "cell_type": "markdown",
   "metadata": {
    "_uuid": "394d9e7a7b3bd7077a490a264ef4d308e035771f"
   },
   "source": [
    "### **df['columnName'][n]** <a id=\"42\"></a>\n",
    "With this code, we can select and return any value of the column we want.\n",
    "\n",
    "<mark>[Return Contents](#0)\n",
    "<hr>"
   ]
  },
  {
   "cell_type": "code",
   "execution_count": 84,
   "metadata": {
    "_uuid": "40f514f220034b9d27c8390147c577f69a5c5dac"
   },
   "outputs": [
    {
     "data": {
      "text/plain": [
       "Open    17712.8\n",
       "Name: 1, dtype: object"
      ]
     },
     "execution_count": 84,
     "metadata": {},
     "output_type": "execute_result"
    }
   ],
   "source": [
    "df['Open'][0]\n",
    "# OR\n",
    "# df.Open[0]\n",
    "# df[\"Open\"][1]\n",
    "df.loc[1,[\"Open\"]]"
   ]
  },
  {
   "cell_type": "markdown",
   "metadata": {
    "_uuid": "714c9cc591916b1bd88f2bc164a76aa37092ab3e"
   },
   "source": [
    "### **df['columnName'].nunique()** <a id=\"43\"></a>\n",
    "This code shows how many of the data that is in the selected column and does not repeat.\n",
    "\n",
    "<mark>[Return Contents](#0)\n",
    "<hr>"
   ]
  },
  {
   "cell_type": "code",
   "execution_count": 85,
   "metadata": {
    "_uuid": "7e5559e6f63e2d975e99666574f110b87a58e74a"
   },
   "outputs": [
    {
     "data": {
      "text/plain": [
       "1980"
      ]
     },
     "execution_count": 85,
     "metadata": {},
     "output_type": "execute_result"
    }
   ],
   "source": [
    "df['Open'].nunique()"
   ]
  },
  {
   "cell_type": "markdown",
   "metadata": {
    "_uuid": "1326f2c62207fd3345f16bfc5728b8ddf3988257"
   },
   "source": [
    "### **df['columnName'].unique()** <a id=\"44\"></a>\n",
    "This code shows which of the data in the selected column repeats.\n",
    "\n",
    "<mark>[Return Contents](#0)\n",
    "<hr>"
   ]
  },
  {
   "cell_type": "code",
   "execution_count": 86,
   "metadata": {
    "_uuid": "88ffb43d255ad0a471be3a27732e3c5158ba8fd7"
   },
   "outputs": [
    {
     "data": {
      "text/plain": [
       "array([17924.240234, 17712.759766, 17456.019531, ..., 11781.700195,\n",
       "       11729.669922, 11432.089844])"
      ]
     },
     "execution_count": 86,
     "metadata": {},
     "output_type": "execute_result"
    }
   ],
   "source": [
    "df['Open'].unique()\n",
    "# We can write the above code as follows:: df.Open.unique()"
   ]
  },
  {
   "cell_type": "markdown",
   "metadata": {
    "_uuid": "a394405d4c8055ace028e2b360af9a495e3aca79"
   },
   "source": [
    "### **df.columnName** <a id=\"45\"></a>\n",
    "This code is another way to select the column we want.\n",
    "\n",
    "<mark>[Return Contents](#0)\n",
    "<hr>"
   ]
  },
  {
   "cell_type": "code",
   "execution_count": 87,
   "metadata": {
    "_uuid": "5fb80a8a47528d73d77d0369d27ad02855a675e6"
   },
   "outputs": [
    {
     "data": {
      "text/plain": [
       "0    17924.240234\n",
       "1    17712.759766\n",
       "2    17456.019531\n",
       "3    17190.509766\n",
       "4    17355.210938\n",
       "Name: Open, dtype: float64"
      ]
     },
     "execution_count": 87,
     "metadata": {},
     "output_type": "execute_result"
    }
   ],
   "source": [
    "df.Open.head()"
   ]
  },
  {
   "cell_type": "markdown",
   "metadata": {
    "_uuid": "260398cf0a5fd7774021f5b85aa651d76869fe61"
   },
   "source": [
    "### **df['columnName'].value_counts(dropna =False)** <a id=\"46\"></a>\n",
    "This code counts all of the data in the column we have specified, but does not count the null/none values.\n",
    "\n",
    "<mark>[Return Contents](#0)\n",
    "<hr>"
   ]
  },
  {
   "cell_type": "code",
   "execution_count": 88,
   "metadata": {
    "_uuid": "6bed66e2f74a1f00e10fad7cf874b962cb3bdfc8"
   },
   "outputs": [
    {
     "name": "stdout",
     "output_type": "stream",
     "text": [
      "17374.779297    2\n",
      "18033.330078    2\n",
      "10309.389648    2\n",
      "17711.119141    2\n",
      "17812.250000    2\n",
      "Name: Open, dtype: int64\n"
     ]
    }
   ],
   "source": [
    "print(df.Open.value_counts(dropna =True).head())\n",
    "# OR\n",
    "# print(df['Item'].value_counts(dropna =False))"
   ]
  },
  {
   "cell_type": "markdown",
   "metadata": {
    "_uuid": "f9b78c632be9052e8713a529fd74dd59ae769b71"
   },
   "source": [
    "### **df.head(n)** <a id=\"47\"></a>\n",
    "This code optionally brings in the first 5 data. returns the number of data that you type instead of N.\n",
    "\n",
    "<mark>[Return Contents](#0)\n",
    "<hr>"
   ]
  },
  {
   "cell_type": "code",
   "execution_count": 89,
   "metadata": {
    "_uuid": "e9751b0512899f2d84eb07d8bd24b45351f564a3"
   },
   "outputs": [
    {
     "data": {
      "text/html": [
       "<div>\n",
       "<style scoped>\n",
       "    .dataframe tbody tr th:only-of-type {\n",
       "        vertical-align: middle;\n",
       "    }\n",
       "\n",
       "    .dataframe tbody tr th {\n",
       "        vertical-align: top;\n",
       "    }\n",
       "\n",
       "    .dataframe thead th {\n",
       "        text-align: right;\n",
       "    }\n",
       "</style>\n",
       "<table border=\"1\" class=\"dataframe\">\n",
       "  <thead>\n",
       "    <tr style=\"text-align: right;\">\n",
       "      <th></th>\n",
       "      <th>Date</th>\n",
       "      <th>Open</th>\n",
       "      <th>High</th>\n",
       "      <th>Low</th>\n",
       "      <th>Close</th>\n",
       "      <th>Volume</th>\n",
       "      <th>Adj Close</th>\n",
       "    </tr>\n",
       "  </thead>\n",
       "  <tbody>\n",
       "    <tr>\n",
       "      <th>0</th>\n",
       "      <td>2016-07-01</td>\n",
       "      <td>17924.240234</td>\n",
       "      <td>18002.380859</td>\n",
       "      <td>17916.910156</td>\n",
       "      <td>17949.369141</td>\n",
       "      <td>82160000</td>\n",
       "      <td>17949.369141</td>\n",
       "    </tr>\n",
       "    <tr>\n",
       "      <th>1</th>\n",
       "      <td>2016-06-30</td>\n",
       "      <td>17712.759766</td>\n",
       "      <td>17930.609375</td>\n",
       "      <td>17711.800781</td>\n",
       "      <td>17929.990234</td>\n",
       "      <td>133030000</td>\n",
       "      <td>17929.990234</td>\n",
       "    </tr>\n",
       "    <tr>\n",
       "      <th>2</th>\n",
       "      <td>2016-06-29</td>\n",
       "      <td>17456.019531</td>\n",
       "      <td>17704.509766</td>\n",
       "      <td>17456.019531</td>\n",
       "      <td>17694.679688</td>\n",
       "      <td>106380000</td>\n",
       "      <td>17694.679688</td>\n",
       "    </tr>\n",
       "    <tr>\n",
       "      <th>3</th>\n",
       "      <td>2016-06-28</td>\n",
       "      <td>17190.509766</td>\n",
       "      <td>17409.720703</td>\n",
       "      <td>17190.509766</td>\n",
       "      <td>17409.720703</td>\n",
       "      <td>112190000</td>\n",
       "      <td>17409.720703</td>\n",
       "    </tr>\n",
       "    <tr>\n",
       "      <th>4</th>\n",
       "      <td>2016-06-27</td>\n",
       "      <td>17355.210938</td>\n",
       "      <td>17355.210938</td>\n",
       "      <td>17063.080078</td>\n",
       "      <td>17140.240234</td>\n",
       "      <td>138740000</td>\n",
       "      <td>17140.240234</td>\n",
       "    </tr>\n",
       "  </tbody>\n",
       "</table>\n",
       "</div>"
      ],
      "text/plain": [
       "         Date          Open          High           Low         Close  \\\n",
       "0  2016-07-01  17924.240234  18002.380859  17916.910156  17949.369141   \n",
       "1  2016-06-30  17712.759766  17930.609375  17711.800781  17929.990234   \n",
       "2  2016-06-29  17456.019531  17704.509766  17456.019531  17694.679688   \n",
       "3  2016-06-28  17190.509766  17409.720703  17190.509766  17409.720703   \n",
       "4  2016-06-27  17355.210938  17355.210938  17063.080078  17140.240234   \n",
       "\n",
       "      Volume     Adj Close  \n",
       "0   82160000  17949.369141  \n",
       "1  133030000  17929.990234  \n",
       "2  106380000  17694.679688  \n",
       "3  112190000  17409.720703  \n",
       "4  138740000  17140.240234  "
      ]
     },
     "execution_count": 89,
     "metadata": {},
     "output_type": "execute_result"
    }
   ],
   "source": [
    "df.head()\n",
    "# OR\n",
    "# df.head(15)"
   ]
  },
  {
   "cell_type": "markdown",
   "metadata": {
    "_uuid": "be2de7201deaea863247067fe5432746c0d04cba"
   },
   "source": [
    "### **df.tail(n)** <a id=\"48\"></a>\n",
    "This code optionally brings 5 data at the end. returns the number of data that you type instead of N.\n",
    "\n",
    "<mark>[Return Contents](#0)\n",
    "<hr>"
   ]
  },
  {
   "cell_type": "code",
   "execution_count": 90,
   "metadata": {
    "_uuid": "318f20d9624d31dc6a3f8150523b266da9acfcc5"
   },
   "outputs": [
    {
     "data": {
      "text/html": [
       "<div>\n",
       "<style scoped>\n",
       "    .dataframe tbody tr th:only-of-type {\n",
       "        vertical-align: middle;\n",
       "    }\n",
       "\n",
       "    .dataframe tbody tr th {\n",
       "        vertical-align: top;\n",
       "    }\n",
       "\n",
       "    .dataframe thead th {\n",
       "        text-align: right;\n",
       "    }\n",
       "</style>\n",
       "<table border=\"1\" class=\"dataframe\">\n",
       "  <thead>\n",
       "    <tr style=\"text-align: right;\">\n",
       "      <th></th>\n",
       "      <th>Date</th>\n",
       "      <th>Open</th>\n",
       "      <th>High</th>\n",
       "      <th>Low</th>\n",
       "      <th>Close</th>\n",
       "      <th>Volume</th>\n",
       "      <th>Adj Close</th>\n",
       "    </tr>\n",
       "  </thead>\n",
       "  <tbody>\n",
       "    <tr>\n",
       "      <th>1984</th>\n",
       "      <td>2008-08-14</td>\n",
       "      <td>11532.070312</td>\n",
       "      <td>11718.280273</td>\n",
       "      <td>11450.889648</td>\n",
       "      <td>11615.929688</td>\n",
       "      <td>159790000</td>\n",
       "      <td>11615.929688</td>\n",
       "    </tr>\n",
       "    <tr>\n",
       "      <th>1985</th>\n",
       "      <td>2008-08-13</td>\n",
       "      <td>11632.809570</td>\n",
       "      <td>11633.780273</td>\n",
       "      <td>11453.339844</td>\n",
       "      <td>11532.959961</td>\n",
       "      <td>182550000</td>\n",
       "      <td>11532.959961</td>\n",
       "    </tr>\n",
       "    <tr>\n",
       "      <th>1986</th>\n",
       "      <td>2008-08-12</td>\n",
       "      <td>11781.700195</td>\n",
       "      <td>11782.349609</td>\n",
       "      <td>11601.519531</td>\n",
       "      <td>11642.469727</td>\n",
       "      <td>173590000</td>\n",
       "      <td>11642.469727</td>\n",
       "    </tr>\n",
       "    <tr>\n",
       "      <th>1987</th>\n",
       "      <td>2008-08-11</td>\n",
       "      <td>11729.669922</td>\n",
       "      <td>11867.110352</td>\n",
       "      <td>11675.530273</td>\n",
       "      <td>11782.349609</td>\n",
       "      <td>183190000</td>\n",
       "      <td>11782.349609</td>\n",
       "    </tr>\n",
       "    <tr>\n",
       "      <th>1988</th>\n",
       "      <td>2008-08-08</td>\n",
       "      <td>11432.089844</td>\n",
       "      <td>11759.959961</td>\n",
       "      <td>11388.040039</td>\n",
       "      <td>11734.320312</td>\n",
       "      <td>212830000</td>\n",
       "      <td>11734.320312</td>\n",
       "    </tr>\n",
       "  </tbody>\n",
       "</table>\n",
       "</div>"
      ],
      "text/plain": [
       "            Date          Open          High           Low         Close  \\\n",
       "1984  2008-08-14  11532.070312  11718.280273  11450.889648  11615.929688   \n",
       "1985  2008-08-13  11632.809570  11633.780273  11453.339844  11532.959961   \n",
       "1986  2008-08-12  11781.700195  11782.349609  11601.519531  11642.469727   \n",
       "1987  2008-08-11  11729.669922  11867.110352  11675.530273  11782.349609   \n",
       "1988  2008-08-08  11432.089844  11759.959961  11388.040039  11734.320312   \n",
       "\n",
       "         Volume     Adj Close  \n",
       "1984  159790000  11615.929688  \n",
       "1985  182550000  11532.959961  \n",
       "1986  173590000  11642.469727  \n",
       "1987  183190000  11782.349609  \n",
       "1988  212830000  11734.320312  "
      ]
     },
     "execution_count": 90,
     "metadata": {},
     "output_type": "execute_result"
    }
   ],
   "source": [
    "df.tail()\n",
    "# OR\n",
    "# df.tail(20)"
   ]
  },
  {
   "cell_type": "markdown",
   "metadata": {
    "_uuid": "fb84fc0ec1005c386ca34948dbc31a2f78482524"
   },
   "source": [
    "### **df.sample(n)** <a id=\"49\"></a>\n",
    "This code fetches random n data from the data.\n",
    "\n",
    "<mark>[Return Contents](#0)\n",
    "<hr>"
   ]
  },
  {
   "cell_type": "code",
   "execution_count": 91,
   "metadata": {
    "_uuid": "2c37c0c809209201733af989a00806683f498f04"
   },
   "outputs": [
    {
     "data": {
      "text/html": [
       "<div>\n",
       "<style scoped>\n",
       "    .dataframe tbody tr th:only-of-type {\n",
       "        vertical-align: middle;\n",
       "    }\n",
       "\n",
       "    .dataframe tbody tr th {\n",
       "        vertical-align: top;\n",
       "    }\n",
       "\n",
       "    .dataframe thead th {\n",
       "        text-align: right;\n",
       "    }\n",
       "</style>\n",
       "<table border=\"1\" class=\"dataframe\">\n",
       "  <thead>\n",
       "    <tr style=\"text-align: right;\">\n",
       "      <th></th>\n",
       "      <th>Date</th>\n",
       "      <th>Open</th>\n",
       "      <th>High</th>\n",
       "      <th>Low</th>\n",
       "      <th>Close</th>\n",
       "      <th>Volume</th>\n",
       "      <th>Adj Close</th>\n",
       "    </tr>\n",
       "  </thead>\n",
       "  <tbody>\n",
       "    <tr>\n",
       "      <th>318</th>\n",
       "      <td>2015-03-30</td>\n",
       "      <td>17727.480469</td>\n",
       "      <td>18008.640625</td>\n",
       "      <td>17727.480469</td>\n",
       "      <td>17976.310547</td>\n",
       "      <td>104040000</td>\n",
       "      <td>17976.310547</td>\n",
       "    </tr>\n",
       "    <tr>\n",
       "      <th>651</th>\n",
       "      <td>2013-11-29</td>\n",
       "      <td>16105.160156</td>\n",
       "      <td>16174.509766</td>\n",
       "      <td>16074.139648</td>\n",
       "      <td>16086.410156</td>\n",
       "      <td>69190000</td>\n",
       "      <td>16086.410156</td>\n",
       "    </tr>\n",
       "    <tr>\n",
       "      <th>558</th>\n",
       "      <td>2014-04-15</td>\n",
       "      <td>16173.490234</td>\n",
       "      <td>16272.950195</td>\n",
       "      <td>16063.200195</td>\n",
       "      <td>16262.559570</td>\n",
       "      <td>97850000</td>\n",
       "      <td>16262.559570</td>\n",
       "    </tr>\n",
       "    <tr>\n",
       "      <th>190</th>\n",
       "      <td>2015-09-30</td>\n",
       "      <td>16057.080078</td>\n",
       "      <td>16297.599609</td>\n",
       "      <td>16057.080078</td>\n",
       "      <td>16284.700195</td>\n",
       "      <td>145740000</td>\n",
       "      <td>16284.700195</td>\n",
       "    </tr>\n",
       "    <tr>\n",
       "      <th>602</th>\n",
       "      <td>2014-02-11</td>\n",
       "      <td>15804.169922</td>\n",
       "      <td>16027.190430</td>\n",
       "      <td>15803.400391</td>\n",
       "      <td>15994.769531</td>\n",
       "      <td>95930000</td>\n",
       "      <td>15994.769531</td>\n",
       "    </tr>\n",
       "  </tbody>\n",
       "</table>\n",
       "</div>"
      ],
      "text/plain": [
       "           Date          Open          High           Low         Close  \\\n",
       "318  2015-03-30  17727.480469  18008.640625  17727.480469  17976.310547   \n",
       "651  2013-11-29  16105.160156  16174.509766  16074.139648  16086.410156   \n",
       "558  2014-04-15  16173.490234  16272.950195  16063.200195  16262.559570   \n",
       "190  2015-09-30  16057.080078  16297.599609  16057.080078  16284.700195   \n",
       "602  2014-02-11  15804.169922  16027.190430  15803.400391  15994.769531   \n",
       "\n",
       "        Volume     Adj Close  \n",
       "318  104040000  17976.310547  \n",
       "651   69190000  16086.410156  \n",
       "558   97850000  16262.559570  \n",
       "190  145740000  16284.700195  \n",
       "602   95930000  15994.769531  "
      ]
     },
     "execution_count": 91,
     "metadata": {},
     "output_type": "execute_result"
    }
   ],
   "source": [
    "df.sample(frac=.3).tail()"
   ]
  },
  {
   "cell_type": "code",
   "execution_count": 92,
   "metadata": {
    "_uuid": "9b7035347af1daf7a0ad44800c58655ec290a5ad"
   },
   "outputs": [
    {
     "data": {
      "text/html": [
       "<div>\n",
       "<style scoped>\n",
       "    .dataframe tbody tr th:only-of-type {\n",
       "        vertical-align: middle;\n",
       "    }\n",
       "\n",
       "    .dataframe tbody tr th {\n",
       "        vertical-align: top;\n",
       "    }\n",
       "\n",
       "    .dataframe thead th {\n",
       "        text-align: right;\n",
       "    }\n",
       "</style>\n",
       "<table border=\"1\" class=\"dataframe\">\n",
       "  <thead>\n",
       "    <tr style=\"text-align: right;\">\n",
       "      <th></th>\n",
       "      <th>Date</th>\n",
       "      <th>Open</th>\n",
       "      <th>High</th>\n",
       "      <th>Low</th>\n",
       "      <th>Close</th>\n",
       "      <th>Volume</th>\n",
       "      <th>Adj Close</th>\n",
       "    </tr>\n",
       "  </thead>\n",
       "  <tbody>\n",
       "    <tr>\n",
       "      <th>1057</th>\n",
       "      <td>2012-04-19</td>\n",
       "      <td>13028.730469</td>\n",
       "      <td>13080.200195</td>\n",
       "      <td>12896.820312</td>\n",
       "      <td>12964.099609</td>\n",
       "      <td>139810000</td>\n",
       "      <td>12964.099609</td>\n",
       "    </tr>\n",
       "    <tr>\n",
       "      <th>1359</th>\n",
       "      <td>2011-02-07</td>\n",
       "      <td>12092.379883</td>\n",
       "      <td>12188.759766</td>\n",
       "      <td>12092.299805</td>\n",
       "      <td>12161.629883</td>\n",
       "      <td>132960000</td>\n",
       "      <td>12161.629883</td>\n",
       "    </tr>\n",
       "    <tr>\n",
       "      <th>1274</th>\n",
       "      <td>2011-06-09</td>\n",
       "      <td>12049.469727</td>\n",
       "      <td>12183.120117</td>\n",
       "      <td>12049.089844</td>\n",
       "      <td>12124.360352</td>\n",
       "      <td>149700000</td>\n",
       "      <td>12124.360352</td>\n",
       "    </tr>\n",
       "    <tr>\n",
       "      <th>638</th>\n",
       "      <td>2013-12-18</td>\n",
       "      <td>15876.570312</td>\n",
       "      <td>16173.040039</td>\n",
       "      <td>15808.919922</td>\n",
       "      <td>16167.969727</td>\n",
       "      <td>129620000</td>\n",
       "      <td>16167.969727</td>\n",
       "    </tr>\n",
       "    <tr>\n",
       "      <th>374</th>\n",
       "      <td>2015-01-07</td>\n",
       "      <td>17374.779297</td>\n",
       "      <td>17597.080078</td>\n",
       "      <td>17374.779297</td>\n",
       "      <td>17584.519531</td>\n",
       "      <td>91030000</td>\n",
       "      <td>17584.519531</td>\n",
       "    </tr>\n",
       "  </tbody>\n",
       "</table>\n",
       "</div>"
      ],
      "text/plain": [
       "            Date          Open          High           Low         Close  \\\n",
       "1057  2012-04-19  13028.730469  13080.200195  12896.820312  12964.099609   \n",
       "1359  2011-02-07  12092.379883  12188.759766  12092.299805  12161.629883   \n",
       "1274  2011-06-09  12049.469727  12183.120117  12049.089844  12124.360352   \n",
       "638   2013-12-18  15876.570312  16173.040039  15808.919922  16167.969727   \n",
       "374   2015-01-07  17374.779297  17597.080078  17374.779297  17584.519531   \n",
       "\n",
       "         Volume     Adj Close  \n",
       "1057  139810000  12964.099609  \n",
       "1359  132960000  12161.629883  \n",
       "1274  149700000  12124.360352  \n",
       "638   129620000  16167.969727  \n",
       "374    91030000  17584.519531  "
      ]
     },
     "execution_count": 92,
     "metadata": {},
     "output_type": "execute_result"
    }
   ],
   "source": [
    "df.sample(5)"
   ]
  },
  {
   "cell_type": "markdown",
   "metadata": {
    "_uuid": "5fc0c9e236247779b6f929004ba980bf2bb3487a"
   },
   "source": [
    "### **df.sample(frac=0.5)** <a id=\"50\"></a>\n",
    "This code selects the fractions of random rows and fetches the data to that extent.\n",
    "\n",
    "<mark>[Return Contents](#0)\n",
    "<hr>"
   ]
  },
  {
   "cell_type": "code",
   "execution_count": 93,
   "metadata": {
    "_uuid": "501b38a9b6abe3f5fed9da98a0d4d0fb095fe2c5"
   },
   "outputs": [
    {
     "data": {
      "text/html": [
       "<div>\n",
       "<style scoped>\n",
       "    .dataframe tbody tr th:only-of-type {\n",
       "        vertical-align: middle;\n",
       "    }\n",
       "\n",
       "    .dataframe tbody tr th {\n",
       "        vertical-align: top;\n",
       "    }\n",
       "\n",
       "    .dataframe thead th {\n",
       "        text-align: right;\n",
       "    }\n",
       "</style>\n",
       "<table border=\"1\" class=\"dataframe\">\n",
       "  <thead>\n",
       "    <tr style=\"text-align: right;\">\n",
       "      <th></th>\n",
       "      <th>Date</th>\n",
       "      <th>Open</th>\n",
       "      <th>High</th>\n",
       "      <th>Low</th>\n",
       "      <th>Close</th>\n",
       "      <th>Volume</th>\n",
       "      <th>Adj Close</th>\n",
       "    </tr>\n",
       "  </thead>\n",
       "  <tbody>\n",
       "    <tr>\n",
       "      <th>1435</th>\n",
       "      <td>2010-10-19</td>\n",
       "      <td>11139.599609</td>\n",
       "      <td>11139.599609</td>\n",
       "      <td>10917.620117</td>\n",
       "      <td>10978.620117</td>\n",
       "      <td>247640000</td>\n",
       "      <td>10978.620117</td>\n",
       "    </tr>\n",
       "    <tr>\n",
       "      <th>304</th>\n",
       "      <td>2015-04-20</td>\n",
       "      <td>17841.179688</td>\n",
       "      <td>18092.220703</td>\n",
       "      <td>17841.179688</td>\n",
       "      <td>18034.929688</td>\n",
       "      <td>103160000</td>\n",
       "      <td>18034.929688</td>\n",
       "    </tr>\n",
       "    <tr>\n",
       "      <th>766</th>\n",
       "      <td>2013-06-18</td>\n",
       "      <td>15186.299805</td>\n",
       "      <td>15340.089844</td>\n",
       "      <td>15186.299805</td>\n",
       "      <td>15318.230469</td>\n",
       "      <td>99210000</td>\n",
       "      <td>15318.230469</td>\n",
       "    </tr>\n",
       "    <tr>\n",
       "      <th>1626</th>\n",
       "      <td>2010-01-15</td>\n",
       "      <td>10706.990234</td>\n",
       "      <td>10709.940430</td>\n",
       "      <td>10561.059570</td>\n",
       "      <td>10609.650391</td>\n",
       "      <td>362930000</td>\n",
       "      <td>10609.650391</td>\n",
       "    </tr>\n",
       "    <tr>\n",
       "      <th>1859</th>\n",
       "      <td>2009-02-12</td>\n",
       "      <td>7931.970215</td>\n",
       "      <td>7938.819824</td>\n",
       "      <td>7693.979980</td>\n",
       "      <td>7932.759766</td>\n",
       "      <td>331960000</td>\n",
       "      <td>7932.759766</td>\n",
       "    </tr>\n",
       "  </tbody>\n",
       "</table>\n",
       "</div>"
      ],
      "text/plain": [
       "            Date          Open          High           Low         Close  \\\n",
       "1435  2010-10-19  11139.599609  11139.599609  10917.620117  10978.620117   \n",
       "304   2015-04-20  17841.179688  18092.220703  17841.179688  18034.929688   \n",
       "766   2013-06-18  15186.299805  15340.089844  15186.299805  15318.230469   \n",
       "1626  2010-01-15  10706.990234  10709.940430  10561.059570  10609.650391   \n",
       "1859  2009-02-12   7931.970215   7938.819824   7693.979980   7932.759766   \n",
       "\n",
       "         Volume     Adj Close  \n",
       "1435  247640000  10978.620117  \n",
       "304   103160000  18034.929688  \n",
       "766    99210000  15318.230469  \n",
       "1626  362930000  10609.650391  \n",
       "1859  331960000   7932.759766  "
      ]
     },
     "execution_count": 93,
     "metadata": {},
     "output_type": "execute_result"
    }
   ],
   "source": [
    "df.sample(frac=0.5).head()"
   ]
  },
  {
   "cell_type": "markdown",
   "metadata": {
    "_uuid": "f900885737988b1cb56df881fda6920eaa07381c"
   },
   "source": [
    "### **df.nlargest(n,'columnName')** <a id=\"51\"></a>\n",
    "This code brings N from the column where we have specified the largest data.\n",
    "\n",
    "<mark>[Return Contents](#0)\n",
    "<hr>"
   ]
  },
  {
   "cell_type": "code",
   "execution_count": 94,
   "metadata": {
    "_uuid": "2d61d5cb304bf17ef3ec00395152afece27eea42"
   },
   "outputs": [
    {
     "data": {
      "text/html": [
       "<div>\n",
       "<style scoped>\n",
       "    .dataframe tbody tr th:only-of-type {\n",
       "        vertical-align: middle;\n",
       "    }\n",
       "\n",
       "    .dataframe tbody tr th {\n",
       "        vertical-align: top;\n",
       "    }\n",
       "\n",
       "    .dataframe thead th {\n",
       "        text-align: right;\n",
       "    }\n",
       "</style>\n",
       "<table border=\"1\" class=\"dataframe\">\n",
       "  <thead>\n",
       "    <tr style=\"text-align: right;\">\n",
       "      <th></th>\n",
       "      <th>Date</th>\n",
       "      <th>Open</th>\n",
       "      <th>High</th>\n",
       "      <th>Low</th>\n",
       "      <th>Close</th>\n",
       "      <th>Volume</th>\n",
       "      <th>Adj Close</th>\n",
       "    </tr>\n",
       "  </thead>\n",
       "  <tbody>\n",
       "    <tr>\n",
       "      <th>282</th>\n",
       "      <td>2015-05-20</td>\n",
       "      <td>18315.060547</td>\n",
       "      <td>18350.130859</td>\n",
       "      <td>18272.560547</td>\n",
       "      <td>18285.400391</td>\n",
       "      <td>80190000</td>\n",
       "      <td>18285.400391</td>\n",
       "    </tr>\n",
       "    <tr>\n",
       "      <th>283</th>\n",
       "      <td>2015-05-19</td>\n",
       "      <td>18300.480469</td>\n",
       "      <td>18351.359375</td>\n",
       "      <td>18261.349609</td>\n",
       "      <td>18312.390625</td>\n",
       "      <td>87200000</td>\n",
       "      <td>18312.390625</td>\n",
       "    </tr>\n",
       "    <tr>\n",
       "      <th>280</th>\n",
       "      <td>2015-05-22</td>\n",
       "      <td>18286.869141</td>\n",
       "      <td>18286.869141</td>\n",
       "      <td>18217.140625</td>\n",
       "      <td>18232.019531</td>\n",
       "      <td>78890000</td>\n",
       "      <td>18232.019531</td>\n",
       "    </tr>\n",
       "    <tr>\n",
       "      <th>281</th>\n",
       "      <td>2015-05-21</td>\n",
       "      <td>18285.869141</td>\n",
       "      <td>18314.890625</td>\n",
       "      <td>18249.900391</td>\n",
       "      <td>18285.740234</td>\n",
       "      <td>84270000</td>\n",
       "      <td>18285.740234</td>\n",
       "    </tr>\n",
       "    <tr>\n",
       "      <th>337</th>\n",
       "      <td>2015-03-03</td>\n",
       "      <td>18281.949219</td>\n",
       "      <td>18281.949219</td>\n",
       "      <td>18136.880859</td>\n",
       "      <td>18203.369141</td>\n",
       "      <td>83830000</td>\n",
       "      <td>18203.369141</td>\n",
       "    </tr>\n",
       "  </tbody>\n",
       "</table>\n",
       "</div>"
      ],
      "text/plain": [
       "           Date          Open          High           Low         Close  \\\n",
       "282  2015-05-20  18315.060547  18350.130859  18272.560547  18285.400391   \n",
       "283  2015-05-19  18300.480469  18351.359375  18261.349609  18312.390625   \n",
       "280  2015-05-22  18286.869141  18286.869141  18217.140625  18232.019531   \n",
       "281  2015-05-21  18285.869141  18314.890625  18249.900391  18285.740234   \n",
       "337  2015-03-03  18281.949219  18281.949219  18136.880859  18203.369141   \n",
       "\n",
       "       Volume     Adj Close  \n",
       "282  80190000  18285.400391  \n",
       "283  87200000  18312.390625  \n",
       "280  78890000  18232.019531  \n",
       "281  84270000  18285.740234  \n",
       "337  83830000  18203.369141  "
      ]
     },
     "execution_count": 94,
     "metadata": {},
     "output_type": "execute_result"
    }
   ],
   "source": [
    "df.nlargest(5,'Open')"
   ]
  },
  {
   "cell_type": "markdown",
   "metadata": {
    "_uuid": "e925e067c524cabf599b4b4cc36c55332590a4b0"
   },
   "source": [
    "### **df.nsmallest(n,'columnName')** <a id=\"52\"></a>\n",
    "This code brings N from the column where we have specified the smallest data.\n",
    "\n",
    "<mark>[Return Contents](#0)\n",
    "<hr>"
   ]
  },
  {
   "cell_type": "code",
   "execution_count": 95,
   "metadata": {
    "_uuid": "1cb8e5e34abb9f9cbdc2963d9b8fdb0c0109c17d"
   },
   "outputs": [
    {
     "data": {
      "text/html": [
       "<div>\n",
       "<style scoped>\n",
       "    .dataframe tbody tr th:only-of-type {\n",
       "        vertical-align: middle;\n",
       "    }\n",
       "\n",
       "    .dataframe tbody tr th {\n",
       "        vertical-align: top;\n",
       "    }\n",
       "\n",
       "    .dataframe thead th {\n",
       "        text-align: right;\n",
       "    }\n",
       "</style>\n",
       "<table border=\"1\" class=\"dataframe\">\n",
       "  <thead>\n",
       "    <tr style=\"text-align: right;\">\n",
       "      <th></th>\n",
       "      <th>Date</th>\n",
       "      <th>Open</th>\n",
       "      <th>High</th>\n",
       "      <th>Low</th>\n",
       "      <th>Close</th>\n",
       "      <th>Volume</th>\n",
       "      <th>Adj Close</th>\n",
       "    </tr>\n",
       "  </thead>\n",
       "  <tbody>\n",
       "    <tr>\n",
       "      <th>1842</th>\n",
       "      <td>2009-03-10</td>\n",
       "      <td>6547.009766</td>\n",
       "      <td>6926.490234</td>\n",
       "      <td>6546.609863</td>\n",
       "      <td>6926.490234</td>\n",
       "      <td>640020000</td>\n",
       "      <td>6926.490234</td>\n",
       "    </tr>\n",
       "    <tr>\n",
       "      <th>1844</th>\n",
       "      <td>2009-03-06</td>\n",
       "      <td>6595.160156</td>\n",
       "      <td>6755.169922</td>\n",
       "      <td>6469.950195</td>\n",
       "      <td>6626.939941</td>\n",
       "      <td>425170000</td>\n",
       "      <td>6626.939941</td>\n",
       "    </tr>\n",
       "    <tr>\n",
       "      <th>1843</th>\n",
       "      <td>2009-03-09</td>\n",
       "      <td>6625.740234</td>\n",
       "      <td>6709.609863</td>\n",
       "      <td>6516.859863</td>\n",
       "      <td>6547.049805</td>\n",
       "      <td>365990000</td>\n",
       "      <td>6547.049805</td>\n",
       "    </tr>\n",
       "  </tbody>\n",
       "</table>\n",
       "</div>"
      ],
      "text/plain": [
       "            Date         Open         High          Low        Close  \\\n",
       "1842  2009-03-10  6547.009766  6926.490234  6546.609863  6926.490234   \n",
       "1844  2009-03-06  6595.160156  6755.169922  6469.950195  6626.939941   \n",
       "1843  2009-03-09  6625.740234  6709.609863  6516.859863  6547.049805   \n",
       "\n",
       "         Volume    Adj Close  \n",
       "1842  640020000  6926.490234  \n",
       "1844  425170000  6626.939941  \n",
       "1843  365990000  6547.049805  "
      ]
     },
     "execution_count": 95,
     "metadata": {},
     "output_type": "execute_result"
    }
   ],
   "source": [
    "df.nsmallest(3,'Open')"
   ]
  },
  {
   "cell_type": "markdown",
   "metadata": {
    "_uuid": "a51ee840ca8cd0400f2c4d95221158b25133d12f"
   },
   "source": [
    "### **df[df.columnName < 5]** <a id=\"53\"></a>\n",
    "This code returns the column name we have specified, which is less than 5.\n",
    "\n",
    "<mark>[Return Contents](#0)\n",
    "<hr>"
   ]
  },
  {
   "cell_type": "code",
   "execution_count": 96,
   "metadata": {
    "_uuid": "52be41ac78b67ca5c95a18199fa7f09f2d2efc4c"
   },
   "outputs": [
    {
     "data": {
      "text/html": [
       "<div>\n",
       "<style scoped>\n",
       "    .dataframe tbody tr th:only-of-type {\n",
       "        vertical-align: middle;\n",
       "    }\n",
       "\n",
       "    .dataframe tbody tr th {\n",
       "        vertical-align: top;\n",
       "    }\n",
       "\n",
       "    .dataframe thead th {\n",
       "        text-align: right;\n",
       "    }\n",
       "</style>\n",
       "<table border=\"1\" class=\"dataframe\">\n",
       "  <thead>\n",
       "    <tr style=\"text-align: right;\">\n",
       "      <th></th>\n",
       "      <th>Date</th>\n",
       "      <th>Open</th>\n",
       "      <th>High</th>\n",
       "      <th>Low</th>\n",
       "      <th>Close</th>\n",
       "      <th>Volume</th>\n",
       "      <th>Adj Close</th>\n",
       "    </tr>\n",
       "  </thead>\n",
       "  <tbody>\n",
       "    <tr>\n",
       "      <th>280</th>\n",
       "      <td>2015-05-22</td>\n",
       "      <td>18286.869141</td>\n",
       "      <td>18286.869141</td>\n",
       "      <td>18217.140625</td>\n",
       "      <td>18232.019531</td>\n",
       "      <td>78890000</td>\n",
       "      <td>18232.019531</td>\n",
       "    </tr>\n",
       "    <tr>\n",
       "      <th>281</th>\n",
       "      <td>2015-05-21</td>\n",
       "      <td>18285.869141</td>\n",
       "      <td>18314.890625</td>\n",
       "      <td>18249.900391</td>\n",
       "      <td>18285.740234</td>\n",
       "      <td>84270000</td>\n",
       "      <td>18285.740234</td>\n",
       "    </tr>\n",
       "    <tr>\n",
       "      <th>282</th>\n",
       "      <td>2015-05-20</td>\n",
       "      <td>18315.060547</td>\n",
       "      <td>18350.130859</td>\n",
       "      <td>18272.560547</td>\n",
       "      <td>18285.400391</td>\n",
       "      <td>80190000</td>\n",
       "      <td>18285.400391</td>\n",
       "    </tr>\n",
       "    <tr>\n",
       "      <th>283</th>\n",
       "      <td>2015-05-19</td>\n",
       "      <td>18300.480469</td>\n",
       "      <td>18351.359375</td>\n",
       "      <td>18261.349609</td>\n",
       "      <td>18312.390625</td>\n",
       "      <td>87200000</td>\n",
       "      <td>18312.390625</td>\n",
       "    </tr>\n",
       "  </tbody>\n",
       "</table>\n",
       "</div>"
      ],
      "text/plain": [
       "           Date          Open          High           Low         Close  \\\n",
       "280  2015-05-22  18286.869141  18286.869141  18217.140625  18232.019531   \n",
       "281  2015-05-21  18285.869141  18314.890625  18249.900391  18285.740234   \n",
       "282  2015-05-20  18315.060547  18350.130859  18272.560547  18285.400391   \n",
       "283  2015-05-19  18300.480469  18351.359375  18261.349609  18312.390625   \n",
       "\n",
       "       Volume     Adj Close  \n",
       "280  78890000  18232.019531  \n",
       "281  84270000  18285.740234  \n",
       "282  80190000  18285.400391  \n",
       "283  87200000  18312.390625  "
      ]
     },
     "execution_count": 96,
     "metadata": {},
     "output_type": "execute_result"
    }
   ],
   "source": [
    "df[df.Open > 18281.949219]"
   ]
  },
  {
   "cell_type": "markdown",
   "metadata": {
    "_uuid": "b0ff118b7df06756d55ce9196aa558325e214b23"
   },
   "source": [
    "### **df[['columnName','columnName']]** <a id=\"54\"></a>\n",
    "This code helps us pick and bring any columns we want.\n",
    "\n",
    "<mark>[Return Contents](#0)\n",
    "<hr>"
   ]
  },
  {
   "cell_type": "code",
   "execution_count": 97,
   "metadata": {
    "_uuid": "979f91158aaba4a2c287c70096c4f63f289da3e5"
   },
   "outputs": [
    {
     "data": {
      "text/html": [
       "<div>\n",
       "<style scoped>\n",
       "    .dataframe tbody tr th:only-of-type {\n",
       "        vertical-align: middle;\n",
       "    }\n",
       "\n",
       "    .dataframe tbody tr th {\n",
       "        vertical-align: top;\n",
       "    }\n",
       "\n",
       "    .dataframe thead th {\n",
       "        text-align: right;\n",
       "    }\n",
       "</style>\n",
       "<table border=\"1\" class=\"dataframe\">\n",
       "  <thead>\n",
       "    <tr style=\"text-align: right;\">\n",
       "      <th></th>\n",
       "      <th>High</th>\n",
       "      <th>Low</th>\n",
       "    </tr>\n",
       "  </thead>\n",
       "  <tbody>\n",
       "    <tr>\n",
       "      <th>0</th>\n",
       "      <td>18002.380859</td>\n",
       "      <td>17916.910156</td>\n",
       "    </tr>\n",
       "    <tr>\n",
       "      <th>1</th>\n",
       "      <td>17930.609375</td>\n",
       "      <td>17711.800781</td>\n",
       "    </tr>\n",
       "    <tr>\n",
       "      <th>2</th>\n",
       "      <td>17704.509766</td>\n",
       "      <td>17456.019531</td>\n",
       "    </tr>\n",
       "    <tr>\n",
       "      <th>3</th>\n",
       "      <td>17409.720703</td>\n",
       "      <td>17190.509766</td>\n",
       "    </tr>\n",
       "    <tr>\n",
       "      <th>4</th>\n",
       "      <td>17355.210938</td>\n",
       "      <td>17063.080078</td>\n",
       "    </tr>\n",
       "  </tbody>\n",
       "</table>\n",
       "</div>"
      ],
      "text/plain": [
       "           High           Low\n",
       "0  18002.380859  17916.910156\n",
       "1  17930.609375  17711.800781\n",
       "2  17704.509766  17456.019531\n",
       "3  17409.720703  17190.509766\n",
       "4  17355.210938  17063.080078"
      ]
     },
     "execution_count": 97,
     "metadata": {},
     "output_type": "execute_result"
    }
   ],
   "source": [
    "df[['High','Low']].head()\n",
    "# df.loc[:,[\"High\",\"Low\"]]"
   ]
  },
  {
   "cell_type": "markdown",
   "metadata": {
    "_uuid": "33045814a6e5e2735bedffbfe5c69184e7e2a68a"
   },
   "source": [
    "### **df.loc[:,\"columnName1\":\"columnName2\"]** <a id=\"55\"></a>\n",
    "This code returns columns from columnname1 to columnname2.\n",
    "\n",
    "<mark>[Return Contents](#0)\n",
    "<hr>"
   ]
  },
  {
   "cell_type": "code",
   "execution_count": 98,
   "metadata": {
    "_uuid": "3fef8f90c9972582f593a0af3dae462146bc871d"
   },
   "outputs": [
    {
     "data": {
      "text/html": [
       "<div>\n",
       "<style scoped>\n",
       "    .dataframe tbody tr th:only-of-type {\n",
       "        vertical-align: middle;\n",
       "    }\n",
       "\n",
       "    .dataframe tbody tr th {\n",
       "        vertical-align: top;\n",
       "    }\n",
       "\n",
       "    .dataframe thead th {\n",
       "        text-align: right;\n",
       "    }\n",
       "</style>\n",
       "<table border=\"1\" class=\"dataframe\">\n",
       "  <thead>\n",
       "    <tr style=\"text-align: right;\">\n",
       "      <th></th>\n",
       "      <th>Date</th>\n",
       "      <th>Open</th>\n",
       "      <th>High</th>\n",
       "      <th>Low</th>\n",
       "      <th>Close</th>\n",
       "    </tr>\n",
       "  </thead>\n",
       "  <tbody>\n",
       "    <tr>\n",
       "      <th>0</th>\n",
       "      <td>2016-07-01</td>\n",
       "      <td>17924.240234</td>\n",
       "      <td>18002.380859</td>\n",
       "      <td>17916.910156</td>\n",
       "      <td>17949.369141</td>\n",
       "    </tr>\n",
       "    <tr>\n",
       "      <th>1</th>\n",
       "      <td>2016-06-30</td>\n",
       "      <td>17712.759766</td>\n",
       "      <td>17930.609375</td>\n",
       "      <td>17711.800781</td>\n",
       "      <td>17929.990234</td>\n",
       "    </tr>\n",
       "    <tr>\n",
       "      <th>2</th>\n",
       "      <td>2016-06-29</td>\n",
       "      <td>17456.019531</td>\n",
       "      <td>17704.509766</td>\n",
       "      <td>17456.019531</td>\n",
       "      <td>17694.679688</td>\n",
       "    </tr>\n",
       "    <tr>\n",
       "      <th>3</th>\n",
       "      <td>2016-06-28</td>\n",
       "      <td>17190.509766</td>\n",
       "      <td>17409.720703</td>\n",
       "      <td>17190.509766</td>\n",
       "      <td>17409.720703</td>\n",
       "    </tr>\n",
       "    <tr>\n",
       "      <th>4</th>\n",
       "      <td>2016-06-27</td>\n",
       "      <td>17355.210938</td>\n",
       "      <td>17355.210938</td>\n",
       "      <td>17063.080078</td>\n",
       "      <td>17140.240234</td>\n",
       "    </tr>\n",
       "  </tbody>\n",
       "</table>\n",
       "</div>"
      ],
      "text/plain": [
       "         Date          Open          High           Low         Close\n",
       "0  2016-07-01  17924.240234  18002.380859  17916.910156  17949.369141\n",
       "1  2016-06-30  17712.759766  17930.609375  17711.800781  17929.990234\n",
       "2  2016-06-29  17456.019531  17704.509766  17456.019531  17694.679688\n",
       "3  2016-06-28  17190.509766  17409.720703  17190.509766  17409.720703\n",
       "4  2016-06-27  17355.210938  17355.210938  17063.080078  17140.240234"
      ]
     },
     "execution_count": 98,
     "metadata": {},
     "output_type": "execute_result"
    }
   ],
   "source": [
    "df.loc[:,\"Date\":\"Close\"].head()\n",
    "# OR\n",
    "# data.loc[:3,\"Date\":\"Close\"]"
   ]
  },
  {
   "cell_type": "code",
   "execution_count": 99,
   "metadata": {},
   "outputs": [
    {
     "data": {
      "text/html": [
       "<div>\n",
       "<style scoped>\n",
       "    .dataframe tbody tr th:only-of-type {\n",
       "        vertical-align: middle;\n",
       "    }\n",
       "\n",
       "    .dataframe tbody tr th {\n",
       "        vertical-align: top;\n",
       "    }\n",
       "\n",
       "    .dataframe thead th {\n",
       "        text-align: right;\n",
       "    }\n",
       "</style>\n",
       "<table border=\"1\" class=\"dataframe\">\n",
       "  <thead>\n",
       "    <tr style=\"text-align: right;\">\n",
       "      <th></th>\n",
       "      <th>Date</th>\n",
       "      <th>Open</th>\n",
       "      <th>High</th>\n",
       "      <th>Low</th>\n",
       "      <th>Close</th>\n",
       "      <th>Volume</th>\n",
       "      <th>Adj Close</th>\n",
       "    </tr>\n",
       "  </thead>\n",
       "  <tbody>\n",
       "    <tr>\n",
       "      <th>0</th>\n",
       "      <td>2016-07-01</td>\n",
       "      <td>17924.240234</td>\n",
       "      <td>18002.380859</td>\n",
       "      <td>17916.910156</td>\n",
       "      <td>17949.369141</td>\n",
       "      <td>82160000</td>\n",
       "      <td>17949.369141</td>\n",
       "    </tr>\n",
       "    <tr>\n",
       "      <th>1</th>\n",
       "      <td>2016-06-30</td>\n",
       "      <td>17712.759766</td>\n",
       "      <td>17930.609375</td>\n",
       "      <td>17711.800781</td>\n",
       "      <td>17929.990234</td>\n",
       "      <td>133030000</td>\n",
       "      <td>17929.990234</td>\n",
       "    </tr>\n",
       "    <tr>\n",
       "      <th>2</th>\n",
       "      <td>2016-06-29</td>\n",
       "      <td>17456.019531</td>\n",
       "      <td>17704.509766</td>\n",
       "      <td>17456.019531</td>\n",
       "      <td>17694.679688</td>\n",
       "      <td>106380000</td>\n",
       "      <td>17694.679688</td>\n",
       "    </tr>\n",
       "    <tr>\n",
       "      <th>3</th>\n",
       "      <td>2016-06-28</td>\n",
       "      <td>17190.509766</td>\n",
       "      <td>17409.720703</td>\n",
       "      <td>17190.509766</td>\n",
       "      <td>17409.720703</td>\n",
       "      <td>112190000</td>\n",
       "      <td>17409.720703</td>\n",
       "    </tr>\n",
       "    <tr>\n",
       "      <th>4</th>\n",
       "      <td>2016-06-27</td>\n",
       "      <td>17355.210938</td>\n",
       "      <td>17355.210938</td>\n",
       "      <td>17063.080078</td>\n",
       "      <td>17140.240234</td>\n",
       "      <td>138740000</td>\n",
       "      <td>17140.240234</td>\n",
       "    </tr>\n",
       "  </tbody>\n",
       "</table>\n",
       "</div>"
      ],
      "text/plain": [
       "         Date          Open          High           Low         Close  \\\n",
       "0  2016-07-01  17924.240234  18002.380859  17916.910156  17949.369141   \n",
       "1  2016-06-30  17712.759766  17930.609375  17711.800781  17929.990234   \n",
       "2  2016-06-29  17456.019531  17704.509766  17456.019531  17694.679688   \n",
       "3  2016-06-28  17190.509766  17409.720703  17190.509766  17409.720703   \n",
       "4  2016-06-27  17355.210938  17355.210938  17063.080078  17140.240234   \n",
       "\n",
       "      Volume     Adj Close  \n",
       "0   82160000  17949.369141  \n",
       "1  133030000  17929.990234  \n",
       "2  106380000  17694.679688  \n",
       "3  112190000  17409.720703  \n",
       "4  138740000  17140.240234  "
      ]
     },
     "execution_count": 99,
     "metadata": {},
     "output_type": "execute_result"
    }
   ],
   "source": [
    "df.iloc[:,:].head()"
   ]
  },
  {
   "cell_type": "markdown",
   "metadata": {
    "_uuid": "09d20f2795a29736a8a444f1f7bd1bdf3bb607d0"
   },
   "source": [
    "### **Create Filter** <a id=\"56\"></a>\n",
    "<mark>[Return Contents](#0)\n",
    "<hr>"
   ]
  },
  {
   "cell_type": "code",
   "execution_count": 100,
   "metadata": {
    "_uuid": "920f513014e6ef5a46f13a71c24a0114e3fb9c44"
   },
   "outputs": [
    {
     "data": {
      "text/html": [
       "<div>\n",
       "<style scoped>\n",
       "    .dataframe tbody tr th:only-of-type {\n",
       "        vertical-align: middle;\n",
       "    }\n",
       "\n",
       "    .dataframe tbody tr th {\n",
       "        vertical-align: top;\n",
       "    }\n",
       "\n",
       "    .dataframe thead th {\n",
       "        text-align: right;\n",
       "    }\n",
       "</style>\n",
       "<table border=\"1\" class=\"dataframe\">\n",
       "  <thead>\n",
       "    <tr style=\"text-align: right;\">\n",
       "      <th></th>\n",
       "      <th>Date</th>\n",
       "      <th>Open</th>\n",
       "      <th>High</th>\n",
       "      <th>Low</th>\n",
       "      <th>Close</th>\n",
       "      <th>Volume</th>\n",
       "      <th>Adj Close</th>\n",
       "    </tr>\n",
       "  </thead>\n",
       "  <tbody>\n",
       "    <tr>\n",
       "      <th>0</th>\n",
       "      <td>2016-07-01</td>\n",
       "      <td>17924.240234</td>\n",
       "      <td>18002.380859</td>\n",
       "      <td>17916.910156</td>\n",
       "      <td>17949.369141</td>\n",
       "      <td>82160000</td>\n",
       "      <td>17949.369141</td>\n",
       "    </tr>\n",
       "    <tr>\n",
       "      <th>1</th>\n",
       "      <td>2016-06-30</td>\n",
       "      <td>17712.759766</td>\n",
       "      <td>17930.609375</td>\n",
       "      <td>17711.800781</td>\n",
       "      <td>17929.990234</td>\n",
       "      <td>133030000</td>\n",
       "      <td>17929.990234</td>\n",
       "    </tr>\n",
       "    <tr>\n",
       "      <th>2</th>\n",
       "      <td>2016-06-29</td>\n",
       "      <td>17456.019531</td>\n",
       "      <td>17704.509766</td>\n",
       "      <td>17456.019531</td>\n",
       "      <td>17694.679688</td>\n",
       "      <td>106380000</td>\n",
       "      <td>17694.679688</td>\n",
       "    </tr>\n",
       "    <tr>\n",
       "      <th>3</th>\n",
       "      <td>2016-06-28</td>\n",
       "      <td>17190.509766</td>\n",
       "      <td>17409.720703</td>\n",
       "      <td>17190.509766</td>\n",
       "      <td>17409.720703</td>\n",
       "      <td>112190000</td>\n",
       "      <td>17409.720703</td>\n",
       "    </tr>\n",
       "  </tbody>\n",
       "</table>\n",
       "</div>"
      ],
      "text/plain": [
       "         Date          Open          High           Low         Close  \\\n",
       "0  2016-07-01  17924.240234  18002.380859  17916.910156  17949.369141   \n",
       "1  2016-06-30  17712.759766  17930.609375  17711.800781  17929.990234   \n",
       "2  2016-06-29  17456.019531  17704.509766  17456.019531  17694.679688   \n",
       "3  2016-06-28  17190.509766  17409.720703  17190.509766  17409.720703   \n",
       "\n",
       "      Volume     Adj Close  \n",
       "0   82160000  17949.369141  \n",
       "1  133030000  17929.990234  \n",
       "2  106380000  17694.679688  \n",
       "3  112190000  17409.720703  "
      ]
     },
     "execution_count": 100,
     "metadata": {},
     "output_type": "execute_result"
    }
   ],
   "source": [
    "filters = df.Date > '2016-06-27'\n",
    "df[filters]"
   ]
  },
  {
   "cell_type": "markdown",
   "metadata": {
    "_uuid": "efa55b8fad561c2fa5b23cf16ada80388ffb1d89"
   },
   "source": [
    "### **df.filter(regex = 'code')** <a id=\"57\"></a>\n",
    "This code allows regex to filter any data we want.\n",
    "\n",
    "<mark>[Return Contents](#0)\n",
    "<hr>"
   ]
  },
  {
   "cell_type": "code",
   "execution_count": 101,
   "metadata": {
    "_uuid": "391f736af8220b16ffe4dd371e7d1701b22af190"
   },
   "outputs": [
    {
     "data": {
      "text/html": [
       "<div>\n",
       "<style scoped>\n",
       "    .dataframe tbody tr th:only-of-type {\n",
       "        vertical-align: middle;\n",
       "    }\n",
       "\n",
       "    .dataframe tbody tr th {\n",
       "        vertical-align: top;\n",
       "    }\n",
       "\n",
       "    .dataframe thead th {\n",
       "        text-align: right;\n",
       "    }\n",
       "</style>\n",
       "<table border=\"1\" class=\"dataframe\">\n",
       "  <thead>\n",
       "    <tr style=\"text-align: right;\">\n",
       "      <th></th>\n",
       "      <th>Low</th>\n",
       "    </tr>\n",
       "  </thead>\n",
       "  <tbody>\n",
       "    <tr>\n",
       "      <th>0</th>\n",
       "      <td>17916.910156</td>\n",
       "    </tr>\n",
       "    <tr>\n",
       "      <th>1</th>\n",
       "      <td>17711.800781</td>\n",
       "    </tr>\n",
       "    <tr>\n",
       "      <th>2</th>\n",
       "      <td>17456.019531</td>\n",
       "    </tr>\n",
       "    <tr>\n",
       "      <th>3</th>\n",
       "      <td>17190.509766</td>\n",
       "    </tr>\n",
       "    <tr>\n",
       "      <th>4</th>\n",
       "      <td>17063.080078</td>\n",
       "    </tr>\n",
       "  </tbody>\n",
       "</table>\n",
       "</div>"
      ],
      "text/plain": [
       "            Low\n",
       "0  17916.910156\n",
       "1  17711.800781\n",
       "2  17456.019531\n",
       "3  17190.509766\n",
       "4  17063.080078"
      ]
     },
     "execution_count": 101,
     "metadata": {},
     "output_type": "execute_result"
    }
   ],
   "source": [
    "df.filter(regex='^L').head()"
   ]
  },
  {
   "cell_type": "markdown",
   "metadata": {
    "_uuid": "98565ee61d70ee8c2684209457d341afd009cd52"
   },
   "source": [
    "### **np.logical_and** <a id=\"58\"></a>\n",
    "Filtering with logical_and. Lets look at the example.\n",
    "\n",
    "<mark>[Return Contents](#0)\n",
    "<hr>"
   ]
  },
  {
   "cell_type": "code",
   "execution_count": 102,
   "metadata": {
    "_uuid": "502a7a68ee0e0901db77c9ef66b2b41946936396"
   },
   "outputs": [
    {
     "data": {
      "text/html": [
       "<div>\n",
       "<style scoped>\n",
       "    .dataframe tbody tr th:only-of-type {\n",
       "        vertical-align: middle;\n",
       "    }\n",
       "\n",
       "    .dataframe tbody tr th {\n",
       "        vertical-align: top;\n",
       "    }\n",
       "\n",
       "    .dataframe thead th {\n",
       "        text-align: right;\n",
       "    }\n",
       "</style>\n",
       "<table border=\"1\" class=\"dataframe\">\n",
       "  <thead>\n",
       "    <tr style=\"text-align: right;\">\n",
       "      <th></th>\n",
       "      <th>Date</th>\n",
       "      <th>Open</th>\n",
       "      <th>High</th>\n",
       "      <th>Low</th>\n",
       "      <th>Close</th>\n",
       "      <th>Volume</th>\n",
       "      <th>Adj Close</th>\n",
       "    </tr>\n",
       "  </thead>\n",
       "  <tbody>\n",
       "    <tr>\n",
       "      <th>280</th>\n",
       "      <td>2015-05-22</td>\n",
       "      <td>18286.869141</td>\n",
       "      <td>18286.869141</td>\n",
       "      <td>18217.140625</td>\n",
       "      <td>18232.019531</td>\n",
       "      <td>78890000</td>\n",
       "      <td>18232.019531</td>\n",
       "    </tr>\n",
       "    <tr>\n",
       "      <th>281</th>\n",
       "      <td>2015-05-21</td>\n",
       "      <td>18285.869141</td>\n",
       "      <td>18314.890625</td>\n",
       "      <td>18249.900391</td>\n",
       "      <td>18285.740234</td>\n",
       "      <td>84270000</td>\n",
       "      <td>18285.740234</td>\n",
       "    </tr>\n",
       "  </tbody>\n",
       "</table>\n",
       "</div>"
      ],
      "text/plain": [
       "           Date          Open          High           Low         Close  \\\n",
       "280  2015-05-22  18286.869141  18286.869141  18217.140625  18232.019531   \n",
       "281  2015-05-21  18285.869141  18314.890625  18249.900391  18285.740234   \n",
       "\n",
       "       Volume     Adj Close  \n",
       "280  78890000  18232.019531  \n",
       "281  84270000  18285.740234  "
      ]
     },
     "execution_count": 102,
     "metadata": {},
     "output_type": "execute_result"
    }
   ],
   "source": [
    "df[np.logical_and(df['Open']>18281.949219, df['Date']>'2015-05-20' )]"
   ]
  },
  {
   "cell_type": "markdown",
   "metadata": {
    "_uuid": "be8cc807047dd7037f0013d573c58573649c3097"
   },
   "source": [
    "### **Filtering with &** <a id=\"59\"></a>\n",
    "<mark>[Return Contents](#0)\n",
    "<hr>"
   ]
  },
  {
   "cell_type": "code",
   "execution_count": 103,
   "metadata": {
    "_uuid": "48930d97ce2d7aebf9fc44d41ef9a21b21ece804"
   },
   "outputs": [
    {
     "data": {
      "text/html": [
       "<div>\n",
       "<style scoped>\n",
       "    .dataframe tbody tr th:only-of-type {\n",
       "        vertical-align: middle;\n",
       "    }\n",
       "\n",
       "    .dataframe tbody tr th {\n",
       "        vertical-align: top;\n",
       "    }\n",
       "\n",
       "    .dataframe thead th {\n",
       "        text-align: right;\n",
       "    }\n",
       "</style>\n",
       "<table border=\"1\" class=\"dataframe\">\n",
       "  <thead>\n",
       "    <tr style=\"text-align: right;\">\n",
       "      <th></th>\n",
       "      <th>Date</th>\n",
       "      <th>Open</th>\n",
       "      <th>High</th>\n",
       "      <th>Low</th>\n",
       "      <th>Close</th>\n",
       "      <th>Volume</th>\n",
       "      <th>Adj Close</th>\n",
       "    </tr>\n",
       "  </thead>\n",
       "  <tbody>\n",
       "    <tr>\n",
       "      <th>280</th>\n",
       "      <td>2015-05-22</td>\n",
       "      <td>18286.869141</td>\n",
       "      <td>18286.869141</td>\n",
       "      <td>18217.140625</td>\n",
       "      <td>18232.019531</td>\n",
       "      <td>78890000</td>\n",
       "      <td>18232.019531</td>\n",
       "    </tr>\n",
       "    <tr>\n",
       "      <th>281</th>\n",
       "      <td>2015-05-21</td>\n",
       "      <td>18285.869141</td>\n",
       "      <td>18314.890625</td>\n",
       "      <td>18249.900391</td>\n",
       "      <td>18285.740234</td>\n",
       "      <td>84270000</td>\n",
       "      <td>18285.740234</td>\n",
       "    </tr>\n",
       "  </tbody>\n",
       "</table>\n",
       "</div>"
      ],
      "text/plain": [
       "           Date          Open          High           Low         Close  \\\n",
       "280  2015-05-22  18286.869141  18286.869141  18217.140625  18232.019531   \n",
       "281  2015-05-21  18285.869141  18314.890625  18249.900391  18285.740234   \n",
       "\n",
       "       Volume     Adj Close  \n",
       "280  78890000  18232.019531  \n",
       "281  84270000  18285.740234  "
      ]
     },
     "execution_count": 103,
     "metadata": {},
     "output_type": "execute_result"
    }
   ],
   "source": [
    "df[(df['Open']>18281.949219) & (df['Date']>'2015-05-20')]"
   ]
  },
  {
   "cell_type": "markdown",
   "metadata": {
    "_uuid": "9bb0b4f8e2b1b4e5c4d1d54404078201fe64b774"
   },
   "source": [
    "# **Sort Data** <a id=\"60\"></a>\n",
    "\n",
    "<mark>[Return Contents](#0)\n",
    "<hr>\n",
    "\n",
    "### **df.sort_values('columnName')** <a id=\"61\"></a>\n",
    "This code sorts the column we specify in the form of low to high."
   ]
  },
  {
   "cell_type": "code",
   "execution_count": 104,
   "metadata": {
    "_uuid": "f15141d1d55decedc9682157f4f02be6ece75be2"
   },
   "outputs": [
    {
     "data": {
      "text/html": [
       "<div>\n",
       "<style scoped>\n",
       "    .dataframe tbody tr th:only-of-type {\n",
       "        vertical-align: middle;\n",
       "    }\n",
       "\n",
       "    .dataframe tbody tr th {\n",
       "        vertical-align: top;\n",
       "    }\n",
       "\n",
       "    .dataframe thead th {\n",
       "        text-align: right;\n",
       "    }\n",
       "</style>\n",
       "<table border=\"1\" class=\"dataframe\">\n",
       "  <thead>\n",
       "    <tr style=\"text-align: right;\">\n",
       "      <th></th>\n",
       "      <th>Date</th>\n",
       "      <th>Open</th>\n",
       "      <th>High</th>\n",
       "      <th>Low</th>\n",
       "      <th>Close</th>\n",
       "      <th>Volume</th>\n",
       "      <th>Adj Close</th>\n",
       "    </tr>\n",
       "  </thead>\n",
       "  <tbody>\n",
       "    <tr>\n",
       "      <th>1842</th>\n",
       "      <td>2009-03-10</td>\n",
       "      <td>6547.009766</td>\n",
       "      <td>6926.490234</td>\n",
       "      <td>6546.609863</td>\n",
       "      <td>6926.490234</td>\n",
       "      <td>640020000</td>\n",
       "      <td>6926.490234</td>\n",
       "    </tr>\n",
       "    <tr>\n",
       "      <th>1844</th>\n",
       "      <td>2009-03-06</td>\n",
       "      <td>6595.160156</td>\n",
       "      <td>6755.169922</td>\n",
       "      <td>6469.950195</td>\n",
       "      <td>6626.939941</td>\n",
       "      <td>425170000</td>\n",
       "      <td>6626.939941</td>\n",
       "    </tr>\n",
       "    <tr>\n",
       "      <th>1843</th>\n",
       "      <td>2009-03-09</td>\n",
       "      <td>6625.740234</td>\n",
       "      <td>6709.609863</td>\n",
       "      <td>6516.859863</td>\n",
       "      <td>6547.049805</td>\n",
       "      <td>365990000</td>\n",
       "      <td>6547.049805</td>\n",
       "    </tr>\n",
       "    <tr>\n",
       "      <th>1846</th>\n",
       "      <td>2009-03-04</td>\n",
       "      <td>6726.500000</td>\n",
       "      <td>6979.220215</td>\n",
       "      <td>6726.419922</td>\n",
       "      <td>6875.839844</td>\n",
       "      <td>464830000</td>\n",
       "      <td>6875.839844</td>\n",
       "    </tr>\n",
       "    <tr>\n",
       "      <th>1847</th>\n",
       "      <td>2009-03-03</td>\n",
       "      <td>6764.810059</td>\n",
       "      <td>6855.290039</td>\n",
       "      <td>6705.629883</td>\n",
       "      <td>6726.020020</td>\n",
       "      <td>445280000</td>\n",
       "      <td>6726.020020</td>\n",
       "    </tr>\n",
       "  </tbody>\n",
       "</table>\n",
       "</div>"
      ],
      "text/plain": [
       "            Date         Open         High          Low        Close  \\\n",
       "1842  2009-03-10  6547.009766  6926.490234  6546.609863  6926.490234   \n",
       "1844  2009-03-06  6595.160156  6755.169922  6469.950195  6626.939941   \n",
       "1843  2009-03-09  6625.740234  6709.609863  6516.859863  6547.049805   \n",
       "1846  2009-03-04  6726.500000  6979.220215  6726.419922  6875.839844   \n",
       "1847  2009-03-03  6764.810059  6855.290039  6705.629883  6726.020020   \n",
       "\n",
       "         Volume    Adj Close  \n",
       "1842  640020000  6926.490234  \n",
       "1844  425170000  6626.939941  \n",
       "1843  365990000  6547.049805  \n",
       "1846  464830000  6875.839844  \n",
       "1847  445280000  6726.020020  "
      ]
     },
     "execution_count": 104,
     "metadata": {},
     "output_type": "execute_result"
    }
   ],
   "source": [
    "df.sort_values('Open').head()"
   ]
  },
  {
   "cell_type": "code",
   "execution_count": 105,
   "metadata": {},
   "outputs": [
    {
     "data": {
      "text/html": [
       "<div>\n",
       "<style scoped>\n",
       "    .dataframe tbody tr th:only-of-type {\n",
       "        vertical-align: middle;\n",
       "    }\n",
       "\n",
       "    .dataframe tbody tr th {\n",
       "        vertical-align: top;\n",
       "    }\n",
       "\n",
       "    .dataframe thead th {\n",
       "        text-align: right;\n",
       "    }\n",
       "</style>\n",
       "<table border=\"1\" class=\"dataframe\">\n",
       "  <thead>\n",
       "    <tr style=\"text-align: right;\">\n",
       "      <th></th>\n",
       "      <th>Date</th>\n",
       "      <th>Open</th>\n",
       "      <th>High</th>\n",
       "      <th>Low</th>\n",
       "      <th>Close</th>\n",
       "      <th>Volume</th>\n",
       "      <th>Adj Close</th>\n",
       "    </tr>\n",
       "  </thead>\n",
       "  <tbody>\n",
       "    <tr>\n",
       "      <th>282</th>\n",
       "      <td>2015-05-20</td>\n",
       "      <td>18315.060547</td>\n",
       "      <td>18350.130859</td>\n",
       "      <td>18272.560547</td>\n",
       "      <td>18285.400391</td>\n",
       "      <td>80190000</td>\n",
       "      <td>18285.400391</td>\n",
       "    </tr>\n",
       "    <tr>\n",
       "      <th>281</th>\n",
       "      <td>2015-05-21</td>\n",
       "      <td>18285.869141</td>\n",
       "      <td>18314.890625</td>\n",
       "      <td>18249.900391</td>\n",
       "      <td>18285.740234</td>\n",
       "      <td>84270000</td>\n",
       "      <td>18285.740234</td>\n",
       "    </tr>\n",
       "    <tr>\n",
       "      <th>338</th>\n",
       "      <td>2015-03-02</td>\n",
       "      <td>18134.050781</td>\n",
       "      <td>18288.630859</td>\n",
       "      <td>18122.589844</td>\n",
       "      <td>18288.630859</td>\n",
       "      <td>89790000</td>\n",
       "      <td>18288.630859</td>\n",
       "    </tr>\n",
       "    <tr>\n",
       "      <th>284</th>\n",
       "      <td>2015-05-18</td>\n",
       "      <td>18267.250000</td>\n",
       "      <td>18325.539062</td>\n",
       "      <td>18244.259766</td>\n",
       "      <td>18298.880859</td>\n",
       "      <td>79080000</td>\n",
       "      <td>18298.880859</td>\n",
       "    </tr>\n",
       "    <tr>\n",
       "      <th>283</th>\n",
       "      <td>2015-05-19</td>\n",
       "      <td>18300.480469</td>\n",
       "      <td>18351.359375</td>\n",
       "      <td>18261.349609</td>\n",
       "      <td>18312.390625</td>\n",
       "      <td>87200000</td>\n",
       "      <td>18312.390625</td>\n",
       "    </tr>\n",
       "  </tbody>\n",
       "</table>\n",
       "</div>"
      ],
      "text/plain": [
       "           Date          Open          High           Low         Close  \\\n",
       "282  2015-05-20  18315.060547  18350.130859  18272.560547  18285.400391   \n",
       "281  2015-05-21  18285.869141  18314.890625  18249.900391  18285.740234   \n",
       "338  2015-03-02  18134.050781  18288.630859  18122.589844  18288.630859   \n",
       "284  2015-05-18  18267.250000  18325.539062  18244.259766  18298.880859   \n",
       "283  2015-05-19  18300.480469  18351.359375  18261.349609  18312.390625   \n",
       "\n",
       "       Volume     Adj Close  \n",
       "282  80190000  18285.400391  \n",
       "281  84270000  18285.740234  \n",
       "338  89790000  18288.630859  \n",
       "284  79080000  18298.880859  \n",
       "283  87200000  18312.390625  "
      ]
     },
     "execution_count": 105,
     "metadata": {},
     "output_type": "execute_result"
    }
   ],
   "source": [
    "df.sort_values('Close').tail()"
   ]
  },
  {
   "cell_type": "markdown",
   "metadata": {
    "_uuid": "8816e0ceab950045905c67d7782733690001908c"
   },
   "source": [
    "### **df.sort_values('columnName', ascending=False)** <a id=\"62\"></a>\n",
    "This code is the column we specify in the form of high to low.\n",
    "\n",
    "<mark>[Return Contents](#0)\n",
    "<hr>"
   ]
  },
  {
   "cell_type": "code",
   "execution_count": 106,
   "metadata": {
    "_uuid": "700856eea24c6c0e4ddce6e80ad457e81e065d77"
   },
   "outputs": [
    {
     "data": {
      "text/html": [
       "<div>\n",
       "<style scoped>\n",
       "    .dataframe tbody tr th:only-of-type {\n",
       "        vertical-align: middle;\n",
       "    }\n",
       "\n",
       "    .dataframe tbody tr th {\n",
       "        vertical-align: top;\n",
       "    }\n",
       "\n",
       "    .dataframe thead th {\n",
       "        text-align: right;\n",
       "    }\n",
       "</style>\n",
       "<table border=\"1\" class=\"dataframe\">\n",
       "  <thead>\n",
       "    <tr style=\"text-align: right;\">\n",
       "      <th></th>\n",
       "      <th>Date</th>\n",
       "      <th>Open</th>\n",
       "      <th>High</th>\n",
       "      <th>Low</th>\n",
       "      <th>Close</th>\n",
       "      <th>Volume</th>\n",
       "      <th>Adj Close</th>\n",
       "    </tr>\n",
       "  </thead>\n",
       "  <tbody>\n",
       "    <tr>\n",
       "      <th>1988</th>\n",
       "      <td>2008-08-08</td>\n",
       "      <td>11432.089844</td>\n",
       "      <td>11759.959961</td>\n",
       "      <td>11388.040039</td>\n",
       "      <td>11734.320312</td>\n",
       "      <td>212830000</td>\n",
       "      <td>11734.320312</td>\n",
       "    </tr>\n",
       "    <tr>\n",
       "      <th>1987</th>\n",
       "      <td>2008-08-11</td>\n",
       "      <td>11729.669922</td>\n",
       "      <td>11867.110352</td>\n",
       "      <td>11675.530273</td>\n",
       "      <td>11782.349609</td>\n",
       "      <td>183190000</td>\n",
       "      <td>11782.349609</td>\n",
       "    </tr>\n",
       "    <tr>\n",
       "      <th>1986</th>\n",
       "      <td>2008-08-12</td>\n",
       "      <td>11781.700195</td>\n",
       "      <td>11782.349609</td>\n",
       "      <td>11601.519531</td>\n",
       "      <td>11642.469727</td>\n",
       "      <td>173590000</td>\n",
       "      <td>11642.469727</td>\n",
       "    </tr>\n",
       "    <tr>\n",
       "      <th>1985</th>\n",
       "      <td>2008-08-13</td>\n",
       "      <td>11632.809570</td>\n",
       "      <td>11633.780273</td>\n",
       "      <td>11453.339844</td>\n",
       "      <td>11532.959961</td>\n",
       "      <td>182550000</td>\n",
       "      <td>11532.959961</td>\n",
       "    </tr>\n",
       "    <tr>\n",
       "      <th>1984</th>\n",
       "      <td>2008-08-14</td>\n",
       "      <td>11532.070312</td>\n",
       "      <td>11718.280273</td>\n",
       "      <td>11450.889648</td>\n",
       "      <td>11615.929688</td>\n",
       "      <td>159790000</td>\n",
       "      <td>11615.929688</td>\n",
       "    </tr>\n",
       "  </tbody>\n",
       "</table>\n",
       "</div>"
      ],
      "text/plain": [
       "            Date          Open          High           Low         Close  \\\n",
       "1988  2008-08-08  11432.089844  11759.959961  11388.040039  11734.320312   \n",
       "1987  2008-08-11  11729.669922  11867.110352  11675.530273  11782.349609   \n",
       "1986  2008-08-12  11781.700195  11782.349609  11601.519531  11642.469727   \n",
       "1985  2008-08-13  11632.809570  11633.780273  11453.339844  11532.959961   \n",
       "1984  2008-08-14  11532.070312  11718.280273  11450.889648  11615.929688   \n",
       "\n",
       "         Volume     Adj Close  \n",
       "1988  212830000  11734.320312  \n",
       "1987  183190000  11782.349609  \n",
       "1986  173590000  11642.469727  \n",
       "1985  182550000  11532.959961  \n",
       "1984  159790000  11615.929688  "
      ]
     },
     "execution_count": 106,
     "metadata": {},
     "output_type": "execute_result"
    }
   ],
   "source": [
    "df.sort_values(by='Date', ascending=True).head()"
   ]
  },
  {
   "cell_type": "code",
   "execution_count": 107,
   "metadata": {
    "_uuid": "3b9dab67566e6acf0826df04308e283ad4103469"
   },
   "outputs": [
    {
     "data": {
      "text/html": [
       "<div>\n",
       "<style scoped>\n",
       "    .dataframe tbody tr th:only-of-type {\n",
       "        vertical-align: middle;\n",
       "    }\n",
       "\n",
       "    .dataframe tbody tr th {\n",
       "        vertical-align: top;\n",
       "    }\n",
       "\n",
       "    .dataframe thead th {\n",
       "        text-align: right;\n",
       "    }\n",
       "</style>\n",
       "<table border=\"1\" class=\"dataframe\">\n",
       "  <thead>\n",
       "    <tr style=\"text-align: right;\">\n",
       "      <th></th>\n",
       "      <th>Date</th>\n",
       "      <th>Open</th>\n",
       "      <th>High</th>\n",
       "      <th>Low</th>\n",
       "      <th>Close</th>\n",
       "      <th>Volume</th>\n",
       "      <th>Adj Close</th>\n",
       "    </tr>\n",
       "  </thead>\n",
       "  <tbody>\n",
       "    <tr>\n",
       "      <th>4</th>\n",
       "      <td>2016-06-27</td>\n",
       "      <td>17355.210938</td>\n",
       "      <td>17355.210938</td>\n",
       "      <td>17063.080078</td>\n",
       "      <td>17140.240234</td>\n",
       "      <td>138740000</td>\n",
       "      <td>17140.240234</td>\n",
       "    </tr>\n",
       "    <tr>\n",
       "      <th>3</th>\n",
       "      <td>2016-06-28</td>\n",
       "      <td>17190.509766</td>\n",
       "      <td>17409.720703</td>\n",
       "      <td>17190.509766</td>\n",
       "      <td>17409.720703</td>\n",
       "      <td>112190000</td>\n",
       "      <td>17409.720703</td>\n",
       "    </tr>\n",
       "    <tr>\n",
       "      <th>2</th>\n",
       "      <td>2016-06-29</td>\n",
       "      <td>17456.019531</td>\n",
       "      <td>17704.509766</td>\n",
       "      <td>17456.019531</td>\n",
       "      <td>17694.679688</td>\n",
       "      <td>106380000</td>\n",
       "      <td>17694.679688</td>\n",
       "    </tr>\n",
       "    <tr>\n",
       "      <th>1</th>\n",
       "      <td>2016-06-30</td>\n",
       "      <td>17712.759766</td>\n",
       "      <td>17930.609375</td>\n",
       "      <td>17711.800781</td>\n",
       "      <td>17929.990234</td>\n",
       "      <td>133030000</td>\n",
       "      <td>17929.990234</td>\n",
       "    </tr>\n",
       "    <tr>\n",
       "      <th>0</th>\n",
       "      <td>2016-07-01</td>\n",
       "      <td>17924.240234</td>\n",
       "      <td>18002.380859</td>\n",
       "      <td>17916.910156</td>\n",
       "      <td>17949.369141</td>\n",
       "      <td>82160000</td>\n",
       "      <td>17949.369141</td>\n",
       "    </tr>\n",
       "  </tbody>\n",
       "</table>\n",
       "</div>"
      ],
      "text/plain": [
       "         Date          Open          High           Low         Close  \\\n",
       "4  2016-06-27  17355.210938  17355.210938  17063.080078  17140.240234   \n",
       "3  2016-06-28  17190.509766  17409.720703  17190.509766  17409.720703   \n",
       "2  2016-06-29  17456.019531  17704.509766  17456.019531  17694.679688   \n",
       "1  2016-06-30  17712.759766  17930.609375  17711.800781  17929.990234   \n",
       "0  2016-07-01  17924.240234  18002.380859  17916.910156  17949.369141   \n",
       "\n",
       "      Volume     Adj Close  \n",
       "4  138740000  17140.240234  \n",
       "3  112190000  17409.720703  \n",
       "2  106380000  17694.679688  \n",
       "1  133030000  17929.990234  \n",
       "0   82160000  17949.369141  "
      ]
     },
     "execution_count": 107,
     "metadata": {},
     "output_type": "execute_result"
    }
   ],
   "source": [
    "df.sort_values(by='Date', ascending=True).tail()"
   ]
  },
  {
   "cell_type": "code",
   "execution_count": 108,
   "metadata": {},
   "outputs": [
    {
     "data": {
      "text/html": [
       "<div>\n",
       "<style scoped>\n",
       "    .dataframe tbody tr th:only-of-type {\n",
       "        vertical-align: middle;\n",
       "    }\n",
       "\n",
       "    .dataframe tbody tr th {\n",
       "        vertical-align: top;\n",
       "    }\n",
       "\n",
       "    .dataframe thead th {\n",
       "        text-align: right;\n",
       "    }\n",
       "</style>\n",
       "<table border=\"1\" class=\"dataframe\">\n",
       "  <thead>\n",
       "    <tr style=\"text-align: right;\">\n",
       "      <th></th>\n",
       "      <th>Date</th>\n",
       "      <th>Open</th>\n",
       "      <th>High</th>\n",
       "      <th>Low</th>\n",
       "      <th>Close</th>\n",
       "      <th>Volume</th>\n",
       "      <th>Adj Close</th>\n",
       "    </tr>\n",
       "  </thead>\n",
       "  <tbody>\n",
       "    <tr>\n",
       "      <th>277</th>\n",
       "      <td>2015-05-28</td>\n",
       "      <td>18154.140625</td>\n",
       "      <td>18154.140625</td>\n",
       "      <td>18066.400391</td>\n",
       "      <td>18126.119141</td>\n",
       "      <td>67510000</td>\n",
       "      <td>18126.119141</td>\n",
       "    </tr>\n",
       "    <tr>\n",
       "      <th>1949</th>\n",
       "      <td>2008-10-03</td>\n",
       "      <td>10483.959961</td>\n",
       "      <td>10796.259766</td>\n",
       "      <td>10310.250000</td>\n",
       "      <td>10325.379883</td>\n",
       "      <td>299690000</td>\n",
       "      <td>10325.379883</td>\n",
       "    </tr>\n",
       "    <tr>\n",
       "      <th>1896</th>\n",
       "      <td>2008-12-18</td>\n",
       "      <td>8823.940430</td>\n",
       "      <td>8883.360352</td>\n",
       "      <td>8527.410156</td>\n",
       "      <td>8604.990234</td>\n",
       "      <td>274080000</td>\n",
       "      <td>8604.990234</td>\n",
       "    </tr>\n",
       "    <tr>\n",
       "      <th>495</th>\n",
       "      <td>2014-07-16</td>\n",
       "      <td>17061.910156</td>\n",
       "      <td>17139.349609</td>\n",
       "      <td>17061.910156</td>\n",
       "      <td>17138.199219</td>\n",
       "      <td>111500000</td>\n",
       "      <td>17138.199219</td>\n",
       "    </tr>\n",
       "    <tr>\n",
       "      <th>1706</th>\n",
       "      <td>2009-09-22</td>\n",
       "      <td>9779.610352</td>\n",
       "      <td>9843.400391</td>\n",
       "      <td>9771.910156</td>\n",
       "      <td>9829.870117</td>\n",
       "      <td>194620000</td>\n",
       "      <td>9829.870117</td>\n",
       "    </tr>\n",
       "    <tr>\n",
       "      <th>905</th>\n",
       "      <td>2012-11-27</td>\n",
       "      <td>12963.379883</td>\n",
       "      <td>12980.190430</td>\n",
       "      <td>12868.259766</td>\n",
       "      <td>12878.129883</td>\n",
       "      <td>117900000</td>\n",
       "      <td>12878.129883</td>\n",
       "    </tr>\n",
       "    <tr>\n",
       "      <th>649</th>\n",
       "      <td>2013-12-03</td>\n",
       "      <td>16004.719727</td>\n",
       "      <td>16004.719727</td>\n",
       "      <td>15859.679688</td>\n",
       "      <td>15914.620117</td>\n",
       "      <td>103910000</td>\n",
       "      <td>15914.620117</td>\n",
       "    </tr>\n",
       "    <tr>\n",
       "      <th>784</th>\n",
       "      <td>2013-05-22</td>\n",
       "      <td>15387.120117</td>\n",
       "      <td>15542.400391</td>\n",
       "      <td>15265.959961</td>\n",
       "      <td>15307.169922</td>\n",
       "      <td>171850000</td>\n",
       "      <td>15307.169922</td>\n",
       "    </tr>\n",
       "    <tr>\n",
       "      <th>1</th>\n",
       "      <td>2016-06-30</td>\n",
       "      <td>17712.759766</td>\n",
       "      <td>17930.609375</td>\n",
       "      <td>17711.800781</td>\n",
       "      <td>17929.990234</td>\n",
       "      <td>133030000</td>\n",
       "      <td>17929.990234</td>\n",
       "    </tr>\n",
       "    <tr>\n",
       "      <th>1405</th>\n",
       "      <td>2010-12-01</td>\n",
       "      <td>11007.230469</td>\n",
       "      <td>11276.099609</td>\n",
       "      <td>11007.230469</td>\n",
       "      <td>11255.780273</td>\n",
       "      <td>202520000</td>\n",
       "      <td>11255.780273</td>\n",
       "    </tr>\n",
       "    <tr>\n",
       "      <th>830</th>\n",
       "      <td>2013-03-18</td>\n",
       "      <td>14514.110352</td>\n",
       "      <td>14521.589844</td>\n",
       "      <td>14404.209961</td>\n",
       "      <td>14452.059570</td>\n",
       "      <td>119640000</td>\n",
       "      <td>14452.059570</td>\n",
       "    </tr>\n",
       "    <tr>\n",
       "      <th>1337</th>\n",
       "      <td>2011-03-10</td>\n",
       "      <td>12211.429688</td>\n",
       "      <td>12211.429688</td>\n",
       "      <td>11974.389648</td>\n",
       "      <td>11984.610352</td>\n",
       "      <td>180660000</td>\n",
       "      <td>11984.610352</td>\n",
       "    </tr>\n",
       "    <tr>\n",
       "      <th>196</th>\n",
       "      <td>2015-09-22</td>\n",
       "      <td>16477.449219</td>\n",
       "      <td>16477.449219</td>\n",
       "      <td>16221.730469</td>\n",
       "      <td>16330.469727</td>\n",
       "      <td>119010000</td>\n",
       "      <td>16330.469727</td>\n",
       "    </tr>\n",
       "    <tr>\n",
       "      <th>461</th>\n",
       "      <td>2014-09-03</td>\n",
       "      <td>17067.240234</td>\n",
       "      <td>17151.890625</td>\n",
       "      <td>17060.210938</td>\n",
       "      <td>17078.279297</td>\n",
       "      <td>62770000</td>\n",
       "      <td>17078.279297</td>\n",
       "    </tr>\n",
       "    <tr>\n",
       "      <th>1644</th>\n",
       "      <td>2009-12-18</td>\n",
       "      <td>10309.389648</td>\n",
       "      <td>10372.349609</td>\n",
       "      <td>10263.900391</td>\n",
       "      <td>10328.889648</td>\n",
       "      <td>480080000</td>\n",
       "      <td>10328.889648</td>\n",
       "    </tr>\n",
       "    <tr>\n",
       "      <th>1423</th>\n",
       "      <td>2010-11-04</td>\n",
       "      <td>11216.650391</td>\n",
       "      <td>11440.370117</td>\n",
       "      <td>11216.650391</td>\n",
       "      <td>11434.839844</td>\n",
       "      <td>234680000</td>\n",
       "      <td>11434.839844</td>\n",
       "    </tr>\n",
       "    <tr>\n",
       "      <th>1687</th>\n",
       "      <td>2009-10-19</td>\n",
       "      <td>9996.669922</td>\n",
       "      <td>10117.959961</td>\n",
       "      <td>9995.150391</td>\n",
       "      <td>10092.190430</td>\n",
       "      <td>186240000</td>\n",
       "      <td>10092.190430</td>\n",
       "    </tr>\n",
       "    <tr>\n",
       "      <th>1546</th>\n",
       "      <td>2010-05-12</td>\n",
       "      <td>10742.150391</td>\n",
       "      <td>10909.080078</td>\n",
       "      <td>10742.150391</td>\n",
       "      <td>10896.910156</td>\n",
       "      <td>196630000</td>\n",
       "      <td>10896.910156</td>\n",
       "    </tr>\n",
       "    <tr>\n",
       "      <th>1333</th>\n",
       "      <td>2011-03-16</td>\n",
       "      <td>11854.200195</td>\n",
       "      <td>11856.700195</td>\n",
       "      <td>11555.480469</td>\n",
       "      <td>11613.299805</td>\n",
       "      <td>254070000</td>\n",
       "      <td>11613.299805</td>\n",
       "    </tr>\n",
       "    <tr>\n",
       "      <th>39</th>\n",
       "      <td>2016-05-06</td>\n",
       "      <td>17650.300781</td>\n",
       "      <td>17744.539062</td>\n",
       "      <td>17580.380859</td>\n",
       "      <td>17740.630859</td>\n",
       "      <td>80020000</td>\n",
       "      <td>17740.630859</td>\n",
       "    </tr>\n",
       "  </tbody>\n",
       "</table>\n",
       "</div>"
      ],
      "text/plain": [
       "            Date          Open          High           Low         Close  \\\n",
       "277   2015-05-28  18154.140625  18154.140625  18066.400391  18126.119141   \n",
       "1949  2008-10-03  10483.959961  10796.259766  10310.250000  10325.379883   \n",
       "1896  2008-12-18   8823.940430   8883.360352   8527.410156   8604.990234   \n",
       "495   2014-07-16  17061.910156  17139.349609  17061.910156  17138.199219   \n",
       "1706  2009-09-22   9779.610352   9843.400391   9771.910156   9829.870117   \n",
       "905   2012-11-27  12963.379883  12980.190430  12868.259766  12878.129883   \n",
       "649   2013-12-03  16004.719727  16004.719727  15859.679688  15914.620117   \n",
       "784   2013-05-22  15387.120117  15542.400391  15265.959961  15307.169922   \n",
       "1     2016-06-30  17712.759766  17930.609375  17711.800781  17929.990234   \n",
       "1405  2010-12-01  11007.230469  11276.099609  11007.230469  11255.780273   \n",
       "830   2013-03-18  14514.110352  14521.589844  14404.209961  14452.059570   \n",
       "1337  2011-03-10  12211.429688  12211.429688  11974.389648  11984.610352   \n",
       "196   2015-09-22  16477.449219  16477.449219  16221.730469  16330.469727   \n",
       "461   2014-09-03  17067.240234  17151.890625  17060.210938  17078.279297   \n",
       "1644  2009-12-18  10309.389648  10372.349609  10263.900391  10328.889648   \n",
       "1423  2010-11-04  11216.650391  11440.370117  11216.650391  11434.839844   \n",
       "1687  2009-10-19   9996.669922  10117.959961   9995.150391  10092.190430   \n",
       "1546  2010-05-12  10742.150391  10909.080078  10742.150391  10896.910156   \n",
       "1333  2011-03-16  11854.200195  11856.700195  11555.480469  11613.299805   \n",
       "39    2016-05-06  17650.300781  17744.539062  17580.380859  17740.630859   \n",
       "\n",
       "         Volume     Adj Close  \n",
       "277    67510000  18126.119141  \n",
       "1949  299690000  10325.379883  \n",
       "1896  274080000   8604.990234  \n",
       "495   111500000  17138.199219  \n",
       "1706  194620000   9829.870117  \n",
       "905   117900000  12878.129883  \n",
       "649   103910000  15914.620117  \n",
       "784   171850000  15307.169922  \n",
       "1     133030000  17929.990234  \n",
       "1405  202520000  11255.780273  \n",
       "830   119640000  14452.059570  \n",
       "1337  180660000  11984.610352  \n",
       "196   119010000  16330.469727  \n",
       "461    62770000  17078.279297  \n",
       "1644  480080000  10328.889648  \n",
       "1423  234680000  11434.839844  \n",
       "1687  186240000  10092.190430  \n",
       "1546  196630000  10896.910156  \n",
       "1333  254070000  11613.299805  \n",
       "39     80020000  17740.630859  "
      ]
     },
     "execution_count": 108,
     "metadata": {},
     "output_type": "execute_result"
    }
   ],
   "source": [
    "df.sort_values(by='Date',ascending=False).sample(frac=0.01)"
   ]
  },
  {
   "cell_type": "code",
   "execution_count": 109,
   "metadata": {
    "_uuid": "13f2b3ac2b4c80f75acdcbdfa08fbcd5c61fd710"
   },
   "outputs": [
    {
     "data": {
      "text/html": [
       "<div>\n",
       "<style scoped>\n",
       "    .dataframe tbody tr th:only-of-type {\n",
       "        vertical-align: middle;\n",
       "    }\n",
       "\n",
       "    .dataframe tbody tr th {\n",
       "        vertical-align: top;\n",
       "    }\n",
       "\n",
       "    .dataframe thead th {\n",
       "        text-align: right;\n",
       "    }\n",
       "</style>\n",
       "<table border=\"1\" class=\"dataframe\">\n",
       "  <thead>\n",
       "    <tr style=\"text-align: right;\">\n",
       "      <th></th>\n",
       "      <th>Date</th>\n",
       "      <th>Open</th>\n",
       "      <th>High</th>\n",
       "      <th>Low</th>\n",
       "      <th>Close</th>\n",
       "      <th>Volume</th>\n",
       "      <th>Adj Close</th>\n",
       "    </tr>\n",
       "  </thead>\n",
       "  <tbody>\n",
       "    <tr>\n",
       "      <th>0</th>\n",
       "      <td>2016-07-01</td>\n",
       "      <td>17924.240234</td>\n",
       "      <td>18002.380859</td>\n",
       "      <td>17916.910156</td>\n",
       "      <td>17949.369141</td>\n",
       "      <td>82160000</td>\n",
       "      <td>17949.369141</td>\n",
       "    </tr>\n",
       "    <tr>\n",
       "      <th>1</th>\n",
       "      <td>2016-06-30</td>\n",
       "      <td>17712.759766</td>\n",
       "      <td>17930.609375</td>\n",
       "      <td>17711.800781</td>\n",
       "      <td>17929.990234</td>\n",
       "      <td>133030000</td>\n",
       "      <td>17929.990234</td>\n",
       "    </tr>\n",
       "    <tr>\n",
       "      <th>2</th>\n",
       "      <td>2016-06-29</td>\n",
       "      <td>17456.019531</td>\n",
       "      <td>17704.509766</td>\n",
       "      <td>17456.019531</td>\n",
       "      <td>17694.679688</td>\n",
       "      <td>106380000</td>\n",
       "      <td>17694.679688</td>\n",
       "    </tr>\n",
       "    <tr>\n",
       "      <th>3</th>\n",
       "      <td>2016-06-28</td>\n",
       "      <td>17190.509766</td>\n",
       "      <td>17409.720703</td>\n",
       "      <td>17190.509766</td>\n",
       "      <td>17409.720703</td>\n",
       "      <td>112190000</td>\n",
       "      <td>17409.720703</td>\n",
       "    </tr>\n",
       "    <tr>\n",
       "      <th>4</th>\n",
       "      <td>2016-06-27</td>\n",
       "      <td>17355.210938</td>\n",
       "      <td>17355.210938</td>\n",
       "      <td>17063.080078</td>\n",
       "      <td>17140.240234</td>\n",
       "      <td>138740000</td>\n",
       "      <td>17140.240234</td>\n",
       "    </tr>\n",
       "  </tbody>\n",
       "</table>\n",
       "</div>"
      ],
      "text/plain": [
       "         Date          Open          High           Low         Close  \\\n",
       "0  2016-07-01  17924.240234  18002.380859  17916.910156  17949.369141   \n",
       "1  2016-06-30  17712.759766  17930.609375  17711.800781  17929.990234   \n",
       "2  2016-06-29  17456.019531  17704.509766  17456.019531  17694.679688   \n",
       "3  2016-06-28  17190.509766  17409.720703  17190.509766  17409.720703   \n",
       "4  2016-06-27  17355.210938  17355.210938  17063.080078  17140.240234   \n",
       "\n",
       "      Volume     Adj Close  \n",
       "0   82160000  17949.369141  \n",
       "1  133030000  17929.990234  \n",
       "2  106380000  17694.679688  \n",
       "3  112190000  17409.720703  \n",
       "4  138740000  17140.240234  "
      ]
     },
     "execution_count": 109,
     "metadata": {},
     "output_type": "execute_result"
    }
   ],
   "source": [
    "df.sort_values('Date', ascending=False).head()"
   ]
  },
  {
   "cell_type": "markdown",
   "metadata": {
    "_uuid": "8cba417bec9ee6ac67ed1e37c2132842e4cfefb9"
   },
   "source": [
    "### **df.sort_index()** <a id=\"63\"></a>\n",
    "This code sorts from small to large according to the DataFrame index.\n",
    "\n",
    "<mark>[Return Contents](#0)\n",
    "<hr>"
   ]
  },
  {
   "cell_type": "code",
   "execution_count": 110,
   "metadata": {
    "_uuid": "0317290f54888b03bf983a84382c6f78494a2a25"
   },
   "outputs": [
    {
     "data": {
      "text/html": [
       "<div>\n",
       "<style scoped>\n",
       "    .dataframe tbody tr th:only-of-type {\n",
       "        vertical-align: middle;\n",
       "    }\n",
       "\n",
       "    .dataframe tbody tr th {\n",
       "        vertical-align: top;\n",
       "    }\n",
       "\n",
       "    .dataframe thead th {\n",
       "        text-align: right;\n",
       "    }\n",
       "</style>\n",
       "<table border=\"1\" class=\"dataframe\">\n",
       "  <thead>\n",
       "    <tr style=\"text-align: right;\">\n",
       "      <th></th>\n",
       "      <th>Date</th>\n",
       "      <th>Open</th>\n",
       "      <th>High</th>\n",
       "      <th>Low</th>\n",
       "      <th>Close</th>\n",
       "      <th>Volume</th>\n",
       "      <th>Adj Close</th>\n",
       "    </tr>\n",
       "  </thead>\n",
       "  <tbody>\n",
       "    <tr>\n",
       "      <th>0</th>\n",
       "      <td>2016-07-01</td>\n",
       "      <td>17924.240234</td>\n",
       "      <td>18002.380859</td>\n",
       "      <td>17916.910156</td>\n",
       "      <td>17949.369141</td>\n",
       "      <td>82160000</td>\n",
       "      <td>17949.369141</td>\n",
       "    </tr>\n",
       "    <tr>\n",
       "      <th>1</th>\n",
       "      <td>2016-06-30</td>\n",
       "      <td>17712.759766</td>\n",
       "      <td>17930.609375</td>\n",
       "      <td>17711.800781</td>\n",
       "      <td>17929.990234</td>\n",
       "      <td>133030000</td>\n",
       "      <td>17929.990234</td>\n",
       "    </tr>\n",
       "    <tr>\n",
       "      <th>2</th>\n",
       "      <td>2016-06-29</td>\n",
       "      <td>17456.019531</td>\n",
       "      <td>17704.509766</td>\n",
       "      <td>17456.019531</td>\n",
       "      <td>17694.679688</td>\n",
       "      <td>106380000</td>\n",
       "      <td>17694.679688</td>\n",
       "    </tr>\n",
       "    <tr>\n",
       "      <th>3</th>\n",
       "      <td>2016-06-28</td>\n",
       "      <td>17190.509766</td>\n",
       "      <td>17409.720703</td>\n",
       "      <td>17190.509766</td>\n",
       "      <td>17409.720703</td>\n",
       "      <td>112190000</td>\n",
       "      <td>17409.720703</td>\n",
       "    </tr>\n",
       "    <tr>\n",
       "      <th>4</th>\n",
       "      <td>2016-06-27</td>\n",
       "      <td>17355.210938</td>\n",
       "      <td>17355.210938</td>\n",
       "      <td>17063.080078</td>\n",
       "      <td>17140.240234</td>\n",
       "      <td>138740000</td>\n",
       "      <td>17140.240234</td>\n",
       "    </tr>\n",
       "  </tbody>\n",
       "</table>\n",
       "</div>"
      ],
      "text/plain": [
       "         Date          Open          High           Low         Close  \\\n",
       "0  2016-07-01  17924.240234  18002.380859  17916.910156  17949.369141   \n",
       "1  2016-06-30  17712.759766  17930.609375  17711.800781  17929.990234   \n",
       "2  2016-06-29  17456.019531  17704.509766  17456.019531  17694.679688   \n",
       "3  2016-06-28  17190.509766  17409.720703  17190.509766  17409.720703   \n",
       "4  2016-06-27  17355.210938  17355.210938  17063.080078  17140.240234   \n",
       "\n",
       "      Volume     Adj Close  \n",
       "0   82160000  17949.369141  \n",
       "1  133030000  17929.990234  \n",
       "2  106380000  17694.679688  \n",
       "3  112190000  17409.720703  \n",
       "4  138740000  17140.240234  "
      ]
     },
     "execution_count": 110,
     "metadata": {},
     "output_type": "execute_result"
    }
   ],
   "source": [
    "df.sort_index().head()"
   ]
  },
  {
   "cell_type": "markdown",
   "metadata": {
    "_uuid": "1e10d8a4929a0bd2587d0826dc863d35784bcd68"
   },
   "source": [
    "# **Rename & Defining New & Change Columns** <a id=\"64\"></a>\n",
    "<mark>[Return Contents](#0)\n",
    "<hr>"
   ]
  },
  {
   "cell_type": "markdown",
   "metadata": {
    "_uuid": "e6d2f6146eee2aec07942640be832e6f465f8b13"
   },
   "source": [
    "### **df.rename(columns= {'columnName' : 'newColumnName'})** <a id=\"65\"></a>\n",
    "This code helps us change the column name. The code I wrote below changes the ID value, but as we did not assign the change to the variable DF, it seems to be unchanged as you see below."
   ]
  },
  {
   "cell_type": "code",
   "execution_count": 111,
   "metadata": {
    "_uuid": "f9629a7d893e2d06b28cd894755960b330abc5f1"
   },
   "outputs": [
    {
     "data": {
      "text/html": [
       "<div>\n",
       "<style scoped>\n",
       "    .dataframe tbody tr th:only-of-type {\n",
       "        vertical-align: middle;\n",
       "    }\n",
       "\n",
       "    .dataframe tbody tr th {\n",
       "        vertical-align: top;\n",
       "    }\n",
       "\n",
       "    .dataframe thead th {\n",
       "        text-align: right;\n",
       "    }\n",
       "</style>\n",
       "<table border=\"1\" class=\"dataframe\">\n",
       "  <thead>\n",
       "    <tr style=\"text-align: right;\">\n",
       "      <th></th>\n",
       "      <th>Date</th>\n",
       "      <th>Open</th>\n",
       "      <th>High</th>\n",
       "      <th>Low</th>\n",
       "      <th>Close</th>\n",
       "      <th>Volume</th>\n",
       "      <th>Adjclose</th>\n",
       "    </tr>\n",
       "  </thead>\n",
       "  <tbody>\n",
       "    <tr>\n",
       "      <th>0</th>\n",
       "      <td>2016-07-01</td>\n",
       "      <td>17924.240234</td>\n",
       "      <td>18002.380859</td>\n",
       "      <td>17916.910156</td>\n",
       "      <td>17949.369141</td>\n",
       "      <td>82160000</td>\n",
       "      <td>17949.369141</td>\n",
       "    </tr>\n",
       "    <tr>\n",
       "      <th>1</th>\n",
       "      <td>2016-06-30</td>\n",
       "      <td>17712.759766</td>\n",
       "      <td>17930.609375</td>\n",
       "      <td>17711.800781</td>\n",
       "      <td>17929.990234</td>\n",
       "      <td>133030000</td>\n",
       "      <td>17929.990234</td>\n",
       "    </tr>\n",
       "    <tr>\n",
       "      <th>2</th>\n",
       "      <td>2016-06-29</td>\n",
       "      <td>17456.019531</td>\n",
       "      <td>17704.509766</td>\n",
       "      <td>17456.019531</td>\n",
       "      <td>17694.679688</td>\n",
       "      <td>106380000</td>\n",
       "      <td>17694.679688</td>\n",
       "    </tr>\n",
       "    <tr>\n",
       "      <th>3</th>\n",
       "      <td>2016-06-28</td>\n",
       "      <td>17190.509766</td>\n",
       "      <td>17409.720703</td>\n",
       "      <td>17190.509766</td>\n",
       "      <td>17409.720703</td>\n",
       "      <td>112190000</td>\n",
       "      <td>17409.720703</td>\n",
       "    </tr>\n",
       "    <tr>\n",
       "      <th>4</th>\n",
       "      <td>2016-06-27</td>\n",
       "      <td>17355.210938</td>\n",
       "      <td>17355.210938</td>\n",
       "      <td>17063.080078</td>\n",
       "      <td>17140.240234</td>\n",
       "      <td>138740000</td>\n",
       "      <td>17140.240234</td>\n",
       "    </tr>\n",
       "  </tbody>\n",
       "</table>\n",
       "</div>"
      ],
      "text/plain": [
       "         Date          Open          High           Low         Close  \\\n",
       "0  2016-07-01  17924.240234  18002.380859  17916.910156  17949.369141   \n",
       "1  2016-06-30  17712.759766  17930.609375  17711.800781  17929.990234   \n",
       "2  2016-06-29  17456.019531  17704.509766  17456.019531  17694.679688   \n",
       "3  2016-06-28  17190.509766  17409.720703  17190.509766  17409.720703   \n",
       "4  2016-06-27  17355.210938  17355.210938  17063.080078  17140.240234   \n",
       "\n",
       "      Volume      Adjclose  \n",
       "0   82160000  17949.369141  \n",
       "1  133030000  17929.990234  \n",
       "2  106380000  17694.679688  \n",
       "3  112190000  17409.720703  \n",
       "4  138740000  17140.240234  "
      ]
     },
     "execution_count": 111,
     "metadata": {},
     "output_type": "execute_result"
    }
   ],
   "source": [
    "df.rename(columns= {'Adj Close' : 'Adjclose'}).head()\n",
    "# df = df.rename(columns= {'Id' : 'Identif'}, inplace=True) -> True way\n",
    "# inplace= True or False; This meaning, overwrite the data set.\n",
    "# Other Way\n",
    "# df.columns = ['date', 'open', 'high', 'low', 'close', 'volume', 'adjclose']"
   ]
  },
  {
   "cell_type": "markdown",
   "metadata": {
    "_uuid": "589a1f14eb9a14430b16fe7bdbb7f8f75739a672"
   },
   "source": [
    "###  **Defining New Column** <a id=\"66\"></a>\n",
    "Create a new column\n",
    "\n",
    "<mark>[Return Contents](#0)\n",
    "<hr>"
   ]
  },
  {
   "cell_type": "code",
   "execution_count": 112,
   "metadata": {
    "_uuid": "6056aa5ff4fbfa729cf28f13fe12693bc2baad24"
   },
   "outputs": [
    {
     "data": {
      "text/html": [
       "<div>\n",
       "<style scoped>\n",
       "    .dataframe tbody tr th:only-of-type {\n",
       "        vertical-align: middle;\n",
       "    }\n",
       "\n",
       "    .dataframe tbody tr th {\n",
       "        vertical-align: top;\n",
       "    }\n",
       "\n",
       "    .dataframe thead th {\n",
       "        text-align: right;\n",
       "    }\n",
       "</style>\n",
       "<table border=\"1\" class=\"dataframe\">\n",
       "  <thead>\n",
       "    <tr style=\"text-align: right;\">\n",
       "      <th></th>\n",
       "      <th>Date</th>\n",
       "      <th>Open</th>\n",
       "      <th>High</th>\n",
       "      <th>Low</th>\n",
       "      <th>Close</th>\n",
       "      <th>Volume</th>\n",
       "      <th>Adj Close</th>\n",
       "      <th>Difference</th>\n",
       "    </tr>\n",
       "  </thead>\n",
       "  <tbody>\n",
       "    <tr>\n",
       "      <th>0</th>\n",
       "      <td>2016-07-01</td>\n",
       "      <td>17924.240234</td>\n",
       "      <td>18002.380859</td>\n",
       "      <td>17916.910156</td>\n",
       "      <td>17949.369141</td>\n",
       "      <td>82160000</td>\n",
       "      <td>17949.369141</td>\n",
       "      <td>85.470703</td>\n",
       "    </tr>\n",
       "    <tr>\n",
       "      <th>1</th>\n",
       "      <td>2016-06-30</td>\n",
       "      <td>17712.759766</td>\n",
       "      <td>17930.609375</td>\n",
       "      <td>17711.800781</td>\n",
       "      <td>17929.990234</td>\n",
       "      <td>133030000</td>\n",
       "      <td>17929.990234</td>\n",
       "      <td>218.808594</td>\n",
       "    </tr>\n",
       "    <tr>\n",
       "      <th>2</th>\n",
       "      <td>2016-06-29</td>\n",
       "      <td>17456.019531</td>\n",
       "      <td>17704.509766</td>\n",
       "      <td>17456.019531</td>\n",
       "      <td>17694.679688</td>\n",
       "      <td>106380000</td>\n",
       "      <td>17694.679688</td>\n",
       "      <td>248.490235</td>\n",
       "    </tr>\n",
       "    <tr>\n",
       "      <th>3</th>\n",
       "      <td>2016-06-28</td>\n",
       "      <td>17190.509766</td>\n",
       "      <td>17409.720703</td>\n",
       "      <td>17190.509766</td>\n",
       "      <td>17409.720703</td>\n",
       "      <td>112190000</td>\n",
       "      <td>17409.720703</td>\n",
       "      <td>219.210937</td>\n",
       "    </tr>\n",
       "    <tr>\n",
       "      <th>4</th>\n",
       "      <td>2016-06-27</td>\n",
       "      <td>17355.210938</td>\n",
       "      <td>17355.210938</td>\n",
       "      <td>17063.080078</td>\n",
       "      <td>17140.240234</td>\n",
       "      <td>138740000</td>\n",
       "      <td>17140.240234</td>\n",
       "      <td>292.130860</td>\n",
       "    </tr>\n",
       "  </tbody>\n",
       "</table>\n",
       "</div>"
      ],
      "text/plain": [
       "         Date          Open          High           Low         Close  \\\n",
       "0  2016-07-01  17924.240234  18002.380859  17916.910156  17949.369141   \n",
       "1  2016-06-30  17712.759766  17930.609375  17711.800781  17929.990234   \n",
       "2  2016-06-29  17456.019531  17704.509766  17456.019531  17694.679688   \n",
       "3  2016-06-28  17190.509766  17409.720703  17190.509766  17409.720703   \n",
       "4  2016-06-27  17355.210938  17355.210938  17063.080078  17140.240234   \n",
       "\n",
       "      Volume     Adj Close  Difference  \n",
       "0   82160000  17949.369141   85.470703  \n",
       "1  133030000  17929.990234  218.808594  \n",
       "2  106380000  17694.679688  248.490235  \n",
       "3  112190000  17409.720703  219.210937  \n",
       "4  138740000  17140.240234  292.130860  "
      ]
     },
     "execution_count": 112,
     "metadata": {},
     "output_type": "execute_result"
    }
   ],
   "source": [
    "df[\"Difference\"] = df.High - df.Low\n",
    "df.head()"
   ]
  },
  {
   "cell_type": "markdown",
   "metadata": {
    "_uuid": "1964b6b7fc90407b51aa73cb742abf02880f65cc"
   },
   "source": [
    "### **Change Index Name** <a id=\"67\"></a>\n",
    "Change index name to new index name\n",
    "\n",
    "<mark>[Return Contents](#0)\n",
    "<hr>"
   ]
  },
  {
   "cell_type": "code",
   "execution_count": 113,
   "metadata": {
    "_uuid": "ada0dc263126bde102f32891d5a574136ea0796d"
   },
   "outputs": [
    {
     "name": "stdout",
     "output_type": "stream",
     "text": [
      "None\n"
     ]
    },
    {
     "data": {
      "text/html": [
       "<div>\n",
       "<style scoped>\n",
       "    .dataframe tbody tr th:only-of-type {\n",
       "        vertical-align: middle;\n",
       "    }\n",
       "\n",
       "    .dataframe tbody tr th {\n",
       "        vertical-align: top;\n",
       "    }\n",
       "\n",
       "    .dataframe thead th {\n",
       "        text-align: right;\n",
       "    }\n",
       "</style>\n",
       "<table border=\"1\" class=\"dataframe\">\n",
       "  <thead>\n",
       "    <tr style=\"text-align: right;\">\n",
       "      <th></th>\n",
       "      <th>Date</th>\n",
       "      <th>Open</th>\n",
       "      <th>High</th>\n",
       "      <th>Low</th>\n",
       "      <th>Close</th>\n",
       "      <th>Volume</th>\n",
       "      <th>Adj Close</th>\n",
       "      <th>Difference</th>\n",
       "    </tr>\n",
       "    <tr>\n",
       "      <th>index_name</th>\n",
       "      <th></th>\n",
       "      <th></th>\n",
       "      <th></th>\n",
       "      <th></th>\n",
       "      <th></th>\n",
       "      <th></th>\n",
       "      <th></th>\n",
       "      <th></th>\n",
       "    </tr>\n",
       "  </thead>\n",
       "  <tbody>\n",
       "    <tr>\n",
       "      <th>0</th>\n",
       "      <td>2016-07-01</td>\n",
       "      <td>17924.240234</td>\n",
       "      <td>18002.380859</td>\n",
       "      <td>17916.910156</td>\n",
       "      <td>17949.369141</td>\n",
       "      <td>82160000</td>\n",
       "      <td>17949.369141</td>\n",
       "      <td>85.470703</td>\n",
       "    </tr>\n",
       "    <tr>\n",
       "      <th>1</th>\n",
       "      <td>2016-06-30</td>\n",
       "      <td>17712.759766</td>\n",
       "      <td>17930.609375</td>\n",
       "      <td>17711.800781</td>\n",
       "      <td>17929.990234</td>\n",
       "      <td>133030000</td>\n",
       "      <td>17929.990234</td>\n",
       "      <td>218.808594</td>\n",
       "    </tr>\n",
       "    <tr>\n",
       "      <th>2</th>\n",
       "      <td>2016-06-29</td>\n",
       "      <td>17456.019531</td>\n",
       "      <td>17704.509766</td>\n",
       "      <td>17456.019531</td>\n",
       "      <td>17694.679688</td>\n",
       "      <td>106380000</td>\n",
       "      <td>17694.679688</td>\n",
       "      <td>248.490235</td>\n",
       "    </tr>\n",
       "    <tr>\n",
       "      <th>3</th>\n",
       "      <td>2016-06-28</td>\n",
       "      <td>17190.509766</td>\n",
       "      <td>17409.720703</td>\n",
       "      <td>17190.509766</td>\n",
       "      <td>17409.720703</td>\n",
       "      <td>112190000</td>\n",
       "      <td>17409.720703</td>\n",
       "      <td>219.210937</td>\n",
       "    </tr>\n",
       "    <tr>\n",
       "      <th>4</th>\n",
       "      <td>2016-06-27</td>\n",
       "      <td>17355.210938</td>\n",
       "      <td>17355.210938</td>\n",
       "      <td>17063.080078</td>\n",
       "      <td>17140.240234</td>\n",
       "      <td>138740000</td>\n",
       "      <td>17140.240234</td>\n",
       "      <td>292.130860</td>\n",
       "    </tr>\n",
       "  </tbody>\n",
       "</table>\n",
       "</div>"
      ],
      "text/plain": [
       "                  Date          Open          High           Low  \\\n",
       "index_name                                                         \n",
       "0           2016-07-01  17924.240234  18002.380859  17916.910156   \n",
       "1           2016-06-30  17712.759766  17930.609375  17711.800781   \n",
       "2           2016-06-29  17456.019531  17704.509766  17456.019531   \n",
       "3           2016-06-28  17190.509766  17409.720703  17190.509766   \n",
       "4           2016-06-27  17355.210938  17355.210938  17063.080078   \n",
       "\n",
       "                   Close     Volume     Adj Close  Difference  \n",
       "index_name                                                     \n",
       "0           17949.369141   82160000  17949.369141   85.470703  \n",
       "1           17929.990234  133030000  17929.990234  218.808594  \n",
       "2           17694.679688  106380000  17694.679688  248.490235  \n",
       "3           17409.720703  112190000  17409.720703  219.210937  \n",
       "4           17140.240234  138740000  17140.240234  292.130860  "
      ]
     },
     "execution_count": 113,
     "metadata": {},
     "output_type": "execute_result"
    }
   ],
   "source": [
    "print(df.index.name)\n",
    "df.index.name = \"index_name\"\n",
    "df.head()"
   ]
  },
  {
   "cell_type": "markdown",
   "metadata": {
    "_uuid": "15710f63a62ff12196912e9b41919b6157b90dff"
   },
   "source": [
    "### **Make all columns lowercase** <a id=\"68\"></a>\n",
    "<mark>[Return Contents](#0)\n",
    "<hr>"
   ]
  },
  {
   "cell_type": "code",
   "execution_count": 114,
   "metadata": {
    "_uuid": "ae9b53e39babf6b99fae1ebc3746ccd41be813b3"
   },
   "outputs": [],
   "source": [
    "#df.columns = map(str.lower(), df.columns)"
   ]
  },
  {
   "cell_type": "markdown",
   "metadata": {
    "_uuid": "5e56335f86a4e3e463151a9e4470bdf71183b863"
   },
   "source": [
    "### **Make all columns uppercase** <a id=\"69\"></a>\n",
    "<mark>[Return Contents](#0)\n",
    "<hr>"
   ]
  },
  {
   "cell_type": "code",
   "execution_count": 115,
   "metadata": {
    "_uuid": "7c1800e1b60aadffc1105b77dae3ae98f62b67fa"
   },
   "outputs": [],
   "source": [
    "#df.columns = map(str.upper(), df.columns)"
   ]
  },
  {
   "cell_type": "markdown",
   "metadata": {
    "_uuid": "6b289272d9dff6967d82110f9e71b8cf0754cf1f"
   },
   "source": [
    "# **Drop Data** <a id=\"70\"></a>\n",
    "\n",
    "<mark>[Return Contents](#0)\n",
    "<hr>"
   ]
  },
  {
   "cell_type": "markdown",
   "metadata": {
    "_uuid": "e9ac8aff9d77672a72d8460ccc00612d13fff631"
   },
   "source": [
    "### **df.drop(columns=['columnName'])** <a id=\"71\"></a>\n",
    "This code deletes the column we have specified. But as above, I have to reset the delete to the df variable again."
   ]
  },
  {
   "cell_type": "code",
   "execution_count": 116,
   "metadata": {
    "_uuid": "41d2d8fff5ad5d5e1175ec4bc985169bf3872f23"
   },
   "outputs": [
    {
     "data": {
      "text/html": [
       "<div>\n",
       "<style scoped>\n",
       "    .dataframe tbody tr th:only-of-type {\n",
       "        vertical-align: middle;\n",
       "    }\n",
       "\n",
       "    .dataframe tbody tr th {\n",
       "        vertical-align: top;\n",
       "    }\n",
       "\n",
       "    .dataframe thead th {\n",
       "        text-align: right;\n",
       "    }\n",
       "</style>\n",
       "<table border=\"1\" class=\"dataframe\">\n",
       "  <thead>\n",
       "    <tr style=\"text-align: right;\">\n",
       "      <th></th>\n",
       "      <th>Date</th>\n",
       "      <th>Open</th>\n",
       "      <th>High</th>\n",
       "      <th>Low</th>\n",
       "      <th>Close</th>\n",
       "      <th>Volume</th>\n",
       "      <th>Difference</th>\n",
       "    </tr>\n",
       "    <tr>\n",
       "      <th>index_name</th>\n",
       "      <th></th>\n",
       "      <th></th>\n",
       "      <th></th>\n",
       "      <th></th>\n",
       "      <th></th>\n",
       "      <th></th>\n",
       "      <th></th>\n",
       "    </tr>\n",
       "  </thead>\n",
       "  <tbody>\n",
       "    <tr>\n",
       "      <th>0</th>\n",
       "      <td>2016-07-01</td>\n",
       "      <td>17924.240234</td>\n",
       "      <td>18002.380859</td>\n",
       "      <td>17916.910156</td>\n",
       "      <td>17949.369141</td>\n",
       "      <td>82160000</td>\n",
       "      <td>85.470703</td>\n",
       "    </tr>\n",
       "    <tr>\n",
       "      <th>1</th>\n",
       "      <td>2016-06-30</td>\n",
       "      <td>17712.759766</td>\n",
       "      <td>17930.609375</td>\n",
       "      <td>17711.800781</td>\n",
       "      <td>17929.990234</td>\n",
       "      <td>133030000</td>\n",
       "      <td>218.808594</td>\n",
       "    </tr>\n",
       "    <tr>\n",
       "      <th>2</th>\n",
       "      <td>2016-06-29</td>\n",
       "      <td>17456.019531</td>\n",
       "      <td>17704.509766</td>\n",
       "      <td>17456.019531</td>\n",
       "      <td>17694.679688</td>\n",
       "      <td>106380000</td>\n",
       "      <td>248.490235</td>\n",
       "    </tr>\n",
       "    <tr>\n",
       "      <th>3</th>\n",
       "      <td>2016-06-28</td>\n",
       "      <td>17190.509766</td>\n",
       "      <td>17409.720703</td>\n",
       "      <td>17190.509766</td>\n",
       "      <td>17409.720703</td>\n",
       "      <td>112190000</td>\n",
       "      <td>219.210937</td>\n",
       "    </tr>\n",
       "    <tr>\n",
       "      <th>4</th>\n",
       "      <td>2016-06-27</td>\n",
       "      <td>17355.210938</td>\n",
       "      <td>17355.210938</td>\n",
       "      <td>17063.080078</td>\n",
       "      <td>17140.240234</td>\n",
       "      <td>138740000</td>\n",
       "      <td>292.130860</td>\n",
       "    </tr>\n",
       "  </tbody>\n",
       "</table>\n",
       "</div>"
      ],
      "text/plain": [
       "                  Date          Open          High           Low  \\\n",
       "index_name                                                         \n",
       "0           2016-07-01  17924.240234  18002.380859  17916.910156   \n",
       "1           2016-06-30  17712.759766  17930.609375  17711.800781   \n",
       "2           2016-06-29  17456.019531  17704.509766  17456.019531   \n",
       "3           2016-06-28  17190.509766  17409.720703  17190.509766   \n",
       "4           2016-06-27  17355.210938  17355.210938  17063.080078   \n",
       "\n",
       "                   Close     Volume  Difference  \n",
       "index_name                                       \n",
       "0           17949.369141   82160000   85.470703  \n",
       "1           17929.990234  133030000  218.808594  \n",
       "2           17694.679688  106380000  248.490235  \n",
       "3           17409.720703  112190000  219.210937  \n",
       "4           17140.240234  138740000  292.130860  "
      ]
     },
     "execution_count": 116,
     "metadata": {},
     "output_type": "execute_result"
    }
   ],
   "source": [
    "df.drop(columns=['Adj Close']).head()\n",
    "# df = df.drop(columns=['Id']) -> True way\n",
    "# OR\n",
    "# df = df.drop('col', axis=1)\n",
    "# axis = 1 is meaning delete columns\n",
    "# axis = 0 is meaning delete rows"
   ]
  },
  {
   "cell_type": "markdown",
   "metadata": {
    "_uuid": "f80fb6f28d3b1ca5c0e30ebbb40e3c56ba19581c"
   },
   "source": [
    "### **mySeries.drop(['a'])** <a id=\"72\"></a>\n",
    "This code allows us to delete the value specified in the series.\n",
    "\n",
    "<mark>[Return Contents](#0)\n",
    "<hr>"
   ]
  },
  {
   "cell_type": "code",
   "execution_count": 117,
   "metadata": {
    "_uuid": "77930a8a0369518c8c5bfcf4c8594adb14ca028c"
   },
   "outputs": [
    {
     "data": {
      "text/plain": [
       "b   -5\n",
       "c    7\n",
       "d    4\n",
       "dtype: int64"
      ]
     },
     "execution_count": 117,
     "metadata": {},
     "output_type": "execute_result"
    }
   ],
   "source": [
    "mySeries.drop(['a'])"
   ]
  },
  {
   "cell_type": "markdown",
   "metadata": {
    "_uuid": "6a472c27b3703d89606949b355c5008ff8981908"
   },
   "source": [
    "### **Drop an observation (row)** <a id=\"82\"></a>\n",
    "\n",
    "<mark>[Return Contents](#0)\n",
    "<hr>"
   ]
  },
  {
   "cell_type": "code",
   "execution_count": 118,
   "metadata": {
    "_uuid": "3fb937803e52af8a17314cfd0ccb24e0d87f7423"
   },
   "outputs": [],
   "source": [
    "# df.drop(['2016-07-01', '2016-06-27'])"
   ]
  },
  {
   "cell_type": "markdown",
   "metadata": {
    "_uuid": "24773e44d98f5c9bcb97c7aa8b7109919f8c8d91"
   },
   "source": [
    "### **Drop a variable (column)** <a id=\"83\"></a>\n",
    "\n",
    "<mark>[Return Contents](#0)\n",
    "<hr>\n",
    "Note: axis=1 denotes that we are referring to a column, not a row"
   ]
  },
  {
   "cell_type": "code",
   "execution_count": 119,
   "metadata": {
    "_uuid": "3b341838cde86e0bf29cf10acd86c89fd5e3dae9"
   },
   "outputs": [],
   "source": [
    "# df.drop('Volume', axis=1)"
   ]
  },
  {
   "cell_type": "markdown",
   "metadata": {
    "_uuid": "257734e1e5181e1a7983b246b96fd9d48e82c383"
   },
   "source": [
    "# **Convert Data Types** <a id=\"73\"></a>\n",
    "\n",
    "<mark>[Return Contents](#0)\n",
    "<hr>\n",
    "\n",
    "### **df.dtypes** <a id=\"74\"></a>\n",
    "This code shows what data type of columns are. Boolean, int, float, object(String), date and categorical."
   ]
  },
  {
   "cell_type": "code",
   "execution_count": 120,
   "metadata": {
    "_uuid": "d02e7c7f166080e52b16976bbf2e823bc341f6c9"
   },
   "outputs": [
    {
     "data": {
      "text/plain": [
       "Date           object\n",
       "Open          float64\n",
       "High          float64\n",
       "Low           float64\n",
       "Close         float64\n",
       "Volume          int64\n",
       "Adj Close     float64\n",
       "Difference    float64\n",
       "dtype: object"
      ]
     },
     "execution_count": 120,
     "metadata": {},
     "output_type": "execute_result"
    }
   ],
   "source": [
    "df.dtypes"
   ]
  },
  {
   "cell_type": "markdown",
   "metadata": {
    "_uuid": "ca2aa5c9ab554e05194f2d615b951e7bd0dd53a5"
   },
   "source": [
    "### **df['columnName'] = df['columnName'].astype('dataType')** <a id=\"75\"></a>\n",
    "This code convert the column we specify into the data type we specify.\n",
    "\n",
    "<mark>[Return Contents](#0)\n",
    "<hr>"
   ]
  },
  {
   "cell_type": "code",
   "execution_count": 121,
   "metadata": {
    "_uuid": "ab77df3bc11b833c288e65de5b14942623323141"
   },
   "outputs": [
    {
     "data": {
      "text/plain": [
       "CategoricalDtype(categories=['2008-08-08', '2008-08-11', '2008-08-12', '2008-08-13',\n",
       "                  '2008-08-14', '2008-08-15', '2008-08-18', '2008-08-19',\n",
       "                  '2008-08-20', '2008-08-21',\n",
       "                  ...\n",
       "                  '2016-06-20', '2016-06-21', '2016-06-22', '2016-06-23',\n",
       "                  '2016-06-24', '2016-06-27', '2016-06-28', '2016-06-29',\n",
       "                  '2016-06-30', '2016-07-01'],\n",
       "                 ordered=False)"
      ]
     },
     "execution_count": 121,
     "metadata": {},
     "output_type": "execute_result"
    }
   ],
   "source": [
    "df.Date.astype('category').dtypes\n",
    "# OR Convert Datetime\n",
    "# df.Date= pd.to_datetime(df.Date)"
   ]
  },
  {
   "cell_type": "markdown",
   "metadata": {
    "_uuid": "5f6a908930f020091d29630525dea48a6b5047ee"
   },
   "source": [
    "### **pd.melt(frame=dataFrameName,id_vars = 'columnName', value_vars= ['columnName'])** <a id=\"76\"></a>\n",
    "This code is confusing, so lets look at the example.\n",
    "\n",
    "<mark>[Return Contents](#0)\n",
    "<hr>"
   ]
  },
  {
   "cell_type": "code",
   "execution_count": 123,
   "metadata": {
    "_uuid": "2a461f5a7096f6c3047c37f77a21a302a4724be3"
   },
   "outputs": [
    {
     "data": {
      "text/html": [
       "<div>\n",
       "<style scoped>\n",
       "    .dataframe tbody tr th:only-of-type {\n",
       "        vertical-align: middle;\n",
       "    }\n",
       "\n",
       "    .dataframe tbody tr th {\n",
       "        vertical-align: top;\n",
       "    }\n",
       "\n",
       "    .dataframe thead th {\n",
       "        text-align: right;\n",
       "    }\n",
       "</style>\n",
       "<table border=\"1\" class=\"dataframe\">\n",
       "  <thead>\n",
       "    <tr style=\"text-align: right;\">\n",
       "      <th></th>\n",
       "      <th>Date</th>\n",
       "      <th>variable</th>\n",
       "      <th>value</th>\n",
       "    </tr>\n",
       "  </thead>\n",
       "  <tbody>\n",
       "    <tr>\n",
       "      <th>0</th>\n",
       "      <td>2016-07-01</td>\n",
       "      <td>Low</td>\n",
       "      <td>17916.910156</td>\n",
       "    </tr>\n",
       "    <tr>\n",
       "      <th>1</th>\n",
       "      <td>2016-06-30</td>\n",
       "      <td>Low</td>\n",
       "      <td>17711.800781</td>\n",
       "    </tr>\n",
       "    <tr>\n",
       "      <th>2</th>\n",
       "      <td>2016-06-29</td>\n",
       "      <td>Low</td>\n",
       "      <td>17456.019531</td>\n",
       "    </tr>\n",
       "    <tr>\n",
       "      <th>3</th>\n",
       "      <td>2016-06-28</td>\n",
       "      <td>Low</td>\n",
       "      <td>17190.509766</td>\n",
       "    </tr>\n",
       "    <tr>\n",
       "      <th>4</th>\n",
       "      <td>2016-06-27</td>\n",
       "      <td>Low</td>\n",
       "      <td>17063.080078</td>\n",
       "    </tr>\n",
       "  </tbody>\n",
       "</table>\n",
       "</div>"
      ],
      "text/plain": [
       "         Date variable         value\n",
       "0  2016-07-01      Low  17916.910156\n",
       "1  2016-06-30      Low  17711.800781\n",
       "2  2016-06-29      Low  17456.019531\n",
       "3  2016-06-28      Low  17190.509766\n",
       "4  2016-06-27      Low  17063.080078"
      ]
     },
     "execution_count": 123,
     "metadata": {},
     "output_type": "execute_result"
    }
   ],
   "source": [
    "df_new = df.head()\n",
    "melted = pd.melt(frame=df_new,id_vars = 'Date', value_vars= ['Low'])\n",
    "melted"
   ]
  },
  {
   "cell_type": "code",
   "execution_count": 124,
   "metadata": {},
   "outputs": [
    {
     "data": {
      "text/html": [
       "<div>\n",
       "<style scoped>\n",
       "    .dataframe tbody tr th:only-of-type {\n",
       "        vertical-align: middle;\n",
       "    }\n",
       "\n",
       "    .dataframe tbody tr th {\n",
       "        vertical-align: top;\n",
       "    }\n",
       "\n",
       "    .dataframe thead th {\n",
       "        text-align: right;\n",
       "    }\n",
       "</style>\n",
       "<table border=\"1\" class=\"dataframe\">\n",
       "  <thead>\n",
       "    <tr style=\"text-align: right;\">\n",
       "      <th></th>\n",
       "      <th>Date</th>\n",
       "      <th>variable</th>\n",
       "      <th>value</th>\n",
       "    </tr>\n",
       "  </thead>\n",
       "  <tbody>\n",
       "    <tr>\n",
       "      <th>0</th>\n",
       "      <td>2008-08-14</td>\n",
       "      <td>Low</td>\n",
       "      <td>11450.889648</td>\n",
       "    </tr>\n",
       "    <tr>\n",
       "      <th>1</th>\n",
       "      <td>2008-08-13</td>\n",
       "      <td>Low</td>\n",
       "      <td>11453.339844</td>\n",
       "    </tr>\n",
       "    <tr>\n",
       "      <th>2</th>\n",
       "      <td>2008-08-12</td>\n",
       "      <td>Low</td>\n",
       "      <td>11601.519531</td>\n",
       "    </tr>\n",
       "    <tr>\n",
       "      <th>3</th>\n",
       "      <td>2008-08-11</td>\n",
       "      <td>Low</td>\n",
       "      <td>11675.530273</td>\n",
       "    </tr>\n",
       "    <tr>\n",
       "      <th>4</th>\n",
       "      <td>2008-08-08</td>\n",
       "      <td>Low</td>\n",
       "      <td>11388.040039</td>\n",
       "    </tr>\n",
       "    <tr>\n",
       "      <th>5</th>\n",
       "      <td>2008-08-14</td>\n",
       "      <td>Close</td>\n",
       "      <td>11615.929688</td>\n",
       "    </tr>\n",
       "    <tr>\n",
       "      <th>6</th>\n",
       "      <td>2008-08-13</td>\n",
       "      <td>Close</td>\n",
       "      <td>11532.959961</td>\n",
       "    </tr>\n",
       "    <tr>\n",
       "      <th>7</th>\n",
       "      <td>2008-08-12</td>\n",
       "      <td>Close</td>\n",
       "      <td>11642.469727</td>\n",
       "    </tr>\n",
       "    <tr>\n",
       "      <th>8</th>\n",
       "      <td>2008-08-11</td>\n",
       "      <td>Close</td>\n",
       "      <td>11782.349609</td>\n",
       "    </tr>\n",
       "    <tr>\n",
       "      <th>9</th>\n",
       "      <td>2008-08-08</td>\n",
       "      <td>Close</td>\n",
       "      <td>11734.320312</td>\n",
       "    </tr>\n",
       "    <tr>\n",
       "      <th>10</th>\n",
       "      <td>2008-08-14</td>\n",
       "      <td>High</td>\n",
       "      <td>11718.280273</td>\n",
       "    </tr>\n",
       "    <tr>\n",
       "      <th>11</th>\n",
       "      <td>2008-08-13</td>\n",
       "      <td>High</td>\n",
       "      <td>11633.780273</td>\n",
       "    </tr>\n",
       "    <tr>\n",
       "      <th>12</th>\n",
       "      <td>2008-08-12</td>\n",
       "      <td>High</td>\n",
       "      <td>11782.349609</td>\n",
       "    </tr>\n",
       "    <tr>\n",
       "      <th>13</th>\n",
       "      <td>2008-08-11</td>\n",
       "      <td>High</td>\n",
       "      <td>11867.110352</td>\n",
       "    </tr>\n",
       "    <tr>\n",
       "      <th>14</th>\n",
       "      <td>2008-08-08</td>\n",
       "      <td>High</td>\n",
       "      <td>11759.959961</td>\n",
       "    </tr>\n",
       "  </tbody>\n",
       "</table>\n",
       "</div>"
      ],
      "text/plain": [
       "          Date variable         value\n",
       "0   2008-08-14      Low  11450.889648\n",
       "1   2008-08-13      Low  11453.339844\n",
       "2   2008-08-12      Low  11601.519531\n",
       "3   2008-08-11      Low  11675.530273\n",
       "4   2008-08-08      Low  11388.040039\n",
       "5   2008-08-14    Close  11615.929688\n",
       "6   2008-08-13    Close  11532.959961\n",
       "7   2008-08-12    Close  11642.469727\n",
       "8   2008-08-11    Close  11782.349609\n",
       "9   2008-08-08    Close  11734.320312\n",
       "10  2008-08-14     High  11718.280273\n",
       "11  2008-08-13     High  11633.780273\n",
       "12  2008-08-12     High  11782.349609\n",
       "13  2008-08-11     High  11867.110352\n",
       "14  2008-08-08     High  11759.959961"
      ]
     },
     "execution_count": 124,
     "metadata": {},
     "output_type": "execute_result"
    }
   ],
   "source": [
    "df_new_1 = df.tail()\n",
    "melted = pd.melt(frame=df_new_1,id_vars = 'Date', value_vars= ['Low','Close','High'])\n",
    "melted"
   ]
  },
  {
   "cell_type": "code",
   "execution_count": 125,
   "metadata": {},
   "outputs": [
    {
     "data": {
      "text/html": [
       "<div>\n",
       "<style scoped>\n",
       "    .dataframe tbody tr th:only-of-type {\n",
       "        vertical-align: middle;\n",
       "    }\n",
       "\n",
       "    .dataframe tbody tr th {\n",
       "        vertical-align: top;\n",
       "    }\n",
       "\n",
       "    .dataframe thead th {\n",
       "        text-align: right;\n",
       "    }\n",
       "</style>\n",
       "<table border=\"1\" class=\"dataframe\">\n",
       "  <thead>\n",
       "    <tr style=\"text-align: right;\">\n",
       "      <th></th>\n",
       "      <th>Date</th>\n",
       "      <th>Open</th>\n",
       "      <th>High</th>\n",
       "      <th>Low</th>\n",
       "      <th>Close</th>\n",
       "      <th>Volume</th>\n",
       "      <th>Adj Close</th>\n",
       "      <th>Difference</th>\n",
       "    </tr>\n",
       "    <tr>\n",
       "      <th>index_name</th>\n",
       "      <th></th>\n",
       "      <th></th>\n",
       "      <th></th>\n",
       "      <th></th>\n",
       "      <th></th>\n",
       "      <th></th>\n",
       "      <th></th>\n",
       "      <th></th>\n",
       "    </tr>\n",
       "  </thead>\n",
       "  <tbody>\n",
       "    <tr>\n",
       "      <th>1984</th>\n",
       "      <td>2008-08-14</td>\n",
       "      <td>11532.070312</td>\n",
       "      <td>11718.280273</td>\n",
       "      <td>11450.889648</td>\n",
       "      <td>11615.929688</td>\n",
       "      <td>159790000</td>\n",
       "      <td>11615.929688</td>\n",
       "      <td>267.390625</td>\n",
       "    </tr>\n",
       "    <tr>\n",
       "      <th>1985</th>\n",
       "      <td>2008-08-13</td>\n",
       "      <td>11632.809570</td>\n",
       "      <td>11633.780273</td>\n",
       "      <td>11453.339844</td>\n",
       "      <td>11532.959961</td>\n",
       "      <td>182550000</td>\n",
       "      <td>11532.959961</td>\n",
       "      <td>180.440429</td>\n",
       "    </tr>\n",
       "    <tr>\n",
       "      <th>1986</th>\n",
       "      <td>2008-08-12</td>\n",
       "      <td>11781.700195</td>\n",
       "      <td>11782.349609</td>\n",
       "      <td>11601.519531</td>\n",
       "      <td>11642.469727</td>\n",
       "      <td>173590000</td>\n",
       "      <td>11642.469727</td>\n",
       "      <td>180.830078</td>\n",
       "    </tr>\n",
       "    <tr>\n",
       "      <th>1987</th>\n",
       "      <td>2008-08-11</td>\n",
       "      <td>11729.669922</td>\n",
       "      <td>11867.110352</td>\n",
       "      <td>11675.530273</td>\n",
       "      <td>11782.349609</td>\n",
       "      <td>183190000</td>\n",
       "      <td>11782.349609</td>\n",
       "      <td>191.580079</td>\n",
       "    </tr>\n",
       "    <tr>\n",
       "      <th>1988</th>\n",
       "      <td>2008-08-08</td>\n",
       "      <td>11432.089844</td>\n",
       "      <td>11759.959961</td>\n",
       "      <td>11388.040039</td>\n",
       "      <td>11734.320312</td>\n",
       "      <td>212830000</td>\n",
       "      <td>11734.320312</td>\n",
       "      <td>371.919922</td>\n",
       "    </tr>\n",
       "  </tbody>\n",
       "</table>\n",
       "</div>"
      ],
      "text/plain": [
       "                  Date          Open          High           Low  \\\n",
       "index_name                                                         \n",
       "1984        2008-08-14  11532.070312  11718.280273  11450.889648   \n",
       "1985        2008-08-13  11632.809570  11633.780273  11453.339844   \n",
       "1986        2008-08-12  11781.700195  11782.349609  11601.519531   \n",
       "1987        2008-08-11  11729.669922  11867.110352  11675.530273   \n",
       "1988        2008-08-08  11432.089844  11759.959961  11388.040039   \n",
       "\n",
       "                   Close     Volume     Adj Close  Difference  \n",
       "index_name                                                     \n",
       "1984        11615.929688  159790000  11615.929688  267.390625  \n",
       "1985        11532.959961  182550000  11532.959961  180.440429  \n",
       "1986        11642.469727  173590000  11642.469727  180.830078  \n",
       "1987        11782.349609  183190000  11782.349609  191.580079  \n",
       "1988        11734.320312  212830000  11734.320312  371.919922  "
      ]
     },
     "execution_count": 125,
     "metadata": {},
     "output_type": "execute_result"
    }
   ],
   "source": [
    "df.tail()"
   ]
  },
  {
   "cell_type": "markdown",
   "metadata": {
    "_uuid": "019d675c8328676e2a53c936359a83530f2fccf8"
   },
   "source": [
    "# **Apply Function** <a id=\"77\"></a>\n",
    "\n",
    "<mark>[Return Contents](#0)\n",
    "<hr>\n",
    "\n",
    "### **Method 1** <a id=\"78\"></a>"
   ]
  },
  {
   "cell_type": "code",
   "execution_count": 126,
   "metadata": {
    "_uuid": "f3d0a47f7f60f42ab74031960962dca9f5c51a90"
   },
   "outputs": [
    {
     "data": {
      "text/plain": [
       "index_name\n",
       "0    35848.480468\n",
       "1    35425.519532\n",
       "2    34912.039062\n",
       "3    34381.019532\n",
       "4    34710.421876\n",
       "Name: Open, dtype: float64"
      ]
     },
     "execution_count": 126,
     "metadata": {},
     "output_type": "execute_result"
    }
   ],
   "source": [
    "def examples(x):   #create a function\n",
    "    return x*2\n",
    "\n",
    "df.Open.apply(examples).head()  #use the function with apply() "
   ]
  },
  {
   "cell_type": "markdown",
   "metadata": {
    "_uuid": "45734ddf89edf8ad9075a2222c78448b0e455214"
   },
   "source": [
    "### **Method 2** <a id=\"79\"></a>"
   ]
  },
  {
   "cell_type": "code",
   "execution_count": 127,
   "metadata": {
    "_uuid": "6447848a7f2fd2c7a0100317e1c4869260f4c11e"
   },
   "outputs": [
    {
     "data": {
      "text/plain": [
       "index_name\n",
       "0    35848.480468\n",
       "1    35425.519532\n",
       "2    34912.039062\n",
       "3    34381.019532\n",
       "4    34710.421876\n",
       "Name: Open, dtype: float64"
      ]
     },
     "execution_count": 127,
     "metadata": {},
     "output_type": "execute_result"
    }
   ],
   "source": [
    "df.Open.apply(lambda x: x*2).head()"
   ]
  },
  {
   "cell_type": "code",
   "execution_count": 128,
   "metadata": {
    "_uuid": "c1b5357c9b56f02a8652e23e78d4421a81c46316"
   },
   "outputs": [
    {
     "data": {
      "text/plain": [
       "index_name\n",
       "0    3.212784e+08\n",
       "1    3.137419e+08\n",
       "2    3.047126e+08\n",
       "3    2.955136e+08\n",
       "4    3.012033e+08\n",
       "Name: Open, dtype: float64"
      ]
     },
     "execution_count": 128,
     "metadata": {},
     "output_type": "execute_result"
    }
   ],
   "source": [
    "df.Open.apply(lambda x: x**2).head()"
   ]
  },
  {
   "cell_type": "code",
   "execution_count": 129,
   "metadata": {},
   "outputs": [
    {
     "data": {
      "text/html": [
       "<div>\n",
       "<style scoped>\n",
       "    .dataframe tbody tr th:only-of-type {\n",
       "        vertical-align: middle;\n",
       "    }\n",
       "\n",
       "    .dataframe tbody tr th {\n",
       "        vertical-align: top;\n",
       "    }\n",
       "\n",
       "    .dataframe thead th {\n",
       "        text-align: right;\n",
       "    }\n",
       "</style>\n",
       "<table border=\"1\" class=\"dataframe\">\n",
       "  <thead>\n",
       "    <tr style=\"text-align: right;\">\n",
       "      <th></th>\n",
       "      <th>Open</th>\n",
       "      <th>High</th>\n",
       "      <th>Low</th>\n",
       "      <th>Close</th>\n",
       "      <th>Volume</th>\n",
       "      <th>Adj Close</th>\n",
       "      <th>Difference</th>\n",
       "    </tr>\n",
       "  </thead>\n",
       "  <tbody>\n",
       "    <tr>\n",
       "      <th>Open</th>\n",
       "      <td>1.000000</td>\n",
       "      <td>0.999592</td>\n",
       "      <td>0.999436</td>\n",
       "      <td>0.998991</td>\n",
       "      <td>-0.691621</td>\n",
       "      <td>0.998991</td>\n",
       "      <td>-0.121646</td>\n",
       "    </tr>\n",
       "    <tr>\n",
       "      <th>High</th>\n",
       "      <td>0.999592</td>\n",
       "      <td>1.000000</td>\n",
       "      <td>0.999373</td>\n",
       "      <td>0.999546</td>\n",
       "      <td>-0.686997</td>\n",
       "      <td>0.999546</td>\n",
       "      <td>-0.108470</td>\n",
       "    </tr>\n",
       "    <tr>\n",
       "      <th>Low</th>\n",
       "      <td>0.999436</td>\n",
       "      <td>0.999373</td>\n",
       "      <td>1.000000</td>\n",
       "      <td>0.999595</td>\n",
       "      <td>-0.699572</td>\n",
       "      <td>0.999595</td>\n",
       "      <td>-0.143605</td>\n",
       "    </tr>\n",
       "    <tr>\n",
       "      <th>Close</th>\n",
       "      <td>0.998991</td>\n",
       "      <td>0.999546</td>\n",
       "      <td>0.999595</td>\n",
       "      <td>1.000000</td>\n",
       "      <td>-0.694281</td>\n",
       "      <td>1.000000</td>\n",
       "      <td>-0.127412</td>\n",
       "    </tr>\n",
       "    <tr>\n",
       "      <th>Volume</th>\n",
       "      <td>-0.691621</td>\n",
       "      <td>-0.686997</td>\n",
       "      <td>-0.699572</td>\n",
       "      <td>-0.694281</td>\n",
       "      <td>1.000000</td>\n",
       "      <td>-0.694281</td>\n",
       "      <td>0.439628</td>\n",
       "    </tr>\n",
       "    <tr>\n",
       "      <th>Adj Close</th>\n",
       "      <td>0.998991</td>\n",
       "      <td>0.999546</td>\n",
       "      <td>0.999595</td>\n",
       "      <td>1.000000</td>\n",
       "      <td>-0.694281</td>\n",
       "      <td>1.000000</td>\n",
       "      <td>-0.127412</td>\n",
       "    </tr>\n",
       "    <tr>\n",
       "      <th>Difference</th>\n",
       "      <td>-0.121646</td>\n",
       "      <td>-0.108470</td>\n",
       "      <td>-0.143605</td>\n",
       "      <td>-0.127412</td>\n",
       "      <td>0.439628</td>\n",
       "      <td>-0.127412</td>\n",
       "      <td>1.000000</td>\n",
       "    </tr>\n",
       "  </tbody>\n",
       "</table>\n",
       "</div>"
      ],
      "text/plain": [
       "                Open      High       Low     Close    Volume  Adj Close  \\\n",
       "Open        1.000000  0.999592  0.999436  0.998991 -0.691621   0.998991   \n",
       "High        0.999592  1.000000  0.999373  0.999546 -0.686997   0.999546   \n",
       "Low         0.999436  0.999373  1.000000  0.999595 -0.699572   0.999595   \n",
       "Close       0.998991  0.999546  0.999595  1.000000 -0.694281   1.000000   \n",
       "Volume     -0.691621 -0.686997 -0.699572 -0.694281  1.000000  -0.694281   \n",
       "Adj Close   0.998991  0.999546  0.999595  1.000000 -0.694281   1.000000   \n",
       "Difference -0.121646 -0.108470 -0.143605 -0.127412  0.439628  -0.127412   \n",
       "\n",
       "            Difference  \n",
       "Open         -0.121646  \n",
       "High         -0.108470  \n",
       "Low          -0.143605  \n",
       "Close        -0.127412  \n",
       "Volume        0.439628  \n",
       "Adj Close    -0.127412  \n",
       "Difference    1.000000  "
      ]
     },
     "execution_count": 129,
     "metadata": {},
     "output_type": "execute_result"
    }
   ],
   "source": [
    "df.corr()"
   ]
  },
  {
   "cell_type": "code",
   "execution_count": 130,
   "metadata": {},
   "outputs": [
    {
     "data": {
      "image/png": "[encoded data removed]",
      "text/plain": [
       "<Figure size 432x288 with 2 Axes>"
      ]
     },
     "metadata": {},
     "output_type": "display_data"
    }
   ],
   "source": [
    "sns.heatmap(df.corr(),annot=True,fmt='.1f')\n",
    "plt.show()"
   ]
  },
  {
   "cell_type": "code",
   "execution_count": 131,
   "metadata": {},
   "outputs": [
    {
     "data": {
      "text/html": [
       "<div>\n",
       "<style scoped>\n",
       "    .dataframe tbody tr th:only-of-type {\n",
       "        vertical-align: middle;\n",
       "    }\n",
       "\n",
       "    .dataframe tbody tr th {\n",
       "        vertical-align: top;\n",
       "    }\n",
       "\n",
       "    .dataframe thead th {\n",
       "        text-align: right;\n",
       "    }\n",
       "</style>\n",
       "<table border=\"1\" class=\"dataframe\">\n",
       "  <thead>\n",
       "    <tr style=\"text-align: right;\">\n",
       "      <th></th>\n",
       "      <th>Date</th>\n",
       "      <th>Open</th>\n",
       "      <th>High</th>\n",
       "      <th>Low</th>\n",
       "      <th>Close</th>\n",
       "      <th>Volume</th>\n",
       "      <th>Adj Close</th>\n",
       "      <th>Difference</th>\n",
       "    </tr>\n",
       "    <tr>\n",
       "      <th>index_name</th>\n",
       "      <th></th>\n",
       "      <th></th>\n",
       "      <th></th>\n",
       "      <th></th>\n",
       "      <th></th>\n",
       "      <th></th>\n",
       "      <th></th>\n",
       "      <th></th>\n",
       "    </tr>\n",
       "  </thead>\n",
       "  <tbody>\n",
       "    <tr>\n",
       "      <th>0</th>\n",
       "      <td>2016-07-01</td>\n",
       "      <td>17924.240234</td>\n",
       "      <td>18002.380859</td>\n",
       "      <td>17916.910156</td>\n",
       "      <td>17949.369141</td>\n",
       "      <td>82160000</td>\n",
       "      <td>17949.369141</td>\n",
       "      <td>85.470703</td>\n",
       "    </tr>\n",
       "    <tr>\n",
       "      <th>1</th>\n",
       "      <td>2016-06-30</td>\n",
       "      <td>17712.759766</td>\n",
       "      <td>17930.609375</td>\n",
       "      <td>17711.800781</td>\n",
       "      <td>17929.990234</td>\n",
       "      <td>133030000</td>\n",
       "      <td>17929.990234</td>\n",
       "      <td>218.808594</td>\n",
       "    </tr>\n",
       "    <tr>\n",
       "      <th>2</th>\n",
       "      <td>2016-06-29</td>\n",
       "      <td>17456.019531</td>\n",
       "      <td>17704.509766</td>\n",
       "      <td>17456.019531</td>\n",
       "      <td>17694.679688</td>\n",
       "      <td>106380000</td>\n",
       "      <td>17694.679688</td>\n",
       "      <td>248.490235</td>\n",
       "    </tr>\n",
       "    <tr>\n",
       "      <th>3</th>\n",
       "      <td>2016-06-28</td>\n",
       "      <td>17190.509766</td>\n",
       "      <td>17409.720703</td>\n",
       "      <td>17190.509766</td>\n",
       "      <td>17409.720703</td>\n",
       "      <td>112190000</td>\n",
       "      <td>17409.720703</td>\n",
       "      <td>219.210937</td>\n",
       "    </tr>\n",
       "    <tr>\n",
       "      <th>4</th>\n",
       "      <td>2016-06-27</td>\n",
       "      <td>17355.210938</td>\n",
       "      <td>17355.210938</td>\n",
       "      <td>17063.080078</td>\n",
       "      <td>17140.240234</td>\n",
       "      <td>138740000</td>\n",
       "      <td>17140.240234</td>\n",
       "      <td>292.130860</td>\n",
       "    </tr>\n",
       "  </tbody>\n",
       "</table>\n",
       "</div>"
      ],
      "text/plain": [
       "                  Date          Open          High           Low  \\\n",
       "index_name                                                         \n",
       "0           2016-07-01  17924.240234  18002.380859  17916.910156   \n",
       "1           2016-06-30  17712.759766  17930.609375  17711.800781   \n",
       "2           2016-06-29  17456.019531  17704.509766  17456.019531   \n",
       "3           2016-06-28  17190.509766  17409.720703  17190.509766   \n",
       "4           2016-06-27  17355.210938  17355.210938  17063.080078   \n",
       "\n",
       "                   Close     Volume     Adj Close  Difference  \n",
       "index_name                                                     \n",
       "0           17949.369141   82160000  17949.369141   85.470703  \n",
       "1           17929.990234  133030000  17929.990234  218.808594  \n",
       "2           17694.679688  106380000  17694.679688  248.490235  \n",
       "3           17409.720703  112190000  17409.720703  219.210937  \n",
       "4           17140.240234  138740000  17140.240234  292.130860  "
      ]
     },
     "execution_count": 131,
     "metadata": {},
     "output_type": "execute_result"
    }
   ],
   "source": [
    "df.head()"
   ]
  },
  {
   "cell_type": "code",
   "execution_count": 132,
   "metadata": {},
   "outputs": [
    {
     "data": {
      "text/plain": [
       "Date           object\n",
       "Open          float64\n",
       "High          float64\n",
       "Low           float64\n",
       "Close         float64\n",
       "Volume          int64\n",
       "Adj Close     float64\n",
       "Difference    float64\n",
       "dtype: object"
      ]
     },
     "execution_count": 132,
     "metadata": {},
     "output_type": "execute_result"
    }
   ],
   "source": [
    "  df.dtypes"
   ]
  },
  {
   "cell_type": "code",
   "execution_count": 133,
   "metadata": {},
   "outputs": [
    {
     "data": {
      "text/plain": [
       "18312.390625"
      ]
     },
     "execution_count": 133,
     "metadata": {},
     "output_type": "execute_result"
    }
   ],
   "source": [
    "max(df.Close)"
   ]
  },
  {
   "cell_type": "code",
   "execution_count": null,
   "metadata": {},
   "outputs": [],
   "source": []
  },
  {
   "cell_type": "code",
   "execution_count": null,
   "metadata": {},
   "outputs": [],
   "source": []
  },
  {
   "cell_type": "code",
   "execution_count": null,
   "metadata": {},
   "outputs": [],
   "source": []
  },
  {
   "cell_type": "code",
   "execution_count": null,
   "metadata": {},
   "outputs": [],
   "source": []
  },
  {
   "cell_type": "code",
   "execution_count": null,
   "metadata": {},
   "outputs": [],
   "source": []
  }
 ],
 "metadata": {
  "kernelspec": {
   "display_name": "Python 3",
   "language": "python",
   "name": "python3"
  },
  "language_info": {
   "codemirror_mode": {
    "name": "ipython",
    "version": 3
   },
   "file_extension": ".py",
   "mimetype": "text/x-python",
   "name": "python",
   "nbconvert_exporter": "python",
   "pygments_lexer": "ipython3",
   "version": "3.6.6"
  }
 },
 "nbformat": 4,
 "nbformat_minor": 1
}
