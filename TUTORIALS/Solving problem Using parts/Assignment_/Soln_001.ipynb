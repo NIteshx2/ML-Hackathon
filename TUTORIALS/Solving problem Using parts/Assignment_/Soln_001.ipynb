{
 "cells": [
  {
   "cell_type": "markdown",
   "metadata": {
    "_cell_guid": "730aa0c8-dff2-4f89-8fef-349350d33935",
    "_uuid": "dd7eb0082ace007f5c0c63c924769b271976e511"
   },
   "source": [
    "# Airplane Accident Predictions (Beginner)\n",
    "I am a newbie to data science and machine learning, and will be attempting to work my way through the Titanic: Machine Learning from Disaster dataset. Please consider upvoting if this is useful to you! :)\n",
    "\n",
    "### Contents:\n",
    "1. Import Necessary Libraries\n",
    "2. Read In and Explore the Data\n",
    "3. Data Analysis\n",
    "4. Data Visualization\n",
    "5. Cleaning Data\n",
    "6. Choosing the Best Model\n",
    "7. Creating Submission File\n",
    "\n",
    "Any and all feedback is welcome! "
   ]
  },
  {
   "cell_type": "markdown",
   "metadata": {
    "_cell_guid": "f20a268f-e8ab-4c51-a1e5-00a5fef70824",
    "_uuid": "16f8521e8886e34460820e853d5de539451a82f7"
   },
   "source": [
    "## 1) Import Necessary Libraries\n",
    "First off, we need to import several Python libraries such as numpy, pandas, matplotlib and seaborn."
   ]
  },
  {
   "cell_type": "code",
   "execution_count": 1,
   "metadata": {
    "_cell_guid": "8b547494-0ee2-4596-bd96-fe0c1654c626",
    "_uuid": "1ec634790f3cfdd372c20f8ba3d66c7b410e993f"
   },
   "outputs": [],
   "source": [
    "#data analysis libraries \n",
    "import numpy as np\n",
    "import pandas as pd\n",
    "\n",
    "#visualization libraries\n",
    "import matplotlib.pyplot as plt\n",
    "import seaborn as sns\n",
    "%matplotlib inline\n",
    "\n",
    "#ignore warnings\n",
    "import warnings\n",
    "warnings.filterwarnings('ignore')"
   ]
  },
  {
   "cell_type": "markdown",
   "metadata": {
    "_cell_guid": "2c18255f-e77f-4edf-817a-b76d2330ca70",
    "_uuid": "dc2d74e13fbcabaa244ca108a1669e2812e98075"
   },
   "source": [
    "## 2) Read in and Explore the Data \n",
    "It's time to read in our training and testing data using `pd.read_csv`, and take a first look at the training data using the `describe()` function."
   ]
  },
  {
   "cell_type": "code",
   "execution_count": 63,
   "metadata": {
    "_cell_guid": "b8200d17-9f26-4507-9161-2e3dd1ef154d",
    "_uuid": "31e1c08d3f6633be24186295ceb5ef7305205c87"
   },
   "outputs": [
    {
     "data": {
      "text/html": [
       "<div>\n",
       "<style scoped>\n",
       "    .dataframe tbody tr th:only-of-type {\n",
       "        vertical-align: middle;\n",
       "    }\n",
       "\n",
       "    .dataframe tbody tr th {\n",
       "        vertical-align: top;\n",
       "    }\n",
       "\n",
       "    .dataframe thead th {\n",
       "        text-align: right;\n",
       "    }\n",
       "</style>\n",
       "<table border=\"1\" class=\"dataframe\">\n",
       "  <thead>\n",
       "    <tr style=\"text-align: right;\">\n",
       "      <th></th>\n",
       "      <th>Severity</th>\n",
       "      <th>Safety_Score</th>\n",
       "      <th>Days_Since_Inspection</th>\n",
       "      <th>Total_Safety_Complaints</th>\n",
       "      <th>Control_Metric</th>\n",
       "      <th>Turbulence_In_gforces</th>\n",
       "      <th>Cabin_Temperature</th>\n",
       "      <th>Accident_Type_Code</th>\n",
       "      <th>Max_Elevation</th>\n",
       "      <th>Violations</th>\n",
       "      <th>Adverse_Weather_Metric</th>\n",
       "      <th>Accident_ID</th>\n",
       "    </tr>\n",
       "  </thead>\n",
       "  <tbody>\n",
       "    <tr>\n",
       "      <th>count</th>\n",
       "      <td>10000</td>\n",
       "      <td>10000.000000</td>\n",
       "      <td>10000.000000</td>\n",
       "      <td>10000.000000</td>\n",
       "      <td>10000.000000</td>\n",
       "      <td>10000.000000</td>\n",
       "      <td>10000.000000</td>\n",
       "      <td>10000.000000</td>\n",
       "      <td>10000.000000</td>\n",
       "      <td>10000.00000</td>\n",
       "      <td>10000.000000</td>\n",
       "      <td>10000.000000</td>\n",
       "    </tr>\n",
       "    <tr>\n",
       "      <th>unique</th>\n",
       "      <td>4</td>\n",
       "      <td>NaN</td>\n",
       "      <td>NaN</td>\n",
       "      <td>NaN</td>\n",
       "      <td>NaN</td>\n",
       "      <td>NaN</td>\n",
       "      <td>NaN</td>\n",
       "      <td>NaN</td>\n",
       "      <td>NaN</td>\n",
       "      <td>NaN</td>\n",
       "      <td>NaN</td>\n",
       "      <td>NaN</td>\n",
       "    </tr>\n",
       "    <tr>\n",
       "      <th>top</th>\n",
       "      <td>Highly_Fatal_And_Damaging</td>\n",
       "      <td>NaN</td>\n",
       "      <td>NaN</td>\n",
       "      <td>NaN</td>\n",
       "      <td>NaN</td>\n",
       "      <td>NaN</td>\n",
       "      <td>NaN</td>\n",
       "      <td>NaN</td>\n",
       "      <td>NaN</td>\n",
       "      <td>NaN</td>\n",
       "      <td>NaN</td>\n",
       "      <td>NaN</td>\n",
       "    </tr>\n",
       "    <tr>\n",
       "      <th>freq</th>\n",
       "      <td>3049</td>\n",
       "      <td>NaN</td>\n",
       "      <td>NaN</td>\n",
       "      <td>NaN</td>\n",
       "      <td>NaN</td>\n",
       "      <td>NaN</td>\n",
       "      <td>NaN</td>\n",
       "      <td>NaN</td>\n",
       "      <td>NaN</td>\n",
       "      <td>NaN</td>\n",
       "      <td>NaN</td>\n",
       "      <td>NaN</td>\n",
       "    </tr>\n",
       "    <tr>\n",
       "      <th>mean</th>\n",
       "      <td>NaN</td>\n",
       "      <td>41.876406</td>\n",
       "      <td>12.931100</td>\n",
       "      <td>6.564300</td>\n",
       "      <td>65.145324</td>\n",
       "      <td>0.381495</td>\n",
       "      <td>79.969331</td>\n",
       "      <td>3.814900</td>\n",
       "      <td>32001.803282</td>\n",
       "      <td>2.01220</td>\n",
       "      <td>0.255635</td>\n",
       "      <td>6266.554200</td>\n",
       "    </tr>\n",
       "    <tr>\n",
       "      <th>std</th>\n",
       "      <td>NaN</td>\n",
       "      <td>16.138072</td>\n",
       "      <td>3.539803</td>\n",
       "      <td>6.971982</td>\n",
       "      <td>11.882934</td>\n",
       "      <td>0.121301</td>\n",
       "      <td>2.759739</td>\n",
       "      <td>1.902577</td>\n",
       "      <td>9431.995196</td>\n",
       "      <td>1.03998</td>\n",
       "      <td>0.381128</td>\n",
       "      <td>3610.170288</td>\n",
       "    </tr>\n",
       "    <tr>\n",
       "      <th>min</th>\n",
       "      <td>NaN</td>\n",
       "      <td>0.000000</td>\n",
       "      <td>1.000000</td>\n",
       "      <td>0.000000</td>\n",
       "      <td>0.000000</td>\n",
       "      <td>0.134000</td>\n",
       "      <td>74.740000</td>\n",
       "      <td>1.000000</td>\n",
       "      <td>831.695553</td>\n",
       "      <td>0.00000</td>\n",
       "      <td>0.000316</td>\n",
       "      <td>2.000000</td>\n",
       "    </tr>\n",
       "    <tr>\n",
       "      <th>25%</th>\n",
       "      <td>NaN</td>\n",
       "      <td>30.593607</td>\n",
       "      <td>11.000000</td>\n",
       "      <td>2.000000</td>\n",
       "      <td>56.927985</td>\n",
       "      <td>0.293665</td>\n",
       "      <td>77.960000</td>\n",
       "      <td>2.000000</td>\n",
       "      <td>25757.636908</td>\n",
       "      <td>1.00000</td>\n",
       "      <td>0.012063</td>\n",
       "      <td>3139.750000</td>\n",
       "    </tr>\n",
       "    <tr>\n",
       "      <th>50%</th>\n",
       "      <td>NaN</td>\n",
       "      <td>41.278539</td>\n",
       "      <td>13.000000</td>\n",
       "      <td>4.000000</td>\n",
       "      <td>65.587967</td>\n",
       "      <td>0.365879</td>\n",
       "      <td>79.540000</td>\n",
       "      <td>4.000000</td>\n",
       "      <td>32060.336419</td>\n",
       "      <td>2.00000</td>\n",
       "      <td>0.074467</td>\n",
       "      <td>6280.500000</td>\n",
       "    </tr>\n",
       "    <tr>\n",
       "      <th>75%</th>\n",
       "      <td>NaN</td>\n",
       "      <td>52.511416</td>\n",
       "      <td>15.000000</td>\n",
       "      <td>9.000000</td>\n",
       "      <td>73.336372</td>\n",
       "      <td>0.451346</td>\n",
       "      <td>81.560000</td>\n",
       "      <td>5.000000</td>\n",
       "      <td>38380.641513</td>\n",
       "      <td>3.00000</td>\n",
       "      <td>0.354059</td>\n",
       "      <td>9391.500000</td>\n",
       "    </tr>\n",
       "    <tr>\n",
       "      <th>max</th>\n",
       "      <td>NaN</td>\n",
       "      <td>100.000000</td>\n",
       "      <td>23.000000</td>\n",
       "      <td>54.000000</td>\n",
       "      <td>100.000000</td>\n",
       "      <td>0.882648</td>\n",
       "      <td>97.510000</td>\n",
       "      <td>7.000000</td>\n",
       "      <td>64297.651218</td>\n",
       "      <td>5.00000</td>\n",
       "      <td>2.365378</td>\n",
       "      <td>12500.000000</td>\n",
       "    </tr>\n",
       "  </tbody>\n",
       "</table>\n",
       "</div>"
      ],
      "text/plain": [
       "                         Severity  Safety_Score  Days_Since_Inspection  \\\n",
       "count                       10000  10000.000000           10000.000000   \n",
       "unique                          4           NaN                    NaN   \n",
       "top     Highly_Fatal_And_Damaging           NaN                    NaN   \n",
       "freq                         3049           NaN                    NaN   \n",
       "mean                          NaN     41.876406              12.931100   \n",
       "std                           NaN     16.138072               3.539803   \n",
       "min                           NaN      0.000000               1.000000   \n",
       "25%                           NaN     30.593607              11.000000   \n",
       "50%                           NaN     41.278539              13.000000   \n",
       "75%                           NaN     52.511416              15.000000   \n",
       "max                           NaN    100.000000              23.000000   \n",
       "\n",
       "        Total_Safety_Complaints  Control_Metric  Turbulence_In_gforces  \\\n",
       "count              10000.000000    10000.000000           10000.000000   \n",
       "unique                      NaN             NaN                    NaN   \n",
       "top                         NaN             NaN                    NaN   \n",
       "freq                        NaN             NaN                    NaN   \n",
       "mean                   6.564300       65.145324               0.381495   \n",
       "std                    6.971982       11.882934               0.121301   \n",
       "min                    0.000000        0.000000               0.134000   \n",
       "25%                    2.000000       56.927985               0.293665   \n",
       "50%                    4.000000       65.587967               0.365879   \n",
       "75%                    9.000000       73.336372               0.451346   \n",
       "max                   54.000000      100.000000               0.882648   \n",
       "\n",
       "        Cabin_Temperature  Accident_Type_Code  Max_Elevation   Violations  \\\n",
       "count        10000.000000        10000.000000   10000.000000  10000.00000   \n",
       "unique                NaN                 NaN            NaN          NaN   \n",
       "top                   NaN                 NaN            NaN          NaN   \n",
       "freq                  NaN                 NaN            NaN          NaN   \n",
       "mean            79.969331            3.814900   32001.803282      2.01220   \n",
       "std              2.759739            1.902577    9431.995196      1.03998   \n",
       "min             74.740000            1.000000     831.695553      0.00000   \n",
       "25%             77.960000            2.000000   25757.636908      1.00000   \n",
       "50%             79.540000            4.000000   32060.336419      2.00000   \n",
       "75%             81.560000            5.000000   38380.641513      3.00000   \n",
       "max             97.510000            7.000000   64297.651218      5.00000   \n",
       "\n",
       "        Adverse_Weather_Metric   Accident_ID  \n",
       "count             10000.000000  10000.000000  \n",
       "unique                     NaN           NaN  \n",
       "top                        NaN           NaN  \n",
       "freq                       NaN           NaN  \n",
       "mean                  0.255635   6266.554200  \n",
       "std                   0.381128   3610.170288  \n",
       "min                   0.000316      2.000000  \n",
       "25%                   0.012063   3139.750000  \n",
       "50%                   0.074467   6280.500000  \n",
       "75%                   0.354059   9391.500000  \n",
       "max                   2.365378  12500.000000  "
      ]
     },
     "execution_count": 63,
     "metadata": {},
     "output_type": "execute_result"
    }
   ],
   "source": [
    "#import train and test CSV files\n",
    "\n",
    "#take a look at the training data\n"
   ]
  },
  {
   "cell_type": "markdown",
   "metadata": {},
   "source": [
    "# Using Numpy and pandas to solve a real problem"
   ]
  },
  {
   "cell_type": "markdown",
   "metadata": {},
   "source": [
    "### Groupby"
   ]
  },
  {
   "cell_type": "code",
   "execution_count": 4,
   "metadata": {},
   "outputs": [],
   "source": [
    "# groupby Severity and take mean\n",
    "\n"
   ]
  },
  {
   "cell_type": "markdown",
   "metadata": {
    "_cell_guid": "01f965ef-bd23-48c0-b6fc-44b7766c2ad8",
    "_uuid": "76d0ea2d3a1259aa2b8ccf33dbe794c432d20f70"
   },
   "source": [
    "## 3) Data Analysis\n",
    "We're going to consider the features in the dataset and how complete they are. "
   ]
  },
  {
   "cell_type": "code",
   "execution_count": 5,
   "metadata": {
    "_cell_guid": "a6ee4c59-0af2-4f83-8698-e5a273bf4fbe",
    "_uuid": "20ad8f96b508e388aa060cd9dd6cb4d03bc1e9bf"
   },
   "outputs": [],
   "source": [
    "#get a list of the features(Columns) within the dataset\n"
   ]
  },
  {
   "cell_type": "code",
   "execution_count": 8,
   "metadata": {},
   "outputs": [],
   "source": [
    "# Get all cols except Accident ID\n",
    "nums = train[[]]\n",
    "nums"
   ]
  },
  {
   "cell_type": "code",
   "execution_count": null,
   "metadata": {},
   "outputs": [],
   "source": []
  },
  {
   "cell_type": "code",
   "execution_count": 68,
   "metadata": {
    "_cell_guid": "31308e14-a2cf-41fd-b60d-a2a764431e7f",
    "_uuid": "0b4b77818ea8e573f25b44841c5235ee8d2a2af3"
   },
   "outputs": [
    {
     "data": {
      "text/html": [
       "<div>\n",
       "<style scoped>\n",
       "    .dataframe tbody tr th:only-of-type {\n",
       "        vertical-align: middle;\n",
       "    }\n",
       "\n",
       "    .dataframe tbody tr th {\n",
       "        vertical-align: top;\n",
       "    }\n",
       "\n",
       "    .dataframe thead th {\n",
       "        text-align: right;\n",
       "    }\n",
       "</style>\n",
       "<table border=\"1\" class=\"dataframe\">\n",
       "  <thead>\n",
       "    <tr style=\"text-align: right;\">\n",
       "      <th></th>\n",
       "      <th>Severity</th>\n",
       "      <th>Safety_Score</th>\n",
       "      <th>Days_Since_Inspection</th>\n",
       "      <th>Total_Safety_Complaints</th>\n",
       "      <th>Control_Metric</th>\n",
       "      <th>Turbulence_In_gforces</th>\n",
       "      <th>Cabin_Temperature</th>\n",
       "      <th>Accident_Type_Code</th>\n",
       "      <th>Max_Elevation</th>\n",
       "      <th>Violations</th>\n",
       "      <th>Adverse_Weather_Metric</th>\n",
       "      <th>Accident_ID</th>\n",
       "    </tr>\n",
       "  </thead>\n",
       "  <tbody>\n",
       "    <tr>\n",
       "      <th>6219</th>\n",
       "      <td>Significant_Damage_And_Serious_Injuries</td>\n",
       "      <td>16.666667</td>\n",
       "      <td>20</td>\n",
       "      <td>9</td>\n",
       "      <td>67.639015</td>\n",
       "      <td>0.505078</td>\n",
       "      <td>80.51</td>\n",
       "      <td>1</td>\n",
       "      <td>36873.070767</td>\n",
       "      <td>2</td>\n",
       "      <td>1.346364</td>\n",
       "      <td>6813</td>\n",
       "    </tr>\n",
       "    <tr>\n",
       "      <th>4266</th>\n",
       "      <td>Significant_Damage_And_Serious_Injuries</td>\n",
       "      <td>31.872146</td>\n",
       "      <td>15</td>\n",
       "      <td>6</td>\n",
       "      <td>63.217867</td>\n",
       "      <td>0.448461</td>\n",
       "      <td>76.22</td>\n",
       "      <td>6</td>\n",
       "      <td>31721.446149</td>\n",
       "      <td>1</td>\n",
       "      <td>0.008100</td>\n",
       "      <td>3267</td>\n",
       "    </tr>\n",
       "    <tr>\n",
       "      <th>5699</th>\n",
       "      <td>Minor_Damage_And_Injuries</td>\n",
       "      <td>43.333333</td>\n",
       "      <td>15</td>\n",
       "      <td>15</td>\n",
       "      <td>60.528715</td>\n",
       "      <td>0.529600</td>\n",
       "      <td>78.50</td>\n",
       "      <td>7</td>\n",
       "      <td>52249.610146</td>\n",
       "      <td>4</td>\n",
       "      <td>0.004429</td>\n",
       "      <td>12237</td>\n",
       "    </tr>\n",
       "    <tr>\n",
       "      <th>5017</th>\n",
       "      <td>Significant_Damage_And_Serious_Injuries</td>\n",
       "      <td>39.497717</td>\n",
       "      <td>13</td>\n",
       "      <td>6</td>\n",
       "      <td>76.435734</td>\n",
       "      <td>0.421054</td>\n",
       "      <td>75.81</td>\n",
       "      <td>6</td>\n",
       "      <td>49341.223221</td>\n",
       "      <td>3</td>\n",
       "      <td>0.012983</td>\n",
       "      <td>3498</td>\n",
       "    </tr>\n",
       "    <tr>\n",
       "      <th>2870</th>\n",
       "      <td>Significant_Damage_And_Serious_Injuries</td>\n",
       "      <td>57.077626</td>\n",
       "      <td>8</td>\n",
       "      <td>21</td>\n",
       "      <td>65.086600</td>\n",
       "      <td>0.293394</td>\n",
       "      <td>80.80</td>\n",
       "      <td>6</td>\n",
       "      <td>39242.198498</td>\n",
       "      <td>2</td>\n",
       "      <td>0.010081</td>\n",
       "      <td>9271</td>\n",
       "    </tr>\n",
       "    <tr>\n",
       "      <th>7287</th>\n",
       "      <td>Significant_Damage_And_Serious_Injuries</td>\n",
       "      <td>38.584475</td>\n",
       "      <td>13</td>\n",
       "      <td>11</td>\n",
       "      <td>66.499544</td>\n",
       "      <td>0.413841</td>\n",
       "      <td>79.39</td>\n",
       "      <td>2</td>\n",
       "      <td>32739.245976</td>\n",
       "      <td>2</td>\n",
       "      <td>0.442733</td>\n",
       "      <td>1097</td>\n",
       "    </tr>\n",
       "    <tr>\n",
       "      <th>367</th>\n",
       "      <td>Significant_Damage_And_Serious_Injuries</td>\n",
       "      <td>47.123288</td>\n",
       "      <td>11</td>\n",
       "      <td>2</td>\n",
       "      <td>67.456700</td>\n",
       "      <td>0.374894</td>\n",
       "      <td>86.31</td>\n",
       "      <td>6</td>\n",
       "      <td>26852.696404</td>\n",
       "      <td>2</td>\n",
       "      <td>0.006979</td>\n",
       "      <td>8043</td>\n",
       "    </tr>\n",
       "    <tr>\n",
       "      <th>6050</th>\n",
       "      <td>Significant_Damage_And_Serious_Injuries</td>\n",
       "      <td>55.159817</td>\n",
       "      <td>8</td>\n",
       "      <td>5</td>\n",
       "      <td>85.688241</td>\n",
       "      <td>0.298443</td>\n",
       "      <td>81.38</td>\n",
       "      <td>3</td>\n",
       "      <td>35104.652968</td>\n",
       "      <td>3</td>\n",
       "      <td>0.175090</td>\n",
       "      <td>10824</td>\n",
       "    </tr>\n",
       "    <tr>\n",
       "      <th>4572</th>\n",
       "      <td>Significant_Damage_And_Serious_Injuries</td>\n",
       "      <td>37.168950</td>\n",
       "      <td>14</td>\n",
       "      <td>7</td>\n",
       "      <td>66.636281</td>\n",
       "      <td>0.373452</td>\n",
       "      <td>81.84</td>\n",
       "      <td>4</td>\n",
       "      <td>31993.458888</td>\n",
       "      <td>2</td>\n",
       "      <td>0.059381</td>\n",
       "      <td>6718</td>\n",
       "    </tr>\n",
       "    <tr>\n",
       "      <th>7619</th>\n",
       "      <td>Significant_Damage_And_Serious_Injuries</td>\n",
       "      <td>15.205479</td>\n",
       "      <td>20</td>\n",
       "      <td>10</td>\n",
       "      <td>59.389243</td>\n",
       "      <td>0.283657</td>\n",
       "      <td>76.79</td>\n",
       "      <td>3</td>\n",
       "      <td>28554.777372</td>\n",
       "      <td>2</td>\n",
       "      <td>0.142927</td>\n",
       "      <td>302</td>\n",
       "    </tr>\n",
       "    <tr>\n",
       "      <th>5275</th>\n",
       "      <td>Highly_Fatal_And_Damaging</td>\n",
       "      <td>35.707763</td>\n",
       "      <td>17</td>\n",
       "      <td>0</td>\n",
       "      <td>48.495898</td>\n",
       "      <td>0.692240</td>\n",
       "      <td>83.57</td>\n",
       "      <td>5</td>\n",
       "      <td>27012.001546</td>\n",
       "      <td>0</td>\n",
       "      <td>0.018428</td>\n",
       "      <td>5968</td>\n",
       "    </tr>\n",
       "    <tr>\n",
       "      <th>1214</th>\n",
       "      <td>Significant_Damage_And_Fatalities</td>\n",
       "      <td>57.077626</td>\n",
       "      <td>15</td>\n",
       "      <td>0</td>\n",
       "      <td>73.017320</td>\n",
       "      <td>0.295918</td>\n",
       "      <td>80.45</td>\n",
       "      <td>7</td>\n",
       "      <td>29454.471556</td>\n",
       "      <td>4</td>\n",
       "      <td>0.002779</td>\n",
       "      <td>1429</td>\n",
       "    </tr>\n",
       "    <tr>\n",
       "      <th>793</th>\n",
       "      <td>Significant_Damage_And_Fatalities</td>\n",
       "      <td>32.557078</td>\n",
       "      <td>12</td>\n",
       "      <td>3</td>\n",
       "      <td>50.865998</td>\n",
       "      <td>0.562777</td>\n",
       "      <td>77.86</td>\n",
       "      <td>1</td>\n",
       "      <td>31787.115252</td>\n",
       "      <td>2</td>\n",
       "      <td>1.169383</td>\n",
       "      <td>6784</td>\n",
       "    </tr>\n",
       "    <tr>\n",
       "      <th>1042</th>\n",
       "      <td>Significant_Damage_And_Fatalities</td>\n",
       "      <td>59.543379</td>\n",
       "      <td>14</td>\n",
       "      <td>15</td>\n",
       "      <td>63.263446</td>\n",
       "      <td>0.432594</td>\n",
       "      <td>78.87</td>\n",
       "      <td>7</td>\n",
       "      <td>39722.068381</td>\n",
       "      <td>4</td>\n",
       "      <td>0.003716</td>\n",
       "      <td>5971</td>\n",
       "    </tr>\n",
       "    <tr>\n",
       "      <th>3493</th>\n",
       "      <td>Minor_Damage_And_Injuries</td>\n",
       "      <td>52.739726</td>\n",
       "      <td>13</td>\n",
       "      <td>0</td>\n",
       "      <td>68.140383</td>\n",
       "      <td>0.276084</td>\n",
       "      <td>82.14</td>\n",
       "      <td>7</td>\n",
       "      <td>56326.350244</td>\n",
       "      <td>2</td>\n",
       "      <td>0.004384</td>\n",
       "      <td>9876</td>\n",
       "    </tr>\n",
       "    <tr>\n",
       "      <th>5497</th>\n",
       "      <td>Highly_Fatal_And_Damaging</td>\n",
       "      <td>29.543379</td>\n",
       "      <td>13</td>\n",
       "      <td>4</td>\n",
       "      <td>74.794895</td>\n",
       "      <td>0.201436</td>\n",
       "      <td>77.11</td>\n",
       "      <td>6</td>\n",
       "      <td>30077.416188</td>\n",
       "      <td>2</td>\n",
       "      <td>0.007076</td>\n",
       "      <td>7207</td>\n",
       "    </tr>\n",
       "    <tr>\n",
       "      <th>5786</th>\n",
       "      <td>Minor_Damage_And_Injuries</td>\n",
       "      <td>54.474886</td>\n",
       "      <td>9</td>\n",
       "      <td>4</td>\n",
       "      <td>53.646308</td>\n",
       "      <td>0.250120</td>\n",
       "      <td>80.33</td>\n",
       "      <td>5</td>\n",
       "      <td>44671.269022</td>\n",
       "      <td>2</td>\n",
       "      <td>0.029482</td>\n",
       "      <td>10592</td>\n",
       "    </tr>\n",
       "    <tr>\n",
       "      <th>8233</th>\n",
       "      <td>Highly_Fatal_And_Damaging</td>\n",
       "      <td>22.831050</td>\n",
       "      <td>15</td>\n",
       "      <td>2</td>\n",
       "      <td>73.427530</td>\n",
       "      <td>0.463246</td>\n",
       "      <td>76.19</td>\n",
       "      <td>1</td>\n",
       "      <td>34544.144458</td>\n",
       "      <td>3</td>\n",
       "      <td>1.280568</td>\n",
       "      <td>2115</td>\n",
       "    </tr>\n",
       "    <tr>\n",
       "      <th>9396</th>\n",
       "      <td>Significant_Damage_And_Serious_Injuries</td>\n",
       "      <td>45.296804</td>\n",
       "      <td>11</td>\n",
       "      <td>4</td>\n",
       "      <td>63.445761</td>\n",
       "      <td>0.248317</td>\n",
       "      <td>82.73</td>\n",
       "      <td>4</td>\n",
       "      <td>19643.598736</td>\n",
       "      <td>2</td>\n",
       "      <td>0.036398</td>\n",
       "      <td>8937</td>\n",
       "    </tr>\n",
       "    <tr>\n",
       "      <th>3940</th>\n",
       "      <td>Significant_Damage_And_Serious_Injuries</td>\n",
       "      <td>33.744292</td>\n",
       "      <td>15</td>\n",
       "      <td>6</td>\n",
       "      <td>79.854148</td>\n",
       "      <td>0.313589</td>\n",
       "      <td>81.08</td>\n",
       "      <td>3</td>\n",
       "      <td>30317.403766</td>\n",
       "      <td>1</td>\n",
       "      <td>0.152109</td>\n",
       "      <td>8528</td>\n",
       "    </tr>\n",
       "  </tbody>\n",
       "</table>\n",
       "</div>"
      ],
      "text/plain": [
       "                                     Severity  Safety_Score  \\\n",
       "6219  Significant_Damage_And_Serious_Injuries     16.666667   \n",
       "4266  Significant_Damage_And_Serious_Injuries     31.872146   \n",
       "5699                Minor_Damage_And_Injuries     43.333333   \n",
       "5017  Significant_Damage_And_Serious_Injuries     39.497717   \n",
       "2870  Significant_Damage_And_Serious_Injuries     57.077626   \n",
       "7287  Significant_Damage_And_Serious_Injuries     38.584475   \n",
       "367   Significant_Damage_And_Serious_Injuries     47.123288   \n",
       "6050  Significant_Damage_And_Serious_Injuries     55.159817   \n",
       "4572  Significant_Damage_And_Serious_Injuries     37.168950   \n",
       "7619  Significant_Damage_And_Serious_Injuries     15.205479   \n",
       "5275                Highly_Fatal_And_Damaging     35.707763   \n",
       "1214        Significant_Damage_And_Fatalities     57.077626   \n",
       "793         Significant_Damage_And_Fatalities     32.557078   \n",
       "1042        Significant_Damage_And_Fatalities     59.543379   \n",
       "3493                Minor_Damage_And_Injuries     52.739726   \n",
       "5497                Highly_Fatal_And_Damaging     29.543379   \n",
       "5786                Minor_Damage_And_Injuries     54.474886   \n",
       "8233                Highly_Fatal_And_Damaging     22.831050   \n",
       "9396  Significant_Damage_And_Serious_Injuries     45.296804   \n",
       "3940  Significant_Damage_And_Serious_Injuries     33.744292   \n",
       "\n",
       "      Days_Since_Inspection  Total_Safety_Complaints  Control_Metric  \\\n",
       "6219                     20                        9       67.639015   \n",
       "4266                     15                        6       63.217867   \n",
       "5699                     15                       15       60.528715   \n",
       "5017                     13                        6       76.435734   \n",
       "2870                      8                       21       65.086600   \n",
       "7287                     13                       11       66.499544   \n",
       "367                      11                        2       67.456700   \n",
       "6050                      8                        5       85.688241   \n",
       "4572                     14                        7       66.636281   \n",
       "7619                     20                       10       59.389243   \n",
       "5275                     17                        0       48.495898   \n",
       "1214                     15                        0       73.017320   \n",
       "793                      12                        3       50.865998   \n",
       "1042                     14                       15       63.263446   \n",
       "3493                     13                        0       68.140383   \n",
       "5497                     13                        4       74.794895   \n",
       "5786                      9                        4       53.646308   \n",
       "8233                     15                        2       73.427530   \n",
       "9396                     11                        4       63.445761   \n",
       "3940                     15                        6       79.854148   \n",
       "\n",
       "      Turbulence_In_gforces  Cabin_Temperature  Accident_Type_Code  \\\n",
       "6219               0.505078              80.51                   1   \n",
       "4266               0.448461              76.22                   6   \n",
       "5699               0.529600              78.50                   7   \n",
       "5017               0.421054              75.81                   6   \n",
       "2870               0.293394              80.80                   6   \n",
       "7287               0.413841              79.39                   2   \n",
       "367                0.374894              86.31                   6   \n",
       "6050               0.298443              81.38                   3   \n",
       "4572               0.373452              81.84                   4   \n",
       "7619               0.283657              76.79                   3   \n",
       "5275               0.692240              83.57                   5   \n",
       "1214               0.295918              80.45                   7   \n",
       "793                0.562777              77.86                   1   \n",
       "1042               0.432594              78.87                   7   \n",
       "3493               0.276084              82.14                   7   \n",
       "5497               0.201436              77.11                   6   \n",
       "5786               0.250120              80.33                   5   \n",
       "8233               0.463246              76.19                   1   \n",
       "9396               0.248317              82.73                   4   \n",
       "3940               0.313589              81.08                   3   \n",
       "\n",
       "      Max_Elevation  Violations  Adverse_Weather_Metric  Accident_ID  \n",
       "6219   36873.070767           2                1.346364         6813  \n",
       "4266   31721.446149           1                0.008100         3267  \n",
       "5699   52249.610146           4                0.004429        12237  \n",
       "5017   49341.223221           3                0.012983         3498  \n",
       "2870   39242.198498           2                0.010081         9271  \n",
       "7287   32739.245976           2                0.442733         1097  \n",
       "367    26852.696404           2                0.006979         8043  \n",
       "6050   35104.652968           3                0.175090        10824  \n",
       "4572   31993.458888           2                0.059381         6718  \n",
       "7619   28554.777372           2                0.142927          302  \n",
       "5275   27012.001546           0                0.018428         5968  \n",
       "1214   29454.471556           4                0.002779         1429  \n",
       "793    31787.115252           2                1.169383         6784  \n",
       "1042   39722.068381           4                0.003716         5971  \n",
       "3493   56326.350244           2                0.004384         9876  \n",
       "5497   30077.416188           2                0.007076         7207  \n",
       "5786   44671.269022           2                0.029482        10592  \n",
       "8233   34544.144458           3                1.280568         2115  \n",
       "9396   19643.598736           2                0.036398         8937  \n",
       "3940   30317.403766           1                0.152109         8528  "
      ]
     },
     "execution_count": 68,
     "metadata": {},
     "output_type": "execute_result"
    }
   ],
   "source": [
    "#see a sample of the dataset to get an idea of the variables\n"
   ]
  },
  {
   "cell_type": "markdown",
   "metadata": {
    "_cell_guid": "eab5b420-e1e1-4bcd-a0f5-bc7509e97956",
    "_uuid": "2af87b84cf76320f0b4ab6cc104eff78279f03cb"
   },
   "source": [
    "* **Numerical Features:** \n",
    "* **Categorical Features:** \n",
    "* **Alphanumeric Features:**\n",
    "\n",
    "#### What are the data types for each feature?\n",
    "* \n",
    "Now that we have an idea of what kinds of features we're working with, we can see how much information we have about each of them.\n"
   ]
  },
  {
   "cell_type": "code",
   "execution_count": 69,
   "metadata": {},
   "outputs": [
    {
     "name": "stdout",
     "output_type": "stream",
     "text": [
      "<class 'pandas.core.frame.DataFrame'>\n",
      "RangeIndex: 10000 entries, 0 to 9999\n",
      "Data columns (total 12 columns):\n",
      " #   Column                   Non-Null Count  Dtype  \n",
      "---  ------                   --------------  -----  \n",
      " 0   Severity                 10000 non-null  object \n",
      " 1   Safety_Score             10000 non-null  float64\n",
      " 2   Days_Since_Inspection    10000 non-null  int64  \n",
      " 3   Total_Safety_Complaints  10000 non-null  int64  \n",
      " 4   Control_Metric           10000 non-null  float64\n",
      " 5   Turbulence_In_gforces    10000 non-null  float64\n",
      " 6   Cabin_Temperature        10000 non-null  float64\n",
      " 7   Accident_Type_Code       10000 non-null  int64  \n",
      " 8   Max_Elevation            10000 non-null  float64\n",
      " 9   Violations               10000 non-null  int64  \n",
      " 10  Adverse_Weather_Metric   10000 non-null  float64\n",
      " 11  Accident_ID              10000 non-null  int64  \n",
      "dtypes: float64(6), int64(5), object(1)\n",
      "memory usage: 937.6+ KB\n"
     ]
    }
   ],
   "source": [
    "#get datatypes of all columns\n"
   ]
  },
  {
   "cell_type": "code",
   "execution_count": 70,
   "metadata": {
    "_cell_guid": "02b24c5c-2c30-4b9e-ab81-9417fc2ca244",
    "_uuid": "f1a6b393e85252e9e85ef9b8e0aeb7dd99fe510d"
   },
   "outputs": [
    {
     "data": {
      "text/html": [
       "<div>\n",
       "<style scoped>\n",
       "    .dataframe tbody tr th:only-of-type {\n",
       "        vertical-align: middle;\n",
       "    }\n",
       "\n",
       "    .dataframe tbody tr th {\n",
       "        vertical-align: top;\n",
       "    }\n",
       "\n",
       "    .dataframe thead th {\n",
       "        text-align: right;\n",
       "    }\n",
       "</style>\n",
       "<table border=\"1\" class=\"dataframe\">\n",
       "  <thead>\n",
       "    <tr style=\"text-align: right;\">\n",
       "      <th></th>\n",
       "      <th>Severity</th>\n",
       "      <th>Safety_Score</th>\n",
       "      <th>Days_Since_Inspection</th>\n",
       "      <th>Total_Safety_Complaints</th>\n",
       "      <th>Control_Metric</th>\n",
       "      <th>Turbulence_In_gforces</th>\n",
       "      <th>Cabin_Temperature</th>\n",
       "      <th>Accident_Type_Code</th>\n",
       "      <th>Max_Elevation</th>\n",
       "      <th>Violations</th>\n",
       "      <th>Adverse_Weather_Metric</th>\n",
       "      <th>Accident_ID</th>\n",
       "    </tr>\n",
       "  </thead>\n",
       "  <tbody>\n",
       "    <tr>\n",
       "      <th>count</th>\n",
       "      <td>10000</td>\n",
       "      <td>10000.000000</td>\n",
       "      <td>10000.000000</td>\n",
       "      <td>10000.000000</td>\n",
       "      <td>10000.000000</td>\n",
       "      <td>10000.000000</td>\n",
       "      <td>10000.000000</td>\n",
       "      <td>10000.000000</td>\n",
       "      <td>10000.000000</td>\n",
       "      <td>10000.00000</td>\n",
       "      <td>10000.000000</td>\n",
       "      <td>10000.000000</td>\n",
       "    </tr>\n",
       "    <tr>\n",
       "      <th>unique</th>\n",
       "      <td>4</td>\n",
       "      <td>NaN</td>\n",
       "      <td>NaN</td>\n",
       "      <td>NaN</td>\n",
       "      <td>NaN</td>\n",
       "      <td>NaN</td>\n",
       "      <td>NaN</td>\n",
       "      <td>NaN</td>\n",
       "      <td>NaN</td>\n",
       "      <td>NaN</td>\n",
       "      <td>NaN</td>\n",
       "      <td>NaN</td>\n",
       "    </tr>\n",
       "    <tr>\n",
       "      <th>top</th>\n",
       "      <td>Highly_Fatal_And_Damaging</td>\n",
       "      <td>NaN</td>\n",
       "      <td>NaN</td>\n",
       "      <td>NaN</td>\n",
       "      <td>NaN</td>\n",
       "      <td>NaN</td>\n",
       "      <td>NaN</td>\n",
       "      <td>NaN</td>\n",
       "      <td>NaN</td>\n",
       "      <td>NaN</td>\n",
       "      <td>NaN</td>\n",
       "      <td>NaN</td>\n",
       "    </tr>\n",
       "    <tr>\n",
       "      <th>freq</th>\n",
       "      <td>3049</td>\n",
       "      <td>NaN</td>\n",
       "      <td>NaN</td>\n",
       "      <td>NaN</td>\n",
       "      <td>NaN</td>\n",
       "      <td>NaN</td>\n",
       "      <td>NaN</td>\n",
       "      <td>NaN</td>\n",
       "      <td>NaN</td>\n",
       "      <td>NaN</td>\n",
       "      <td>NaN</td>\n",
       "      <td>NaN</td>\n",
       "    </tr>\n",
       "    <tr>\n",
       "      <th>mean</th>\n",
       "      <td>NaN</td>\n",
       "      <td>41.876406</td>\n",
       "      <td>12.931100</td>\n",
       "      <td>6.564300</td>\n",
       "      <td>65.145324</td>\n",
       "      <td>0.381495</td>\n",
       "      <td>79.969331</td>\n",
       "      <td>3.814900</td>\n",
       "      <td>32001.803282</td>\n",
       "      <td>2.01220</td>\n",
       "      <td>0.255635</td>\n",
       "      <td>6266.554200</td>\n",
       "    </tr>\n",
       "    <tr>\n",
       "      <th>std</th>\n",
       "      <td>NaN</td>\n",
       "      <td>16.138072</td>\n",
       "      <td>3.539803</td>\n",
       "      <td>6.971982</td>\n",
       "      <td>11.882934</td>\n",
       "      <td>0.121301</td>\n",
       "      <td>2.759739</td>\n",
       "      <td>1.902577</td>\n",
       "      <td>9431.995196</td>\n",
       "      <td>1.03998</td>\n",
       "      <td>0.381128</td>\n",
       "      <td>3610.170288</td>\n",
       "    </tr>\n",
       "    <tr>\n",
       "      <th>min</th>\n",
       "      <td>NaN</td>\n",
       "      <td>0.000000</td>\n",
       "      <td>1.000000</td>\n",
       "      <td>0.000000</td>\n",
       "      <td>0.000000</td>\n",
       "      <td>0.134000</td>\n",
       "      <td>74.740000</td>\n",
       "      <td>1.000000</td>\n",
       "      <td>831.695553</td>\n",
       "      <td>0.00000</td>\n",
       "      <td>0.000316</td>\n",
       "      <td>2.000000</td>\n",
       "    </tr>\n",
       "    <tr>\n",
       "      <th>25%</th>\n",
       "      <td>NaN</td>\n",
       "      <td>30.593607</td>\n",
       "      <td>11.000000</td>\n",
       "      <td>2.000000</td>\n",
       "      <td>56.927985</td>\n",
       "      <td>0.293665</td>\n",
       "      <td>77.960000</td>\n",
       "      <td>2.000000</td>\n",
       "      <td>25757.636908</td>\n",
       "      <td>1.00000</td>\n",
       "      <td>0.012063</td>\n",
       "      <td>3139.750000</td>\n",
       "    </tr>\n",
       "    <tr>\n",
       "      <th>50%</th>\n",
       "      <td>NaN</td>\n",
       "      <td>41.278539</td>\n",
       "      <td>13.000000</td>\n",
       "      <td>4.000000</td>\n",
       "      <td>65.587967</td>\n",
       "      <td>0.365879</td>\n",
       "      <td>79.540000</td>\n",
       "      <td>4.000000</td>\n",
       "      <td>32060.336419</td>\n",
       "      <td>2.00000</td>\n",
       "      <td>0.074467</td>\n",
       "      <td>6280.500000</td>\n",
       "    </tr>\n",
       "    <tr>\n",
       "      <th>75%</th>\n",
       "      <td>NaN</td>\n",
       "      <td>52.511416</td>\n",
       "      <td>15.000000</td>\n",
       "      <td>9.000000</td>\n",
       "      <td>73.336372</td>\n",
       "      <td>0.451346</td>\n",
       "      <td>81.560000</td>\n",
       "      <td>5.000000</td>\n",
       "      <td>38380.641513</td>\n",
       "      <td>3.00000</td>\n",
       "      <td>0.354059</td>\n",
       "      <td>9391.500000</td>\n",
       "    </tr>\n",
       "    <tr>\n",
       "      <th>max</th>\n",
       "      <td>NaN</td>\n",
       "      <td>100.000000</td>\n",
       "      <td>23.000000</td>\n",
       "      <td>54.000000</td>\n",
       "      <td>100.000000</td>\n",
       "      <td>0.882648</td>\n",
       "      <td>97.510000</td>\n",
       "      <td>7.000000</td>\n",
       "      <td>64297.651218</td>\n",
       "      <td>5.00000</td>\n",
       "      <td>2.365378</td>\n",
       "      <td>12500.000000</td>\n",
       "    </tr>\n",
       "  </tbody>\n",
       "</table>\n",
       "</div>"
      ],
      "text/plain": [
       "                         Severity  Safety_Score  Days_Since_Inspection  \\\n",
       "count                       10000  10000.000000           10000.000000   \n",
       "unique                          4           NaN                    NaN   \n",
       "top     Highly_Fatal_And_Damaging           NaN                    NaN   \n",
       "freq                         3049           NaN                    NaN   \n",
       "mean                          NaN     41.876406              12.931100   \n",
       "std                           NaN     16.138072               3.539803   \n",
       "min                           NaN      0.000000               1.000000   \n",
       "25%                           NaN     30.593607              11.000000   \n",
       "50%                           NaN     41.278539              13.000000   \n",
       "75%                           NaN     52.511416              15.000000   \n",
       "max                           NaN    100.000000              23.000000   \n",
       "\n",
       "        Total_Safety_Complaints  Control_Metric  Turbulence_In_gforces  \\\n",
       "count              10000.000000    10000.000000           10000.000000   \n",
       "unique                      NaN             NaN                    NaN   \n",
       "top                         NaN             NaN                    NaN   \n",
       "freq                        NaN             NaN                    NaN   \n",
       "mean                   6.564300       65.145324               0.381495   \n",
       "std                    6.971982       11.882934               0.121301   \n",
       "min                    0.000000        0.000000               0.134000   \n",
       "25%                    2.000000       56.927985               0.293665   \n",
       "50%                    4.000000       65.587967               0.365879   \n",
       "75%                    9.000000       73.336372               0.451346   \n",
       "max                   54.000000      100.000000               0.882648   \n",
       "\n",
       "        Cabin_Temperature  Accident_Type_Code  Max_Elevation   Violations  \\\n",
       "count        10000.000000        10000.000000   10000.000000  10000.00000   \n",
       "unique                NaN                 NaN            NaN          NaN   \n",
       "top                   NaN                 NaN            NaN          NaN   \n",
       "freq                  NaN                 NaN            NaN          NaN   \n",
       "mean            79.969331            3.814900   32001.803282      2.01220   \n",
       "std              2.759739            1.902577    9431.995196      1.03998   \n",
       "min             74.740000            1.000000     831.695553      0.00000   \n",
       "25%             77.960000            2.000000   25757.636908      1.00000   \n",
       "50%             79.540000            4.000000   32060.336419      2.00000   \n",
       "75%             81.560000            5.000000   38380.641513      3.00000   \n",
       "max             97.510000            7.000000   64297.651218      5.00000   \n",
       "\n",
       "        Adverse_Weather_Metric   Accident_ID  \n",
       "count             10000.000000  10000.000000  \n",
       "unique                     NaN           NaN  \n",
       "top                        NaN           NaN  \n",
       "freq                       NaN           NaN  \n",
       "mean                  0.255635   6266.554200  \n",
       "std                   0.381128   3610.170288  \n",
       "min                   0.000316      2.000000  \n",
       "25%                   0.012063   3139.750000  \n",
       "50%                   0.074467   6280.500000  \n",
       "75%                   0.354059   9391.500000  \n",
       "max                   2.365378  12500.000000  "
      ]
     },
     "execution_count": 70,
     "metadata": {},
     "output_type": "execute_result"
    }
   ],
   "source": [
    "#see a summary of the training dataset\n"
   ]
  },
  {
   "cell_type": "markdown",
   "metadata": {
    "_cell_guid": "644cc349-70e6-4650-9d26-b429802f5efa",
    "_uuid": "97bb9b0e680db92ab2fe5f4392210156aae1e989"
   },
   "source": [
    "#### Some Observations:\n",
    "* "
   ]
  },
  {
   "cell_type": "code",
   "execution_count": 71,
   "metadata": {},
   "outputs": [
    {
     "data": {
      "text/plain": [
       "10000"
      ]
     },
     "execution_count": 71,
     "metadata": {},
     "output_type": "execute_result"
    }
   ],
   "source": [
    "# get no of rows for train \n"
   ]
  },
  {
   "cell_type": "code",
   "execution_count": 72,
   "metadata": {
    "_cell_guid": "1f65770d-4c54-4605-9fd8-80d99eadbbab",
    "_uuid": "42dddbd08a428f4e3548d36e8619663d561fbf3b"
   },
   "outputs": [
    {
     "name": "stdout",
     "output_type": "stream",
     "text": [
      "Severity                   0.0\n",
      "Safety_Score               0.0\n",
      "Days_Since_Inspection      0.0\n",
      "Total_Safety_Complaints    0.0\n",
      "Control_Metric             0.0\n",
      "Turbulence_In_gforces      0.0\n",
      "Cabin_Temperature          0.0\n",
      "Accident_Type_Code         0.0\n",
      "Max_Elevation              0.0\n",
      "Violations                 0.0\n",
      "Adverse_Weather_Metric     0.0\n",
      "Accident_ID                0.0\n",
      "dtype: float64\n"
     ]
    }
   ],
   "source": [
    "#check %age for missing vals\n"
   ]
  },
  {
   "cell_type": "markdown",
   "metadata": {
    "_cell_guid": "7c83809f-48cd-47f2-836b-c13e34ec9356",
    "_uuid": "62f63111ad2ce761785782995126aa06979296ba"
   },
   "source": [
    "We can see that except for the abovementioned missing values, no NaN values exist."
   ]
  },
  {
   "cell_type": "markdown",
   "metadata": {
    "_cell_guid": "0a23ca84-ed03-4073-9bba-1d5ffd52c925",
    "_uuid": "ac6896faf20480d1d0dd2cdb38324833a6fff650"
   },
   "source": [
    "### Some Predictions:\n",
    "* Sex: Females are more likely to survive.\n",
    "* SibSp/Parch: People traveling alone are more likely to survive.\n",
    "* Age: Young children are more likely to survive.\n",
    "* Pclass: People of higher socioeconomic class are more likely to survive."
   ]
  },
  {
   "cell_type": "markdown",
   "metadata": {
    "_cell_guid": "3de7077c-bac3-4a75-bd33-9438063d8d8e",
    "_uuid": "799a64948fd1b9e1486a14024df46e3b585ca426"
   },
   "source": [
    "## 4) Data Visualization\n",
    "It's time to visualize our data so we can see whether our predictions were accurate! "
   ]
  },
  {
   "cell_type": "markdown",
   "metadata": {
    "_cell_guid": "d8f5581e-66d7-4901-8806-d1c92351f471",
    "_uuid": "96ecfe7a43dabb3d0554eb2553b29619fcb829e8"
   },
   "source": [
    "### severity Feature"
   ]
  },
  {
   "cell_type": "code",
   "execution_count": 73,
   "metadata": {},
   "outputs": [
    {
     "data": {
      "text/plain": [
       "array(['Minor_Damage_And_Injuries', 'Significant_Damage_And_Fatalities',\n",
       "       'Significant_Damage_And_Serious_Injuries',\n",
       "       'Highly_Fatal_And_Damaging'], dtype=object)"
      ]
     },
     "execution_count": 73,
     "metadata": {},
     "output_type": "execute_result"
    }
   ],
   "source": [
    "# Get unique values in severity"
   ]
  },
  {
   "cell_type": "code",
   "execution_count": 74,
   "metadata": {},
   "outputs": [
    {
     "data": {
      "text/plain": [
       "2527"
      ]
     },
     "execution_count": 74,
     "metadata": {},
     "output_type": "execute_result"
    }
   ],
   "source": [
    "# find total no of \"Minor_Damage_And_Injuries\" in severity\n"
   ]
  },
  {
   "cell_type": "code",
   "execution_count": 75,
   "metadata": {},
   "outputs": [
    {
     "data": {
      "text/plain": [
       "25.27"
      ]
     },
     "execution_count": 75,
     "metadata": {},
     "output_type": "execute_result"
    }
   ],
   "source": [
    "# Find %age of \"Minor_Damage_And_Injuries\" among all classes"
   ]
  },
  {
   "cell_type": "code",
   "execution_count": 76,
   "metadata": {},
   "outputs": [
    {
     "data": {
      "text/plain": [
       "Highly_Fatal_And_Damaging                  3049\n",
       "Significant_Damage_And_Serious_Injuries    2729\n",
       "Minor_Damage_And_Injuries                  2527\n",
       "Significant_Damage_And_Fatalities          1695\n",
       "Name: Severity, dtype: int64"
      ]
     },
     "execution_count": 76,
     "metadata": {},
     "output_type": "execute_result"
    }
   ],
   "source": [
    "# find which class has how many observations"
   ]
  },
  {
   "cell_type": "code",
   "execution_count": 77,
   "metadata": {
    "_cell_guid": "6cacebc8-5657-4abc-8f2b-0fec7e52f48c",
    "_uuid": "06f30fcae6e792e7ef9e011d69711ca6fcab3d36"
   },
   "outputs": [
    {
     "data": {
      "text/plain": [
       "<matplotlib.axes._subplots.AxesSubplot at 0x1f5f5f54a90>"
      ]
     },
     "execution_count": 77,
     "metadata": {},
     "output_type": "execute_result"
    },
    {
     "data": {
      "image/png": "[encoded data removed]",
      "text/plain": [
       "<Figure size 432x288 with 1 Axes>"
      ]
     },
     "metadata": {
      "needs_background": "light"
     },
     "output_type": "display_data"
    }
   ],
   "source": [
    "#draw a bar plot of severity by violations\n",
    "\n"
   ]
  },
  {
   "cell_type": "markdown",
   "metadata": {
    "_cell_guid": "e4b6333c-7f43-4f8f-a199-17fcf5806db0",
    "_uuid": "876d73b47f56dd7fa188b8ec69b5d91a4d62c917"
   },
   "source": [
    "As predicted, females have a much higher chance of survival than males. The Sex feature is essential in our predictions."
   ]
  },
  {
   "cell_type": "code",
   "execution_count": 78,
   "metadata": {},
   "outputs": [
    {
     "data": {
      "text/plain": [
       "Index(['Severity', 'Safety_Score', 'Days_Since_Inspection',\n",
       "       'Total_Safety_Complaints', 'Control_Metric', 'Turbulence_In_gforces',\n",
       "       'Cabin_Temperature', 'Accident_Type_Code', 'Max_Elevation',\n",
       "       'Violations', 'Adverse_Weather_Metric', 'Accident_ID'],\n",
       "      dtype='object')"
      ]
     },
     "execution_count": 78,
     "metadata": {},
     "output_type": "execute_result"
    }
   ],
   "source": [
    "# get all cols in train"
   ]
  },
  {
   "cell_type": "code",
   "execution_count": 79,
   "metadata": {
    "_cell_guid": "6c987807-3ff8-4927-b648-e66b669702d8",
    "_uuid": "014f972c4d2fb7fe62902f2c9b177c569ee174b2"
   },
   "outputs": [
    {
     "data": {
      "text/plain": [
       "<matplotlib.axes._subplots.AxesSubplot at 0x1f5f6f7fb38>"
      ]
     },
     "execution_count": 79,
     "metadata": {},
     "output_type": "execute_result"
    },
    {
     "data": {
      "image/png": "[encoded data removed]",
      "text/plain": [
       "<Figure size 432x288 with 1 Axes>"
      ]
     },
     "metadata": {
      "needs_background": "light"
     },
     "output_type": "display_data"
    }
   ],
   "source": [
    "#draw a bar plot of Cabin_temp vs severity\n"
   ]
  },
  {
   "cell_type": "markdown",
   "metadata": {
    "_cell_guid": "4515e73e-d53c-42e0-ad77-939e32ab7d07",
    "_uuid": "90f8c5ed32a5db00a93d741b374a1b06bda16948"
   },
   "source": [
    "As predicted, people with higher socioeconomic class had a higher rate of survival. (62.9% vs. 47.3% vs. 24.2%)"
   ]
  },
  {
   "cell_type": "markdown",
   "metadata": {
    "_cell_guid": "3d42f81e-50b2-4883-820e-74413d9f94de",
    "_uuid": "7ddbc256344324a13f35ef15b056b0edca259f3d"
   },
   "source": [
    "### Total Safety and complaints"
   ]
  },
  {
   "cell_type": "code",
   "execution_count": 80,
   "metadata": {
    "_cell_guid": "940ac591-bdfd-493c-8d47-e4045dcf786f",
    "_uuid": "a1c71cc0bb9faccbdd6d9dc5d127bcaadbf4303d"
   },
   "outputs": [
    {
     "data": {
      "text/plain": [
       "<matplotlib.axes._subplots.AxesSubplot at 0x1f5f6ff6eb8>"
      ]
     },
     "execution_count": 80,
     "metadata": {},
     "output_type": "execute_result"
    },
    {
     "data": {
      "image/png": "[encoded data removed]",
      "text/plain": [
       "<Figure size 432x288 with 1 Axes>"
      ]
     },
     "metadata": {
      "needs_background": "light"
     },
     "output_type": "display_data"
    }
   ],
   "source": [
    "#draw a bar plot of \"Total_Safety_Complaints\" vs y=\"Severity\"\n"
   ]
  },
  {
   "cell_type": "markdown",
   "metadata": {
    "_cell_guid": "906c43f7-eec5-4e5a-86df-d2abcdf04928",
    "_uuid": "c58f6e8b1e4b61d608de0d62cc6ba6ecb5f56410"
   },
   "source": [
    "In general, it's clear that people with more siblings or spouses aboard were less likely to survive. However, contrary to expectations, people with no siblings or spouses were less to likely to survive than those with one or two. (34.5% vs 53.4% vs. 46.4%)"
   ]
  },
  {
   "cell_type": "markdown",
   "metadata": {
    "_cell_guid": "1b8a795d-e4dc-4f7c-a001-26b9bcd86d67",
    "_uuid": "8a11100acd44f07a3e77b973f60cd3a8a17700f8"
   },
   "source": [
    "## 5) Cleaning Data\n",
    "Time to clean our data to account for missing values and unnecessary information!"
   ]
  },
  {
   "cell_type": "markdown",
   "metadata": {
    "_cell_guid": "1f281521-8a27-4da9-b679-f61e233b3099",
    "_uuid": "21ccaa6a70b4833c46b2eef8f98178cdc957c26e"
   },
   "source": [
    "### Looking at the Test Data\n",
    "Let's see how our test data looks!"
   ]
  },
  {
   "cell_type": "code",
   "execution_count": 81,
   "metadata": {},
   "outputs": [],
   "source": [
    "# train.head()"
   ]
  },
  {
   "cell_type": "code",
   "execution_count": 82,
   "metadata": {},
   "outputs": [
    {
     "data": {
      "text/html": [
       "<div>\n",
       "<style scoped>\n",
       "    .dataframe tbody tr th:only-of-type {\n",
       "        vertical-align: middle;\n",
       "    }\n",
       "\n",
       "    .dataframe tbody tr th {\n",
       "        vertical-align: top;\n",
       "    }\n",
       "\n",
       "    .dataframe thead th {\n",
       "        text-align: right;\n",
       "    }\n",
       "</style>\n",
       "<table border=\"1\" class=\"dataframe\">\n",
       "  <thead>\n",
       "    <tr style=\"text-align: right;\">\n",
       "      <th></th>\n",
       "      <th>Safety_Score</th>\n",
       "      <th>Days_Since_Inspection</th>\n",
       "      <th>Total_Safety_Complaints</th>\n",
       "      <th>Control_Metric</th>\n",
       "      <th>Turbulence_In_gforces</th>\n",
       "      <th>Cabin_Temperature</th>\n",
       "      <th>Accident_Type_Code</th>\n",
       "      <th>Max_Elevation</th>\n",
       "      <th>Violations</th>\n",
       "      <th>Adverse_Weather_Metric</th>\n",
       "      <th>Accident_ID</th>\n",
       "    </tr>\n",
       "  </thead>\n",
       "  <tbody>\n",
       "    <tr>\n",
       "      <th>0</th>\n",
       "      <td>19.497717</td>\n",
       "      <td>16</td>\n",
       "      <td>6</td>\n",
       "      <td>72.151322</td>\n",
       "      <td>0.388959</td>\n",
       "      <td>78.32</td>\n",
       "      <td>4</td>\n",
       "      <td>37949.724386</td>\n",
       "      <td>2</td>\n",
       "      <td>0.069692</td>\n",
       "      <td>1</td>\n",
       "    </tr>\n",
       "    <tr>\n",
       "      <th>1</th>\n",
       "      <td>58.173516</td>\n",
       "      <td>15</td>\n",
       "      <td>3</td>\n",
       "      <td>64.585232</td>\n",
       "      <td>0.250841</td>\n",
       "      <td>78.60</td>\n",
       "      <td>7</td>\n",
       "      <td>30194.805567</td>\n",
       "      <td>2</td>\n",
       "      <td>0.002777</td>\n",
       "      <td>10</td>\n",
       "    </tr>\n",
       "    <tr>\n",
       "      <th>2</th>\n",
       "      <td>33.287671</td>\n",
       "      <td>15</td>\n",
       "      <td>3</td>\n",
       "      <td>64.721969</td>\n",
       "      <td>0.336669</td>\n",
       "      <td>86.96</td>\n",
       "      <td>6</td>\n",
       "      <td>17572.925484</td>\n",
       "      <td>1</td>\n",
       "      <td>0.004316</td>\n",
       "      <td>14</td>\n",
       "    </tr>\n",
       "    <tr>\n",
       "      <th>3</th>\n",
       "      <td>3.287671</td>\n",
       "      <td>21</td>\n",
       "      <td>5</td>\n",
       "      <td>66.362808</td>\n",
       "      <td>0.421775</td>\n",
       "      <td>80.86</td>\n",
       "      <td>3</td>\n",
       "      <td>40209.186341</td>\n",
       "      <td>2</td>\n",
       "      <td>0.199990</td>\n",
       "      <td>17</td>\n",
       "    </tr>\n",
       "    <tr>\n",
       "      <th>4</th>\n",
       "      <td>10.867580</td>\n",
       "      <td>18</td>\n",
       "      <td>2</td>\n",
       "      <td>56.107566</td>\n",
       "      <td>0.313228</td>\n",
       "      <td>79.22</td>\n",
       "      <td>2</td>\n",
       "      <td>35495.525408</td>\n",
       "      <td>2</td>\n",
       "      <td>0.483696</td>\n",
       "      <td>21</td>\n",
       "    </tr>\n",
       "    <tr>\n",
       "      <th>5</th>\n",
       "      <td>44.794521</td>\n",
       "      <td>8</td>\n",
       "      <td>14</td>\n",
       "      <td>52.597995</td>\n",
       "      <td>0.366961</td>\n",
       "      <td>77.08</td>\n",
       "      <td>2</td>\n",
       "      <td>15496.086157</td>\n",
       "      <td>1</td>\n",
       "      <td>0.221040</td>\n",
       "      <td>40</td>\n",
       "    </tr>\n",
       "    <tr>\n",
       "      <th>6</th>\n",
       "      <td>62.374429</td>\n",
       "      <td>13</td>\n",
       "      <td>13</td>\n",
       "      <td>66.499544</td>\n",
       "      <td>0.375616</td>\n",
       "      <td>88.48</td>\n",
       "      <td>7</td>\n",
       "      <td>23226.236895</td>\n",
       "      <td>3</td>\n",
       "      <td>0.002196</td>\n",
       "      <td>45</td>\n",
       "    </tr>\n",
       "    <tr>\n",
       "      <th>7</th>\n",
       "      <td>14.520548</td>\n",
       "      <td>17</td>\n",
       "      <td>5</td>\n",
       "      <td>66.180492</td>\n",
       "      <td>0.413841</td>\n",
       "      <td>80.09</td>\n",
       "      <td>4</td>\n",
       "      <td>39076.313532</td>\n",
       "      <td>1</td>\n",
       "      <td>0.071707</td>\n",
       "      <td>50</td>\n",
       "    </tr>\n",
       "  </tbody>\n",
       "</table>\n",
       "</div>"
      ],
      "text/plain": [
       "   Safety_Score  Days_Since_Inspection  Total_Safety_Complaints  \\\n",
       "0     19.497717                     16                        6   \n",
       "1     58.173516                     15                        3   \n",
       "2     33.287671                     15                        3   \n",
       "3      3.287671                     21                        5   \n",
       "4     10.867580                     18                        2   \n",
       "5     44.794521                      8                       14   \n",
       "6     62.374429                     13                       13   \n",
       "7     14.520548                     17                        5   \n",
       "\n",
       "   Control_Metric  Turbulence_In_gforces  Cabin_Temperature  \\\n",
       "0       72.151322               0.388959              78.32   \n",
       "1       64.585232               0.250841              78.60   \n",
       "2       64.721969               0.336669              86.96   \n",
       "3       66.362808               0.421775              80.86   \n",
       "4       56.107566               0.313228              79.22   \n",
       "5       52.597995               0.366961              77.08   \n",
       "6       66.499544               0.375616              88.48   \n",
       "7       66.180492               0.413841              80.09   \n",
       "\n",
       "   Accident_Type_Code  Max_Elevation  Violations  Adverse_Weather_Metric  \\\n",
       "0                   4   37949.724386           2                0.069692   \n",
       "1                   7   30194.805567           2                0.002777   \n",
       "2                   6   17572.925484           1                0.004316   \n",
       "3                   3   40209.186341           2                0.199990   \n",
       "4                   2   35495.525408           2                0.483696   \n",
       "5                   2   15496.086157           1                0.221040   \n",
       "6                   7   23226.236895           3                0.002196   \n",
       "7                   4   39076.313532           1                0.071707   \n",
       "\n",
       "   Accident_ID  \n",
       "0            1  \n",
       "1           10  \n",
       "2           14  \n",
       "3           17  \n",
       "4           21  \n",
       "5           40  \n",
       "6           45  \n",
       "7           50  "
      ]
     },
     "execution_count": 82,
     "metadata": {},
     "output_type": "execute_result"
    }
   ],
   "source": [
    "# print head of test\n",
    "test.head(8)"
   ]
  },
  {
   "cell_type": "code",
   "execution_count": 83,
   "metadata": {
    "_cell_guid": "51bd144d-bc3d-4b2e-b3a4-3def3ef5a614",
    "_uuid": "ed0b5356807dae805e8f0c76c71a01c86a396ccb"
   },
   "outputs": [
    {
     "data": {
      "text/html": [
       "<div>\n",
       "<style scoped>\n",
       "    .dataframe tbody tr th:only-of-type {\n",
       "        vertical-align: middle;\n",
       "    }\n",
       "\n",
       "    .dataframe tbody tr th {\n",
       "        vertical-align: top;\n",
       "    }\n",
       "\n",
       "    .dataframe thead th {\n",
       "        text-align: right;\n",
       "    }\n",
       "</style>\n",
       "<table border=\"1\" class=\"dataframe\">\n",
       "  <thead>\n",
       "    <tr style=\"text-align: right;\">\n",
       "      <th></th>\n",
       "      <th>Safety_Score</th>\n",
       "      <th>Days_Since_Inspection</th>\n",
       "      <th>Total_Safety_Complaints</th>\n",
       "      <th>Control_Metric</th>\n",
       "      <th>Turbulence_In_gforces</th>\n",
       "      <th>Cabin_Temperature</th>\n",
       "      <th>Accident_Type_Code</th>\n",
       "      <th>Max_Elevation</th>\n",
       "      <th>Violations</th>\n",
       "      <th>Adverse_Weather_Metric</th>\n",
       "      <th>Accident_ID</th>\n",
       "    </tr>\n",
       "  </thead>\n",
       "  <tbody>\n",
       "    <tr>\n",
       "      <th>count</th>\n",
       "      <td>2500.000000</td>\n",
       "      <td>2500.000000</td>\n",
       "      <td>2500.000000</td>\n",
       "      <td>2500.000000</td>\n",
       "      <td>2500.000000</td>\n",
       "      <td>2500.000000</td>\n",
       "      <td>2500.000000</td>\n",
       "      <td>2500.000000</td>\n",
       "      <td>2500.000000</td>\n",
       "      <td>2500.000000</td>\n",
       "      <td>2500.000000</td>\n",
       "    </tr>\n",
       "    <tr>\n",
       "      <th>mean</th>\n",
       "      <td>41.825224</td>\n",
       "      <td>12.946400</td>\n",
       "      <td>6.574800</td>\n",
       "      <td>65.368058</td>\n",
       "      <td>0.376197</td>\n",
       "      <td>79.993068</td>\n",
       "      <td>3.853600</td>\n",
       "      <td>32383.134179</td>\n",
       "      <td>1.990800</td>\n",
       "      <td>0.250886</td>\n",
       "      <td>6186.283200</td>\n",
       "    </tr>\n",
       "    <tr>\n",
       "      <th>std</th>\n",
       "      <td>16.280187</td>\n",
       "      <td>3.523364</td>\n",
       "      <td>7.179542</td>\n",
       "      <td>11.442005</td>\n",
       "      <td>0.116960</td>\n",
       "      <td>2.713833</td>\n",
       "      <td>1.877652</td>\n",
       "      <td>9485.096436</td>\n",
       "      <td>1.018592</td>\n",
       "      <td>0.387663</td>\n",
       "      <td>3602.235035</td>\n",
       "    </tr>\n",
       "    <tr>\n",
       "      <th>min</th>\n",
       "      <td>0.000000</td>\n",
       "      <td>1.000000</td>\n",
       "      <td>0.000000</td>\n",
       "      <td>20.966272</td>\n",
       "      <td>0.143376</td>\n",
       "      <td>74.740000</td>\n",
       "      <td>1.000000</td>\n",
       "      <td>831.695553</td>\n",
       "      <td>0.000000</td>\n",
       "      <td>0.000368</td>\n",
       "      <td>1.000000</td>\n",
       "    </tr>\n",
       "    <tr>\n",
       "      <th>25%</th>\n",
       "      <td>30.593607</td>\n",
       "      <td>11.000000</td>\n",
       "      <td>1.000000</td>\n",
       "      <td>57.702826</td>\n",
       "      <td>0.292583</td>\n",
       "      <td>77.930000</td>\n",
       "      <td>2.000000</td>\n",
       "      <td>26008.851717</td>\n",
       "      <td>1.000000</td>\n",
       "      <td>0.013136</td>\n",
       "      <td>3071.750000</td>\n",
       "    </tr>\n",
       "    <tr>\n",
       "      <th>50%</th>\n",
       "      <td>41.461187</td>\n",
       "      <td>13.000000</td>\n",
       "      <td>4.000000</td>\n",
       "      <td>66.066545</td>\n",
       "      <td>0.357404</td>\n",
       "      <td>79.600000</td>\n",
       "      <td>4.000000</td>\n",
       "      <td>32472.865497</td>\n",
       "      <td>2.000000</td>\n",
       "      <td>0.072466</td>\n",
       "      <td>6159.500000</td>\n",
       "    </tr>\n",
       "    <tr>\n",
       "      <th>75%</th>\n",
       "      <td>52.751142</td>\n",
       "      <td>15.000000</td>\n",
       "      <td>9.000000</td>\n",
       "      <td>73.119872</td>\n",
       "      <td>0.441699</td>\n",
       "      <td>81.530000</td>\n",
       "      <td>5.000000</td>\n",
       "      <td>38759.519071</td>\n",
       "      <td>3.000000</td>\n",
       "      <td>0.315407</td>\n",
       "      <td>9309.250000</td>\n",
       "    </tr>\n",
       "    <tr>\n",
       "      <th>max</th>\n",
       "      <td>100.000000</td>\n",
       "      <td>23.000000</td>\n",
       "      <td>54.000000</td>\n",
       "      <td>97.994531</td>\n",
       "      <td>0.881926</td>\n",
       "      <td>94.200000</td>\n",
       "      <td>7.000000</td>\n",
       "      <td>62315.408444</td>\n",
       "      <td>5.000000</td>\n",
       "      <td>2.365378</td>\n",
       "      <td>12493.000000</td>\n",
       "    </tr>\n",
       "  </tbody>\n",
       "</table>\n",
       "</div>"
      ],
      "text/plain": [
       "       Safety_Score  Days_Since_Inspection  Total_Safety_Complaints  \\\n",
       "count   2500.000000            2500.000000              2500.000000   \n",
       "mean      41.825224              12.946400                 6.574800   \n",
       "std       16.280187               3.523364                 7.179542   \n",
       "min        0.000000               1.000000                 0.000000   \n",
       "25%       30.593607              11.000000                 1.000000   \n",
       "50%       41.461187              13.000000                 4.000000   \n",
       "75%       52.751142              15.000000                 9.000000   \n",
       "max      100.000000              23.000000                54.000000   \n",
       "\n",
       "       Control_Metric  Turbulence_In_gforces  Cabin_Temperature  \\\n",
       "count     2500.000000            2500.000000        2500.000000   \n",
       "mean        65.368058               0.376197          79.993068   \n",
       "std         11.442005               0.116960           2.713833   \n",
       "min         20.966272               0.143376          74.740000   \n",
       "25%         57.702826               0.292583          77.930000   \n",
       "50%         66.066545               0.357404          79.600000   \n",
       "75%         73.119872               0.441699          81.530000   \n",
       "max         97.994531               0.881926          94.200000   \n",
       "\n",
       "       Accident_Type_Code  Max_Elevation   Violations  Adverse_Weather_Metric  \\\n",
       "count         2500.000000    2500.000000  2500.000000             2500.000000   \n",
       "mean             3.853600   32383.134179     1.990800                0.250886   \n",
       "std              1.877652    9485.096436     1.018592                0.387663   \n",
       "min              1.000000     831.695553     0.000000                0.000368   \n",
       "25%              2.000000   26008.851717     1.000000                0.013136   \n",
       "50%              4.000000   32472.865497     2.000000                0.072466   \n",
       "75%              5.000000   38759.519071     3.000000                0.315407   \n",
       "max              7.000000   62315.408444     5.000000                2.365378   \n",
       "\n",
       "        Accident_ID  \n",
       "count   2500.000000  \n",
       "mean    6186.283200  \n",
       "std     3602.235035  \n",
       "min        1.000000  \n",
       "25%     3071.750000  \n",
       "50%     6159.500000  \n",
       "75%     9309.250000  \n",
       "max    12493.000000  "
      ]
     },
     "execution_count": 83,
     "metadata": {},
     "output_type": "execute_result"
    }
   ],
   "source": [
    "test.describe(include=\"all\")"
   ]
  },
  {
   "cell_type": "code",
   "execution_count": 84,
   "metadata": {},
   "outputs": [
    {
     "data": {
      "text/plain": [
       "Safety_Score               0\n",
       "Days_Since_Inspection      0\n",
       "Total_Safety_Complaints    0\n",
       "Control_Metric             0\n",
       "Turbulence_In_gforces      0\n",
       "Cabin_Temperature          0\n",
       "Accident_Type_Code         0\n",
       "Max_Elevation              0\n",
       "Violations                 0\n",
       "Adverse_Weather_Metric     0\n",
       "Accident_ID                0\n",
       "dtype: int64"
      ]
     },
     "execution_count": 84,
     "metadata": {},
     "output_type": "execute_result"
    }
   ],
   "source": [
    "test.isna().sum()"
   ]
  },
  {
   "cell_type": "markdown",
   "metadata": {
    "_cell_guid": "10ac0007-e513-4e06-9680-b9548cb64304",
    "_uuid": "dbb4cfac71a016808d91f29ec4293ba94adea9f9"
   },
   "source": [
    "* We have a total of 418 passengers.\n",
    "* 1 value from the Fare feature is missing.\n",
    "\n",
    "* Around 20.5% of the Age feature is missing, we will need to fill that in."
   ]
  },
  {
   "cell_type": "code",
   "execution_count": 85,
   "metadata": {},
   "outputs": [],
   "source": [
    "# Convert Classes to digits using map\n",
    "\n",
    "#                                          map({'Minor_Damage_And_Injuries' : 1 ,\n",
    "#                                         'Significant_Damage_And_Serious_Injuries' : 2,\n",
    "#                                         'Significant_Damage_And_Fatalities' : 3 ,\n",
    "#                                         'Highly_Fatal_And_Damaging' : 4})\n"
   ]
  },
  {
   "cell_type": "code",
   "execution_count": 87,
   "metadata": {
    "_cell_guid": "8b26bf01-16d7-4a8d-9ff0-3c36e0623d55",
    "_uuid": "1d376d44884e25d9ed4646304acc1f41c3051b6b"
   },
   "outputs": [],
   "source": [
    "#drop the Severity feature since it contains no more useful information.\n"
   ]
  },
  {
   "cell_type": "code",
   "execution_count": null,
   "metadata": {},
   "outputs": [],
   "source": []
  },
  {
   "cell_type": "code",
   "execution_count": 88,
   "metadata": {},
   "outputs": [
    {
     "data": {
      "text/html": [
       "<div>\n",
       "<style scoped>\n",
       "    .dataframe tbody tr th:only-of-type {\n",
       "        vertical-align: middle;\n",
       "    }\n",
       "\n",
       "    .dataframe tbody tr th {\n",
       "        vertical-align: top;\n",
       "    }\n",
       "\n",
       "    .dataframe thead th {\n",
       "        text-align: right;\n",
       "    }\n",
       "</style>\n",
       "<table border=\"1\" class=\"dataframe\">\n",
       "  <thead>\n",
       "    <tr style=\"text-align: right;\">\n",
       "      <th></th>\n",
       "      <th>Safety_Score</th>\n",
       "      <th>Days_Since_Inspection</th>\n",
       "      <th>Total_Safety_Complaints</th>\n",
       "      <th>Control_Metric</th>\n",
       "      <th>Turbulence_In_gforces</th>\n",
       "      <th>Cabin_Temperature</th>\n",
       "      <th>Accident_Type_Code</th>\n",
       "      <th>Max_Elevation</th>\n",
       "      <th>Violations</th>\n",
       "      <th>Adverse_Weather_Metric</th>\n",
       "      <th>Accident_ID</th>\n",
       "      <th>class</th>\n",
       "    </tr>\n",
       "  </thead>\n",
       "  <tbody>\n",
       "    <tr>\n",
       "      <th>0</th>\n",
       "      <td>49.223744</td>\n",
       "      <td>14</td>\n",
       "      <td>22</td>\n",
       "      <td>71.285324</td>\n",
       "      <td>0.272118</td>\n",
       "      <td>78.04</td>\n",
       "      <td>2</td>\n",
       "      <td>31335.476824</td>\n",
       "      <td>3</td>\n",
       "      <td>0.424352</td>\n",
       "      <td>7570</td>\n",
       "      <td>1</td>\n",
       "    </tr>\n",
       "    <tr>\n",
       "      <th>1</th>\n",
       "      <td>62.465753</td>\n",
       "      <td>10</td>\n",
       "      <td>27</td>\n",
       "      <td>72.288058</td>\n",
       "      <td>0.423939</td>\n",
       "      <td>84.54</td>\n",
       "      <td>2</td>\n",
       "      <td>26024.711057</td>\n",
       "      <td>2</td>\n",
       "      <td>0.352350</td>\n",
       "      <td>12128</td>\n",
       "      <td>1</td>\n",
       "    </tr>\n",
       "    <tr>\n",
       "      <th>2</th>\n",
       "      <td>63.059361</td>\n",
       "      <td>13</td>\n",
       "      <td>16</td>\n",
       "      <td>66.362808</td>\n",
       "      <td>0.322604</td>\n",
       "      <td>78.86</td>\n",
       "      <td>7</td>\n",
       "      <td>39269.053927</td>\n",
       "      <td>3</td>\n",
       "      <td>0.003364</td>\n",
       "      <td>2181</td>\n",
       "      <td>3</td>\n",
       "    </tr>\n",
       "    <tr>\n",
       "      <th>3</th>\n",
       "      <td>48.082192</td>\n",
       "      <td>11</td>\n",
       "      <td>9</td>\n",
       "      <td>74.703737</td>\n",
       "      <td>0.337029</td>\n",
       "      <td>81.79</td>\n",
       "      <td>3</td>\n",
       "      <td>42771.499200</td>\n",
       "      <td>1</td>\n",
       "      <td>0.211728</td>\n",
       "      <td>5946</td>\n",
       "      <td>2</td>\n",
       "    </tr>\n",
       "    <tr>\n",
       "      <th>4</th>\n",
       "      <td>26.484018</td>\n",
       "      <td>13</td>\n",
       "      <td>25</td>\n",
       "      <td>47.948952</td>\n",
       "      <td>0.541140</td>\n",
       "      <td>77.16</td>\n",
       "      <td>3</td>\n",
       "      <td>35509.228515</td>\n",
       "      <td>2</td>\n",
       "      <td>0.176883</td>\n",
       "      <td>9054</td>\n",
       "      <td>3</td>\n",
       "    </tr>\n",
       "  </tbody>\n",
       "</table>\n",
       "</div>"
      ],
      "text/plain": [
       "   Safety_Score  Days_Since_Inspection  Total_Safety_Complaints  \\\n",
       "0     49.223744                     14                       22   \n",
       "1     62.465753                     10                       27   \n",
       "2     63.059361                     13                       16   \n",
       "3     48.082192                     11                        9   \n",
       "4     26.484018                     13                       25   \n",
       "\n",
       "   Control_Metric  Turbulence_In_gforces  Cabin_Temperature  \\\n",
       "0       71.285324               0.272118              78.04   \n",
       "1       72.288058               0.423939              84.54   \n",
       "2       66.362808               0.322604              78.86   \n",
       "3       74.703737               0.337029              81.79   \n",
       "4       47.948952               0.541140              77.16   \n",
       "\n",
       "   Accident_Type_Code  Max_Elevation  Violations  Adverse_Weather_Metric  \\\n",
       "0                   2   31335.476824           3                0.424352   \n",
       "1                   2   26024.711057           2                0.352350   \n",
       "2                   7   39269.053927           3                0.003364   \n",
       "3                   3   42771.499200           1                0.211728   \n",
       "4                   3   35509.228515           2                0.176883   \n",
       "\n",
       "   Accident_ID  class  \n",
       "0         7570      1  \n",
       "1        12128      1  \n",
       "2         2181      3  \n",
       "3         5946      2  \n",
       "4         9054      3  "
      ]
     },
     "execution_count": 88,
     "metadata": {},
     "output_type": "execute_result"
    }
   ],
   "source": [
    "#Final result"
   ]
  },
  {
   "cell_type": "code",
   "execution_count": null,
   "metadata": {},
   "outputs": [],
   "source": []
  },
  {
   "cell_type": "code",
   "execution_count": null,
   "metadata": {},
   "outputs": [],
   "source": []
  },
  {
   "cell_type": "code",
   "execution_count": null,
   "metadata": {},
   "outputs": [],
   "source": []
  },
  {
   "cell_type": "code",
   "execution_count": null,
   "metadata": {},
   "outputs": [],
   "source": []
  },
  {
   "cell_type": "markdown",
   "metadata": {
    "_cell_guid": "b342b59d-501b-4711-8620-206ff34659ab",
    "_uuid": "21c87e41c2d99d5b4e2adee35247a95f23937447"
   },
   "source": [
    "## 6) Choosing the Best Model"
   ]
  },
  {
   "cell_type": "code",
   "execution_count": null,
   "metadata": {},
   "outputs": [],
   "source": []
  },
  {
   "cell_type": "markdown",
   "metadata": {
    "_cell_guid": "ca81a095-9158-4dcf-b958-d1a8b5f466e9",
    "_uuid": "d9e2da09d1eff694aaec49cf0c68ebf4e0af1722"
   },
   "source": [
    "### Splitting the Training Data\n",
    "We will use part of our training data (22% in this case) to test the accuracy of our different models."
   ]
  },
  {
   "cell_type": "code",
   "execution_count": 36,
   "metadata": {
    "_cell_guid": "65691654-bbaf-4e13-9258-85033c0ecc21",
    "_uuid": "27b2aeb0b61c309dcbcd33d4adc37f6da14763fa"
   },
   "outputs": [],
   "source": [
    "from sklearn.model_selection import train_test_split\n",
    "\n",
    "predictors = train.drop(['Survived', 'PassengerId'], axis=1)\n",
    "target = train[\"Survived\"]\n",
    "x_train, x_val, y_train, y_val = train_test_split(predictors, target, test_size = 0.22, random_state = 0)"
   ]
  },
  {
   "cell_type": "markdown",
   "metadata": {
    "_cell_guid": "88dded62-0c57-499c-9588-4f74816b15b2",
    "_uuid": "fd9a6356a5a629243a771e47e1e64f2f579f96ef"
   },
   "source": [
    "### Testing Different Models\n",
    "I will be testing the following models with my training data (got the list from [here](http://https://www.kaggle.com/startupsci/titanic-data-science-solutions)):\n",
    "* Gaussian Naive Bayes\n",
    "* Logistic Regression\n",
    "* Support Vector Machines\n",
    "* Perceptron\n",
    "* Decision Tree Classifier\n",
    "* Random Forest Classifier\n",
    "* KNN or k-Nearest Neighbors\n",
    "* Stochastic Gradient Descent\n",
    "* Gradient Boosting Classifier\n",
    "\n",
    "For each model, we set the model, fit it with 80% of our training data, predict for 20% of the training data and check the accuracy."
   ]
  },
  {
   "cell_type": "code",
   "execution_count": 37,
   "metadata": {
    "_cell_guid": "09621103-fb65-4a5a-a3ed-11ca8220532e",
    "_uuid": "aef1d16c06bbf392b076aa5793899f6f4d0a1bfd"
   },
   "outputs": [
    {
     "name": "stdout",
     "output_type": "stream",
     "text": [
      "78.68\n"
     ]
    }
   ],
   "source": [
    "# Gaussian Naive Bayes\n",
    "from sklearn.naive_bayes import GaussianNB\n",
    "from sklearn.metrics import accuracy_score\n",
    "\n",
    "gaussian = GaussianNB()\n",
    "gaussian.fit(x_train, y_train)\n",
    "y_pred = gaussian.predict(x_val)\n",
    "acc_gaussian = round(accuracy_score(y_pred, y_val) * 100, 2)\n",
    "print(acc_gaussian)"
   ]
  },
  {
   "cell_type": "code",
   "execution_count": 38,
   "metadata": {
    "_cell_guid": "bcfef788-53b1-47b3-9415-89b551840bd7",
    "_uuid": "7d3745861c316a25489e7c03c7de706fa00f0303"
   },
   "outputs": [
    {
     "name": "stdout",
     "output_type": "stream",
     "text": [
      "79.7\n"
     ]
    }
   ],
   "source": [
    "# Logistic Regression\n",
    "from sklearn.linear_model import LogisticRegression\n",
    "\n",
    "logreg = LogisticRegression()\n",
    "logreg.fit(x_train, y_train)\n",
    "y_pred = logreg.predict(x_val)\n",
    "acc_logreg = round(accuracy_score(y_pred, y_val) * 100, 2)\n",
    "print(acc_logreg)"
   ]
  },
  {
   "cell_type": "code",
   "execution_count": 39,
   "metadata": {
    "_cell_guid": "56dac308-6168-4b68-b6b9-41687e187441",
    "_uuid": "3e665ac1a91527d72a54f743fb00f2a44b54e53b"
   },
   "outputs": [
    {
     "name": "stdout",
     "output_type": "stream",
     "text": [
      "82.74\n"
     ]
    }
   ],
   "source": [
    "# Support Vector Machines\n",
    "from sklearn.svm import SVC\n",
    "\n",
    "svc = SVC()\n",
    "svc.fit(x_train, y_train)\n",
    "y_pred = svc.predict(x_val)\n",
    "acc_svc = round(accuracy_score(y_pred, y_val) * 100, 2)\n",
    "print(acc_svc)"
   ]
  },
  {
   "cell_type": "code",
   "execution_count": 40,
   "metadata": {
    "_cell_guid": "d67c8296-38d6-4887-a314-6858b43a985e",
    "_uuid": "f6b0e28b01c274883bb8eda2e11972bed895ce86"
   },
   "outputs": [
    {
     "name": "stdout",
     "output_type": "stream",
     "text": [
      "78.68\n"
     ]
    }
   ],
   "source": [
    "# Linear SVC\n",
    "from sklearn.svm import LinearSVC\n",
    "\n",
    "linear_svc = LinearSVC()\n",
    "linear_svc.fit(x_train, y_train)\n",
    "y_pred = linear_svc.predict(x_val)\n",
    "acc_linear_svc = round(accuracy_score(y_pred, y_val) * 100, 2)\n",
    "print(acc_linear_svc)"
   ]
  },
  {
   "cell_type": "code",
   "execution_count": 41,
   "metadata": {
    "_cell_guid": "649c3e1b-0212-4102-b106-c365eb1aca76",
    "_uuid": "5093a9c5c2856bb4a3adb4c6d22f7bbad20b9f6b"
   },
   "outputs": [
    {
     "name": "stdout",
     "output_type": "stream",
     "text": [
      "78.68\n"
     ]
    }
   ],
   "source": [
    "# Perceptron\n",
    "from sklearn.linear_model import Perceptron\n",
    "\n",
    "perceptron = Perceptron()\n",
    "perceptron.fit(x_train, y_train)\n",
    "y_pred = perceptron.predict(x_val)\n",
    "acc_perceptron = round(accuracy_score(y_pred, y_val) * 100, 2)\n",
    "print(acc_perceptron)"
   ]
  },
  {
   "cell_type": "code",
   "execution_count": 42,
   "metadata": {
    "_cell_guid": "6fcd6c44-6611-44e5-a198-005f97891994",
    "_uuid": "e31d8c0a7ad10221e77309cd80f33439ccfdb746"
   },
   "outputs": [
    {
     "name": "stdout",
     "output_type": "stream",
     "text": [
      "79.19\n"
     ]
    }
   ],
   "source": [
    "#Decision Tree\n",
    "from sklearn.tree import DecisionTreeClassifier\n",
    "\n",
    "decisiontree = DecisionTreeClassifier()\n",
    "decisiontree.fit(x_train, y_train)\n",
    "y_pred = decisiontree.predict(x_val)\n",
    "acc_decisiontree = round(accuracy_score(y_pred, y_val) * 100, 2)\n",
    "print(acc_decisiontree)"
   ]
  },
  {
   "cell_type": "code",
   "execution_count": 43,
   "metadata": {
    "_cell_guid": "6a91127f-dc04-4b1d-9072-fa155869c0ab",
    "_uuid": "f5dd894aaf3ba31c3c4b151bc83e1fd6298312b9"
   },
   "outputs": [
    {
     "name": "stdout",
     "output_type": "stream",
     "text": [
      "83.76\n"
     ]
    }
   ],
   "source": [
    "# Random Forest\n",
    "from sklearn.ensemble import RandomForestClassifier\n",
    "\n",
    "randomforest = RandomForestClassifier()\n",
    "randomforest.fit(x_train, y_train)\n",
    "y_pred = randomforest.predict(x_val)\n",
    "acc_randomforest = round(accuracy_score(y_pred, y_val) * 100, 2)\n",
    "print(acc_randomforest)"
   ]
  },
  {
   "cell_type": "code",
   "execution_count": 44,
   "metadata": {
    "_cell_guid": "cf3742ce-e4ba-4b97-80fe-f0dbc1255ca4",
    "_uuid": "dd4b169685df45ef10647fe48f9309cf01bdefc1"
   },
   "outputs": [
    {
     "name": "stdout",
     "output_type": "stream",
     "text": [
      "77.66\n"
     ]
    }
   ],
   "source": [
    "# KNN or k-Nearest Neighbors\n",
    "from sklearn.neighbors import KNeighborsClassifier\n",
    "\n",
    "knn = KNeighborsClassifier()\n",
    "knn.fit(x_train, y_train)\n",
    "y_pred = knn.predict(x_val)\n",
    "acc_knn = round(accuracy_score(y_pred, y_val) * 100, 2)\n",
    "print(acc_knn)"
   ]
  },
  {
   "cell_type": "code",
   "execution_count": 45,
   "metadata": {
    "_cell_guid": "39e44b70-bb5f-4f8b-9f54-cce63133f026",
    "_uuid": "18f62721f191cada9a368c22c76f30bbc97255e0"
   },
   "outputs": [
    {
     "name": "stdout",
     "output_type": "stream",
     "text": [
      "67.01\n"
     ]
    }
   ],
   "source": [
    "# Stochastic Gradient Descent\n",
    "from sklearn.linear_model import SGDClassifier\n",
    "\n",
    "sgd = SGDClassifier()\n",
    "sgd.fit(x_train, y_train)\n",
    "y_pred = sgd.predict(x_val)\n",
    "acc_sgd = round(accuracy_score(y_pred, y_val) * 100, 2)\n",
    "print(acc_sgd)"
   ]
  },
  {
   "cell_type": "code",
   "execution_count": 46,
   "metadata": {
    "_cell_guid": "5716dd13-ca67-4651-9e58-02a1fb59189a",
    "_uuid": "5c1099ee0d5ad5bc1e4f96ee825c36afe2611fbd"
   },
   "outputs": [
    {
     "name": "stdout",
     "output_type": "stream",
     "text": [
      "84.26\n"
     ]
    }
   ],
   "source": [
    "# Gradient Boosting Classifier\n",
    "from sklearn.ensemble import GradientBoostingClassifier\n",
    "\n",
    "gbk = GradientBoostingClassifier()\n",
    "gbk.fit(x_train, y_train)\n",
    "y_pred = gbk.predict(x_val)\n",
    "acc_gbk = round(accuracy_score(y_pred, y_val) * 100, 2)\n",
    "print(acc_gbk)"
   ]
  },
  {
   "cell_type": "markdown",
   "metadata": {
    "_cell_guid": "85e950c5-9ea6-4bde-8cb0-e80597bef1d1",
    "_uuid": "d2687f72c78aa8d139549ee8d0b8fd6b77e064ac"
   },
   "source": [
    "Let's compare the accuracies of each model!"
   ]
  },
  {
   "cell_type": "code",
   "execution_count": 47,
   "metadata": {
    "_cell_guid": "351eede6-d162-4420-a2f4-8637f40c4a2d",
    "_uuid": "230e7f53405181667f229b15700329f372725c10"
   },
   "outputs": [
    {
     "data": {
      "text/html": [
       "<div>\n",
       "<style scoped>\n",
       "    .dataframe tbody tr th:only-of-type {\n",
       "        vertical-align: middle;\n",
       "    }\n",
       "\n",
       "    .dataframe tbody tr th {\n",
       "        vertical-align: top;\n",
       "    }\n",
       "\n",
       "    .dataframe thead th {\n",
       "        text-align: right;\n",
       "    }\n",
       "</style>\n",
       "<table border=\"1\" class=\"dataframe\">\n",
       "  <thead>\n",
       "    <tr style=\"text-align: right;\">\n",
       "      <th></th>\n",
       "      <th>Model</th>\n",
       "      <th>Score</th>\n",
       "    </tr>\n",
       "  </thead>\n",
       "  <tbody>\n",
       "    <tr>\n",
       "      <th>9</th>\n",
       "      <td>Gradient Boosting Classifier</td>\n",
       "      <td>84.26</td>\n",
       "    </tr>\n",
       "    <tr>\n",
       "      <th>3</th>\n",
       "      <td>Random Forest</td>\n",
       "      <td>83.76</td>\n",
       "    </tr>\n",
       "    <tr>\n",
       "      <th>0</th>\n",
       "      <td>Support Vector Machines</td>\n",
       "      <td>82.74</td>\n",
       "    </tr>\n",
       "    <tr>\n",
       "      <th>2</th>\n",
       "      <td>Logistic Regression</td>\n",
       "      <td>79.70</td>\n",
       "    </tr>\n",
       "    <tr>\n",
       "      <th>7</th>\n",
       "      <td>Decision Tree</td>\n",
       "      <td>79.19</td>\n",
       "    </tr>\n",
       "    <tr>\n",
       "      <th>4</th>\n",
       "      <td>Naive Bayes</td>\n",
       "      <td>78.68</td>\n",
       "    </tr>\n",
       "    <tr>\n",
       "      <th>5</th>\n",
       "      <td>Perceptron</td>\n",
       "      <td>78.68</td>\n",
       "    </tr>\n",
       "    <tr>\n",
       "      <th>6</th>\n",
       "      <td>Linear SVC</td>\n",
       "      <td>78.68</td>\n",
       "    </tr>\n",
       "    <tr>\n",
       "      <th>1</th>\n",
       "      <td>KNN</td>\n",
       "      <td>77.66</td>\n",
       "    </tr>\n",
       "    <tr>\n",
       "      <th>8</th>\n",
       "      <td>Stochastic Gradient Descent</td>\n",
       "      <td>67.01</td>\n",
       "    </tr>\n",
       "  </tbody>\n",
       "</table>\n",
       "</div>"
      ],
      "text/plain": [
       "                          Model  Score\n",
       "9  Gradient Boosting Classifier  84.26\n",
       "3                 Random Forest  83.76\n",
       "0       Support Vector Machines  82.74\n",
       "2           Logistic Regression  79.70\n",
       "7                 Decision Tree  79.19\n",
       "4                   Naive Bayes  78.68\n",
       "5                    Perceptron  78.68\n",
       "6                    Linear SVC  78.68\n",
       "1                           KNN  77.66\n",
       "8   Stochastic Gradient Descent  67.01"
      ]
     },
     "execution_count": 47,
     "metadata": {},
     "output_type": "execute_result"
    }
   ],
   "source": [
    "models = pd.DataFrame({\n",
    "    'Model': ['Support Vector Machines', 'KNN', 'Logistic Regression', \n",
    "              'Random Forest', 'Naive Bayes', 'Perceptron', 'Linear SVC', \n",
    "              'Decision Tree', 'Stochastic Gradient Descent', 'Gradient Boosting Classifier'],\n",
    "    'Score': [acc_svc, acc_knn, acc_logreg, \n",
    "              acc_randomforest, acc_gaussian, acc_perceptron,acc_linear_svc, acc_decisiontree,\n",
    "              acc_sgd, acc_gbk]})\n",
    "models.sort_values(by='Score', ascending=False)"
   ]
  },
  {
   "cell_type": "markdown",
   "metadata": {
    "_cell_guid": "4ed41dc9-f44d-4d34-8567-348e6d3ca08e",
    "_uuid": "1364d92cd96cd62fc0c9c7075e2caf3b059602af"
   },
   "source": [
    "I decided to use the Gradient Boosting Classifier model for the testing data."
   ]
  },
  {
   "cell_type": "markdown",
   "metadata": {
    "_cell_guid": "edcb3381-4966-49b4-b691-b4d9aef3648b",
    "_uuid": "6e7a28331e10320ba474613f6976d8ad7fdbc90c"
   },
   "source": [
    "## 7) Creating Submission File\n",
    "It's time to create a submission.csv file to upload to the Kaggle competition!"
   ]
  },
  {
   "cell_type": "code",
   "execution_count": 48,
   "metadata": {
    "_cell_guid": "80ce3172-48b5-4271-ae67-0c647a0bbd4a",
    "_uuid": "1735274da7676c0c752592b0b619b6dc56ea914e"
   },
   "outputs": [],
   "source": [
    "#set ids as PassengerId and predict survival \n",
    "ids = test['PassengerId']\n",
    "predictions = gbk.predict(test.drop('PassengerId', axis=1))\n",
    "\n",
    "#set the output as a dataframe and convert to csv file named submission.csv\n",
    "output = pd.DataFrame({ 'PassengerId' : ids, 'Survived': predictions })\n",
    "output.to_csv('submission.csv', index=False)"
   ]
  },
  {
   "cell_type": "markdown",
   "metadata": {
    "_cell_guid": "ce60044e-f4af-42b2-92ea-9d938aea34e2",
    "_uuid": "c0946bfb3798c0744a2412f62ba3f226740062af"
   },
   "source": [
    "If you've come this far, congratulations and thank you for reading! \n",
    "\n",
    "*If you use any part of this notebook in a published kernel, credit (you can simply link back here) would be greatly appreciated. :)*"
   ]
  },
  {
   "cell_type": "markdown",
   "metadata": {
    "_cell_guid": "a6a2d601-fe68-497f-8b34-876c32eb3af6",
    "_uuid": "667f5ccd37ca5a4e2e99ff06982929fa927c5356"
   },
   "source": [
    "## Sources:\n",
    "* [Titanic Data Science Solutions](https://www.kaggle.com/startupsci/titanic-data-science-solutions)\n",
    "* [Scikit-Learn ML from Start to Finish](https://www.kaggle.com/jeffd23/scikit-learn-ml-from-start-to-finish?scriptVersionId=320209)\n",
    "\n",
    "Any and all feedback is welcome! "
   ]
  }
 ],
 "metadata": {
  "kernelspec": {
   "display_name": "Python 3",
   "language": "python",
   "name": "python3"
  },
  "language_info": {
   "codemirror_mode": {
    "name": "ipython",
    "version": 3
   },
   "file_extension": ".py",
   "mimetype": "text/x-python",
   "name": "python",
   "nbconvert_exporter": "python",
   "pygments_lexer": "ipython3",
   "version": "3.6.6"
  }
 },
 "nbformat": 4,
 "nbformat_minor": 1
}
