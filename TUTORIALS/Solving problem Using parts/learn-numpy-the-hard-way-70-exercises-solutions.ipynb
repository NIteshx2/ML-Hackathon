{
 "cells": [
  {
   "cell_type": "markdown",
   "metadata": {},
   "source": [
    "# Welcome to this Kernel\n",
    "\n",
    "* This kernel if a compilation of 70 Numpy exercises with solutions from this webpage:\n",
    "\n",
    "https://www.machinelearningplus.com/python/101-numpy-exercises-python/\n",
    "\n",
    "## <span style=\"color:green\">* If you want to learn **sklearn** check this kernel with tricks and tips:</span>\n",
    "\n",
    "https://www.kaggle.com/python10pm/sklearn-24-best-tips-and-tricks"
   ]
  },
  {
   "cell_type": "markdown",
   "metadata": {},
   "source": [
    "<a id='table_of_contents'></a>\n",
    "# Table of contents\n",
    "\n",
    "[Imports and helper functions](#imports)\n",
    "\n",
    "[1. Import numpy as np and see the version](#q1)\n",
    "\n",
    "[2. How to create a 1D array?](#q2)\n",
    "\n",
    "[3. How to create a boolean array?](#q3)\n",
    "\n",
    "[4. How to extract items that satisfy a given condition from 1D array?](#q4)\n",
    "\n",
    "[5. How to replace items that satisfy a condition with another value in numpy array?](#q5)\n",
    "\n",
    "[6. How to replace items that satisfy a condition without affecting the original array?](#q6)\n",
    "\n",
    "[7. How to reshape an array?](#q7)\n",
    "\n",
    "[8. How to stack two arrays vertically?](#q8)\n",
    "\n",
    "[9. How to stack two arrays horizontally?](#q9)\n",
    "\n",
    "[10. How to generate custom sequences in numpy without hardcoding?](#q10)\n",
    "\n",
    "[11. How to get the common items between two python numpy arrays?](#q11)\n",
    "\n",
    "[12. How to remove from one array those items that exist in another?](#q12)\n",
    "\n",
    "[13. How to get the positions where elements of two arrays match?](#q13)\n",
    "\n",
    "[14. How to extract all numbers between a given range from a numpy array?](#q14)\n",
    "\n",
    "[15. How to make a python function that handles scalars to work on numpy arrays?](#q15)\n",
    "\n",
    "[16. How to swap two columns in a 2d numpy array?](#q16)\n",
    "\n",
    "[17. How to swap two rows in a 2d numpy array?](#q17)\n",
    "\n",
    "[18. How to reverse the rows of a 2D array?](#q18)\n",
    "\n",
    "[19. How to reverse the columns of a 2D array?](#q19)\n",
    "\n",
    "[20. How to create a 2D array containing random floats between 5 and 10?](#q20)\n",
    "\n",
    "[21. How to print only 3 decimal places in python numpy array?](#q21)\n",
    "\n",
    "[22. How to pretty print a numpy array by suppressing the scientific notation (like 1e10)?](#q22)\n",
    "\n",
    "[23. How to limit the number of items printed in output of numpy array?](#q23)\n",
    "\n",
    "[24. How to print the full numpy array without truncating](#q24)\n",
    "\n",
    "[25. How to import a dataset with numbers and texts keeping the text intact in python numpy?](#q25)\n",
    "\n",
    "[26. How to extract a particular column from 1D array of tuples?](#q26)\n",
    "\n",
    "[27. How to convert a 1d array of tuples to a 2d numpy array?](#q27)\n",
    "\n",
    "[28. How to compute the mean, median, standard deviation of a numpy array?](#q28)\n",
    "\n",
    "[29. How to normalize an array so the values range exactly between 0 and 1?](#q29)\n",
    "\n",
    "[30. How to compute the softmax score?](#q30)\n",
    "\n",
    "[31. How to find the percentile scores of a numpy array?](#q31)\n",
    "\n",
    "[32. How to insert values at random positions in an array?](#q32)\n",
    "\n",
    "[33. How to find the position of missing values in numpy array?](#q33)\n",
    "\n",
    "[34. How to filter a numpy array based on two or more conditions?](#q34)\n",
    "\n",
    "[35. How to drop rows that contain a missing value from a numpy array?](#q35)\n",
    "\n",
    "[36. How to find the correlation between two columns of a numpy array?](#q36)\n",
    "\n",
    "[37. How to find if a given array has any null values?](#q37)\n",
    "\n",
    "[38. How to replace all missing values with 0 in a numpy array?](#q38)\n",
    "\n",
    "[39. How to find the count of unique values in a numpy array?](#q39)\n",
    "\n",
    "[40. How to convert a numeric to a categorical (text) array?](#q40)\n",
    "\n",
    "[41. How to create a new column from existing columns of a numpy array?](#q41)\n",
    "\n",
    "[42. How to do probabilistic sampling in numpy?](#q42)\n",
    "\n",
    "[43. How to get the second largest value of an array when grouped by another array?](#q43)\n",
    "\n",
    "[44. How to sort a 2D array by a column](#q44)\n",
    "\n",
    "[45. How to find the most frequent value in a numpy array?](#q45)\n",
    "\n",
    "[46. How to find the position of the first occurrence of a value greater than a given value?](#q46)\n",
    "\n",
    "[47. How to replace all values greater than a given value to a given cutoff?](#q47)\n",
    "\n",
    "[48. How to get the positions of top n values from a numpy array?](#q48)\n",
    "\n",
    "[49. How to compute the row wise counts of all possible values in an array?](#q49)\n",
    "\n",
    "[50. How to convert an array of arrays into a flat 1d array?](#q50)\n",
    "\n",
    "[51. How to generate one-hot encodings for an array in numpy?](#q51)\n",
    "\n",
    "[52. How to create row numbers grouped by a categorical variable?](#q52)\n",
    "\n",
    "[53. How to create groud ids based on a given categorical variable?](#q53)\n",
    "\n",
    "[54. How to rank items in an array using numpy?](#q54)\n",
    "\n",
    "[55. How to rank items in a multidimensional array using numpy?](#q55)\n",
    "\n",
    "[56. How to find the maximum value in each row of a numpy array 2d?](#q56)\n",
    "\n",
    "[57. How to compute the min-by-max for each row for a numpy array 2d?](#q57)\n",
    "\n",
    "[58. How to find the duplicate records in a numpy array?](#q58)\n",
    "\n",
    "[59. How to find the grouped mean in numpy?](#q59)\n",
    "\n",
    "[60. How to convert a PIL image to numpy array?](#q60)\n",
    "\n",
    "[61. How to drop all missing values from a numpy array?](#q61)\n",
    "\n",
    "[62. How to compute the euclidean distance between two arrays?](#q62)\n",
    "\n",
    "[63. How to find all the local maxima (or peaks) in a 1d array?](#q63)\n",
    "\n",
    "[64. How to subtract a 1d array from a 2d array, where each item of 1d array subtracts from respective row?](#q64)\n",
    "\n",
    "[65. How to find the index of n'th repetition of an item in an array](#q65)\n",
    "\n",
    "[66. How to convert numpy's datetime64 object to datetime's datetime object?](#q66)\n",
    "\n",
    "[67. How to compute the moving average of a numpy array?](#q67)\n",
    "\n",
    "[68. How to create a numpy array sequence given only the starting point, length and the step?](#q68)\n",
    "\n",
    "[69. How to fill in missing dates in an irregular series of numpy dates?](#q69)\n",
    "\n",
    "[70. How to create strides from a given 1D array?](#q70)"
   ]
  },
  {
   "cell_type": "markdown",
   "metadata": {},
   "source": [
    "<a id='imports'></a>\n",
    "# Imports and helper functions\n",
    "\n",
    "[Go back to the table of contents](#table_of_contents)"
   ]
  },
  {
   "cell_type": "code",
   "execution_count": 1,
   "metadata": {
    "_cell_guid": "b1076dfc-b9ad-4769-8c92-a6c4dae69d19",
    "_uuid": "8f2839f25d086af736a60e9eeb907d3b93b6e0e5"
   },
   "outputs": [
    {
     "name": "stdout",
     "output_type": "stream",
     "text": [
      "/kaggle/input/exercise-60-denali-mt-mckinleyjpg/Denali Mt McKinley.jpg\n",
      "/kaggle/input/titanic/gender_submission.csv\n",
      "/kaggle/input/titanic/test.csv\n",
      "/kaggle/input/titanic/train.csv\n",
      "/kaggle/input/iris/Iris.csv\n",
      "/kaggle/input/iris/database.sqlite\n"
     ]
    }
   ],
   "source": [
    "# Allow several prints in one cell\n",
    "from IPython.core.interactiveshell import InteractiveShell\n",
    "InteractiveShell.ast_node_interactivity = \"all\"\n",
    "\n",
    "# importing the core library\n",
    "import numpy as np\n",
    "\n",
    "# helper functions to list the datasets available\n",
    "def print_files():\n",
    "    import os\n",
    "    for dirname, _, filenames in os.walk('/kaggle/input'):\n",
    "        for filename in filenames:\n",
    "            print(os.path.join(dirname, filename))\n",
    "print_files()"
   ]
  },
  {
   "cell_type": "markdown",
   "metadata": {},
   "source": [
    "# Numpy exercise"
   ]
  },
  {
   "cell_type": "markdown",
   "metadata": {},
   "source": [
    "<a id='q1'></a>\n",
    "**1. Import numpy as np and see the version**\n",
    "\n",
    "[Go back to the table of contents](#table_of_contents)"
   ]
  },
  {
   "cell_type": "code",
   "execution_count": 2,
   "metadata": {},
   "outputs": [
    {
     "name": "stdout",
     "output_type": "stream",
     "text": [
      "Solution\n",
      "1.17.4\n"
     ]
    }
   ],
   "source": [
    "# Q. Import numpy as np and print the version number.\n",
    "\n",
    "# Solution\n",
    "print(\"Solution\")\n",
    "import numpy as np\n",
    "print(np.__version__)"
   ]
  },
  {
   "cell_type": "markdown",
   "metadata": {},
   "source": [
    "<a id = 'q2'></a>\n",
    "**2. How to create a 1D array?**\n",
    "\n",
    "[Go back to the table of contents](#table_of_contents)"
   ]
  },
  {
   "cell_type": "code",
   "execution_count": 3,
   "metadata": {},
   "outputs": [
    {
     "name": "stdout",
     "output_type": "stream",
     "text": [
      "Solution\n"
     ]
    },
    {
     "data": {
      "text/plain": [
       "array([0, 1, 2, 3, 4, 5, 6, 7, 8, 9])"
      ]
     },
     "execution_count": 3,
     "metadata": {},
     "output_type": "execute_result"
    }
   ],
   "source": [
    "# Q. Create a 1D array of numbers from 0 to 9\n",
    "\n",
    "# Desired Output\n",
    "# > array([0, 1, 2, 3, 4, 5, 6, 7, 8, 9])\n",
    "\n",
    "# Solution\n",
    "print(\"Solution\")\n",
    "arr = np.arange(10)\n",
    "arr"
   ]
  },
  {
   "cell_type": "markdown",
   "metadata": {},
   "source": [
    "<a id = 'q3'></a>\n",
    "**3. How to create a boolean array?**\n",
    "\n",
    "[Go back to the table of contents](#table_of_contents)"
   ]
  },
  {
   "cell_type": "code",
   "execution_count": 4,
   "metadata": {},
   "outputs": [
    {
     "name": "stdout",
     "output_type": "stream",
     "text": [
      "Solution\n"
     ]
    },
    {
     "data": {
      "text/plain": [
       "array([[ True,  True,  True],\n",
       "       [ True,  True,  True],\n",
       "       [ True,  True,  True]])"
      ]
     },
     "execution_count": 4,
     "metadata": {},
     "output_type": "execute_result"
    }
   ],
   "source": [
    "# Q. Create a 3×3 numpy array of all True’s\n",
    "\n",
    "# Solution\n",
    "print(\"Solution\")\n",
    "arr = np.repeat(True, 9).reshape(3, -1)\n",
    "arr"
   ]
  },
  {
   "cell_type": "markdown",
   "metadata": {},
   "source": [
    "<a id = 'q4'></a>\n",
    "**4. How to extract items that satisfy a given condition from 1D array?**\n",
    "\n",
    "[Go back to the table of contents](#table_of_contents)"
   ]
  },
  {
   "cell_type": "code",
   "execution_count": 5,
   "metadata": {},
   "outputs": [
    {
     "name": "stdout",
     "output_type": "stream",
     "text": [
      "Input\n"
     ]
    },
    {
     "data": {
      "text/plain": [
       "array([0, 1, 2, 3, 4, 5, 6, 7, 8, 9])"
      ]
     },
     "execution_count": 5,
     "metadata": {},
     "output_type": "execute_result"
    },
    {
     "name": "stdout",
     "output_type": "stream",
     "text": [
      "Solution\n"
     ]
    },
    {
     "data": {
      "text/plain": [
       "array([1, 3, 5, 7, 9])"
      ]
     },
     "execution_count": 5,
     "metadata": {},
     "output_type": "execute_result"
    }
   ],
   "source": [
    "# Q. Extract all odd numbers from arr\n",
    "# Input \n",
    "arr = np.array([0, 1, 2, 3, 4, 5, 6, 7, 8, 9])\n",
    "print(\"Input\")\n",
    "arr\n",
    "\n",
    "# Desired Output\n",
    "# > array([1, 3, 5, 7, 9])\n",
    "\n",
    "# Solution\n",
    "print(\"Solution\")\n",
    "odds = arr[arr%2 != 0]\n",
    "odds"
   ]
  },
  {
   "cell_type": "markdown",
   "metadata": {},
   "source": [
    "<a id = 'q5'></a>\n",
    "**5. How to replace items that satisfy a condition with another value in numpy array?**\n",
    "\n",
    "[Go back to the table of contents](#table_of_contents)"
   ]
  },
  {
   "cell_type": "code",
   "execution_count": 6,
   "metadata": {},
   "outputs": [
    {
     "name": "stdout",
     "output_type": "stream",
     "text": [
      "Input\n"
     ]
    },
    {
     "data": {
      "text/plain": [
       "array([0, 1, 2, 3, 4, 5, 6, 7, 8, 9])"
      ]
     },
     "execution_count": 6,
     "metadata": {},
     "output_type": "execute_result"
    },
    {
     "name": "stdout",
     "output_type": "stream",
     "text": [
      "Solution\n"
     ]
    },
    {
     "data": {
      "text/plain": [
       "array([ 0, -1,  2, -1,  4, -1,  6, -1,  8, -1])"
      ]
     },
     "execution_count": 6,
     "metadata": {},
     "output_type": "execute_result"
    }
   ],
   "source": [
    "# Q. Replace all odd numbers in arr with -1\n",
    "# Input \n",
    "arr = np.array([0, 1, 2, 3, 4, 5, 6, 7, 8, 9])\n",
    "print(\"Input\")\n",
    "arr\n",
    "\n",
    "# Desired Output\n",
    "# >  array([ 0, -1,  2, -1,  4, -1,  6, -1,  8, -1])\n",
    "\n",
    "# Solution\n",
    "print(\"Solution\")\n",
    "arr[arr%2 != 0] = -1\n",
    "arr"
   ]
  },
  {
   "cell_type": "markdown",
   "metadata": {},
   "source": [
    "<a id = 'q6'></a>\n",
    "**6. How to replace items that satisfy a condition without affecting the original array?**\n",
    "\n",
    "[Go back to the table of contents](#table_of_contents)"
   ]
  },
  {
   "cell_type": "code",
   "execution_count": 7,
   "metadata": {},
   "outputs": [
    {
     "name": "stdout",
     "output_type": "stream",
     "text": [
      "Input\n"
     ]
    },
    {
     "data": {
      "text/plain": [
       "array([0, 1, 2, 3, 4, 5, 6, 7, 8, 9])"
      ]
     },
     "execution_count": 7,
     "metadata": {},
     "output_type": "execute_result"
    },
    {
     "name": "stdout",
     "output_type": "stream",
     "text": [
      "Solution\n",
      "Modified array\n"
     ]
    },
    {
     "data": {
      "text/plain": [
       "array([ 0, -1,  2, -1,  4, -1,  6, -1,  8, -1])"
      ]
     },
     "execution_count": 7,
     "metadata": {},
     "output_type": "execute_result"
    },
    {
     "name": "stdout",
     "output_type": "stream",
     "text": [
      "Original array\n"
     ]
    },
    {
     "data": {
      "text/plain": [
       "array([0, 1, 2, 3, 4, 5, 6, 7, 8, 9])"
      ]
     },
     "execution_count": 7,
     "metadata": {},
     "output_type": "execute_result"
    }
   ],
   "source": [
    "# Q. Replace all odd numbers in arr with -1 without changing arr\n",
    "# Input \n",
    "arr = np.array([0, 1, 2, 3, 4, 5, 6, 7, 8, 9])\n",
    "print(\"Input\")\n",
    "arr\n",
    "\n",
    "# Desired Output\n",
    "# out #>  array([ 0, -1,  2, -1,  4, -1,  6, -1,  8, -1])\n",
    "# arr #>  array([0, 1, 2, 3, 4, 5, 6, 7, 8, 9])\n",
    "\n",
    "# Solution\n",
    "out = arr.copy()\n",
    "out[out%2 != 0] = -1\n",
    "print(\"Solution\")\n",
    "print(\"Modified array\")\n",
    "out\n",
    "print(\"Original array\")\n",
    "arr"
   ]
  },
  {
   "cell_type": "markdown",
   "metadata": {},
   "source": [
    "<a id = 'q7'></a>\n",
    "**7. How to reshape an array?**\n",
    "\n",
    "[Go back to the table of contents](#table_of_contents)"
   ]
  },
  {
   "cell_type": "code",
   "execution_count": 8,
   "metadata": {},
   "outputs": [
    {
     "name": "stdout",
     "output_type": "stream",
     "text": [
      "Input\n"
     ]
    },
    {
     "data": {
      "text/plain": [
       "array([0, 1, 2, 3, 4, 5, 6, 7, 8, 9])"
      ]
     },
     "execution_count": 8,
     "metadata": {},
     "output_type": "execute_result"
    },
    {
     "name": "stdout",
     "output_type": "stream",
     "text": [
      "Solution: reshaped array\n"
     ]
    },
    {
     "data": {
      "text/plain": [
       "array([[0, 1, 2, 3, 4],\n",
       "       [5, 6, 7, 8, 9]])"
      ]
     },
     "execution_count": 8,
     "metadata": {},
     "output_type": "execute_result"
    }
   ],
   "source": [
    "# Q. Convert a 1D array to a 2D array with 2 rows\n",
    "# Input \n",
    "arr = np.arange(10)\n",
    "print(\"Input\")\n",
    "arr\n",
    "\n",
    "# Desired Output\n",
    "# > array([[0, 1, 2, 3, 4],\n",
    "# >        [5, 6, 7, 8, 9]])\n",
    "\n",
    "# Solution\n",
    "print(\"Solution: reshaped array\")\n",
    "arr.reshape(2, -1)"
   ]
  },
  {
   "cell_type": "markdown",
   "metadata": {},
   "source": [
    "<a id = 'q8'></a>\n",
    "**8. How to stack two arrays vertically?**\n",
    "\n",
    "[Go back to the table of contents](#table_of_contents)"
   ]
  },
  {
   "cell_type": "code",
   "execution_count": 9,
   "metadata": {},
   "outputs": [
    {
     "name": "stdout",
     "output_type": "stream",
     "text": [
      "Input\n"
     ]
    },
    {
     "data": {
      "text/plain": [
       "array([[0, 1, 2, 3, 4],\n",
       "       [5, 6, 7, 8, 9]])"
      ]
     },
     "execution_count": 9,
     "metadata": {},
     "output_type": "execute_result"
    },
    {
     "data": {
      "text/plain": [
       "array([[1, 1, 1, 1, 1],\n",
       "       [1, 1, 1, 1, 1]])"
      ]
     },
     "execution_count": 9,
     "metadata": {},
     "output_type": "execute_result"
    },
    {
     "name": "stdout",
     "output_type": "stream",
     "text": [
      "Solution: verticaly stacked arrays\n"
     ]
    },
    {
     "data": {
      "text/plain": [
       "array([[0, 1, 2, 3, 4],\n",
       "       [5, 6, 7, 8, 9],\n",
       "       [1, 1, 1, 1, 1],\n",
       "       [1, 1, 1, 1, 1]])"
      ]
     },
     "execution_count": 9,
     "metadata": {},
     "output_type": "execute_result"
    }
   ],
   "source": [
    "# Q. Stack arrays a and b vertically\n",
    "# Input\n",
    "print(\"Input\")\n",
    "a = np.arange(10).reshape(2,-1)\n",
    "b = np.repeat(1, 10).reshape(2,-1)\n",
    "a\n",
    "b\n",
    "\n",
    "# Desired Output\n",
    "#> array([[0, 1, 2, 3, 4],\n",
    "#>        [5, 6, 7, 8, 9],\n",
    "#>        [1, 1, 1, 1, 1],\n",
    "#>        [1, 1, 1, 1, 1]])\n",
    "\n",
    "# Solution\n",
    "print(\"Solution: verticaly stacked arrays\")\n",
    "np.vstack((a, b))"
   ]
  },
  {
   "cell_type": "markdown",
   "metadata": {},
   "source": [
    "<a id = 'q9'></a>\n",
    "**9. How to stack two arrays horizontally?**\n",
    "\n",
    "[Go back to the table of contents](#table_of_contents)"
   ]
  },
  {
   "cell_type": "code",
   "execution_count": 10,
   "metadata": {},
   "outputs": [
    {
     "name": "stdout",
     "output_type": "stream",
     "text": [
      "Input\n",
      "Solution: horizontally stacked arrays\n"
     ]
    },
    {
     "data": {
      "text/plain": [
       "array([[0, 1, 2, 3, 4, 1, 1, 1, 1, 1],\n",
       "       [5, 6, 7, 8, 9, 1, 1, 1, 1, 1]])"
      ]
     },
     "execution_count": 10,
     "metadata": {},
     "output_type": "execute_result"
    }
   ],
   "source": [
    "# Q. Stack the arrays a and b horizontally.\n",
    "# Input\n",
    "print(\"Input\")\n",
    "a = np.arange(10).reshape(2,-1)\n",
    "b = np.repeat(1, 10).reshape(2,-1)\n",
    "\n",
    "# Desired Output\n",
    "# > array([[0, 1, 2, 3, 4, 1, 1, 1, 1, 1],\n",
    "# >        [5, 6, 7, 8, 9, 1, 1, 1, 1, 1]])\n",
    "\n",
    "# Solution\n",
    "print(\"Solution: horizontally stacked arrays\")\n",
    "np.hstack((a, b))"
   ]
  },
  {
   "cell_type": "markdown",
   "metadata": {},
   "source": [
    "<a id = 'q10'></a>\n",
    "**10. How to generate custom sequences in numpy without hardcoding?**\n",
    "\n",
    "[Go back to the table of contents](#table_of_contents)"
   ]
  },
  {
   "cell_type": "code",
   "execution_count": 11,
   "metadata": {},
   "outputs": [
    {
     "name": "stdout",
     "output_type": "stream",
     "text": [
      "Input\n"
     ]
    },
    {
     "data": {
      "text/plain": [
       "array([1, 2, 3])"
      ]
     },
     "execution_count": 11,
     "metadata": {},
     "output_type": "execute_result"
    },
    {
     "name": "stdout",
     "output_type": "stream",
     "text": [
      "Solution\n"
     ]
    },
    {
     "data": {
      "text/plain": [
       "array([1, 1, 1, 2, 2, 2, 3, 3, 3, 1, 2, 3, 1, 2, 3, 1, 2, 3])"
      ]
     },
     "execution_count": 11,
     "metadata": {},
     "output_type": "execute_result"
    }
   ],
   "source": [
    "# Q. Create the following pattern without hardcoding. Use only numpy functions and the below input array a.\n",
    "\n",
    "# Input\n",
    "print(\"Input\")\n",
    "a = np.array([1,2,3])\n",
    "a\n",
    "\n",
    "# Desired Output\n",
    "# > array([1, 1, 1, 2, 2, 2, 3, 3, 3, 1, 2, 3, 1, 2, 3, 1, 2, 3])\n",
    "\n",
    "# Solution\n",
    "print(\"Solution\")\n",
    "solution_array = np.hstack((np.repeat(a, 3), a, a, a)) # using repeat to generate the 111222.. sequence and hstack 3 times the original array\n",
    "np.set_printoptions(threshold=len(solution_array)) # just to help us see all the array-\n",
    "solution_array"
   ]
  },
  {
   "cell_type": "markdown",
   "metadata": {},
   "source": [
    "<a id = 'q11'></a>\n",
    "**11. How to get the common items between two python numpy arrays?**\n",
    "\n",
    "[Go back to the table of contents](#table_of_contents)"
   ]
  },
  {
   "cell_type": "code",
   "execution_count": 12,
   "metadata": {},
   "outputs": [
    {
     "name": "stdout",
     "output_type": "stream",
     "text": [
      "Input\n"
     ]
    },
    {
     "data": {
      "text/plain": [
       "array([1, 2, 3, 2, 3, 4, 3, 4, 5, 6])"
      ]
     },
     "execution_count": 12,
     "metadata": {},
     "output_type": "execute_result"
    },
    {
     "data": {
      "text/plain": [
       "array([ 7,  2, 10,  2,  7,  4,  9,  4,  9,  8])"
      ]
     },
     "execution_count": 12,
     "metadata": {},
     "output_type": "execute_result"
    },
    {
     "name": "stdout",
     "output_type": "stream",
     "text": [
      "Solution\n"
     ]
    },
    {
     "data": {
      "text/plain": [
       "array([2, 4])"
      ]
     },
     "execution_count": 12,
     "metadata": {},
     "output_type": "execute_result"
    }
   ],
   "source": [
    "# Q. Get the common items between a and b\n",
    "\n",
    "# Input\n",
    "print(\"Input\")\n",
    "a = np.array([1,2,3,2,3,4,3,4,5,6])\n",
    "b = np.array([7,2,10,2,7,4,9,4,9,8])\n",
    "a\n",
    "b\n",
    "\n",
    "# Desired Output\n",
    "# array([2, 4])\n",
    "\n",
    "# Solution\n",
    "print(\"Solution\")\n",
    "np.unique(a[a == b])"
   ]
  },
  {
   "cell_type": "markdown",
   "metadata": {},
   "source": [
    "<a id = 'q12'></a>\n",
    "**12. How to remove from one array those items that exist in another?**\n",
    "\n",
    "[Go back to the table of contents](#table_of_contents)"
   ]
  },
  {
   "cell_type": "code",
   "execution_count": 13,
   "metadata": {},
   "outputs": [
    {
     "name": "stdout",
     "output_type": "stream",
     "text": [
      "Input\n"
     ]
    },
    {
     "data": {
      "text/plain": [
       "array([1, 2, 3, 4, 5])"
      ]
     },
     "execution_count": 13,
     "metadata": {},
     "output_type": "execute_result"
    },
    {
     "data": {
      "text/plain": [
       "array([5, 6, 7, 8, 9])"
      ]
     },
     "execution_count": 13,
     "metadata": {},
     "output_type": "execute_result"
    },
    {
     "name": "stdout",
     "output_type": "stream",
     "text": [
      "Solution\n"
     ]
    },
    {
     "data": {
      "text/plain": [
       "array([1, 2, 3, 4])"
      ]
     },
     "execution_count": 13,
     "metadata": {},
     "output_type": "execute_result"
    }
   ],
   "source": [
    "# Q. From array a remove all items present in array b\n",
    "\n",
    "# Input\n",
    "print(\"Input\")\n",
    "a = np.array([1,2,3,4,5])\n",
    "b = np.array([5,6,7,8,9])\n",
    "a\n",
    "b\n",
    "\n",
    "# Desired Output\n",
    "# array([1,2,3,4])\n",
    "\n",
    "# Solution\n",
    "print(\"Solution\")\n",
    "a[~np.isin(a,b)] # np.isin to find the common elements (returns an array of Booleans). To filter only False, use ~ (CTRL + ALT + 4)"
   ]
  },
  {
   "cell_type": "markdown",
   "metadata": {},
   "source": [
    "<a id = 'q13'></a>\n",
    "**13. How to get the positions where elements of two arrays match?**\n",
    "\n",
    "[Go back to the table of contents](#table_of_contents)"
   ]
  },
  {
   "cell_type": "code",
   "execution_count": 14,
   "metadata": {},
   "outputs": [
    {
     "name": "stdout",
     "output_type": "stream",
     "text": [
      "Input\n"
     ]
    },
    {
     "data": {
      "text/plain": [
       "array([1, 2, 3, 2, 3, 4, 3, 4, 5, 6])"
      ]
     },
     "execution_count": 14,
     "metadata": {},
     "output_type": "execute_result"
    },
    {
     "data": {
      "text/plain": [
       "array([ 7,  2, 10,  2,  7,  4,  9,  4,  9,  8])"
      ]
     },
     "execution_count": 14,
     "metadata": {},
     "output_type": "execute_result"
    },
    {
     "name": "stdout",
     "output_type": "stream",
     "text": [
      "Solution\n"
     ]
    },
    {
     "data": {
      "text/plain": [
       "(array([1, 3, 5, 7]),)"
      ]
     },
     "execution_count": 14,
     "metadata": {},
     "output_type": "execute_result"
    }
   ],
   "source": [
    "# Q. Get the positions where elements of a and b match\n",
    "\n",
    "# Input\n",
    "print(\"Input\")\n",
    "a = np.array([1,2,3,2,3,4,3,4,5,6])\n",
    "b = np.array([7,2,10,2,7,4,9,4,9,8])\n",
    "a\n",
    "b\n",
    "\n",
    "# Desired Output\n",
    "# > (array([1, 3, 5, 7]),)\n",
    "\n",
    "# Solution\n",
    "print(\"Solution\")\n",
    "np.where(a == b) # Notice: the solution if the INDEX but the values"
   ]
  },
  {
   "cell_type": "markdown",
   "metadata": {},
   "source": [
    "<a id = 'q14'></a>\n",
    "**14. How to extract all numbers between a given range from a numpy array?**\n",
    "\n",
    "[Go back to the table of contents](#table_of_contents)"
   ]
  },
  {
   "cell_type": "code",
   "execution_count": 15,
   "metadata": {},
   "outputs": [
    {
     "name": "stdout",
     "output_type": "stream",
     "text": [
      "Input\n"
     ]
    },
    {
     "data": {
      "text/plain": [
       "array([ 2,  6,  1,  9, 10,  3, 27])"
      ]
     },
     "execution_count": 15,
     "metadata": {},
     "output_type": "execute_result"
    },
    {
     "name": "stdout",
     "output_type": "stream",
     "text": [
      "Solution\n"
     ]
    },
    {
     "data": {
      "text/plain": [
       "array([6, 9])"
      ]
     },
     "execution_count": 15,
     "metadata": {},
     "output_type": "execute_result"
    }
   ],
   "source": [
    "# Q. Get all items between 5 and 10 from a.\n",
    "\n",
    "# Input\n",
    "print(\"Input\")\n",
    "a = np.array([2, 6, 1, 9, 10, 3, 27])\n",
    "a\n",
    "\n",
    "# Desired Output\n",
    "# (array([6, 9, 10]),)\n",
    "\n",
    "# Solution\n",
    "print(\"Solution\")\n",
    "a[(a > 5) & (a < 10)]"
   ]
  },
  {
   "cell_type": "markdown",
   "metadata": {},
   "source": [
    "<a id = 'q15'></a>\n",
    "**15. How to make a python function that handles scalars to work on numpy arrays?**\n",
    "\n",
    "[Go back to the table of contents](#table_of_contents)"
   ]
  },
  {
   "cell_type": "code",
   "execution_count": 16,
   "metadata": {},
   "outputs": [
    {
     "name": "stdout",
     "output_type": "stream",
     "text": [
      "Result of the maxx function\n"
     ]
    },
    {
     "data": {
      "text/plain": [
       "5"
      ]
     },
     "execution_count": 16,
     "metadata": {},
     "output_type": "execute_result"
    },
    {
     "name": "stdout",
     "output_type": "stream",
     "text": [
      "Input\n"
     ]
    },
    {
     "data": {
      "text/plain": [
       "array([5, 7, 9, 8, 6, 4, 5])"
      ]
     },
     "execution_count": 16,
     "metadata": {},
     "output_type": "execute_result"
    },
    {
     "data": {
      "text/plain": [
       "array([6, 3, 4, 8, 9, 7, 1])"
      ]
     },
     "execution_count": 16,
     "metadata": {},
     "output_type": "execute_result"
    },
    {
     "name": "stdout",
     "output_type": "stream",
     "text": [
      "Solution\n"
     ]
    },
    {
     "data": {
      "text/plain": [
       "array([6, 7, 9, 8, 9, 7, 5])"
      ]
     },
     "execution_count": 16,
     "metadata": {},
     "output_type": "execute_result"
    }
   ],
   "source": [
    "# Q. Convert the function maxx that works on two scalars, to work on two arrays.\n",
    "\n",
    "# Input\n",
    "\n",
    "def maxx(x, y):\n",
    "    \"\"\"\n",
    "    Get the maximum of two items\n",
    "    \"\"\"\n",
    "    \n",
    "    if x >= y:\n",
    "        return x\n",
    "    else:\n",
    "        return y\n",
    "print(\"Result of the maxx function\")\n",
    "maxx(1, 5)\n",
    "\n",
    "print(\"Input\")\n",
    "a = np.array([5, 7, 9, 8, 6, 4, 5])\n",
    "b = np.array([6, 3, 4, 8, 9, 7, 1])\n",
    "a\n",
    "b\n",
    "\n",
    "# Desired Output\n",
    "# pair_max(a, b)\n",
    "#> array([ 6.,  7.,  9.,  8.,  9.,  7.,  5.])\n",
    "\n",
    "# Solution\n",
    "print(\"Solution\")\n",
    "\n",
    "def pair_max(a, b):\n",
    "    return np.array([max(x, y) for x, y in zip(a, b)]) # using a list comprehension to find the max between 2 arrays elementwise (using zip) and convert to numpy array\n",
    "\n",
    "pair_max(a, b)"
   ]
  },
  {
   "cell_type": "markdown",
   "metadata": {},
   "source": [
    "<a id = 'q16'></a>\n",
    "**16. How to swap two columns in a 2d numpy array?**\n",
    "\n",
    "[Go back to the table of contents](#table_of_contents)"
   ]
  },
  {
   "cell_type": "code",
   "execution_count": 17,
   "metadata": {},
   "outputs": [
    {
     "name": "stdout",
     "output_type": "stream",
     "text": [
      "Input\n"
     ]
    },
    {
     "data": {
      "text/plain": [
       "array([[0, 1, 2],\n",
       "       [3, 4, 5],\n",
       "       [6, 7, 8]])"
      ]
     },
     "execution_count": 17,
     "metadata": {},
     "output_type": "execute_result"
    },
    {
     "name": "stdout",
     "output_type": "stream",
     "text": [
      "Solution\n"
     ]
    },
    {
     "data": {
      "text/plain": [
       "array([[1, 0, 2],\n",
       "       [4, 3, 5],\n",
       "       [7, 6, 8]])"
      ]
     },
     "execution_count": 17,
     "metadata": {},
     "output_type": "execute_result"
    }
   ],
   "source": [
    "# Q. Swap columns 1 and 2 in the array arr.\n",
    "\n",
    "# Input\n",
    "print(\"Input\")\n",
    "arr = np.arange(9).reshape(3,3)\n",
    "arr\n",
    "\n",
    "# Solution\n",
    "print(\"Solution\")\n",
    "temp = arr[:,0].copy() # temporary variable\n",
    "arr[:,0], arr[:,1] = arr[:,1], temp\n",
    "arr"
   ]
  },
  {
   "cell_type": "markdown",
   "metadata": {},
   "source": [
    "<a id = 'q17'></a>\n",
    "**17. How to swap two rows in a 2d numpy array?**\n",
    "\n",
    "[Go back to the table of contents](#table_of_contents)"
   ]
  },
  {
   "cell_type": "code",
   "execution_count": 18,
   "metadata": {},
   "outputs": [
    {
     "name": "stdout",
     "output_type": "stream",
     "text": [
      "Input\n"
     ]
    },
    {
     "data": {
      "text/plain": [
       "array([[0, 1, 2],\n",
       "       [3, 4, 5],\n",
       "       [6, 7, 8]])"
      ]
     },
     "execution_count": 18,
     "metadata": {},
     "output_type": "execute_result"
    },
    {
     "name": "stdout",
     "output_type": "stream",
     "text": [
      "Solution\n"
     ]
    },
    {
     "data": {
      "text/plain": [
       "array([[3, 4, 5],\n",
       "       [0, 1, 2],\n",
       "       [6, 7, 8]])"
      ]
     },
     "execution_count": 18,
     "metadata": {},
     "output_type": "execute_result"
    }
   ],
   "source": [
    "# Q. Swap rows 1 and 2 in the array arr:\n",
    "\n",
    "# Input\n",
    "print(\"Input\")\n",
    "arr = np.arange(9).reshape(3,3)\n",
    "arr\n",
    "\n",
    "# Solution\n",
    "print(\"Solution\")\n",
    "temp = arr[0,:].copy() # temporary variable\n",
    "arr[0,:], arr[1,:] = arr[1,:], temp\n",
    "arr\n"
   ]
  },
  {
   "cell_type": "markdown",
   "metadata": {},
   "source": [
    "<a id = 'q18'></a>\n",
    "\n",
    "**18. How to reverse the rows of a 2D array?**\n",
    "\n",
    "[Go back to the table of contents](#table_of_contents)"
   ]
  },
  {
   "cell_type": "code",
   "execution_count": 19,
   "metadata": {},
   "outputs": [
    {
     "name": "stdout",
     "output_type": "stream",
     "text": [
      "Input\n"
     ]
    },
    {
     "data": {
      "text/plain": [
       "array([[0, 1, 2],\n",
       "       [3, 4, 5],\n",
       "       [6, 7, 8]])"
      ]
     },
     "execution_count": 19,
     "metadata": {},
     "output_type": "execute_result"
    },
    {
     "name": "stdout",
     "output_type": "stream",
     "text": [
      "Solution\n"
     ]
    },
    {
     "data": {
      "text/plain": [
       "array([[6, 7, 8],\n",
       "       [3, 4, 5],\n",
       "       [0, 1, 2]])"
      ]
     },
     "execution_count": 19,
     "metadata": {},
     "output_type": "execute_result"
    },
    {
     "data": {
      "text/plain": [
       "array([[6, 7, 8],\n",
       "       [3, 4, 5],\n",
       "       [0, 1, 2]])"
      ]
     },
     "execution_count": 19,
     "metadata": {},
     "output_type": "execute_result"
    }
   ],
   "source": [
    "# Q. Reverse the rows of a 2D array arr.\n",
    "\n",
    "# Input\n",
    "print(\"Input\")\n",
    "arr = np.arange(9).reshape(3,3)\n",
    "arr\n",
    "\n",
    "# Solution\n",
    "print(\"Solution\")\n",
    "arr[::-1]\n",
    "arr[::-1, :] # exactly the same"
   ]
  },
  {
   "cell_type": "markdown",
   "metadata": {},
   "source": [
    "<a id = 'q19'></a>\n",
    "**19. How to reverse the columns of a 2D array?**\n",
    "\n",
    "[Go back to the table of contents](#table_of_contents)"
   ]
  },
  {
   "cell_type": "code",
   "execution_count": 20,
   "metadata": {},
   "outputs": [
    {
     "name": "stdout",
     "output_type": "stream",
     "text": [
      "Input\n"
     ]
    },
    {
     "data": {
      "text/plain": [
       "array([[0, 1, 2],\n",
       "       [3, 4, 5],\n",
       "       [6, 7, 8]])"
      ]
     },
     "execution_count": 20,
     "metadata": {},
     "output_type": "execute_result"
    },
    {
     "name": "stdout",
     "output_type": "stream",
     "text": [
      "Solution\n"
     ]
    },
    {
     "data": {
      "text/plain": [
       "array([[2, 1, 0],\n",
       "       [5, 4, 3],\n",
       "       [8, 7, 6]])"
      ]
     },
     "execution_count": 20,
     "metadata": {},
     "output_type": "execute_result"
    }
   ],
   "source": [
    "# Q. Reverse the columns of a 2D array arr.\n",
    "\n",
    "# Input\n",
    "print(\"Input\")\n",
    "arr = np.arange(9).reshape(3,3)\n",
    "arr\n",
    "\n",
    "# Solution\n",
    "print(\"Solution\")\n",
    "arr[:, ::-1]"
   ]
  },
  {
   "cell_type": "markdown",
   "metadata": {},
   "source": [
    "<a id = 'q20'></a>\n",
    "**20. How to create a 2D array containing random floats between 5 and 10?**\n",
    "\n",
    "[Go back to the table of contents](#table_of_contents)"
   ]
  },
  {
   "cell_type": "code",
   "execution_count": 21,
   "metadata": {},
   "outputs": [
    {
     "name": "stdout",
     "output_type": "stream",
     "text": [
      "Solution\n"
     ]
    },
    {
     "data": {
      "text/plain": [
       "array([[ 5,  5,  5],\n",
       "       [ 7, 10,  7],\n",
       "       [ 6,  5,  9],\n",
       "       [ 5, 10,  7],\n",
       "       [ 6,  5,  9]])"
      ]
     },
     "execution_count": 21,
     "metadata": {},
     "output_type": "execute_result"
    }
   ],
   "source": [
    "# Q. Create a 2D array of shape 5x3 to contain random decimal numbers between 5 and 10.\n",
    "\n",
    "# Solution\n",
    "print(\"Solution\")\n",
    "# randint first argument: lower bound, second argument: higher bound (if you put 10, it will max return 9, so we add 1), third argument: number of samples. Then we reshape and done.\n",
    "np.random.randint(5, 11, 15).reshape(5, 3) "
   ]
  },
  {
   "cell_type": "markdown",
   "metadata": {},
   "source": [
    "<a id = 'q21'></a>\n",
    "**21. How to print only 3 decimal places in python numpy array?**\n",
    "\n",
    "[Go back to the table of contents](#table_of_contents)"
   ]
  },
  {
   "cell_type": "code",
   "execution_count": 22,
   "metadata": {},
   "outputs": [
    {
     "name": "stdout",
     "output_type": "stream",
     "text": [
      "Input\n"
     ]
    },
    {
     "data": {
      "text/plain": [
       "array([[0.31026373, 0.85583078, 0.1492071 ],\n",
       "       [0.57720891, 0.12015007, 0.27606996],\n",
       "       [0.4696676 , 0.28325313, 0.42910143],\n",
       "       [0.73269082, 0.84507254, 0.01846609],\n",
       "       [0.48404417, 0.89820126, 0.04742885]])"
      ]
     },
     "execution_count": 22,
     "metadata": {},
     "output_type": "execute_result"
    },
    {
     "name": "stdout",
     "output_type": "stream",
     "text": [
      "Solution\n"
     ]
    },
    {
     "data": {
      "text/plain": [
       "array([[0.31 , 0.856, 0.149],\n",
       "       [0.577, 0.12 , 0.276],\n",
       "       [0.47 , 0.283, 0.429],\n",
       "       [0.733, 0.845, 0.018],\n",
       "       [0.484, 0.898, 0.047]])"
      ]
     },
     "execution_count": 22,
     "metadata": {},
     "output_type": "execute_result"
    }
   ],
   "source": [
    "# Q. Print or show only 3 decimal places of the numpy array rand_arr.\n",
    "\n",
    "# Setting print options to default\n",
    "np.set_printoptions(edgeitems=3,infstr='inf', linewidth=75, nanstr='nan', precision=8, suppress=False, threshold=1000, formatter=None)\n",
    "\n",
    "# Input\n",
    "print(\"Input\")\n",
    "rand_arr = np.random.random((5,3))\n",
    "rand_arr\n",
    "\n",
    "# Solution\n",
    "print(\"Solution\")\n",
    "np.set_printoptions(precision=3)\n",
    "rand_arr"
   ]
  },
  {
   "cell_type": "markdown",
   "metadata": {},
   "source": [
    "<a id = 'q22'></a>\n",
    "**22. How to pretty print a numpy array by suppressing the scientific notation (like 1e10)?**\n",
    "\n",
    "[Go back to the table of contents](#table_of_contents)"
   ]
  },
  {
   "cell_type": "code",
   "execution_count": 23,
   "metadata": {},
   "outputs": [
    {
     "name": "stdout",
     "output_type": "stream",
     "text": [
      "Input\n"
     ]
    },
    {
     "data": {
      "text/plain": [
       "array([[5.43404942e-04, 2.78369385e-04, 4.24517591e-04],\n",
       "       [8.44776132e-04, 4.71885619e-06, 1.21569121e-04],\n",
       "       [6.70749085e-04, 8.25852755e-04, 1.36706590e-04]])"
      ]
     },
     "execution_count": 23,
     "metadata": {},
     "output_type": "execute_result"
    },
    {
     "name": "stdout",
     "output_type": "stream",
     "text": [
      "Solution\n"
     ]
    },
    {
     "data": {
      "text/plain": [
       "array([[0.0005434 , 0.00027837, 0.00042452],\n",
       "       [0.00084478, 0.00000472, 0.00012157],\n",
       "       [0.00067075, 0.00082585, 0.00013671]])"
      ]
     },
     "execution_count": 23,
     "metadata": {},
     "output_type": "execute_result"
    }
   ],
   "source": [
    "# Q. Pretty print rand_arr by suppressing the scientific notation (like 1e10)\n",
    "\n",
    "# Setting print options to default\n",
    "np.set_printoptions(edgeitems=3,infstr='inf', linewidth=75, nanstr='nan', precision=8, suppress=False, threshold=1000, formatter=None)\n",
    "\n",
    "# Input\n",
    "print(\"Input\")\n",
    "np.random.seed(100)\n",
    "rand_arr = np.random.random([3,3])/1e3\n",
    "rand_arr\n",
    "\n",
    "# Desired Output\n",
    "# > array([[ 0.000543,  0.000278,  0.000425],\n",
    "# >        [ 0.000845,  0.000005,  0.000122],\n",
    "# >        [ 0.000671,  0.000826,  0.000137]])\n",
    "\n",
    "# Solution\n",
    "print(\"Solution\")\n",
    "np.set_printoptions(suppress=True)\n",
    "rand_arr"
   ]
  },
  {
   "cell_type": "markdown",
   "metadata": {},
   "source": [
    "<a id = 'q23'></a>\n",
    "**23. How to limit the number of items printed in output of numpy array?**\n",
    "\n",
    "[Go back to the table of contents](#table_of_contents)"
   ]
  },
  {
   "cell_type": "code",
   "execution_count": 24,
   "metadata": {},
   "outputs": [
    {
     "name": "stdout",
     "output_type": "stream",
     "text": [
      "Input\n"
     ]
    },
    {
     "data": {
      "text/plain": [
       "array([ 0,  1,  2,  3,  4,  5,  6,  7,  8,  9, 10, 11, 12, 13, 14])"
      ]
     },
     "execution_count": 24,
     "metadata": {},
     "output_type": "execute_result"
    },
    {
     "name": "stdout",
     "output_type": "stream",
     "text": [
      "Solution\n"
     ]
    },
    {
     "data": {
      "text/plain": [
       "array([ 0,  1,  2, ..., 12, 13, 14])"
      ]
     },
     "execution_count": 24,
     "metadata": {},
     "output_type": "execute_result"
    }
   ],
   "source": [
    "# Q. Limit the number of items printed in python numpy array a to a maximum of 6 elements.\n",
    "\n",
    "# Setting print options to default\n",
    "np.set_printoptions(edgeitems=3,infstr='inf', linewidth=75, nanstr='nan', precision=8, suppress=False, threshold=1000, formatter=None)\n",
    "\n",
    "# Input\n",
    "print(\"Input\")\n",
    "a = np.arange(15)\n",
    "a\n",
    "\n",
    "# Desired Output\n",
    "# > array([ 0,  1,  2, ..., 12, 13, 14])\n",
    "\n",
    "# Solution\n",
    "print(\"Solution\")\n",
    "np.set_printoptions(threshold=6)\n",
    "a"
   ]
  },
  {
   "cell_type": "markdown",
   "metadata": {},
   "source": [
    "<a id = 'q24'></a>\n",
    "**24. How to print the full numpy array without truncating**\n",
    "\n",
    "[Go back to the table of contents](#table_of_contents)"
   ]
  },
  {
   "cell_type": "code",
   "execution_count": 25,
   "metadata": {},
   "outputs": [
    {
     "name": "stdout",
     "output_type": "stream",
     "text": [
      "Input\n"
     ]
    },
    {
     "data": {
      "text/plain": [
       "array([ 0,  1,  2, ..., 12, 13, 14])"
      ]
     },
     "execution_count": 25,
     "metadata": {},
     "output_type": "execute_result"
    },
    {
     "name": "stdout",
     "output_type": "stream",
     "text": [
      "Solution\n"
     ]
    },
    {
     "data": {
      "text/plain": [
       "array([ 0,  1,  2,  3,  4,  5,  6,  7,  8,  9, 10, 11, 12, 13, 14])"
      ]
     },
     "execution_count": 25,
     "metadata": {},
     "output_type": "execute_result"
    }
   ],
   "source": [
    "# Q. Print the full numpy array a without truncating.\n",
    "\n",
    "# Input\n",
    "print(\"Input\")\n",
    "np.set_printoptions(threshold=6)\n",
    "a = np.arange(15)\n",
    "a\n",
    "\n",
    "# Desired Output\n",
    "# > array([ 0,  1,  2,  3,  4,  5,  6,  7,  8,  9, 10, 11, 12, 13, 14])\n",
    "\n",
    "# Solution\n",
    "print(\"Solution\")\n",
    "np.set_printoptions(threshold=len(a))\n",
    "a"
   ]
  },
  {
   "cell_type": "markdown",
   "metadata": {},
   "source": [
    "<a id = 'q25'></a>\n",
    "**25. How to import a dataset with numbers and texts keeping the text intact in python numpy?**\n",
    "\n",
    "[Go back to the table of contents](#table_of_contents)"
   ]
  },
  {
   "cell_type": "code",
   "execution_count": 26,
   "metadata": {},
   "outputs": [
    {
     "name": "stdout",
     "output_type": "stream",
     "text": [
      "/kaggle/input/exercise-60-denali-mt-mckinleyjpg/Denali Mt McKinley.jpg\n",
      "/kaggle/input/titanic/gender_submission.csv\n",
      "/kaggle/input/titanic/test.csv\n",
      "/kaggle/input/titanic/train.csv\n",
      "/kaggle/input/iris/Iris.csv\n",
      "/kaggle/input/iris/database.sqlite\n",
      "Solution\n"
     ]
    },
    {
     "name": "stderr",
     "output_type": "stream",
     "text": [
      "/opt/conda/lib/python3.6/site-packages/ipykernel_launcher.py:16: VisibleDeprecationWarning: Reading unicode strings without specifying the encoding argument is deprecated. Set the encoding, use None for the system default.\n",
      "  app.launch_new_instance()\n"
     ]
    },
    {
     "data": {
      "text/plain": [
       "array([(  1, 5.1, 3.5, 1.4, 0.2, b'Iris-setosa'),\n",
       "       (  2, 4.9, 3. , 1.4, 0.2, b'Iris-setosa'),\n",
       "       (  3, 4.7, 3.2, 1.3, 0.2, b'Iris-setosa'), ...,\n",
       "       (148, 6.5, 3. , 5.2, 2. , b'Iris-virginica'),\n",
       "       (149, 6.2, 3.4, 5.4, 2.3, b'Iris-virginica'),\n",
       "       (150, 5.9, 3. , 5.1, 1.8, b'Iris-virginica')],\n",
       "      dtype=[('f0', '<i8'), ('f1', '<f8'), ('f2', '<f8'), ('f3', '<f8'), ('f4', '<f8'), ('f5', 'S15')])"
      ]
     },
     "execution_count": 26,
     "metadata": {},
     "output_type": "execute_result"
    }
   ],
   "source": [
    "# Q. Import the iris dataset keeping the text intact.\n",
    "\n",
    "# Input\n",
    "# Use the iris dataset provided\n",
    "print_files()\n",
    "\n",
    "# All the available options of the numpy genfromtxt function\n",
    "# numpy.genfromtxt(fname, dtype=<class 'float'>, comments='#', delimiter=None, skip_header=0, \n",
    "#                    skip_footer=0, converters=None, missing_values=None, filling_values=None, \n",
    "#                    usecols=None, names=None, excludelist=None, deletechars=\" !#$%&'()*+, -./:;<=>?@[\\]^{|}~\", \n",
    "#                    replace_space='_', autostrip=False, case_sensitive=True, defaultfmt='f%i', \n",
    "#                    unpack=None, usemask=False, loose=True, invalid_raise=True, max_rows=None, encoding='bytes')[source]¶\n",
    "\n",
    "# Solution\n",
    "print(\"Solution\")\n",
    "iris = np.genfromtxt('/kaggle/input/iris/Iris.csv', delimiter=',', skip_header=1, usecols = [0, 1, 2, 3, 4, 5], dtype = None)\n",
    "iris"
   ]
  },
  {
   "cell_type": "markdown",
   "metadata": {},
   "source": [
    "<a id = 'q26'></a>\n",
    "**26. How to extract a particular column from 1D array of tuples?**\n",
    "\n",
    "[Go back to the table of contents](#table_of_contents)"
   ]
  },
  {
   "cell_type": "code",
   "execution_count": 27,
   "metadata": {},
   "outputs": [
    {
     "name": "stdout",
     "output_type": "stream",
     "text": [
      "/kaggle/input/exercise-60-denali-mt-mckinleyjpg/Denali Mt McKinley.jpg\n",
      "/kaggle/input/titanic/gender_submission.csv\n",
      "/kaggle/input/titanic/test.csv\n",
      "/kaggle/input/titanic/train.csv\n",
      "/kaggle/input/iris/Iris.csv\n",
      "/kaggle/input/iris/database.sqlite\n",
      "Solution\n"
     ]
    },
    {
     "data": {
      "text/plain": [
       "array(['Iris-setosa', 'Iris-setosa', 'Iris-setosa', ..., 'Iris-virginica',\n",
       "       'Iris-virginica', 'Iris-virginica'], dtype='<U15')"
      ]
     },
     "execution_count": 27,
     "metadata": {},
     "output_type": "execute_result"
    },
    {
     "name": "stdout",
     "output_type": "stream",
     "text": [
      "Solution from website\n"
     ]
    },
    {
     "name": "stderr",
     "output_type": "stream",
     "text": [
      "/opt/conda/lib/python3.6/site-packages/ipykernel_launcher.py:18: VisibleDeprecationWarning: Reading unicode strings without specifying the encoding argument is deprecated. Set the encoding, use None for the system default.\n"
     ]
    },
    {
     "data": {
      "text/plain": [
       "array([b'Species', b'Iris-setosa', b'Iris-setosa', b'Iris-setosa',\n",
       "       b'Iris-setosa'], dtype='|S18')"
      ]
     },
     "execution_count": 27,
     "metadata": {},
     "output_type": "execute_result"
    }
   ],
   "source": [
    "# Q. Extract the text column species from the 1D iris imported in previous question.\n",
    "\n",
    "# Input\n",
    "# Use the iris dataset provided\n",
    "print_files()\n",
    "\n",
    "# Use this if you are working on your local machine\n",
    "# url = 'https://archive.ics.uci.edu/ml/machine-learning-databases/iris/iris.data'\n",
    "# iris_1d = np.genfromtxt(url, delimiter=',', dtype=None)\n",
    "\n",
    "# Solution\n",
    "print(\"Solution\")\n",
    "iris = np.genfromtxt('/kaggle/input/iris/Iris.csv', delimiter=',', skip_header=1, usecols = [5], dtype='str')\n",
    "iris\n",
    "\n",
    "# Solution from the website\n",
    "print(\"Solution from website\")\n",
    "iris_1d = np.genfromtxt('/kaggle/input/iris/Iris.csv', delimiter=',', dtype=None)\n",
    "species = np.array([row[5] for row in iris_1d])\n",
    "species[:5]"
   ]
  },
  {
   "cell_type": "markdown",
   "metadata": {},
   "source": [
    "<a id = 'q27'></a>\n",
    "**27. How to convert a 1d array of tuples to a 2d numpy array?**\n",
    "\n",
    "[Go back to the table of contents](#table_of_contents)\n"
   ]
  },
  {
   "cell_type": "code",
   "execution_count": 28,
   "metadata": {},
   "outputs": [
    {
     "name": "stdout",
     "output_type": "stream",
     "text": [
      "/kaggle/input/exercise-60-denali-mt-mckinleyjpg/Denali Mt McKinley.jpg\n",
      "/kaggle/input/titanic/gender_submission.csv\n",
      "/kaggle/input/titanic/test.csv\n",
      "/kaggle/input/titanic/train.csv\n",
      "/kaggle/input/iris/Iris.csv\n",
      "/kaggle/input/iris/database.sqlite\n",
      "Solution\n"
     ]
    },
    {
     "data": {
      "text/plain": [
       "array([(1, 5.1, 3.5, 1.4, 0.2), (2, 4.9, 3. , 1.4, 0.2),\n",
       "       (3, 4.7, 3.2, 1.3, 0.2), (4, 4.6, 3.1, 1.5, 0.2)],\n",
       "      dtype=[('f0', '<i8'), ('f1', '<f8'), ('f2', '<f8'), ('f3', '<f8'), ('f4', '<f8')])"
      ]
     },
     "execution_count": 28,
     "metadata": {},
     "output_type": "execute_result"
    },
    {
     "name": "stdout",
     "output_type": "stream",
     "text": [
      "Another solution from website\n"
     ]
    },
    {
     "name": "stderr",
     "output_type": "stream",
     "text": [
      "/opt/conda/lib/python3.6/site-packages/ipykernel_launcher.py:18: VisibleDeprecationWarning: Reading unicode strings without specifying the encoding argument is deprecated. Set the encoding, use None for the system default.\n"
     ]
    },
    {
     "data": {
      "text/plain": [
       "array([[b'Id', b'SepalLengthCm', b'SepalWidthCm', b'PetalLengthCm'],\n",
       "       [b'1', b'5.1', b'3.5', b'1.4'],\n",
       "       [b'2', b'4.9', b'3.0', b'1.4'],\n",
       "       [b'3', b'4.7', b'3.2', b'1.3']], dtype='|S13')"
      ]
     },
     "execution_count": 28,
     "metadata": {},
     "output_type": "execute_result"
    }
   ],
   "source": [
    "# Q. Convert the 1D iris to 2D array iris_2d by omitting the species text field.\n",
    "\n",
    "# Input\n",
    "# Use the iris dataset provided\n",
    "print_files()\n",
    "\n",
    "# Use this if you are working on your local machine\n",
    "# url = 'https://archive.ics.uci.edu/ml/machine-learning-databases/iris/iris.data'\n",
    "# iris_1d = np.genfromtxt(url, delimiter=',', dtype=None)\n",
    "\n",
    "# Solution\n",
    "print(\"Solution\")\n",
    "iris = np.genfromtxt('/kaggle/input/iris/Iris.csv', delimiter=',', skip_header=1, usecols = [0, 1, 2, 3, 4], dtype = None)\n",
    "iris[:4]\n",
    "\n",
    "# Another solution from the website\n",
    "print(\"Another solution from website\")\n",
    "iris_1d = np.genfromtxt('/kaggle/input/iris/Iris.csv', delimiter=',', dtype=None)\n",
    "iris_2d = np.array([row.tolist()[:4] for row in iris_1d])\n",
    "iris_2d[:4]"
   ]
  },
  {
   "cell_type": "markdown",
   "metadata": {},
   "source": [
    "<a id = 'q28'></a>\n",
    "**28. How to compute the mean, median, standard deviation of a numpy array?**\n",
    "\n",
    "[Go back to the table of contents](#table_of_contents)"
   ]
  },
  {
   "cell_type": "code",
   "execution_count": 29,
   "metadata": {},
   "outputs": [
    {
     "name": "stdout",
     "output_type": "stream",
     "text": [
      "/kaggle/input/exercise-60-denali-mt-mckinleyjpg/Denali Mt McKinley.jpg\n",
      "/kaggle/input/titanic/gender_submission.csv\n",
      "/kaggle/input/titanic/test.csv\n",
      "/kaggle/input/titanic/train.csv\n",
      "/kaggle/input/iris/Iris.csv\n",
      "/kaggle/input/iris/database.sqlite\n",
      "Solution\n"
     ]
    },
    {
     "data": {
      "text/plain": [
       "array([5.1, 4.9, 4.7, ..., 6.5, 6.2, 5.9])"
      ]
     },
     "execution_count": 29,
     "metadata": {},
     "output_type": "execute_result"
    },
    {
     "data": {
      "text/plain": [
       "count    150.000000\n",
       "mean       5.843333\n",
       "std        0.828066\n",
       "min        4.300000\n",
       "25%        5.100000\n",
       "50%        5.800000\n",
       "75%        6.400000\n",
       "max        7.900000\n",
       "dtype: float64"
      ]
     },
     "execution_count": 29,
     "metadata": {},
     "output_type": "execute_result"
    },
    {
     "data": {
      "text/plain": [
       "DescribeResult(nobs=150, minmax=(4.3, 7.9), mean=5.843333333333334, variance=0.6856935123042507, skewness=0.3117530585022963, kurtosis=-0.5735679489249765)"
      ]
     },
     "execution_count": 29,
     "metadata": {},
     "output_type": "execute_result"
    },
    {
     "name": "stdout",
     "output_type": "stream",
     "text": [
      "Another solution from the website\n",
      "5.843333333333334 5.8 0.8253012917851409\n"
     ]
    }
   ],
   "source": [
    "# Q. Find the mean, median, standard deviation of iris's sepallength (1st column)\n",
    "\n",
    "# Input\n",
    "# Use the iris dataset provided\n",
    "print_files()\n",
    "\n",
    "# Use this if you are working on your local machine\n",
    "# url = 'https://archive.ics.uci.edu/ml/machine-learning-databases/iris/iris.data'\n",
    "# iris_1d = np.genfromtxt(url, delimiter=',', dtype=None)\n",
    "\n",
    "# Solution\n",
    "print(\"Solution\")\n",
    "iris = np.genfromtxt('/kaggle/input/iris/Iris.csv', delimiter=',', skip_header=1, usecols = [1])\n",
    "iris\n",
    "\n",
    "import pandas as pd\n",
    "pd.Series(iris).describe()\n",
    "\n",
    "from scipy import stats \n",
    "stats.describe(iris) \n",
    "\n",
    "# Solution from the website\n",
    "print(\"Another solution from the website\")\n",
    "mu, med, sd = np.mean(iris), np.median(iris), np.std(iris)\n",
    "print(mu, med, sd)"
   ]
  },
  {
   "cell_type": "markdown",
   "metadata": {},
   "source": [
    "<a id = 'q29'></a>\n",
    "**29. How to normalize an array so the values range exactly between 0 and 1?**\n",
    "\n",
    "[Go back to the table of contents](#table_of_contents)"
   ]
  },
  {
   "cell_type": "code",
   "execution_count": 30,
   "metadata": {},
   "outputs": [
    {
     "name": "stdout",
     "output_type": "stream",
     "text": [
      "/kaggle/input/exercise-60-denali-mt-mckinleyjpg/Denali Mt McKinley.jpg\n",
      "/kaggle/input/titanic/gender_submission.csv\n",
      "/kaggle/input/titanic/test.csv\n",
      "/kaggle/input/titanic/train.csv\n",
      "/kaggle/input/iris/Iris.csv\n",
      "/kaggle/input/iris/database.sqlite\n",
      "Solution\n"
     ]
    },
    {
     "data": {
      "text/plain": [
       "array([0.22222222, 0.16666667, 0.11111111, ..., 0.61111111, 0.52777778,\n",
       "       0.44444444])"
      ]
     },
     "execution_count": 30,
     "metadata": {},
     "output_type": "execute_result"
    },
    {
     "name": "stdout",
     "output_type": "stream",
     "text": [
      "Another solution from the website\n"
     ]
    },
    {
     "data": {
      "text/plain": [
       "3.6000000000000005"
      ]
     },
     "execution_count": 30,
     "metadata": {},
     "output_type": "execute_result"
    },
    {
     "data": {
      "text/plain": [
       "array([0.22222222, 0.16666667, 0.11111111, ..., 0.61111111, 0.52777778,\n",
       "       0.44444444])"
      ]
     },
     "execution_count": 30,
     "metadata": {},
     "output_type": "execute_result"
    }
   ],
   "source": [
    "# Q. Create a normalized form of iris's sepallength whose values range exactly between 0 and 1 so that the minimum has value 0 and maximum has value 1.\n",
    "\n",
    "# Input\n",
    "# Use the iris dataset provided\n",
    "print_files()\n",
    "\n",
    "# Use this if you are working on your local machine\n",
    "# url = 'https://archive.ics.uci.edu/ml/machine-learning-databases/iris/iris.data'\n",
    "# iris_1d = np.genfromtxt(url, delimiter=',', dtype=None)\n",
    "\n",
    "# Solution\n",
    "print(\"Solution\")\n",
    "iris = np.genfromtxt('/kaggle/input/iris/Iris.csv', delimiter=',', skip_header=1, usecols = [1])\n",
    "(iris - np.min(iris))/(np.max(iris) - np.min(iris))\n",
    "\n",
    "# Another solution from the website\n",
    "print(\"Another solution from the website\")\n",
    "iris.ptp() # peak to peak. Basically the same as (np.max(iris) - np.min(iris))\n",
    "(iris - np.min(iris))/iris.ptp()"
   ]
  },
  {
   "cell_type": "markdown",
   "metadata": {},
   "source": [
    "<a id = 'q30'></a>\n",
    "**30. How to compute the softmax score?**\n",
    "\n",
    "[Go back to the table of contents](#table_of_contents)"
   ]
  },
  {
   "cell_type": "code",
   "execution_count": 31,
   "metadata": {},
   "outputs": [
    {
     "name": "stdout",
     "output_type": "stream",
     "text": [
      "/kaggle/input/exercise-60-denali-mt-mckinleyjpg/Denali Mt McKinley.jpg\n",
      "/kaggle/input/titanic/gender_submission.csv\n",
      "/kaggle/input/titanic/test.csv\n",
      "/kaggle/input/titanic/train.csv\n",
      "/kaggle/input/iris/Iris.csv\n",
      "/kaggle/input/iris/database.sqlite\n",
      "Solution\n"
     ]
    },
    {
     "data": {
      "text/plain": [
       "0.9999999999999997"
      ]
     },
     "execution_count": 31,
     "metadata": {},
     "output_type": "execute_result"
    },
    {
     "data": {
      "text/plain": [
       "4.0"
      ]
     },
     "execution_count": 31,
     "metadata": {},
     "output_type": "execute_result"
    },
    {
     "data": {
      "text/plain": [
       "array([[0.00221959, 0.00944058, 0.00021035, 0.00188094],\n",
       "       [0.00181724, 0.005726  , 0.00021035, 0.00188094],\n",
       "       [0.00148783, 0.00699375, 0.00019033, 0.00188094],\n",
       "       ...,\n",
       "       [0.00900086, 0.005726  , 0.00940269, 0.011379  ],\n",
       "       [0.006668  , 0.00854219, 0.01148447, 0.01536005],\n",
       "       [0.00493978, 0.005726  , 0.00850791, 0.00931634]])"
      ]
     },
     "execution_count": 31,
     "metadata": {},
     "output_type": "execute_result"
    },
    {
     "name": "stdout",
     "output_type": "stream",
     "text": [
      "Solution from the website\n",
      "4.0\n",
      "[[0.00221959 0.00944058 0.00021035 0.00188094]\n",
      " [0.00181724 0.005726   0.00021035 0.00188094]\n",
      " [0.00148783 0.00699375 0.00019033 0.00188094]\n",
      " ...\n",
      " [0.00900086 0.005726   0.00940269 0.011379  ]\n",
      " [0.006668   0.00854219 0.01148447 0.01536005]\n",
      " [0.00493978 0.005726   0.00850791 0.00931634]]\n"
     ]
    }
   ],
   "source": [
    "# Q. Compute the softmax score of sepallength.\n",
    "\n",
    "# Input\n",
    "# Use the iris dataset provided\n",
    "print_files()\n",
    "\n",
    "# Use this if you are working on your local machine\n",
    "# url = 'https://archive.ics.uci.edu/ml/machine-learning-databases/iris/iris.data'\n",
    "# iris_1d = np.genfromtxt(url, delimiter=',', dtype=None)\n",
    "\n",
    "# Solution\n",
    "# The Softmax regression is a form of logistic regression that normalizes an input value into a vector of values that follows a probability distribution whose total sums up to 1. \n",
    "print(\"Solution\")\n",
    "iris = np.genfromtxt('/kaggle/input/iris/Iris.csv', delimiter=',', skip_header=1, usecols = [1])\n",
    "softmax = np.exp(iris)/sum(np.exp(iris))\n",
    "softmax.sum() # it must sum 1\n",
    "\n",
    "# We can also apply this to more than 1 column.\n",
    "iris = np.genfromtxt('/kaggle/input/iris/Iris.csv', delimiter=',', skip_header=1, usecols = [1, 2, 3, 4])\n",
    "softmax = np.exp(iris)/sum(np.exp(iris))\n",
    "softmax.sum() # We have 4 since we have 4 columns, each sums 1\n",
    "softmax\n",
    "\n",
    "# Solution from the website\n",
    "print(\"Solution from the website\")\n",
    "\n",
    "def softmax(x):\n",
    "    \"\"\"Compute softmax values for each sets of scores in x.\n",
    "    https://stackoverflow.com/questions/34968722/how-to-implement-the-softmax-function-in-python\"\"\"\n",
    "    e_x = np.exp(x - np.max(x))\n",
    "    return e_x / e_x.sum(axis=0)\n",
    "\n",
    "print(softmax(iris).sum())\n",
    "print(softmax(iris))\n"
   ]
  },
  {
   "cell_type": "markdown",
   "metadata": {},
   "source": [
    "<a id = 'q31'></a>\n",
    "**31. How to find the percentile scores of a numpy array?**\n",
    "\n",
    "[Go back to the table of contents](#table_of_contents)"
   ]
  },
  {
   "cell_type": "code",
   "execution_count": 32,
   "metadata": {},
   "outputs": [
    {
     "name": "stdout",
     "output_type": "stream",
     "text": [
      "/kaggle/input/exercise-60-denali-mt-mckinleyjpg/Denali Mt McKinley.jpg\n",
      "/kaggle/input/titanic/gender_submission.csv\n",
      "/kaggle/input/titanic/test.csv\n",
      "/kaggle/input/titanic/train.csv\n",
      "/kaggle/input/iris/Iris.csv\n",
      "/kaggle/input/iris/database.sqlite\n",
      "Solution\n"
     ]
    },
    {
     "data": {
      "text/plain": [
       "array([5.1, 4.9, 4.7, ..., 6.5, 6.2, 5.9])"
      ]
     },
     "execution_count": 32,
     "metadata": {},
     "output_type": "execute_result"
    },
    {
     "data": {
      "text/plain": [
       "array([4.6  , 7.255])"
      ]
     },
     "execution_count": 32,
     "metadata": {},
     "output_type": "execute_result"
    }
   ],
   "source": [
    "# Q. Find the 5th and 95th percentile of iris's sepallength\n",
    "\n",
    "# Input\n",
    "# Use the iris dataset provided\n",
    "print_files()\n",
    "\n",
    "# Use this if you are working on your local machine\n",
    "# url = 'https://archive.ics.uci.edu/ml/machine-learning-databases/iris/iris.data'\n",
    "# iris_1d = np.genfromtxt(url, delimiter=',', dtype=None)\n",
    "\n",
    "# Solution\n",
    "print(\"Solution\")\n",
    "iris = np.genfromtxt('/kaggle/input/iris/Iris.csv', delimiter=',', skip_header=1, usecols = [1])\n",
    "iris\n",
    "np.percentile(iris, q = [5, 95])"
   ]
  },
  {
   "cell_type": "markdown",
   "metadata": {},
   "source": [
    "<a id = 'q32'></a>\n",
    "**32. How to insert values at random positions in an array?**\n",
    "\n",
    "[Go back to the table of contents](#table_of_contents)"
   ]
  },
  {
   "cell_type": "code",
   "execution_count": 33,
   "metadata": {},
   "outputs": [
    {
     "name": "stdout",
     "output_type": "stream",
     "text": [
      "/kaggle/input/exercise-60-denali-mt-mckinleyjpg/Denali Mt McKinley.jpg\n",
      "/kaggle/input/titanic/gender_submission.csv\n",
      "/kaggle/input/titanic/test.csv\n",
      "/kaggle/input/titanic/train.csv\n",
      "/kaggle/input/iris/Iris.csv\n",
      "/kaggle/input/iris/database.sqlite\n",
      "Solution\n"
     ]
    },
    {
     "data": {
      "text/plain": [
       "array([[5.1, 3.5, 1.4, 0.2],\n",
       "       [4.9, 3. , 1.4, 0.2],\n",
       "       [4.7, 3.2, 1.3, 0.2],\n",
       "       ...,\n",
       "       [6.5, 3. , 5.2, 2. ],\n",
       "       [6.2, 3.4, 5.4, 2.3],\n",
       "       [5.9, 3. , 5.1, 1.8]])"
      ]
     },
     "execution_count": 33,
     "metadata": {},
     "output_type": "execute_result"
    },
    {
     "name": "stdout",
     "output_type": "stream",
     "text": [
      "Another solution from the website\n"
     ]
    },
    {
     "name": "stderr",
     "output_type": "stream",
     "text": [
      "/opt/conda/lib/python3.6/site-packages/ipykernel_launcher.py:23: FutureWarning: Using a non-tuple sequence for multidimensional indexing is deprecated; use `arr[tuple(seq)]` instead of `arr[seq]`. In the future this will be interpreted as an array index, `arr[np.array(seq)]`, which will result either in an error or a different result.\n"
     ]
    },
    {
     "data": {
      "text/plain": [
       "array([[nan, 3.5, 1.4, 0.2],\n",
       "       [4.9, 3. , 1.4, 0.2],\n",
       "       [4.7, 3.2, 1.3, 0.2],\n",
       "       ...,\n",
       "       [6.5, 3. , 5.2, 2. ],\n",
       "       [6.2, 3.4, 5.4, 2.3],\n",
       "       [5.9, 3. , 5.1, 1.8]])"
      ]
     },
     "execution_count": 33,
     "metadata": {},
     "output_type": "execute_result"
    },
    {
     "name": "stdout",
     "output_type": "stream",
     "text": [
      "Solution 3 from the website\n"
     ]
    },
    {
     "data": {
      "text/plain": [
       "array([[5.1, 3.5, nan, 0.2],\n",
       "       [4.9, 3. , 1.4, 0.2],\n",
       "       [4.7, 3.2, 1.3, 0.2],\n",
       "       ...,\n",
       "       [6.5, 3. , 5.2, nan],\n",
       "       [6.2, 3.4, 5.4, 2.3],\n",
       "       [5.9, 3. , 5.1, 1.8]])"
      ]
     },
     "execution_count": 33,
     "metadata": {},
     "output_type": "execute_result"
    }
   ],
   "source": [
    "# Q. Insert np.nan values at 20 random positions in iris_2d dataset\n",
    "\n",
    "# Input\n",
    "# Use the iris dataset provided\n",
    "print_files()\n",
    "\n",
    "# Use this if you are working on your local machine\n",
    "# url = 'https://archive.ics.uci.edu/ml/machine-learning-databases/iris/iris.data'\n",
    "# iris_1d = np.genfromtxt(url, delimiter=',', dtype=None)\n",
    "\n",
    "# Solution\n",
    "print(\"Solution\")\n",
    "iris = np.genfromtxt('/kaggle/input/iris/Iris.csv', delimiter=',', skip_header=1, usecols = [1, 2, 3, 4])\n",
    "index = np.random.randint(0, 150, 20)\n",
    "iris[index] = np.nan\n",
    "iris\n",
    "\n",
    "# Solution from the website\n",
    "print(\"Another solution from the website\")\n",
    "iris = np.genfromtxt('/kaggle/input/iris/Iris.csv', delimiter=',', skip_header=1, usecols = [1, 2, 3, 4])\n",
    "i, j = np.where(iris_2d) # get the index of all 600 elements of the array\n",
    "nan_index = [np.random.choice((i), 20), np.random.choice((j), 20)] # get some random values for each row and column\n",
    "iris[nan_index] = np.nan\n",
    "iris\n",
    "\n",
    "# Solution 3 from the website\n",
    "print(\"Solution 3 from the website\")\n",
    "iris = np.genfromtxt('/kaggle/input/iris/Iris.csv', delimiter=',', skip_header=1, usecols = [1, 2, 3, 4])\n",
    "iris[np.random.randint(149, size=20), np.random.randint(4, size=20)] = np.nan\n",
    "iris"
   ]
  },
  {
   "cell_type": "markdown",
   "metadata": {},
   "source": [
    "<a id = 'q33'></a>\n",
    "**33. How to find the position of missing values in numpy array?**\n",
    "\n",
    "[Go back to the table of contents](#table_of_contents)"
   ]
  },
  {
   "cell_type": "code",
   "execution_count": 34,
   "metadata": {},
   "outputs": [
    {
     "name": "stdout",
     "output_type": "stream",
     "text": [
      "/kaggle/input/exercise-60-denali-mt-mckinleyjpg/Denali Mt McKinley.jpg\n",
      "/kaggle/input/titanic/gender_submission.csv\n",
      "/kaggle/input/titanic/test.csv\n",
      "/kaggle/input/titanic/train.csv\n",
      "/kaggle/input/iris/Iris.csv\n",
      "/kaggle/input/iris/database.sqlite\n",
      "Solution\n"
     ]
    },
    {
     "data": {
      "text/plain": [
       "array([[nan, 3.5, 1.4, 0.2],\n",
       "       [4.9, 3. , 1.4, 0.2],\n",
       "       [nan, 3.2, 1.3, 0.2],\n",
       "       ...,\n",
       "       [6.5, 3. , 5.2, 2. ],\n",
       "       [nan, 3.4, 5.4, 2.3],\n",
       "       [5.9, 3. , 5.1, 1.8]])"
      ]
     },
     "execution_count": 34,
     "metadata": {},
     "output_type": "execute_result"
    },
    {
     "data": {
      "text/plain": [
       "(array([  0,   2,   8, ..., 145, 146, 148]), array([0, 0, 0, ..., 0, 0, 0]))"
      ]
     },
     "execution_count": 34,
     "metadata": {},
     "output_type": "execute_result"
    },
    {
     "data": {
      "text/plain": [
       "array([nan, nan, nan, ..., nan, nan, nan])"
      ]
     },
     "execution_count": 34,
     "metadata": {},
     "output_type": "execute_result"
    },
    {
     "name": "stdout",
     "output_type": "stream",
     "text": [
      "Number of missing values: \n",
      " 47\n"
     ]
    }
   ],
   "source": [
    "#### Q. Find the number and position of missing values in iris_2d's sepallength (1st column)\n",
    "\n",
    "# Input\n",
    "# Use the iris dataset provided\n",
    "print_files()\n",
    "\n",
    "# Use this if you are working on your local machine\n",
    "# url = 'https://archive.ics.uci.edu/ml/machine-learning-databases/iris/iris.data'\n",
    "# iris_2d = np.genfromtxt(url, delimiter=',', dtype='float')\n",
    "# iris_2d[np.random.randint(150, size=20), np.random.randint(4, size=20)] = np.nan\n",
    "\n",
    "# Solution\n",
    "print(\"Solution\")\n",
    "iris = np.genfromtxt('/kaggle/input/iris/Iris.csv', delimiter=',', skip_header=1, usecols = [1, 2, 3, 4])\n",
    "iris[:,0][np.random.randint(0 , len(iris), 50)] = np.nan # set some random values in the first column\n",
    "iris\n",
    "nan_index_1 = np.where(np.isnan(iris)) # to check for nan, the official documentation always recommends using np.isnan\n",
    "nan_index_1\n",
    "iris[nan_index_1]\n",
    "print(\"Number of missing values: \\n\", np.isnan(iris[:, 0]).sum())"
   ]
  },
  {
   "cell_type": "markdown",
   "metadata": {},
   "source": [
    "<a id = 'q34'></a>\n",
    "**34. How to filter a numpy array based on two or more conditions?**\n",
    "\n",
    "[Go back to the table of contents](#table_of_contents)"
   ]
  },
  {
   "cell_type": "code",
   "execution_count": 35,
   "metadata": {},
   "outputs": [
    {
     "name": "stdout",
     "output_type": "stream",
     "text": [
      "/kaggle/input/exercise-60-denali-mt-mckinleyjpg/Denali Mt McKinley.jpg\n",
      "/kaggle/input/titanic/gender_submission.csv\n",
      "/kaggle/input/titanic/test.csv\n",
      "/kaggle/input/titanic/train.csv\n",
      "/kaggle/input/iris/Iris.csv\n",
      "/kaggle/input/iris/database.sqlite\n",
      "Solution\n"
     ]
    },
    {
     "data": {
      "text/plain": [
       "(150, 4)"
      ]
     },
     "execution_count": 35,
     "metadata": {},
     "output_type": "execute_result"
    },
    {
     "data": {
      "text/plain": [
       "(52, 4)"
      ]
     },
     "execution_count": 35,
     "metadata": {},
     "output_type": "execute_result"
    },
    {
     "data": {
      "text/plain": [
       "array([[6.3, 3.3, 4.7, 1.6],\n",
       "       [5.9, 3.2, 4.8, 1.8],\n",
       "       [6.7, 3. , 5. , 1.7],\n",
       "       ...,\n",
       "       [6.5, 3. , 5.2, 2. ],\n",
       "       [6.2, 3.4, 5.4, 2.3],\n",
       "       [5.9, 3. , 5.1, 1.8]])"
      ]
     },
     "execution_count": 35,
     "metadata": {},
     "output_type": "execute_result"
    },
    {
     "name": "stdout",
     "output_type": "stream",
     "text": [
      "Using criteria saved as objects\n"
     ]
    },
    {
     "data": {
      "text/plain": [
       "(52, 4)"
      ]
     },
     "execution_count": 35,
     "metadata": {},
     "output_type": "execute_result"
    },
    {
     "data": {
      "text/plain": [
       "array([[6.3, 3.3, 4.7, 1.6],\n",
       "       [5.9, 3.2, 4.8, 1.8],\n",
       "       [6.7, 3. , 5. , 1.7],\n",
       "       ...,\n",
       "       [6.5, 3. , 5.2, 2. ],\n",
       "       [6.2, 3.4, 5.4, 2.3],\n",
       "       [5.9, 3. , 5.1, 1.8]])"
      ]
     },
     "execution_count": 35,
     "metadata": {},
     "output_type": "execute_result"
    },
    {
     "name": "stdout",
     "output_type": "stream",
     "text": [
      "Using reduce\n"
     ]
    },
    {
     "data": {
      "text/plain": [
       "(52, 4)"
      ]
     },
     "execution_count": 35,
     "metadata": {},
     "output_type": "execute_result"
    },
    {
     "data": {
      "text/plain": [
       "array([[6.3, 3.3, 4.7, 1.6],\n",
       "       [5.9, 3.2, 4.8, 1.8],\n",
       "       [6.7, 3. , 5. , 1.7],\n",
       "       ...,\n",
       "       [6.5, 3. , 5.2, 2. ],\n",
       "       [6.2, 3.4, 5.4, 2.3],\n",
       "       [5.9, 3. , 5.1, 1.8]])"
      ]
     },
     "execution_count": 35,
     "metadata": {},
     "output_type": "execute_result"
    }
   ],
   "source": [
    "# Q. Filter the rows of iris_2d that has petallength (3rd column) > 1.5 and sepallength (1st column) < 5.0\n",
    "\n",
    "# Input\n",
    "# Use the iris dataset provided\n",
    "print_files()\n",
    "\n",
    "# Use this if you are working on your local machine\n",
    "# url = 'https://archive.ics.uci.edu/ml/machine-learning-databases/iris/iris.data'\n",
    "# iris_2d = np.genfromtxt(url, delimiter=',', dtype='float', usecols=[0,1,2,3])\n",
    "\n",
    "# Solution\n",
    "print(\"Solution\")\n",
    "iris = np.genfromtxt('/kaggle/input/iris/Iris.csv', delimiter=',', skip_header=1, usecols = [1, 2, 3, 4])\n",
    "reduce_array = iris[(iris[:,3] > 1.5) & (iris[:,1] < 5)]\n",
    "iris.shape\n",
    "reduce_array.shape\n",
    "reduce_array\n",
    "\n",
    "# Another solution\n",
    "print(\"Using criteria saved as objects\")\n",
    "cond1 = iris[:,3] > 1.5\n",
    "cond2 = iris[:,1] < 5\n",
    "reduce_array2 = iris[cond1 & cond2]\n",
    "reduce_array2.shape\n",
    "reduce_array2\n",
    "\n",
    "# Another solution using reduce\n",
    "print(\"Using reduce\")\n",
    "from functools import reduce\n",
    "criteria = reduce(lambda x, y: x & y, (cond1, cond2))\n",
    "iris[criteria].shape\n",
    "iris[criteria]"
   ]
  },
  {
   "cell_type": "markdown",
   "metadata": {},
   "source": [
    "<a id = 'q35'></a>\n",
    "\n",
    "**35. How to drop rows that contain a missing value from a numpy array?**\n",
    "\n",
    "[Go back to the table of contents](#table_of_contents)"
   ]
  },
  {
   "cell_type": "code",
   "execution_count": 36,
   "metadata": {},
   "outputs": [
    {
     "name": "stdout",
     "output_type": "stream",
     "text": [
      "/kaggle/input/exercise-60-denali-mt-mckinleyjpg/Denali Mt McKinley.jpg\n",
      "/kaggle/input/titanic/gender_submission.csv\n",
      "/kaggle/input/titanic/test.csv\n",
      "/kaggle/input/titanic/train.csv\n",
      "/kaggle/input/iris/Iris.csv\n",
      "/kaggle/input/iris/database.sqlite\n",
      "Solution\n"
     ]
    },
    {
     "data": {
      "text/plain": [
       "array([[ 0.    ,  3.    , 22.    ,  1.    ,  0.    ,  7.25  ],\n",
       "       [ 1.    ,  1.    , 38.    ,  1.    ,  0.    , 71.2833],\n",
       "       [ 1.    ,  3.    , 26.    ,  0.    ,  0.    ,  7.925 ],\n",
       "       ...,\n",
       "       [ 1.    ,  1.    , 19.    ,  0.    ,  0.    , 30.    ],\n",
       "       [ 1.    ,  1.    , 26.    ,  0.    ,  0.    , 30.    ],\n",
       "       [ 0.    ,  3.    , 32.    ,  0.    ,  0.    ,  7.75  ]])"
      ]
     },
     "execution_count": 36,
     "metadata": {},
     "output_type": "execute_result"
    },
    {
     "data": {
      "text/plain": [
       "0"
      ]
     },
     "execution_count": 36,
     "metadata": {},
     "output_type": "execute_result"
    },
    {
     "name": "stdout",
     "output_type": "stream",
     "text": [
      "Solution from the website\n"
     ]
    },
    {
     "data": {
      "text/plain": [
       "array([[ 0.    ,  3.    , 22.    ,  1.    ,  0.    ,  7.25  ],\n",
       "       [ 1.    ,  1.    , 38.    ,  1.    ,  0.    , 71.2833],\n",
       "       [ 1.    ,  3.    , 26.    ,  0.    ,  0.    ,  7.925 ],\n",
       "       ...,\n",
       "       [ 1.    ,  1.    , 19.    ,  0.    ,  0.    , 30.    ],\n",
       "       [ 1.    ,  1.    , 26.    ,  0.    ,  0.    , 30.    ],\n",
       "       [ 0.    ,  3.    , 32.    ,  0.    ,  0.    ,  7.75  ]])"
      ]
     },
     "execution_count": 36,
     "metadata": {},
     "output_type": "execute_result"
    },
    {
     "data": {
      "text/plain": [
       "0"
      ]
     },
     "execution_count": 36,
     "metadata": {},
     "output_type": "execute_result"
    }
   ],
   "source": [
    "# Q. Select the rows of iris_2d that does not have any nan value.\n",
    "\n",
    "# Input\n",
    "# Use the titanic dataset provided\n",
    "print_files()\n",
    "\n",
    "# set original print statements\n",
    "np.set_printoptions(edgeitems=3,infstr='inf', linewidth=75, nanstr='nan', precision=8, suppress=False, threshold=1000, formatter=None)\n",
    "\n",
    "# Solution\n",
    "print(\"Solution\")\n",
    "\n",
    "# Importing the titanic df\n",
    "def import_titanic():\n",
    "    with open(\"/kaggle/input/titanic/train.csv\", \"r\") as f:\n",
    "        data = f.read()\n",
    "        l = []\n",
    "        for row in data.split(\"\\n\")[1:-1]:\n",
    "            r_ = row.split(\",\")\n",
    "            l_ = []\n",
    "            for c in r_:\n",
    "                if c == \"\": \n",
    "                    l_.append(np.nan)\n",
    "                else:\n",
    "                    try:\n",
    "                        l_.append(float(c))\n",
    "                    except:\n",
    "                        l_.append(c)\n",
    "            l.append(l_)\n",
    "    return l\n",
    "\n",
    "l = import_titanic()\n",
    "# only numeric columns\n",
    "a = np.array(l, dtype = object)[:,[1, 2, 6, 7, 8, 10]]\n",
    "# convert to float\n",
    "arr = np.array(a, dtype = float)\n",
    "# select rows with nan values\n",
    "nan_r = np.array([~np.any(np.isnan(row)) for row in arr])\n",
    "# filter the array\n",
    "arr_no_nan = arr[nan_r]\n",
    "arr_no_nan\n",
    "# check: the sum of nans must be zero\n",
    "np.isnan(arr_no_nan).sum()\n",
    "\n",
    "# Solution 2\n",
    "print(\"Solution from the website\")\n",
    "l = import_titanic()\n",
    "a = np.array(l, dtype = object)[:,[1, 2, 6, 7, 8, 10]]\n",
    "arr = np.array(a, dtype = float)\n",
    "arr[np.sum(np.isnan(arr), axis = 1) == 0] # much more elegant solution\n",
    "np.isnan(arr[np.sum(np.isnan(arr), axis = 1) == 0]).sum()"
   ]
  },
  {
   "cell_type": "markdown",
   "metadata": {},
   "source": [
    "<a id = 'q36'></a>\n",
    "**36. How to find the correlation between two columns of a numpy array?**\n",
    "\n",
    "[Go back to the table of contents](#table_of_contents)"
   ]
  },
  {
   "cell_type": "code",
   "execution_count": 37,
   "metadata": {},
   "outputs": [
    {
     "name": "stdout",
     "output_type": "stream",
     "text": [
      "/kaggle/input/exercise-60-denali-mt-mckinleyjpg/Denali Mt McKinley.jpg\n",
      "/kaggle/input/titanic/gender_submission.csv\n",
      "/kaggle/input/titanic/test.csv\n",
      "/kaggle/input/titanic/train.csv\n",
      "/kaggle/input/iris/Iris.csv\n",
      "/kaggle/input/iris/database.sqlite\n",
      "Solution\n"
     ]
    },
    {
     "data": {
      "text/plain": [
       "array([531.53])"
      ]
     },
     "execution_count": 37,
     "metadata": {},
     "output_type": "execute_result"
    },
    {
     "data": {
      "text/plain": [
       "array([[ 1.        , -0.35654409],\n",
       "       [-0.35654409,  1.        ]])"
      ]
     },
     "execution_count": 37,
     "metadata": {},
     "output_type": "execute_result"
    },
    {
     "name": "stdout",
     "output_type": "stream",
     "text": [
      "Solution from the website using scipy\n",
      "-0.3565440896138058\n",
      "7.523890956067452e-06\n"
     ]
    }
   ],
   "source": [
    "# Q. Find the correlation between SepalLength(1st column) and PetalLength(3rd column) in iris_2d\n",
    "\n",
    "# Input\n",
    "# Use the iris dataset provided\n",
    "print_files()\n",
    "\n",
    "# Use this if you are working on your local machine\n",
    "# url = 'https://archive.ics.uci.edu/ml/machine-learning-databases/iris/iris.data'\n",
    "# iris_2d = np.genfromtxt(url, delimiter=',', dtype='float', usecols=[0,1,2,3])\n",
    "\n",
    "# Solution\n",
    "print(\"Solution\")\n",
    "iris = np.genfromtxt('/kaggle/input/iris/Iris.csv', delimiter=',', skip_header=1, usecols = [1, 2, 3, 4])\n",
    "np.correlate(iris[:,1], iris[:,3]) # This function computes the correlation as generally defined in signal processing texts: c_{av}[k] = sum_n a[n+k] * conj(v[n])\n",
    "np.corrcoef(iris[:,1], iris[:,3]) # Pearson correlation\n",
    "\n",
    "# Solution from the website\n",
    "print(\"Solution from the website using scipy\")\n",
    "from scipy.stats.stats import pearsonr  \n",
    "corr, p_value = pearsonr(iris[:, 1], iris[:, 3])\n",
    "print(corr)\n",
    "print(p_value)"
   ]
  },
  {
   "cell_type": "markdown",
   "metadata": {},
   "source": [
    "<a id = 'q37'></a>\n",
    "**37. How to find if a given array has any null values?**\n",
    "\n",
    "[Go back to the table of contents](#table_of_contents)"
   ]
  },
  {
   "cell_type": "code",
   "execution_count": 38,
   "metadata": {},
   "outputs": [
    {
     "name": "stdout",
     "output_type": "stream",
     "text": [
      "/kaggle/input/exercise-60-denali-mt-mckinleyjpg/Denali Mt McKinley.jpg\n",
      "/kaggle/input/titanic/gender_submission.csv\n",
      "/kaggle/input/titanic/test.csv\n",
      "/kaggle/input/titanic/train.csv\n",
      "/kaggle/input/iris/Iris.csv\n",
      "/kaggle/input/iris/database.sqlite\n",
      "Solution\n",
      "It's True that we have nan values. The total amout of nan values is 20\n"
     ]
    }
   ],
   "source": [
    "# Q. Find out if iris_2d has any missing values.\n",
    "\n",
    "# Input\n",
    "# Use the iris dataset provided\n",
    "print_files()\n",
    "\n",
    "# Use this if you are working on your local machine\n",
    "# url = 'https://archive.ics.uci.edu/ml/machine-learning-databases/iris/iris.data'\n",
    "# iris_2d = np.genfromtxt(url, delimiter=',', dtype='float', usecols=[0,1,2,3])\n",
    "\n",
    "# Solution\n",
    "print(\"Solution\")\n",
    "iris = np.genfromtxt(\"/kaggle/input/iris/Iris.csv\", delimiter=\",\",  dtype='float', usecols=[1,2,3,4], skip_header=1)\n",
    "iris[np.random.randint(150, size=20), np.random.randint(4, size=20)] = np.nan # inser some null values\n",
    "\n",
    "print(\"It's {} that we have nan values. The total amout of nan values is {}\".format(np.any(np.isnan(iris)), np.isnan(iris).sum())) # first returns True second the total of nan values\n"
   ]
  },
  {
   "cell_type": "markdown",
   "metadata": {},
   "source": [
    "<a id = 'q38'></a>\n",
    "\n",
    "**38. How to replace all missing values with 0 in a numpy array?**\n",
    "\n",
    "[Go back to the table of contents](#table_of_contents)\n"
   ]
  },
  {
   "cell_type": "code",
   "execution_count": 39,
   "metadata": {},
   "outputs": [
    {
     "name": "stdout",
     "output_type": "stream",
     "text": [
      "/kaggle/input/exercise-60-denali-mt-mckinleyjpg/Denali Mt McKinley.jpg\n",
      "/kaggle/input/titanic/gender_submission.csv\n",
      "/kaggle/input/titanic/test.csv\n",
      "/kaggle/input/titanic/train.csv\n",
      "/kaggle/input/iris/Iris.csv\n",
      "/kaggle/input/iris/database.sqlite\n",
      "Solution\n",
      "Before applying nan_to_num.\n"
     ]
    },
    {
     "data": {
      "text/plain": [
       "20"
      ]
     },
     "execution_count": 39,
     "metadata": {},
     "output_type": "execute_result"
    },
    {
     "name": "stdout",
     "output_type": "stream",
     "text": [
      "After applying nan_to_num.\n"
     ]
    },
    {
     "data": {
      "text/plain": [
       "0"
      ]
     },
     "execution_count": 39,
     "metadata": {},
     "output_type": "execute_result"
    },
    {
     "name": "stdout",
     "output_type": "stream",
     "text": [
      "Solution from the website\n"
     ]
    },
    {
     "data": {
      "text/plain": [
       "19"
      ]
     },
     "execution_count": 39,
     "metadata": {},
     "output_type": "execute_result"
    },
    {
     "data": {
      "text/plain": [
       "0"
      ]
     },
     "execution_count": 39,
     "metadata": {},
     "output_type": "execute_result"
    }
   ],
   "source": [
    "# Q. Replace all ccurrences of nan with 0 in numpy array\n",
    "\n",
    "# Input\n",
    "# Use the iris dataset provided\n",
    "print_files()\n",
    "\n",
    "# Use this if you are working on your local machine\n",
    "# url = 'https://archive.ics.uci.edu/ml/machine-learning-databases/iris/iris.data'\n",
    "# iris_2d = np.genfromtxt(url, delimiter=',', dtype='float', usecols=[0,1,2,3])\n",
    "# iris_2d[np.random.randint(150, size=20), np.random.randint(4, size=20)] = np.nan\n",
    "\n",
    "# Solution\n",
    "print(\"Solution\")\n",
    "iris = np.genfromtxt(\"/kaggle/input/iris/Iris.csv\", delimiter=\",\",  dtype='float', usecols=[1,2,3,4], skip_header=1)\n",
    "iris[np.random.randint(150, size=20), np.random.randint(4, size=20)] = np.nan # inser some null values\n",
    "\n",
    "print(\"Before applying nan_to_num.\")\n",
    "np.isnan(iris).sum()\n",
    "a = np.nan_to_num(iris, 0)\n",
    "print(\"After applying nan_to_num.\")\n",
    "np.isnan(a).sum()\n",
    "\n",
    "# Solution from the website\n",
    "print(\"Solution from the website\")\n",
    "iris = np.genfromtxt(\"/kaggle/input/iris/Iris.csv\", delimiter=\",\",  dtype='float', usecols=[1,2,3,4], skip_header=1)\n",
    "iris[np.random.randint(150, size=20), np.random.randint(4, size=20)] = np.nan # inser some null values\n",
    "np.isnan(iris).sum()\n",
    "iris[np.isnan(iris)] = 0\n",
    "np.isnan(a).sum()"
   ]
  },
  {
   "cell_type": "markdown",
   "metadata": {},
   "source": [
    "<a id = 'q39'></a>\n",
    "**39. How to find the count of unique values in a numpy array?**\n",
    "\n",
    "[Go back to the table of contents](#table_of_contents)\n"
   ]
  },
  {
   "cell_type": "code",
   "execution_count": 40,
   "metadata": {},
   "outputs": [
    {
     "name": "stdout",
     "output_type": "stream",
     "text": [
      "/kaggle/input/exercise-60-denali-mt-mckinleyjpg/Denali Mt McKinley.jpg\n",
      "/kaggle/input/titanic/gender_submission.csv\n",
      "/kaggle/input/titanic/test.csv\n",
      "/kaggle/input/titanic/train.csv\n",
      "/kaggle/input/iris/Iris.csv\n",
      "/kaggle/input/iris/database.sqlite\n",
      "Solution using list comprehension\n"
     ]
    },
    {
     "data": {
      "text/plain": [
       "[(b'Iris-setosa', 50), (b'Iris-versicolor', 50), (b'Iris-virginica', 50)]"
      ]
     },
     "execution_count": 40,
     "metadata": {},
     "output_type": "execute_result"
    },
    {
     "name": "stdout",
     "output_type": "stream",
     "text": [
      "Solution from the website\n"
     ]
    },
    {
     "data": {
      "text/plain": [
       "(array([b'Iris-setosa', b'Iris-versicolor', b'Iris-virginica'],\n",
       "       dtype='|S15'), array([50, 50, 50]))"
      ]
     },
     "execution_count": 40,
     "metadata": {},
     "output_type": "execute_result"
    }
   ],
   "source": [
    "# Q. Find the unique values and the count of unique values in iris's species\n",
    "\n",
    "# Input\n",
    "# Use the iris dataset provided\n",
    "print_files()\n",
    "\n",
    "# Use this if you are working on your local machine\n",
    "# url = 'https://archive.ics.uci.edu/ml/machine-learning-databases/iris/iris.data'\n",
    "# iris_2d = np.genfromtxt(url, delimiter=',', dtype='float', usecols=[0,1,2,3])\n",
    "# names = ('sepallength', 'sepalwidth', 'petallength', 'petalwidth', 'species')\n",
    "\n",
    "# Solution\n",
    "print(\"Solution using list comprehension\")\n",
    "iris = np.genfromtxt(\"/kaggle/input/iris/Iris.csv\", delimiter = \",\", usecols=[5], dtype=object, skip_header=1)\n",
    "l = [(v, np.count_nonzero(iris[iris == v])) for v in np.unique(iris)]\n",
    "l\n",
    "\n",
    "# Solution from the website\n",
    "print(\"Solution from the website\")\n",
    "iris = np.genfromtxt(\"/kaggle/input/iris/Iris.csv\", delimiter = \",\", usecols=[5], dtype=object, skip_header=1)\n",
    "np.unique([v for v in iris], return_counts=True) # much more elegant"
   ]
  },
  {
   "cell_type": "markdown",
   "metadata": {},
   "source": [
    "<a id = 'q40'></a>\n",
    "\n",
    "**40. How to convert a numeric to a categorical (text) array?**\n",
    "\n",
    "[Go back to the table of contents](#table_of_contents)\n"
   ]
  },
  {
   "cell_type": "code",
   "execution_count": 41,
   "metadata": {},
   "outputs": [
    {
     "name": "stdout",
     "output_type": "stream",
     "text": [
      "/kaggle/input/exercise-60-denali-mt-mckinleyjpg/Denali Mt McKinley.jpg\n",
      "/kaggle/input/titanic/gender_submission.csv\n",
      "/kaggle/input/titanic/test.csv\n",
      "/kaggle/input/titanic/train.csv\n",
      "/kaggle/input/iris/Iris.csv\n",
      "/kaggle/input/iris/database.sqlite\n",
      "Solution\n"
     ]
    },
    {
     "data": {
      "text/plain": [
       "array([1, 1, 1, 1, 1, 1, 1, 1, 1, 1, 1, 1, 1, 1, 1, 1, 1, 1, 1, 1, 1, 1,\n",
       "       1, 1, 1, 1, 1, 1, 1, 1, 1, 1, 1, 1, 1, 1, 1, 1, 1, 1, 1, 1, 1, 1,\n",
       "       1, 1, 1, 1, 1, 1, 2, 2, 2, 2, 2, 2, 2, 2, 2, 2, 2, 2, 2, 2, 2, 2,\n",
       "       2, 2, 2, 2, 2, 2, 2, 2, 2, 2, 2, 3, 2, 2, 2, 2, 2, 3, 2, 2, 2, 2,\n",
       "       2, 2, 2, 2, 2, 2, 2, 2, 2, 2, 2, 2, 3, 3, 3, 3, 3, 3, 2, 3, 3, 3,\n",
       "       3, 3, 3, 3, 3, 3, 3, 3, 3, 3, 3, 2, 3, 2, 3, 3, 2, 2, 3, 3, 3, 3,\n",
       "       3, 3, 3, 3, 3, 3, 2, 3, 3, 3, 3, 3, 3, 3, 3, 3, 3, 3])"
      ]
     },
     "execution_count": 41,
     "metadata": {},
     "output_type": "execute_result"
    },
    {
     "data": {
      "text/plain": [
       "['small', 'small', 'small', 'small', 'small']"
      ]
     },
     "execution_count": 41,
     "metadata": {},
     "output_type": "execute_result"
    }
   ],
   "source": [
    "# Q. Bin the petal length (3rd) column of iris_2d to form a text array, such that if petal length is:\n",
    "# Less than 3 --> 'small'\n",
    "# 3-5 --> 'medium'\n",
    "# '>=5 --> 'large'\n",
    "\n",
    "# Input\n",
    "# Use the iris dataset provided\n",
    "print_files()\n",
    "\n",
    "# Use this if you are working on your local machine\n",
    "# url = 'https://archive.ics.uci.edu/ml/machine-learning-databases/iris/iris.data'\n",
    "# iris_2d = np.genfromtxt(url, delimiter=',', dtype='float', usecols=[0,1,2,3])\n",
    "# names = ('sepallength', 'sepalwidth', 'petallength', 'petalwidth', 'species')\n",
    "\n",
    "# Solution\n",
    "print(\"Solution\")\n",
    "iris = np.genfromtxt(\"/kaggle/input/iris/Iris.csv\", delimiter = \",\", usecols=[3], dtype=float, skip_header=1)\n",
    "bin_ = np.digitize(iris.astype('float'), [0, 3, 5, 10])\n",
    "bin_\n",
    "label_map = {1: 'small', 2: 'medium', 3: 'large', 4: np.nan}\n",
    "cat_ = [label_map[x] for x in bin_]\n",
    "cat_[:5]"
   ]
  },
  {
   "cell_type": "markdown",
   "metadata": {},
   "source": [
    "<a id = 'q41'></a>\n",
    "**41. How to create a new column from existing columns of a numpy array?**\n",
    "\n",
    "[Go back to the table of contents](#table_of_contents)\n"
   ]
  },
  {
   "cell_type": "code",
   "execution_count": 42,
   "metadata": {},
   "outputs": [
    {
     "name": "stdout",
     "output_type": "stream",
     "text": [
      "/kaggle/input/exercise-60-denali-mt-mckinleyjpg/Denali Mt McKinley.jpg\n",
      "/kaggle/input/titanic/gender_submission.csv\n",
      "/kaggle/input/titanic/test.csv\n",
      "/kaggle/input/titanic/train.csv\n",
      "/kaggle/input/iris/Iris.csv\n",
      "/kaggle/input/iris/database.sqlite\n",
      "Solution: use numpy.c_[] for columns\n"
     ]
    },
    {
     "data": {
      "text/plain": [
       "(150, 2)"
      ]
     },
     "execution_count": 42,
     "metadata": {},
     "output_type": "execute_result"
    },
    {
     "data": {
      "text/plain": [
       "(150, 3)"
      ]
     },
     "execution_count": 42,
     "metadata": {},
     "output_type": "execute_result"
    },
    {
     "data": {
      "text/plain": [
       "array([[3.5       , 1.4       , 7.18013333],\n",
       "       [3.        , 1.4       , 6.1544    ],\n",
       "       [3.2       , 1.3       , 5.66037333],\n",
       "       [3.1       , 1.5       , 7.3005    ],\n",
       "       [3.6       , 1.4       , 7.38528   ]])"
      ]
     },
     "execution_count": 42,
     "metadata": {},
     "output_type": "execute_result"
    },
    {
     "name": "stdout",
     "output_type": "stream",
     "text": [
      "Solution from website\n"
     ]
    },
    {
     "data": {
      "text/plain": [
       "array([[3.5       , 1.4       , 7.1837752 ],\n",
       "       [3.        , 1.4       , 6.1575216 ],\n",
       "       [3.2       , 1.3       , 5.66324436],\n",
       "       [3.1       , 1.5       , 7.30420292]])"
      ]
     },
     "execution_count": 42,
     "metadata": {},
     "output_type": "execute_result"
    }
   ],
   "source": [
    "# Q. Create a new column for volume in iris_2d, where volume is (pi x petallength x sepal_length^2)/3\n",
    "\n",
    "# Input\n",
    "# Use the iris dataset provided\n",
    "print_files()\n",
    "\n",
    "# Use this if you are working on your local machine\n",
    "# url = 'https://archive.ics.uci.edu/ml/machine-learning-databases/iris/iris.data'\n",
    "# iris_2d = np.genfromtxt(url, delimiter=',', dtype='float', usecols=[0,1,2,3])\n",
    "# names = ('sepallength', 'sepalwidth', 'petallength', 'petalwidth', 'species')\n",
    "\n",
    "# Solution\n",
    "print(\"Solution: use numpy.c_[] for columns\")\n",
    "iris = np.genfromtxt(\"/kaggle/input/iris/Iris.csv\", delimiter = \",\", usecols=[2, 3], dtype=float, skip_header=1)\n",
    "iris.shape\n",
    "iris = np.c_[iris, (np.array(iris[:,0] * 3.14 * (iris[:,1])**2))/3]\n",
    "iris.shape\n",
    "iris[:5]\n",
    "\n",
    "# Solution from the website\n",
    "print(\"Solution from website\")\n",
    "iris = np.genfromtxt(\"/kaggle/input/iris/Iris.csv\", delimiter = \",\", usecols=[2, 3], dtype=float, skip_header=1)\n",
    "s = iris[:, 1]\n",
    "p = iris[:, 0]\n",
    "volume = (np.pi * p * (s**2))/3\n",
    "# Introduce new dimension to match iris_2d's\n",
    "volume = volume[:, np.newaxis]\n",
    "# Add the new column\n",
    "out = np.hstack([iris, volume])\n",
    "# View\n",
    "out[:4]"
   ]
  },
  {
   "cell_type": "markdown",
   "metadata": {},
   "source": [
    "<a id = 'q42'></a>\n",
    "**42. How to do probabilistic sampling in numpy?**\n",
    "\n",
    "[Go back to the table of contents](#table_of_contents)\n"
   ]
  },
  {
   "cell_type": "code",
   "execution_count": 43,
   "metadata": {},
   "outputs": [
    {
     "name": "stdout",
     "output_type": "stream",
     "text": [
      "/kaggle/input/exercise-60-denali-mt-mckinleyjpg/Denali Mt McKinley.jpg\n",
      "/kaggle/input/titanic/gender_submission.csv\n",
      "/kaggle/input/titanic/test.csv\n",
      "/kaggle/input/titanic/train.csv\n",
      "/kaggle/input/iris/Iris.csv\n",
      "/kaggle/input/iris/database.sqlite\n",
      "Solution from the website\n",
      "Solution 1: generate probablistically\n"
     ]
    },
    {
     "data": {
      "text/plain": [
       "array(['Iris-versicolor', 'Iris-setosa', 'Iris-setosa', 'Iris-virginica',\n",
       "       'Iris-setosa', 'Iris-setosa', 'Iris-versicolor', 'Iris-virginica',\n",
       "       'Iris-setosa', 'Iris-versicolor', 'Iris-virginica', 'Iris-setosa',\n",
       "       'Iris-setosa', 'Iris-setosa', 'Iris-setosa', 'Iris-virginica',\n",
       "       'Iris-virginica', 'Iris-setosa', 'Iris-virginica', 'Iris-setosa',\n",
       "       'Iris-setosa', 'Iris-virginica', 'Iris-virginica', 'Iris-setosa',\n",
       "       'Iris-setosa', 'Iris-setosa', 'Iris-setosa', 'Iris-setosa',\n",
       "       'Iris-virginica', 'Iris-setosa', 'Iris-versicolor',\n",
       "       'Iris-versicolor', 'Iris-setosa', 'Iris-setosa', 'Iris-setosa',\n",
       "       'Iris-virginica', 'Iris-virginica', 'Iris-setosa',\n",
       "       'Iris-virginica', 'Iris-versicolor', 'Iris-versicolor',\n",
       "       'Iris-versicolor', 'Iris-versicolor', 'Iris-setosa', 'Iris-setosa',\n",
       "       'Iris-versicolor', 'Iris-virginica', 'Iris-setosa', 'Iris-setosa',\n",
       "       'Iris-virginica', 'Iris-virginica', 'Iris-virginica',\n",
       "       'Iris-setosa', 'Iris-versicolor', 'Iris-setosa', 'Iris-setosa',\n",
       "       'Iris-setosa', 'Iris-setosa', 'Iris-setosa', 'Iris-versicolor',\n",
       "       'Iris-setosa', 'Iris-versicolor', 'Iris-versicolor', 'Iris-setosa',\n",
       "       'Iris-virginica', 'Iris-virginica', 'Iris-versicolor',\n",
       "       'Iris-setosa', 'Iris-setosa', 'Iris-setosa', 'Iris-setosa',\n",
       "       'Iris-setosa', 'Iris-setosa', 'Iris-virginica', 'Iris-virginica',\n",
       "       'Iris-versicolor', 'Iris-versicolor', 'Iris-setosa', 'Iris-setosa',\n",
       "       'Iris-setosa', 'Iris-versicolor', 'Iris-setosa', 'Iris-versicolor',\n",
       "       'Iris-virginica', 'Iris-setosa', 'Iris-setosa', 'Iris-virginica',\n",
       "       'Iris-virginica', 'Iris-setosa', 'Iris-versicolor',\n",
       "       'Iris-versicolor', 'Iris-setosa', 'Iris-setosa', 'Iris-setosa',\n",
       "       'Iris-setosa', 'Iris-versicolor', 'Iris-setosa', 'Iris-versicolor',\n",
       "       'Iris-setosa', 'Iris-versicolor', 'Iris-virginica',\n",
       "       'Iris-virginica', 'Iris-versicolor', 'Iris-setosa',\n",
       "       'Iris-versicolor', 'Iris-virginica', 'Iris-versicolor',\n",
       "       'Iris-virginica', 'Iris-virginica', 'Iris-setosa', 'Iris-setosa',\n",
       "       'Iris-setosa', 'Iris-virginica', 'Iris-virginica', 'Iris-setosa',\n",
       "       'Iris-setosa', 'Iris-versicolor', 'Iris-setosa', 'Iris-setosa',\n",
       "       'Iris-versicolor', 'Iris-versicolor', 'Iris-versicolor',\n",
       "       'Iris-versicolor', 'Iris-setosa', 'Iris-setosa', 'Iris-setosa',\n",
       "       'Iris-setosa', 'Iris-setosa', 'Iris-versicolor', 'Iris-setosa',\n",
       "       'Iris-setosa', 'Iris-setosa', 'Iris-virginica', 'Iris-setosa',\n",
       "       'Iris-setosa', 'Iris-setosa', 'Iris-versicolor', 'Iris-virginica',\n",
       "       'Iris-virginica', 'Iris-virginica', 'Iris-setosa',\n",
       "       'Iris-versicolor', 'Iris-versicolor', 'Iris-setosa',\n",
       "       'Iris-virginica', 'Iris-setosa', 'Iris-virginica',\n",
       "       'Iris-versicolor', 'Iris-setosa', 'Iris-setosa'], dtype='<U15')"
      ]
     },
     "execution_count": 43,
     "metadata": {},
     "output_type": "execute_result"
    },
    {
     "name": "stdout",
     "output_type": "stream",
     "text": [
      "Solution 2: probablistic sampling\n",
      "(array([b'Iris-setosa', b'Iris-versicolor', b'Iris-virginica'],\n",
      "      dtype=object), array([77, 37, 36]))\n"
     ]
    }
   ],
   "source": [
    "# Q. Randomly sample iris's species such that setose is twice the number of versicolor and virginica\n",
    "\n",
    "# Input\n",
    "# Use the iris dataset provided\n",
    "print_files()\n",
    "\n",
    "# Use this if you are working on your local machine\n",
    "# url = 'https://archive.ics.uci.edu/ml/machine-learning-databases/iris/iris.data'\n",
    "# iris = np.genfromtxt(url, delimiter=',', dtype='object')\n",
    "\n",
    "# Solution from the website\n",
    "print(\"Solution from the website\")\n",
    "iris = np.genfromtxt(\"/kaggle/input/iris/Iris.csv\", delimiter = \",\", dtype=object, skip_header=1)\n",
    "# Get the species column\n",
    "species = iris[:, 5]\n",
    "\n",
    "# Approach 1: Generate Probablistically\n",
    "print(\"Solution 1: generate probablistically\")\n",
    "np.random.seed(100)\n",
    "a = np.array(['Iris-setosa', 'Iris-versicolor', 'Iris-virginica'])\n",
    "species_out = np.random.choice(a, 150, p=[0.5, 0.25, 0.25])\n",
    "species_out\n",
    "\n",
    "# Approach 2: Probablistic Sampling (preferred)\n",
    "print(\"Solution 2: probablistic sampling\")\n",
    "np.random.seed(100)\n",
    "probs = np.r_[np.linspace(0, 0.500, num=50), np.linspace(0.501, .750, num=50), np.linspace(.751, 1.0, num=50)]\n",
    "index = np.searchsorted(probs, np.random.random(150))\n",
    "species_out = species[index]\n",
    "print(np.unique(species_out, return_counts=True))"
   ]
  },
  {
   "cell_type": "markdown",
   "metadata": {},
   "source": [
    "<a id = 'q43'></a>\n",
    "**43. How to get the second largest value of an array when grouped by another array?**\n",
    "\n",
    "[Go back to the table of contents](#table_of_contents)\n"
   ]
  },
  {
   "cell_type": "code",
   "execution_count": 44,
   "metadata": {},
   "outputs": [
    {
     "name": "stdout",
     "output_type": "stream",
     "text": [
      "/kaggle/input/exercise-60-denali-mt-mckinleyjpg/Denali Mt McKinley.jpg\n",
      "/kaggle/input/titanic/gender_submission.csv\n",
      "/kaggle/input/titanic/test.csv\n",
      "/kaggle/input/titanic/train.csv\n",
      "/kaggle/input/iris/Iris.csv\n",
      "/kaggle/input/iris/database.sqlite\n",
      "Solution\n"
     ]
    },
    {
     "data": {
      "text/plain": [
       "array([b'Id', b'SepalLengthCm', b'SepalWidthCm', b'PetalLengthCm',\n",
       "       b'PetalWidthCm', b'Species'], dtype=object)"
      ]
     },
     "execution_count": 44,
     "metadata": {},
     "output_type": "execute_result"
    },
    {
     "data": {
      "text/plain": [
       "1.7"
      ]
     },
     "execution_count": 44,
     "metadata": {},
     "output_type": "execute_result"
    },
    {
     "name": "stdout",
     "output_type": "stream",
     "text": [
      "Solution from the website\n"
     ]
    },
    {
     "data": {
      "text/plain": [
       "1.7"
      ]
     },
     "execution_count": 44,
     "metadata": {},
     "output_type": "execute_result"
    }
   ],
   "source": [
    "# Q. What is the value of second longest petallength of species setosa\n",
    "\n",
    "# Input\n",
    "# Use the iris dataset provided\n",
    "print_files()\n",
    "\n",
    "# Use this if you are working on your local machine\n",
    "# url = 'https://archive.ics.uci.edu/ml/machine-learning-databases/iris/iris.data'\n",
    "# iris_2d = np.genfromtxt(url, delimiter=',', dtype='float', usecols=[0,1,2,3])\n",
    "# names = ('sepallength', 'sepalwidth', 'petallength', 'petalwidth', 'species')\n",
    "\n",
    "# Solution\n",
    "print(\"Solution\")\n",
    "headers = np.genfromtxt(\"/kaggle/input/iris/Iris.csv\", delimiter = \",\", dtype=object, skip_header=0)\n",
    "headers[0]\n",
    "iris = np.genfromtxt(\"/kaggle/input/iris/Iris.csv\", delimiter = \",\", dtype=object, skip_header=1)\n",
    "# iris\n",
    "sorted_iris = iris[iris[:,5] == b'Iris-setosa'][:,3]\n",
    "sorted_iris = sorted_iris.astype(float)\n",
    "sorted_iris = np.unique(sorted_iris)\n",
    "sorted_iris.sort()\n",
    "sorted_iris[::-1][1]\n",
    "\n",
    "# Solution from the website\n",
    "print(\"Solution from the website\")\n",
    "iris = np.genfromtxt(\"/kaggle/input/iris/Iris.csv\", delimiter = \",\", dtype=object, skip_header=1)\n",
    "petal_len_setosa = iris[iris[:, 5] == b'Iris-setosa', [3]].astype('float')\n",
    "np.unique(np.sort(petal_len_setosa))[-2]"
   ]
  },
  {
   "cell_type": "markdown",
   "metadata": {},
   "source": [
    "<a id = 'q44'></a>\n",
    "**44. How to sort a 2D array by a column**\n",
    "\n",
    "[Go back to the table of contents](#table_of_contents)\n"
   ]
  },
  {
   "cell_type": "code",
   "execution_count": 45,
   "metadata": {},
   "outputs": [
    {
     "name": "stdout",
     "output_type": "stream",
     "text": [
      "/kaggle/input/exercise-60-denali-mt-mckinleyjpg/Denali Mt McKinley.jpg\n",
      "/kaggle/input/titanic/gender_submission.csv\n",
      "/kaggle/input/titanic/test.csv\n",
      "/kaggle/input/titanic/train.csv\n",
      "/kaggle/input/iris/Iris.csv\n",
      "/kaggle/input/iris/database.sqlite\n",
      "Solution\n",
      "[b'Id', b'SepalLengthCm', b'SepalWidthCm', b'PetalLengthCm', b'PetalWidthCm', b'Species']\n"
     ]
    },
    {
     "data": {
      "text/plain": [
       "array([[14. ,  4.3,  3. ,  1.1,  0.1],\n",
       "       [43. ,  4.4,  3.2,  1.3,  0.2],\n",
       "       [39. ,  4.4,  3. ,  1.3,  0.2],\n",
       "       [ 9. ,  4.4,  2.9,  1.4,  0.2],\n",
       "       [42. ,  4.5,  2.3,  1.3,  0.3]])"
      ]
     },
     "execution_count": 45,
     "metadata": {},
     "output_type": "execute_result"
    },
    {
     "name": "stdout",
     "output_type": "stream",
     "text": [
      "Solution from the website\n",
      "[[14.   4.3  3.   1.1  0.1]\n",
      " [43.   4.4  3.2  1.3  0.2]\n",
      " [39.   4.4  3.   1.3  0.2]\n",
      " [ 9.   4.4  2.9  1.4  0.2]\n",
      " [42.   4.5  2.3  1.3  0.3]]\n"
     ]
    }
   ],
   "source": [
    "# Q. Sort the iris dataset based on sepallength column.\n",
    "\n",
    "# Input\n",
    "# Use the iris dataset provided\n",
    "print_files()\n",
    "\n",
    "# Use this if you are working on your local machine\n",
    "# url = 'https://archive.ics.uci.edu/ml/machine-learning-databases/iris/iris.data'\n",
    "# iris = np.genfromtxt(url, delimiter=',', dtype='object')\n",
    "# names = ('sepallength', 'sepalwidth', 'petallength', 'petalwidth', 'species')\n",
    "\n",
    "# Solution\n",
    "print(\"Solution\")\n",
    "headers = np.genfromtxt(\"/kaggle/input/iris/Iris.csv\", delimiter = \",\", dtype=object, skip_header=0)\n",
    "print(list(headers[0]))\n",
    "iris = np.genfromtxt(\"/kaggle/input/iris/Iris.csv\", delimiter = \",\", usecols=[0,1,2,3,4], skip_header=1)\n",
    "iris[iris[:,1].argsort()][:5]\n",
    "\n",
    "# Solution from the website\n",
    "print(\"Solution from the website\")\n",
    "print(iris[iris[:,1].argsort()][:5]) # same solution"
   ]
  },
  {
   "cell_type": "markdown",
   "metadata": {},
   "source": [
    "<a id = 'q45'></a>\n",
    "**45. How to find the most frequent value in a numpy array?**\n",
    "\n",
    "[Go back to the table of contents](#table_of_contents)\n"
   ]
  },
  {
   "cell_type": "code",
   "execution_count": 46,
   "metadata": {},
   "outputs": [
    {
     "name": "stdout",
     "output_type": "stream",
     "text": [
      "/kaggle/input/exercise-60-denali-mt-mckinleyjpg/Denali Mt McKinley.jpg\n",
      "/kaggle/input/titanic/gender_submission.csv\n",
      "/kaggle/input/titanic/test.csv\n",
      "/kaggle/input/titanic/train.csv\n",
      "/kaggle/input/iris/Iris.csv\n",
      "/kaggle/input/iris/database.sqlite\n",
      "Solution\n",
      "[b'Id', b'SepalLengthCm', b'SepalWidthCm', b'PetalLengthCm', b'PetalWidthCm', b'Species']\n"
     ]
    },
    {
     "data": {
      "text/plain": [
       "(0.2, 28)"
      ]
     },
     "execution_count": 46,
     "metadata": {},
     "output_type": "execute_result"
    },
    {
     "name": "stdout",
     "output_type": "stream",
     "text": [
      "Solution from the website\n",
      "0.2\n"
     ]
    }
   ],
   "source": [
    "# Q. Find the most frequent value of petal length (3rd column) in iris dataset.\n",
    "\n",
    "# Input\n",
    "# Use the iris dataset provided\n",
    "print_files()\n",
    "\n",
    "# Use this if you are working on your local machine\n",
    "# url = 'https://archive.ics.uci.edu/ml/machine-learning-databases/iris/iris.data'\n",
    "# iris = np.genfromtxt(url, delimiter=',', dtype='object')\n",
    "# names = ('sepallength', 'sepalwidth', 'petallength', 'petalwidth', 'species')\n",
    "\n",
    "# Solution\n",
    "np.set_printoptions(edgeitems=3,infstr='inf', linewidth=75, nanstr='nan', precision=3, suppress=False, threshold=1000, formatter=None)\n",
    "print(\"Solution\")\n",
    "headers = np.genfromtxt(\"/kaggle/input/iris/Iris.csv\", delimiter = \",\", dtype=object, skip_header=0)\n",
    "print(list(headers[0]))\n",
    "iris = np.genfromtxt(\"/kaggle/input/iris/Iris.csv\", delimiter = \",\", usecols=[4], skip_header=1)\n",
    "counts = np.unique([v for v in iris], return_counts=True) # we have a tuple of arrays\n",
    "sort_list = sorted(list(zip(counts[0], counts[1])), key = lambda x: x[1]) # extract the values and counts, zip them and sort by the counts\n",
    "sort_list[::-1][0] #reverse the list and get the first (most frequent) the most frequent value of petal lenght is 0.2, it has ocurred 28 times\n",
    "\n",
    "# Solution from the website\n",
    "print(\"Solution from the website\")\n",
    "vals, counts = np.unique(iris, return_counts=True)\n",
    "print(vals[np.argmax(counts)]) # much more elegant solution"
   ]
  },
  {
   "cell_type": "markdown",
   "metadata": {},
   "source": [
    "<a id = 'q46'></a>\n",
    "**46. How to find the position of the first occurrence of a value greater than a given value?**\n",
    "\n",
    "[Go back to the table of contents](#table_of_contents)\n"
   ]
  },
  {
   "cell_type": "code",
   "execution_count": 47,
   "metadata": {},
   "outputs": [
    {
     "name": "stdout",
     "output_type": "stream",
     "text": [
      "Input\n",
      "/kaggle/input/exercise-60-denali-mt-mckinleyjpg/Denali Mt McKinley.jpg\n",
      "/kaggle/input/titanic/gender_submission.csv\n",
      "/kaggle/input/titanic/test.csv\n",
      "/kaggle/input/titanic/train.csv\n",
      "/kaggle/input/iris/Iris.csv\n",
      "/kaggle/input/iris/database.sqlite\n",
      "Solution\n"
     ]
    },
    {
     "data": {
      "text/plain": [
       "(array([ 50,  51,  52,  53,  54,  55,  56,  58,  59,  61,  63,  64,  65,\n",
       "         66,  68,  69,  70,  71,  72,  73,  74,  75,  76,  77,  78,  80,\n",
       "         82,  83,  84,  85,  86,  87,  88,  89,  90,  91,  92,  94,  95,\n",
       "         96,  97,  98,  99, 100, 101, 102, 103, 104, 105, 106, 107, 108,\n",
       "        109, 110, 111, 112, 113, 114, 115, 116, 117, 118, 119, 120, 121,\n",
       "        122, 123, 124, 125, 126, 127, 128, 129, 130, 131, 132, 133, 134,\n",
       "        135, 136, 137, 138, 139, 140, 141, 142, 143, 144, 145, 146, 147,\n",
       "        148, 149]),)"
      ]
     },
     "execution_count": 47,
     "metadata": {},
     "output_type": "execute_result"
    },
    {
     "data": {
      "text/plain": [
       "1.4"
      ]
     },
     "execution_count": 47,
     "metadata": {},
     "output_type": "execute_result"
    },
    {
     "data": {
      "text/plain": [
       "array([0.2, 0.2, 0.2, 0.2, 0.2, 0.4, 0.3, 0.2, 0.2, 0.1, 0.2, 0.2, 0.1,\n",
       "       0.1, 0.2, 0.4, 0.4, 0.3, 0.3, 0.3, 0.2, 0.4, 0.2, 0.5, 0.2, 0.2,\n",
       "       0.4, 0.2, 0.2, 0.2, 0.2, 0.4, 0.1, 0.2, 0.1, 0.2, 0.2, 0.1, 0.2,\n",
       "       0.2, 0.3, 0.3, 0.2, 0.6, 0.4, 0.3, 0.2, 0.2, 0.2, 0.2, 1.4])"
      ]
     },
     "execution_count": 47,
     "metadata": {},
     "output_type": "execute_result"
    },
    {
     "name": "stdout",
     "output_type": "stream",
     "text": [
      "Solution from website\n"
     ]
    },
    {
     "data": {
      "text/plain": [
       "array([50])"
      ]
     },
     "execution_count": 47,
     "metadata": {},
     "output_type": "execute_result"
    }
   ],
   "source": [
    "# Q. Find the position of the first occurrence of a value greater than 1.0 in petalwidth 4th column of iris dataset.\n",
    "\n",
    "# Input\n",
    "# Use the iris dataset provided\n",
    "print(\"Input\")\n",
    "print_files()\n",
    "\n",
    "# Use this if you are working on your local machine\n",
    "# url = 'https://archive.ics.uci.edu/ml/machine-learning-databases/iris/iris.data'\n",
    "# iris = np.genfromtxt(url, delimiter=',', dtype='object')\n",
    "\n",
    "# Solution\n",
    "print(\"Solution\")\n",
    "iris = np.genfromtxt(\"/kaggle/input/iris/Iris.csv\", delimiter = \",\", usecols=[4], skip_header=1)\n",
    "i = np.where(iris > 1) # returns the index where this is tru\n",
    "i\n",
    "iris[i[0][0]] # first ocurrence is on index 50\n",
    "iris[:i[0][0] + 1]\n",
    "\n",
    "# Solution from the website\n",
    "print(\"Solution from website\")\n",
    "np.argwhere(iris.astype(float) > 1.0)[0] # same result but much faster and elegant"
   ]
  },
  {
   "cell_type": "markdown",
   "metadata": {},
   "source": [
    "<a id = 'q47'></a>\n",
    "**47. How to replace all values greater than a given value to a given cutoff?**\n",
    "\n",
    "[Go back to the table of contents](#table_of_contents)\n"
   ]
  },
  {
   "cell_type": "code",
   "execution_count": 48,
   "metadata": {},
   "outputs": [
    {
     "name": "stdout",
     "output_type": "stream",
     "text": [
      "Input\n"
     ]
    },
    {
     "data": {
      "text/plain": [
       "array([27.627, 14.64 , 21.801, 42.394,  1.231,  6.957, 33.867, 41.467,\n",
       "        7.699, 29.18 , 44.675, 11.251, 10.081,  6.31 , 11.765, 48.953,\n",
       "       40.772,  9.425, 40.995, 14.43 ])"
      ]
     },
     "execution_count": 48,
     "metadata": {},
     "output_type": "execute_result"
    },
    {
     "name": "stdout",
     "output_type": "stream",
     "text": [
      "Solution\n"
     ]
    },
    {
     "data": {
      "text/plain": [
       "array([27.627, 14.64 , 21.801, 30.   , 10.   , 10.   , 30.   , 30.   ,\n",
       "       10.   , 29.18 , 30.   , 11.251, 10.081, 10.   , 11.765, 30.   ,\n",
       "       30.   , 10.   , 30.   , 14.43 ])"
      ]
     },
     "execution_count": 48,
     "metadata": {},
     "output_type": "execute_result"
    },
    {
     "name": "stdout",
     "output_type": "stream",
     "text": [
      "Solution from the website\n"
     ]
    },
    {
     "data": {
      "text/plain": [
       "array([27.627, 14.64 , 21.801, 30.   , 10.   , 10.   , 30.   , 30.   ,\n",
       "       10.   , 29.18 , 30.   , 11.251, 10.081, 10.   , 11.765, 30.   ,\n",
       "       30.   , 10.   , 30.   , 14.43 ])"
      ]
     },
     "execution_count": 48,
     "metadata": {},
     "output_type": "execute_result"
    },
    {
     "name": "stdout",
     "output_type": "stream",
     "text": [
      "[27.627 14.64  21.801 30.    10.    10.    30.    30.    10.    29.18\n",
      " 30.    11.251 10.081 10.    11.765 30.    30.    10.    30.    14.43 ]\n"
     ]
    }
   ],
   "source": [
    "# Q. From the array a, replace all values greater than 30 to 30 and less than 10 to 10.\n",
    "# Input\n",
    "print(\"Input\")\n",
    "np.random.seed(100)\n",
    "a = np.random.uniform(1,50, 20)\n",
    "a\n",
    "\n",
    "# Solution\n",
    "print(\"Solution\")\n",
    "c1 = np.where(a > 30)\n",
    "c2 = np.where(a < 10)\n",
    "a[c1] = 30\n",
    "a[c2] = 10\n",
    "a\n",
    "\n",
    "# Solution from the website\n",
    "print(\"Solution from the website\")\n",
    "\n",
    "# Solution 1: Using np.clip\n",
    "np.random.seed(100)\n",
    "a = np.random.uniform(1,50, 20)\n",
    "np.clip(a, a_min=10, a_max=30) # probabily the most elegant solution\n",
    "\n",
    "# Solution 3: Using np.where\n",
    "np.random.seed(100)\n",
    "a = np.random.uniform(1,50, 20)\n",
    "print(np.where(a < 10, 10, np.where(a > 30, 30, a)))"
   ]
  },
  {
   "cell_type": "markdown",
   "metadata": {},
   "source": [
    "<a id = 'q48'></a>\n",
    "**48. How to get the positions of top n values from a numpy array?**\n",
    "\n",
    "[Go back to the table of contents](#table_of_contents)\n"
   ]
  },
  {
   "cell_type": "code",
   "execution_count": 49,
   "metadata": {},
   "outputs": [
    {
     "name": "stdout",
     "output_type": "stream",
     "text": [
      "Input\n"
     ]
    },
    {
     "data": {
      "text/plain": [
       "array([27.627, 14.64 , 21.801, 42.394,  1.231,  6.957, 33.867, 41.467,\n",
       "        7.699, 29.18 , 44.675, 11.251, 10.081,  6.31 , 11.765, 48.953,\n",
       "       40.772,  9.425, 40.995, 14.43 ])"
      ]
     },
     "execution_count": 49,
     "metadata": {},
     "output_type": "execute_result"
    },
    {
     "name": "stdout",
     "output_type": "stream",
     "text": [
      "Solution\n"
     ]
    },
    {
     "data": {
      "text/plain": [
       "array([ 4, 13,  5,  8, 17, 12, 11, 14, 19,  1,  2,  0,  9,  6, 16, 18,  7,\n",
       "        3, 10, 15])"
      ]
     },
     "execution_count": 49,
     "metadata": {},
     "output_type": "execute_result"
    },
    {
     "data": {
      "text/plain": [
       "array([18,  7,  3, 10, 15])"
      ]
     },
     "execution_count": 49,
     "metadata": {},
     "output_type": "execute_result"
    },
    {
     "data": {
      "text/plain": [
       "array([15, 10,  3,  7, 18])"
      ]
     },
     "execution_count": 49,
     "metadata": {},
     "output_type": "execute_result"
    },
    {
     "data": {
      "text/plain": [
       "array([48.953, 44.675, 42.394, 41.467, 40.995])"
      ]
     },
     "execution_count": 49,
     "metadata": {},
     "output_type": "execute_result"
    },
    {
     "name": "stdout",
     "output_type": "stream",
     "text": [
      "Solution from the webpage\n",
      "[ 4 13  5  8 17 12 11 14 19  1  2  0  9  6 16 18  7  3 10 15]\n"
     ]
    },
    {
     "data": {
      "text/plain": [
       "array([15, 10,  3,  7, 18])"
      ]
     },
     "execution_count": 49,
     "metadata": {},
     "output_type": "execute_result"
    },
    {
     "data": {
      "text/plain": [
       "array([40.995, 41.467, 42.394, 44.675, 48.953])"
      ]
     },
     "execution_count": 49,
     "metadata": {},
     "output_type": "execute_result"
    },
    {
     "data": {
      "text/plain": [
       "array([40.995, 41.467, 42.394, 44.675, 48.953])"
      ]
     },
     "execution_count": 49,
     "metadata": {},
     "output_type": "execute_result"
    },
    {
     "data": {
      "text/plain": [
       "array([40.995, 41.467, 42.394, 44.675, 48.953])"
      ]
     },
     "execution_count": 49,
     "metadata": {},
     "output_type": "execute_result"
    },
    {
     "data": {
      "text/plain": [
       "array([48.953, 44.675, 42.394, 41.467, 40.995])"
      ]
     },
     "execution_count": 49,
     "metadata": {},
     "output_type": "execute_result"
    }
   ],
   "source": [
    "# Q. Get the positions of top 5 maximum values in a given array a.\n",
    "\n",
    "# Input\n",
    "print(\"Input\")\n",
    "np.random.seed(100)\n",
    "a = np.random.uniform(1,50, 20)\n",
    "a\n",
    "\n",
    "# Solution\n",
    "print(\"Solution\")\n",
    "a.argsort() # sort the numpy array with argsort(), returns the index starting from min to max value. Index 15 has the max value\n",
    "a.argsort()[-5:] # select top 5 index\n",
    "a.argsort()[-5:][::-1] # a.argsort()[::-1][:5] are equivalent, reverse the top 5 indee\n",
    "a[a.argsort()[-5:][::-1]] # get the values\n",
    "\n",
    "# Solution from the website\n",
    "print(\"Solution from the webpage\")\n",
    "# Solution:\n",
    "print(a.argsort())\n",
    "#> [18 7 3 10 15]\n",
    "\n",
    "# Solution 2:\n",
    "np.argpartition(-a, 5)[:5]\n",
    "#> [15 10  3  7 18]\n",
    "\n",
    "# Below methods will get you the values.\n",
    "# Method 1:\n",
    "a[a.argsort()][-5:]\n",
    "\n",
    "# Method 2:\n",
    "np.sort(a)[-5:]\n",
    "\n",
    "# Method 3:\n",
    "np.partition(a, kth=-5)[-5:]\n",
    "\n",
    "# Method 4:\n",
    "a[np.argpartition(-a, 5)][:5]"
   ]
  },
  {
   "cell_type": "markdown",
   "metadata": {},
   "source": [
    "<a id = 'q49'></a>\n",
    "\n",
    "**49. How to compute the row wise counts of all possible values in an array?**\n",
    "\n",
    "[Go back to the table of contents](#table_of_contents)\n"
   ]
  },
  {
   "cell_type": "code",
   "execution_count": 50,
   "metadata": {},
   "outputs": [
    {
     "name": "stdout",
     "output_type": "stream",
     "text": [
      "Input\n"
     ]
    },
    {
     "data": {
      "text/plain": [
       "array([[ 9,  9,  4,  8,  8,  1,  5,  3,  6,  3],\n",
       "       [ 3,  3,  2,  1,  9,  5,  1, 10,  7,  3],\n",
       "       [ 5,  2,  6,  4,  5,  5,  4,  8,  2,  2],\n",
       "       [ 8,  8,  1,  3, 10, 10,  4,  3,  6,  9],\n",
       "       [ 2,  1,  8,  7,  3,  1,  9,  3,  6,  2],\n",
       "       [ 9,  2,  6,  5,  3,  9,  4,  6,  1, 10]])"
      ]
     },
     "execution_count": 50,
     "metadata": {},
     "output_type": "execute_result"
    },
    {
     "name": "stdout",
     "output_type": "stream",
     "text": [
      "Solution\n"
     ]
    },
    {
     "data": {
      "text/plain": [
       "array([[2, 2, 1, 2, 2, 1, 1, 2, 1, 2],\n",
       "       [3, 3, 1, 2, 1, 1, 2, 1, 1, 3],\n",
       "       [3, 3, 1, 2, 3, 3, 2, 1, 3, 3],\n",
       "       [2, 2, 1, 2, 2, 2, 1, 2, 1, 1],\n",
       "       [2, 2, 1, 1, 2, 2, 1, 2, 1, 2],\n",
       "       [2, 1, 2, 1, 1, 2, 1, 2, 1, 1]])"
      ]
     },
     "execution_count": 50,
     "metadata": {},
     "output_type": "execute_result"
    },
    {
     "name": "stdout",
     "output_type": "stream",
     "text": [
      "Solution from the website (incorrect)\n",
      "The solution from the website has a bug.\n"
     ]
    },
    {
     "data": {
      "text/plain": [
       "[[1, 0, 2, 1, 1, 1, 0, 2, 2, 0],\n",
       " [2, 1, 3, 0, 1, 0, 1, 0, 1, 1],\n",
       " [0, 3, 0, 2, 3, 1, 0, 1, 0, 0],\n",
       " [1, 0, 2, 1, 0, 1, 0, 2, 1, 2],\n",
       " [2, 2, 2, 0, 0, 1, 1, 1, 1, 0],\n",
       " [1, 1, 1, 1, 1, 2, 0, 0, 2, 1]]"
      ]
     },
     "execution_count": 50,
     "metadata": {},
     "output_type": "execute_result"
    },
    {
     "name": "stdout",
     "output_type": "stream",
     "text": [
      "The solution from the website corrected.\n"
     ]
    },
    {
     "data": {
      "text/plain": [
       "array([[2, 2, 1, 2, 2, 1, 1, 2, 1, 2],\n",
       "       [3, 3, 1, 2, 1, 1, 2, 1, 1, 3],\n",
       "       [3, 3, 1, 2, 3, 3, 2, 1, 3, 3],\n",
       "       [2, 2, 1, 2, 2, 2, 1, 2, 1, 1],\n",
       "       [2, 2, 1, 1, 2, 2, 1, 2, 1, 2],\n",
       "       [2, 1, 2, 1, 1, 2, 1, 2, 1, 1]])"
      ]
     },
     "execution_count": 50,
     "metadata": {},
     "output_type": "execute_result"
    }
   ],
   "source": [
    "# Q. Compute the counts of unique values row-wise.\n",
    "\n",
    "# Input\n",
    "print(\"Input\")\n",
    "np.random.seed(100)\n",
    "arr = np.random.randint(1,11,size=(6, 10))\n",
    "arr\n",
    "\n",
    "# Desired Output\n",
    "# > [[1, 0, 2, 1, 1, 1, 0, 2, 2, 0],\n",
    "# >  [2, 1, 3, 0, 1, 0, 1, 0, 1, 1],\n",
    "# >  [0, 3, 0, 2, 3, 1, 0, 1, 0, 0],\n",
    "# >  [1, 0, 2, 1, 0, 1, 0, 2, 1, 2],\n",
    "# >  [2, 2, 2, 0, 0, 1, 1, 1, 1, 0],\n",
    "# >  [1, 1, 1, 1, 1, 2, 0, 0, 2, 1]]\n",
    "\n",
    "# Output contains 10 columns representing numbers from 1 to 10. The values are the counts of the numbers in the respective rows.\n",
    "# For example, Cell(0,2) has the value 2, which means, the number 3 occurs exactly 2 times in the 1st row.\n",
    "\n",
    "# Solution\n",
    "print(\"Solution\")\n",
    "from collections import Counter\n",
    "rows = arr.shape[0]\n",
    "lc = []\n",
    "for row in range(rows): # iterate over all rows in the numpy array\n",
    "    counter = Counter() # on every row, create a new Counter\n",
    "    counter.update(arr[row]) # feed the Counter with the row\n",
    "    lc.append(dict(counter)) # append a dict in a list: each row will have it's unique dict/counter\n",
    "\n",
    "np.array([np.vectorize(lc[row].get)(arr[row]) for row in range(rows)]) # trasnfrom the arr into a vector and map to the values in the dictionary (lc[row].get gets every dictionary) for each row in rows\n",
    "\n",
    "# more interesting aproaches here:\n",
    "# https://stackoverflow.com/questions/16992713/translate-every-element-in-numpy-array-according-to-key\n",
    "\n",
    "# Solution from the website\n",
    "print(\"Solution from the website (incorrect)\")\n",
    "\n",
    "def counts_of_all_values_rowwise(arr2d):\n",
    "    # Unique values and its counts row wise\n",
    "    num_counts_array = [np.unique(row, return_counts=True) for row in arr2d]\n",
    "    # Counts of all values row wise\n",
    "    return([[int(b[a==i]) if i in a else 0 for i in np.unique(arr2d)] for a, b in num_counts_array])\n",
    "\n",
    "# it has a bug\n",
    "print(\"The solution from the website has a bug.\")\n",
    "counts_of_all_values_rowwise(arr)\n",
    "\n",
    "def counts_of_all_values_rowwise_corrected(arr2d):\n",
    "    num_counts_array = [np.unique(row, return_counts=True) for row in arr2d] # same as in the previous solution\n",
    "    # we have a numpy array of tuples that contain for each row the elements and their counts\n",
    "    ll = [] # create an empty list of lists, we will later convert in into numpy array\n",
    "    for i in range(arr2d.shape[0]): # for each row in arr rows\n",
    "        l = [] # create a new list where we will be adding the mappings\n",
    "        rmapper = num_counts_array[i] # rmapper = row mapper. In num_counts_array for have the same amount of tuples (elemnt - count) as rows in the arr2d\n",
    "        for v in arr2d[i]: # for each value in a row\n",
    "            l.append(rmapper[1][np.where(rmapper[0] == v)][0]) # append to the list the count (rmapper[1]), we are using np.where to find the index of the element\n",
    "        ll.append(l) # append the list to the list of lists\n",
    "    return np.array(ll) # convert the lst of list into numpy 2d array\n",
    "\n",
    "print(\"The solution from the website corrected.\")\n",
    "counts_of_all_values_rowwise_corrected(arr)"
   ]
  },
  {
   "cell_type": "markdown",
   "metadata": {},
   "source": [
    "<a id = 'q50'></a>\n",
    "**50. How to convert an array of arrays into a flat 1d array?**\n",
    "\n",
    "[Go back to the table of contents](#table_of_contents)\n"
   ]
  },
  {
   "cell_type": "code",
   "execution_count": 51,
   "metadata": {},
   "outputs": [
    {
     "name": "stdout",
     "output_type": "stream",
     "text": [
      "Input\n"
     ]
    },
    {
     "data": {
      "text/plain": [
       "array([[0, 1, 2],\n",
       "       [3, 4, 5],\n",
       "       [6, 7, 8]])"
      ]
     },
     "execution_count": 51,
     "metadata": {},
     "output_type": "execute_result"
    },
    {
     "name": "stdout",
     "output_type": "stream",
     "text": [
      "Solution\n"
     ]
    },
    {
     "data": {
      "text/plain": [
       "array([0, 1, 2, 3, 4, 5, 6, 7, 8])"
      ]
     },
     "execution_count": 51,
     "metadata": {},
     "output_type": "execute_result"
    },
    {
     "name": "stdout",
     "output_type": "stream",
     "text": [
      "array_of_arrays:  [array([0, 1, 2]) array([3, 4, 5, 6]) array([7, 8, 9])]\n"
     ]
    },
    {
     "data": {
      "text/plain": [
       "array([0, 1, 2, 3, 4, 5, 6, 7, 8, 9])"
      ]
     },
     "execution_count": 51,
     "metadata": {},
     "output_type": "execute_result"
    },
    {
     "name": "stdout",
     "output_type": "stream",
     "text": [
      "------------------\n"
     ]
    },
    {
     "data": {
      "text/plain": [
       "array([0, 1, 2, 3, 4, 5, 6, 7, 8, 9])"
      ]
     },
     "execution_count": 51,
     "metadata": {},
     "output_type": "execute_result"
    },
    {
     "name": "stdout",
     "output_type": "stream",
     "text": [
      "[0 1 2 3 4 5 6 7 8 9]\n"
     ]
    }
   ],
   "source": [
    "# Q. Convert array_of_arrays into a flat linear 1d array.\n",
    "\n",
    "# Input\n",
    "print(\"Input\")\n",
    "arr = np.arange(9).reshape(3,3)\n",
    "arr\n",
    "\n",
    "# Solution\n",
    "print(\"Solution\")\n",
    "arr.flatten()\n",
    "\n",
    "# Solution from the website\n",
    "arr1 = np.arange(3)\n",
    "arr2 = np.arange(3,7)\n",
    "arr3 = np.arange(7,10)\n",
    "\n",
    "array_of_arrays = np.array([arr1, arr2, arr3])\n",
    "print('array_of_arrays: ', array_of_arrays)\n",
    "\n",
    "# Solution 1\n",
    "arr_2d = np.array([a for arr in array_of_arrays for a in arr]) # interesting loop comprehension\n",
    "arr_2d\n",
    "\n",
    "print(\"------------------\")\n",
    "arr_2d = []\n",
    "for arr in array_of_arrays:\n",
    "    for a in arr:\n",
    "        arr_2d.append(a)\n",
    "np.array(arr_2d)\n",
    "\n",
    "\n",
    "# Solution 2:\n",
    "arr_2d = np.concatenate(array_of_arrays)\n",
    "print(arr_2d)"
   ]
  },
  {
   "cell_type": "markdown",
   "metadata": {},
   "source": [
    "<a id = 'q51'></a>\n",
    "**51. How to generate one-hot encodings for an array in numpy?**\n",
    "\n",
    "[Go back to the table of contents](#table_of_contents)\n"
   ]
  },
  {
   "cell_type": "code",
   "execution_count": 52,
   "metadata": {},
   "outputs": [
    {
     "name": "stdout",
     "output_type": "stream",
     "text": [
      "Input\n"
     ]
    },
    {
     "data": {
      "text/plain": [
       "array([2, 3, 2, 2, 2, 1])"
      ]
     },
     "execution_count": 52,
     "metadata": {},
     "output_type": "execute_result"
    },
    {
     "name": "stdout",
     "output_type": "stream",
     "text": [
      "Solution using pandas\n"
     ]
    },
    {
     "data": {
      "text/plain": [
       "array([[0, 1, 0],\n",
       "       [0, 0, 1],\n",
       "       [0, 1, 0],\n",
       "       [0, 1, 0],\n",
       "       [0, 1, 0],\n",
       "       [1, 0, 0]], dtype=uint8)"
      ]
     },
     "execution_count": 52,
     "metadata": {},
     "output_type": "execute_result"
    },
    {
     "name": "stdout",
     "output_type": "stream",
     "text": [
      "Solution using pure python\n"
     ]
    },
    {
     "data": {
      "text/plain": [
       "array([[0, 1, 0],\n",
       "       [0, 0, 1],\n",
       "       [0, 1, 0],\n",
       "       [0, 1, 0],\n",
       "       [0, 1, 0],\n",
       "       [1, 0, 0]])"
      ]
     },
     "execution_count": 52,
     "metadata": {},
     "output_type": "execute_result"
    },
    {
     "name": "stdout",
     "output_type": "stream",
     "text": [
      "Solution using pure python with list comprehension (list of lists)\n"
     ]
    },
    {
     "data": {
      "text/plain": [
       "array([[0, 1, 0],\n",
       "       [0, 0, 1],\n",
       "       [0, 1, 0],\n",
       "       [0, 1, 0],\n",
       "       [0, 1, 0],\n",
       "       [1, 0, 0]])"
      ]
     },
     "execution_count": 52,
     "metadata": {},
     "output_type": "execute_result"
    },
    {
     "name": "stdout",
     "output_type": "stream",
     "text": [
      "Solution from the website\n",
      "Solution 1 using numpy\n",
      "0 2\n",
      "1 3\n",
      "2 2\n",
      "3 2\n",
      "4 2\n",
      "5 1\n"
     ]
    },
    {
     "data": {
      "text/plain": [
       "array([[0., 1., 0.],\n",
       "       [0., 0., 1.],\n",
       "       [0., 1., 0.],\n",
       "       [0., 1., 0.],\n",
       "       [0., 1., 0.],\n",
       "       [1., 0., 0.]])"
      ]
     },
     "execution_count": 52,
     "metadata": {},
     "output_type": "execute_result"
    },
    {
     "name": "stdout",
     "output_type": "stream",
     "text": [
      "Solution 2 using numpy\n",
      "arr[:, None] evaluates all the numpy array to the unique elements and returns True or False\n"
     ]
    },
    {
     "data": {
      "text/plain": [
       "array([[False,  True, False],\n",
       "       [False, False,  True],\n",
       "       [False,  True, False],\n",
       "       [False,  True, False],\n",
       "       [False,  True, False],\n",
       "       [ True, False, False]])"
      ]
     },
     "execution_count": 52,
     "metadata": {},
     "output_type": "execute_result"
    },
    {
     "name": "stdout",
     "output_type": "stream",
     "text": [
      "we add .view(np.int8) to convert Boolean to 1 or zero\n"
     ]
    },
    {
     "data": {
      "text/plain": [
       "array([[0, 1, 0],\n",
       "       [0, 0, 1],\n",
       "       [0, 1, 0],\n",
       "       [0, 1, 0],\n",
       "       [0, 1, 0],\n",
       "       [1, 0, 0]], dtype=int8)"
      ]
     },
     "execution_count": 52,
     "metadata": {},
     "output_type": "execute_result"
    }
   ],
   "source": [
    "# Q. Compute the one-hot encodings (dummy binary variables for each unique value in the array)\n",
    "\n",
    "# Input\n",
    "print(\"Input\")\n",
    "np.random.seed(101) \n",
    "arr = np.random.randint(1,4, size=6)\n",
    "arr\n",
    "\n",
    "# Desired Output\n",
    "# > array([[ 0.,  1.,  0.],\n",
    "# >        [ 0.,  0.,  1.],\n",
    "# >        [ 0.,  1.,  0.],\n",
    "# >        [ 0.,  1.,  0.],\n",
    "# >        [ 0.,  1.,  0.],\n",
    "# >        [ 1.,  0.,  0.]])\n",
    "\n",
    "# Solution\n",
    "print(\"Solution using pandas\")\n",
    "import pandas as pd\n",
    "df = pd.DataFrame(arr)\n",
    "dummies = pd.get_dummies(df[0])\n",
    "np.array(dummies)\n",
    "\n",
    "# Solution using pure python\n",
    "print(\"Solution using pure python\")\n",
    "ll = []\n",
    "for i in list(set(arr)):\n",
    "    l = []\n",
    "    for j in arr:\n",
    "        l.append(1) if i == j else l.append(0)\n",
    "    ll.append(l)\n",
    "np.array(ll).T\n",
    "\n",
    "# Solution using pure python with list comprehension\n",
    "print(\"Solution using pure python with list comprehension (list of lists)\")\n",
    "np.array([[1 if i == j else 0 for i in list(set(arr))] for j in arr])\n",
    "\n",
    "# Solution using numpy\n",
    "# Solution from the website\n",
    "print(\"Solution from the website\")\n",
    "print(\"Solution 1 using numpy\")\n",
    "\n",
    "uniques = np.unique(arr)\n",
    "out = np.zeros((arr.shape[0], uniques.shape[0]))\n",
    "for i, k in enumerate(arr):\n",
    "    print(i, k)\n",
    "    out[i, k-1] = 1 # very cool solution\n",
    "out\n",
    "\n",
    "print(\"Solution 2 using numpy\")\n",
    "print(\"arr[:, None] evaluates all the numpy array to the unique elements and returns True or False\")\n",
    "(arr[:,None] == np.unique(arr))\n",
    "print(\"we add .view(np.int8) to convert Boolean to 1 or zero\")\n",
    "(arr[:,None] == np.unique(arr)).view(np.int8)\n"
   ]
  },
  {
   "cell_type": "markdown",
   "metadata": {},
   "source": [
    "<a id = 'q52'></a>\n",
    "**52. How to create row numbers grouped by a categorical variable?**\n",
    "\n",
    "[Go back to the table of contents](#table_of_contents)\n"
   ]
  },
  {
   "cell_type": "code",
   "execution_count": 53,
   "metadata": {},
   "outputs": [
    {
     "name": "stdout",
     "output_type": "stream",
     "text": [
      "Input\n",
      "/kaggle/input/exercise-60-denali-mt-mckinleyjpg/Denali Mt McKinley.jpg\n",
      "/kaggle/input/titanic/gender_submission.csv\n",
      "/kaggle/input/titanic/test.csv\n",
      "/kaggle/input/titanic/train.csv\n",
      "/kaggle/input/iris/Iris.csv\n",
      "/kaggle/input/iris/database.sqlite\n",
      "Solution\n"
     ]
    },
    {
     "data": {
      "text/plain": [
       "array(['Iris-setosa', 'Iris-setosa', 'Iris-setosa', 'Iris-setosa',\n",
       "       'Iris-setosa', 'Iris-versicolor', 'Iris-versicolor',\n",
       "       'Iris-versicolor', 'Iris-versicolor', 'Iris-versicolor',\n",
       "       'Iris-versicolor', 'Iris-virginica', 'Iris-virginica',\n",
       "       'Iris-virginica', 'Iris-virginica', 'Iris-virginica',\n",
       "       'Iris-virginica', 'Iris-virginica', 'Iris-virginica',\n",
       "       'Iris-virginica'], dtype='<U15')"
      ]
     },
     "execution_count": 53,
     "metadata": {},
     "output_type": "execute_result"
    },
    {
     "data": {
      "text/plain": [
       "[0, 1, 2, 3, 4, 0, 1, 2, 3, 4, 5, 0, 1, 2, 3, 4, 5, 6, 7, 8]"
      ]
     },
     "execution_count": 53,
     "metadata": {},
     "output_type": "execute_result"
    },
    {
     "name": "stdout",
     "output_type": "stream",
     "text": [
      "Solution from the website\n"
     ]
    },
    {
     "data": {
      "text/plain": [
       "[0, 1, 2, 3, 4, 0, 1, 2, 3, 4, 5, 0, 1, 2, 3, 4, 5, 6, 7, 8]"
      ]
     },
     "execution_count": 53,
     "metadata": {},
     "output_type": "execute_result"
    }
   ],
   "source": [
    "# Q. Create row numbers grouped by a categorical variable. Use the following sample from iris species as input.\n",
    "\n",
    "# Input\n",
    "# Use the iris dataset provided\n",
    "print(\"Input\")\n",
    "print_files()\n",
    "\n",
    "# Use this if you are working on your local machine\n",
    "# species = np.genfromtxt(url, delimiter=',', dtype='str', usecols=4)\n",
    "# species_small = np.sort(np.random.choice(species, size=20))\n",
    "# species_small\n",
    "# > array(['Iris-setosa', 'Iris-setosa', 'Iris-setosa', 'Iris-setosa',\n",
    "# >        'Iris-setosa', 'Iris-setosa', 'Iris-versicolor', 'Iris-versicolor',\n",
    "# >        'Iris-versicolor', 'Iris-versicolor', 'Iris-versicolor',\n",
    "# >        'Iris-versicolor', 'Iris-virginica', 'Iris-virginica',\n",
    "# >        'Iris-virginica', 'Iris-virginica', 'Iris-virginica',\n",
    "# >        'Iris-virginica', 'Iris-virginica', 'Iris-virginica'],\n",
    "# >       dtype='<U15')\n",
    "\n",
    "\n",
    "# Desired Output\n",
    "# > [0, 1, 2, 3, 4, 5, 0, 1, 2, 3, 4, 5, 0, 1, 2, 3, 4, 5, 6, 7]\n",
    "\n",
    "# Solution\n",
    "print(\"Solution\")\n",
    "species = np.genfromtxt(\"/kaggle/input/iris/Iris.csv\", delimiter=',', dtype='str', usecols=5, skip_header=1)\n",
    "species_small = np.sort(np.random.choice(species, size=20))\n",
    "species_small\n",
    "ll = [[i for i in range(len(species_small[species_small == j]))] for j in np.unique(species_small)] # create a list of lits\n",
    "[i for l in ll for i in l] # flatten the list: read from the first for: for list in lists for i in list append i. THE FIRST i\n",
    "# https://stackoverflow.com/questions/952914/how-to-make-a-flat-list-out-of-list-of-lists\n",
    "\n",
    "# Solution from the website\n",
    "print(\"Solution from the website\")\n",
    "[i for val in np.unique(species_small) for i, grp in enumerate(species_small[species_small==val])]"
   ]
  },
  {
   "cell_type": "markdown",
   "metadata": {},
   "source": [
    "\n",
    "<a id = 'q53'></a>\n",
    "**53. How to create groud ids based on a given categorical variable?**\n",
    "\n",
    "[Go back to the table of contents](#table_of_contents)"
   ]
  },
  {
   "cell_type": "code",
   "execution_count": 54,
   "metadata": {},
   "outputs": [
    {
     "name": "stdout",
     "output_type": "stream",
     "text": [
      "Input\n",
      "/kaggle/input/exercise-60-denali-mt-mckinleyjpg/Denali Mt McKinley.jpg\n",
      "/kaggle/input/titanic/gender_submission.csv\n",
      "/kaggle/input/titanic/test.csv\n",
      "/kaggle/input/titanic/train.csv\n",
      "/kaggle/input/iris/Iris.csv\n",
      "/kaggle/input/iris/database.sqlite\n",
      "Solution\n"
     ]
    },
    {
     "data": {
      "text/plain": [
       "array(['Iris-setosa', 'Iris-setosa', 'Iris-setosa', 'Iris-setosa',\n",
       "       'Iris-setosa', 'Iris-setosa', 'Iris-versicolor', 'Iris-versicolor',\n",
       "       'Iris-versicolor', 'Iris-versicolor', 'Iris-versicolor',\n",
       "       'Iris-versicolor', 'Iris-virginica', 'Iris-virginica',\n",
       "       'Iris-virginica', 'Iris-virginica', 'Iris-virginica',\n",
       "       'Iris-virginica', 'Iris-virginica', 'Iris-virginica'], dtype='<U15')"
      ]
     },
     "execution_count": 54,
     "metadata": {},
     "output_type": "execute_result"
    },
    {
     "data": {
      "text/plain": [
       "array([0, 0, 0, 0, 0, 0, 1, 1, 1, 1, 1, 1, 2, 2, 2, 2, 2, 2, 2, 2])"
      ]
     },
     "execution_count": 54,
     "metadata": {},
     "output_type": "execute_result"
    },
    {
     "name": "stdout",
     "output_type": "stream",
     "text": [
      "Solution from the website\n",
      "Solution usig numpy\n"
     ]
    },
    {
     "data": {
      "text/plain": [
       "[0, 0, 0, 0, 0, 0, 1, 1, 1, 1, 1, 1, 2, 2, 2, 2, 2, 2, 2, 2]"
      ]
     },
     "execution_count": 54,
     "metadata": {},
     "output_type": "execute_result"
    },
    {
     "name": "stdout",
     "output_type": "stream",
     "text": [
      "Solution using for loops\n"
     ]
    },
    {
     "data": {
      "text/plain": [
       "[0, 0, 0, 0, 0, 0, 1, 1, 1, 1, 1, 1, 2, 2, 2, 2, 2, 2, 2, 2]"
      ]
     },
     "execution_count": 54,
     "metadata": {},
     "output_type": "execute_result"
    }
   ],
   "source": [
    "# Q. Create group ids based on a given categorical variable. Use the following sample from iris species as input\n",
    "\n",
    "# Input\n",
    "# Use the iris dataset provided\n",
    "print(\"Input\")\n",
    "print_files()\n",
    "\n",
    "# Use this if you are working on your local machine\n",
    "# species = np.genfromtxt(url, delimiter=',', dtype='str', usecols=4)\n",
    "# species_small = np.sort(np.random.choice(species, size=20))\n",
    "# species_small\n",
    "# > array(['Iris-setosa', 'Iris-setosa', 'Iris-setosa', 'Iris-setosa',\n",
    "# >        'Iris-setosa', 'Iris-setosa', 'Iris-versicolor', 'Iris-versicolor',\n",
    "# >        'Iris-versicolor', 'Iris-versicolor', 'Iris-versicolor',\n",
    "# >        'Iris-versicolor', 'Iris-virginica', 'Iris-virginica',\n",
    "# >        'Iris-virginica', 'Iris-virginica', 'Iris-virginica',\n",
    "# >        'Iris-virginica', 'Iris-virginica', 'Iris-virginica'],\n",
    "# >       dtype='<U15')\n",
    "\n",
    "# Desired Output\n",
    "# > [0, 0, 0, 0, 0, 1, 1, 1, 1, 1, 1, 1, 1, 1, 2, 2, 2, 2, 2, 2]\n",
    "\n",
    "# Solution\n",
    "print(\"Solution\")\n",
    "species = np.genfromtxt(\"/kaggle/input/iris/Iris.csv\", delimiter=',', dtype='str', usecols=5, skip_header=1)\n",
    "species_small = np.sort(np.random.choice(species, size=20))\n",
    "species_small\n",
    "\n",
    "d = dict((k, i) for i, k in enumerate(np.unique(species_small))) # create a mapping for every specie and store it in a dictionary\n",
    "np.array([np.vectorize(d.get)(sp) for sp in species_small]) # use vectorize and dictionary .get method to map all the species\n",
    "\n",
    "# Solution from the website\n",
    "print(\"Solution from the website\")\n",
    "print(\"Solution usig numpy\")\n",
    "output = [np.argwhere(np.unique(species_small) == s).tolist()[0][0] for val in np.unique(species_small) for s in species_small[species_small==val]]\n",
    "output\n",
    "\n",
    "# Solution: For Loop version\n",
    "print(\"Solution using for loops\")\n",
    "output = []\n",
    "uniqs = np.unique(species_small)\n",
    "\n",
    "for val in uniqs:  # uniq values in group\n",
    "    for s in species_small[species_small==val]:  # each element in group\n",
    "        groupid = np.argwhere(uniqs == s).tolist()[0][0]  # groupid\n",
    "        output.append(groupid)\n",
    "output"
   ]
  },
  {
   "cell_type": "markdown",
   "metadata": {},
   "source": [
    "<a id = 'q54'></a>\n",
    "**54. How to rank items in an array using numpy?**\n",
    "\n",
    "[Go back to the table of contents](#table_of_contents)"
   ]
  },
  {
   "cell_type": "code",
   "execution_count": 55,
   "metadata": {},
   "outputs": [
    {
     "name": "stdout",
     "output_type": "stream",
     "text": [
      "Input\n"
     ]
    },
    {
     "data": {
      "text/plain": [
       "array([ 9,  4, 15,  0, 17, 16, 17,  8,  9,  0])"
      ]
     },
     "execution_count": 55,
     "metadata": {},
     "output_type": "execute_result"
    },
    {
     "name": "stdout",
     "output_type": "stream",
     "text": [
      "Solution\n"
     ]
    },
    {
     "data": {
      "text/plain": [
       "array([4, 2, 6, 0, 8, 7, 9, 3, 5, 1])"
      ]
     },
     "execution_count": 55,
     "metadata": {},
     "output_type": "execute_result"
    },
    {
     "name": "stdout",
     "output_type": "stream",
     "text": [
      "Order of the array: in the index 3 of the array (a) we have the value 0, which is the smallest value - \n",
      "- at the index 9, we have the value 0 which is the second largest value etc etc etc\n"
     ]
    },
    {
     "data": {
      "text/plain": [
       "array([3, 9, 1, 7, 0, 8, 2, 5, 4, 6])"
      ]
     },
     "execution_count": 55,
     "metadata": {},
     "output_type": "execute_result"
    },
    {
     "name": "stdout",
     "output_type": "stream",
     "text": [
      "Second argsort: the value 9 in the original array is the 4th smallest value, the value 4 in the original array is the second smallest value etc etc etc\n"
     ]
    },
    {
     "data": {
      "text/plain": [
       "<function ndarray.argsort>"
      ]
     },
     "execution_count": 55,
     "metadata": {},
     "output_type": "execute_result"
    }
   ],
   "source": [
    "# Q. Create the ranks for the given numeric array a.\n",
    "\n",
    "# Input\n",
    "print(\"Input\")\n",
    "np.random.seed(10)\n",
    "a = np.random.randint(20, size=10)\n",
    "a\n",
    "\n",
    "# Desired Output\n",
    "# [4 2 6 0 8 7 9 3 5 1]\n",
    "\n",
    "# Solution\n",
    "print(\"Solution\")\n",
    "a.argsort().argsort() # use argosrt twice: first to find the order of the array and then the rank\n",
    "print(\"Order of the array: in the index 3 of the array (a) we have the value 0, which is the smallest value - \")\n",
    "print(\"- at the index 9, we have the value 0 which is the second largest value etc etc etc\")\n",
    "a.argsort()\n",
    "print(\"Second argsort: the value 9 in the original array is the 4th smallest value, the value 4 in the original array is the second smallest value etc etc etc\")\n",
    "a.argsort().argsort\n",
    "\n",
    "# reference: https://stackoverflow.com/questions/5284646/rank-items-in-an-array-using-python-numpy-without-sorting-array-twice/"
   ]
  },
  {
   "cell_type": "markdown",
   "metadata": {},
   "source": [
    "<a id = 'q55'></a>\n",
    "**55. How to rank items in a multidimensional array using numpy?**\n",
    "\n",
    "[Go back to the table of contents](#table_of_contents)"
   ]
  },
  {
   "cell_type": "code",
   "execution_count": 56,
   "metadata": {},
   "outputs": [
    {
     "name": "stdout",
     "output_type": "stream",
     "text": [
      "Input\n"
     ]
    },
    {
     "data": {
      "text/plain": [
       "array([[ 9,  4, 15,  0, 17],\n",
       "       [16, 17,  8,  9,  0]])"
      ]
     },
     "execution_count": 56,
     "metadata": {},
     "output_type": "execute_result"
    },
    {
     "name": "stdout",
     "output_type": "stream",
     "text": [
      "Solution\n"
     ]
    },
    {
     "data": {
      "text/plain": [
       "array([[4, 2, 6, 0, 8],\n",
       "       [7, 9, 3, 5, 1]])"
      ]
     },
     "execution_count": 56,
     "metadata": {},
     "output_type": "execute_result"
    },
    {
     "name": "stdout",
     "output_type": "stream",
     "text": [
      "Solution from the website\n",
      "[[4 2 6 0 8]\n",
      " [7 9 3 5 1]]\n"
     ]
    },
    {
     "data": {
      "text/plain": [
       "'\\nDifference between flatten and ravel:\\n\\n- flatten is a method of an ndarray object and hence can only be called for true numpy arrays.\\n\\n- ravel is a library-level function and hence can be called on any object that can successfully be parsed.\\n'"
      ]
     },
     "execution_count": 56,
     "metadata": {},
     "output_type": "execute_result"
    }
   ],
   "source": [
    "# Q. Create a rank array of the same shape as a given numeric array a.\n",
    "\n",
    "# Input\n",
    "print(\"Input\")\n",
    "np.random.seed(10)\n",
    "a = np.random.randint(20, size=[2,5])\n",
    "a\n",
    "\n",
    "# Desired Output\n",
    "# > [[4 2 6 0 8]\n",
    "# >  [7 9 3 5 1]]\n",
    "\n",
    "# Solution\n",
    "print(\"Solution\")\n",
    "a.flatten().argsort().argsort().reshape(2, -1) # flatten first the array, then use the same tecnique as before and then reshape the array\n",
    "\n",
    "# Solution from the website\n",
    "print(\"Solution from the website\")\n",
    "print(a.ravel().argsort().argsort().reshape(a.shape))\n",
    "\n",
    "'''\n",
    "Difference between flatten and ravel:\n",
    "\n",
    "- flatten is a method of an ndarray object and hence can only be called for true numpy arrays.\n",
    "\n",
    "- ravel is a library-level function and hence can be called on any object that can successfully be parsed.\n",
    "'''"
   ]
  },
  {
   "cell_type": "markdown",
   "metadata": {},
   "source": [
    "<a id = 'q56'></a>\n",
    "**56. How to find the maximum value in each row of a numpy array 2d?**\n",
    "\n",
    "[Go back to the table of contents](#table_of_contents)"
   ]
  },
  {
   "cell_type": "code",
   "execution_count": 57,
   "metadata": {},
   "outputs": [
    {
     "name": "stdout",
     "output_type": "stream",
     "text": [
      "Input\n"
     ]
    },
    {
     "data": {
      "text/plain": [
       "array([[9, 9, 4],\n",
       "       [8, 8, 1],\n",
       "       [5, 3, 6],\n",
       "       [3, 3, 3],\n",
       "       [2, 1, 9]])"
      ]
     },
     "execution_count": 57,
     "metadata": {},
     "output_type": "execute_result"
    },
    {
     "name": "stdout",
     "output_type": "stream",
     "text": [
      "Solution\n"
     ]
    },
    {
     "data": {
      "text/plain": [
       "array([9, 8, 6, 3, 9])"
      ]
     },
     "execution_count": 57,
     "metadata": {},
     "output_type": "execute_result"
    },
    {
     "name": "stdout",
     "output_type": "stream",
     "text": [
      "Solution from the website\n"
     ]
    },
    {
     "data": {
      "text/plain": [
       "array([9, 8, 6, 3, 9])"
      ]
     },
     "execution_count": 57,
     "metadata": {},
     "output_type": "execute_result"
    },
    {
     "data": {
      "text/plain": [
       "array([9, 8, 6, 3, 9])"
      ]
     },
     "execution_count": 57,
     "metadata": {},
     "output_type": "execute_result"
    }
   ],
   "source": [
    "# Q. Compute the maximum for each row in the given array.\n",
    "\n",
    "# Input\n",
    "print(\"Input\")\n",
    "np.random.seed(100)\n",
    "a = np.random.randint(1,10, [5,3])\n",
    "a\n",
    "\n",
    "# Solution\n",
    "print(\"Solution\")\n",
    "np.array([max(row) for row in a])\n",
    "\n",
    "# Solution from the website\n",
    "print(\"Solution from the website\")\n",
    "\n",
    "# Solution 1\n",
    "np.amax(a, axis=1)\n",
    "\n",
    "# Solution 2\n",
    "np.apply_along_axis(np.max, arr=a, axis=1)"
   ]
  },
  {
   "cell_type": "markdown",
   "metadata": {},
   "source": [
    "<a id = 'q57'></a>\n",
    "**57. How to compute the min-by-max for each row for a numpy array 2d?**\n",
    "\n",
    "[Go back to the table of contents](#table_of_contents)"
   ]
  },
  {
   "cell_type": "code",
   "execution_count": 58,
   "metadata": {},
   "outputs": [
    {
     "name": "stdout",
     "output_type": "stream",
     "text": [
      "Input\n"
     ]
    },
    {
     "data": {
      "text/plain": [
       "array([[9, 9, 4],\n",
       "       [8, 8, 1],\n",
       "       [5, 3, 6],\n",
       "       [3, 3, 3],\n",
       "       [2, 1, 9]])"
      ]
     },
     "execution_count": 58,
     "metadata": {},
     "output_type": "execute_result"
    },
    {
     "name": "stdout",
     "output_type": "stream",
     "text": [
      "Solution\n"
     ]
    },
    {
     "data": {
      "text/plain": [
       "array([0.444, 0.125, 0.5  , 1.   , 0.111])"
      ]
     },
     "execution_count": 58,
     "metadata": {},
     "output_type": "execute_result"
    },
    {
     "name": "stdout",
     "output_type": "stream",
     "text": [
      "Solution from the website\n"
     ]
    },
    {
     "data": {
      "text/plain": [
       "array([0.444, 0.125, 0.5  , 1.   , 0.111])"
      ]
     },
     "execution_count": 58,
     "metadata": {},
     "output_type": "execute_result"
    }
   ],
   "source": [
    "# Q. Compute the min-by-max for each row for given 2d numpy array.\n",
    "\n",
    "# Input\n",
    "print(\"Input\")\n",
    "np.random.seed(100)\n",
    "a = np.random.randint(1,10, [5,3])\n",
    "a\n",
    "\n",
    "# Solution\n",
    "print(\"Solution\")\n",
    "np.array([min(row)/max(row) for row in a])\n",
    "\n",
    "# Solution from the website\n",
    "print(\"Solution from the website\")\n",
    "np.apply_along_axis(lambda x: np.min(x)/np.max(x), arr=a, axis=1) # maybe a little more elegat solution"
   ]
  },
  {
   "cell_type": "markdown",
   "metadata": {},
   "source": [
    "<a id = 'q58'></a>\n",
    "**58. How to find the duplicate records in a numpy array?**\n",
    "\n",
    "[Go back to the table of contents](#table_of_contents)"
   ]
  },
  {
   "cell_type": "code",
   "execution_count": 59,
   "metadata": {},
   "outputs": [
    {
     "name": "stdout",
     "output_type": "stream",
     "text": [
      "Input\n"
     ]
    },
    {
     "data": {
      "text/plain": [
       "array([0, 0, 3, 0, 2, 4, 2, 2, 2, 2])"
      ]
     },
     "execution_count": 59,
     "metadata": {},
     "output_type": "execute_result"
    },
    {
     "name": "stdout",
     "output_type": "stream",
     "text": [
      "Solution\n",
      "Ooops, I have not understood the problem. This solution marks False the elements that are duplicated and True the unique ones.\n"
     ]
    },
    {
     "data": {
      "text/plain": [
       "array([ True,  True, False,  True,  True, False,  True,  True,  True,\n",
       "        True])"
      ]
     },
     "execution_count": 59,
     "metadata": {},
     "output_type": "execute_result"
    },
    {
     "name": "stdout",
     "output_type": "stream",
     "text": [
      "Solution from the website\n"
     ]
    },
    {
     "data": {
      "text/plain": [
       "array([False,  True, False,  True, False, False,  True,  True,  True,\n",
       "        True])"
      ]
     },
     "execution_count": 59,
     "metadata": {},
     "output_type": "execute_result"
    }
   ],
   "source": [
    "# Q. Find the duplicate entries (2nd occurrence onwards) in the given numpy array and mark them as True. First time occurrences should be False.\n",
    "\n",
    "# Input\n",
    "print(\"Input\")\n",
    "np.random.seed(100)\n",
    "a = np.random.randint(0, 5, 10)\n",
    "a\n",
    "\n",
    "# Desired Output\n",
    "# > [False  True False  True False False  True  True  True  True]\n",
    "\n",
    "# Solution\n",
    "print(\"Solution\")\n",
    "print(\"Ooops, I have not understood the problem. This solution marks False the elements that are duplicated and True the unique ones.\")\n",
    "counts = np.unique(a, return_counts=True)\n",
    "np.array([True if counts[1][np.where(counts[0] == x)] > 1 else False for x in a])\n",
    "\n",
    "# Solution from the website\n",
    "print(\"Solution from the website\")\n",
    "out = np.full(a.shape[0], True) # Create an all True array\n",
    "unique_positions = np.unique(a, return_index=True)[1] # Find the index positions of unique elements\n",
    "out[unique_positions] = False # Mark those positions as False\n",
    "out"
   ]
  },
  {
   "cell_type": "markdown",
   "metadata": {},
   "source": [
    "<a id = 'q59'></a>\n",
    "**59. How to find the grouped mean in numpy?**\n",
    "\n",
    "[Go back to the table of contents](#table_of_contents)"
   ]
  },
  {
   "cell_type": "code",
   "execution_count": 60,
   "metadata": {},
   "outputs": [
    {
     "name": "stdout",
     "output_type": "stream",
     "text": [
      "Input\n",
      "/kaggle/input/exercise-60-denali-mt-mckinleyjpg/Denali Mt McKinley.jpg\n",
      "/kaggle/input/titanic/gender_submission.csv\n",
      "/kaggle/input/titanic/test.csv\n",
      "/kaggle/input/titanic/train.csv\n",
      "/kaggle/input/iris/Iris.csv\n",
      "/kaggle/input/iris/database.sqlite\n",
      "Solution\n"
     ]
    },
    {
     "data": {
      "text/plain": [
       "[[b'Iris-setosa', 3.418],\n",
       " [b'Iris-versicolor', 2.7700000000000005],\n",
       " [b'Iris-virginica', 2.974]]"
      ]
     },
     "execution_count": 60,
     "metadata": {},
     "output_type": "execute_result"
    },
    {
     "name": "stdout",
     "output_type": "stream",
     "text": [
      "Solution from the website\n"
     ]
    },
    {
     "data": {
      "text/plain": [
       "[[b'Iris-setosa', 3.418],\n",
       " [b'Iris-versicolor', 2.7700000000000005],\n",
       " [b'Iris-virginica', 2.974]]"
      ]
     },
     "execution_count": 60,
     "metadata": {},
     "output_type": "execute_result"
    },
    {
     "data": {
      "text/plain": [
       "[[b'Iris-setosa', 3.418],\n",
       " [b'Iris-versicolor', 2.7700000000000005],\n",
       " [b'Iris-virginica', 2.974]]"
      ]
     },
     "execution_count": 60,
     "metadata": {},
     "output_type": "execute_result"
    }
   ],
   "source": [
    "# Q. Find the mean of a numeric column grouped by a categorical column in a 2D numpy array\n",
    "\n",
    "# Input\n",
    "# Use the iris dataset provided\n",
    "print(\"Input\")\n",
    "print_files()\n",
    "\n",
    "# Use this if you are working on your local machine\n",
    "# url = 'https://archive.ics.uci.edu/ml/machine-learning-databases/iris/iris.data'\n",
    "# iris = np.genfromtxt(url, delimiter=',', dtype='object')\n",
    "# names = ('sepallength', 'sepalwidth', 'petallength', 'petalwidth', 'species')\n",
    "\n",
    "# Desired Output\n",
    "# > [[b'Iris-setosa', 3.418],\n",
    "# >  [b'Iris-versicolor', 2.770],\n",
    "# >  [b'Iris-virginica', 2.974]]\n",
    "\n",
    "# Solution\n",
    "print(\"Solution\")\n",
    "iris = np.genfromtxt(\"/kaggle/input/iris/Iris.csv\", delimiter=',', dtype='object', skip_header=1)\n",
    "sepallength = iris[:,2].astype(float)\n",
    "names = iris[:,5]\n",
    "[[name, np.mean(sepallength[np.where(names == name)])] for name in np.unique(names)]\n",
    "\n",
    "# Solution from the website\n",
    "print(\"Solution from the website\")\n",
    "numeric_column = iris[:, 2].astype('float')  # sepalwidth\n",
    "grouping_column = iris[:, 5]  # species\n",
    "\n",
    "# List comprehension version\n",
    "[[group_val, numeric_column[grouping_column==group_val].mean()] for group_val in np.unique(grouping_column)]\n",
    "\n",
    "# For Loop version\n",
    "output = []\n",
    "for group_val in np.unique(grouping_column):\n",
    "    output.append([group_val, numeric_column[grouping_column==group_val].mean()])\n",
    "\n",
    "output\n"
   ]
  },
  {
   "cell_type": "markdown",
   "metadata": {},
   "source": [
    "<a id = 'q60'></a>\n",
    "**60. How to convert a PIL image to numpy array?**\n",
    "\n",
    "[Go back to the table of contents](#table_of_contents)"
   ]
  },
  {
   "cell_type": "code",
   "execution_count": 61,
   "metadata": {},
   "outputs": [
    {
     "name": "stdout",
     "output_type": "stream",
     "text": [
      "Input\n",
      "/kaggle/input/exercise-60-denali-mt-mckinleyjpg/Denali Mt McKinley.jpg\n",
      "/kaggle/input/titanic/gender_submission.csv\n",
      "/kaggle/input/titanic/test.csv\n",
      "/kaggle/input/titanic/train.csv\n",
      "/kaggle/input/iris/Iris.csv\n",
      "/kaggle/input/iris/database.sqlite\n",
      "Solution\n"
     ]
    },
    {
     "data": {
      "text/plain": [
       "array([[[  9,  72, 125],\n",
       "        [  9,  72, 125],\n",
       "        [  9,  72, 125],\n",
       "        ...,\n",
       "        [ 42, 103, 147],\n",
       "        [ 42, 103, 147],\n",
       "        [ 43, 104, 148]],\n",
       "\n",
       "       [[  9,  72, 125],\n",
       "        [  9,  72, 125],\n",
       "        [ 10,  73, 126],\n",
       "        ...,\n",
       "        [ 42, 103, 147],\n",
       "        [ 42, 103, 147],\n",
       "        [ 43, 104, 148]],\n",
       "\n",
       "       [[  9,  72, 125],\n",
       "        [ 10,  73, 126],\n",
       "        [ 10,  73, 126],\n",
       "        ...,\n",
       "        [ 44, 105, 150],\n",
       "        [ 45, 106, 151],\n",
       "        [ 45, 106, 151]],\n",
       "\n",
       "       ...,\n",
       "\n",
       "       [[ 21,  41,  50],\n",
       "        [ 29,  51,  64],\n",
       "        [ 28,  54,  69],\n",
       "        ...,\n",
       "        [ 27,  58,  79],\n",
       "        [ 22,  53,  74],\n",
       "        [ 19,  47,  69]],\n",
       "\n",
       "       [[ 27,  51,  63],\n",
       "        [ 29,  55,  68],\n",
       "        [ 27,  56,  72],\n",
       "        ...,\n",
       "        [ 33,  70,  97],\n",
       "        [ 27,  64,  91],\n",
       "        [ 22,  57,  85]],\n",
       "\n",
       "       [[ 18,  45,  56],\n",
       "        [ 20,  48,  62],\n",
       "        [ 21,  52,  70],\n",
       "        ...,\n",
       "        [ 15,  51,  77],\n",
       "        [ 12,  48,  74],\n",
       "        [ 11,  45,  72]]], dtype=uint8)"
      ]
     },
     "execution_count": 61,
     "metadata": {},
     "output_type": "execute_result"
    },
    {
     "name": "stdout",
     "output_type": "stream",
     "text": [
      "Solution from the website\n"
     ]
    },
    {
     "data": {
      "text/plain": [
       "array([[[  9,  72, 125],\n",
       "        [ 10,  73, 126],\n",
       "        [ 11,  74, 127],\n",
       "        ...,\n",
       "        [ 44, 104, 154],\n",
       "        [ 44, 104, 154],\n",
       "        [ 42, 103, 147]],\n",
       "\n",
       "       [[ 10,  73, 126],\n",
       "        [ 11,  74, 127],\n",
       "        [ 12,  75, 128],\n",
       "        ...,\n",
       "        [ 46, 106, 156],\n",
       "        [ 46, 106, 156],\n",
       "        [ 48, 109, 154]],\n",
       "\n",
       "       [[ 11,  74, 127],\n",
       "        [ 12,  75, 128],\n",
       "        [ 13,  76, 129],\n",
       "        ...,\n",
       "        [ 47, 107, 157],\n",
       "        [ 47, 107, 157],\n",
       "        [ 45, 105, 155]],\n",
       "\n",
       "       ...,\n",
       "\n",
       "       [[ 15,  28,  36],\n",
       "        [ 24,  46,  60],\n",
       "        [ 16,  33,  43],\n",
       "        ...,\n",
       "        [ 23,  60,  79],\n",
       "        [ 39,  73,  98],\n",
       "        [ 42,  79, 106]],\n",
       "\n",
       "       [[ 32,  50,  60],\n",
       "        [ 21,  48,  65],\n",
       "        [ 27,  49,  62],\n",
       "        ...,\n",
       "        [ 23,  46,  54],\n",
       "        [ 22,  41,  56],\n",
       "        [ 20,  43,  59]],\n",
       "\n",
       "       [[ 29,  55,  68],\n",
       "        [ 26,  59,  78],\n",
       "        [ 19,  48,  64],\n",
       "        ...,\n",
       "        [ 25,  71,  95],\n",
       "        [ 34,  75, 107],\n",
       "        [ 27,  64,  91]]], dtype=uint8)"
      ]
     },
     "execution_count": 61,
     "metadata": {},
     "output_type": "execute_result"
    }
   ],
   "source": [
    "# Q. Import the image from the following URL and convert it to a numpy array.\n",
    "\n",
    "# Input\n",
    "print(\"Input\")\n",
    "print_files()\n",
    "\n",
    "# Use this if you are working on your local machine\n",
    "# URL = 'https://upload.wikimedia.org/wikipedia/commons/8/8b/Denali_Mt_McKinley.jpg'\n",
    "\n",
    "# Solution\n",
    "print(\"Solution\")\n",
    "from PIL import Image\n",
    "# pic = Image.open(\"/kaggle/input/exercise-60-denali-mt-mckinleyjpg/Denali Mt McKinley.jpg\").convert(\"L\") # works also without convert(\"L\")\n",
    "pic = Image.open(\"/kaggle/input/exercise-60-denali-mt-mckinleyjpg/Denali Mt McKinley.jpg\")\n",
    "imgarr = np.array(pic) \n",
    "imgarr\n",
    "\n",
    "# Solution from the website\n",
    "print(\"Solution from the website\")\n",
    "from io import BytesIO\n",
    "from PIL import Image\n",
    "import PIL\n",
    "\n",
    "# Read it as Image\n",
    "I = Image.open(\"/kaggle/input/exercise-60-denali-mt-mckinleyjpg/Denali Mt McKinley.jpg\")\n",
    "\n",
    "# Optionally resize\n",
    "I = I.resize([150,150])\n",
    "\n",
    "# Convert to numpy array\n",
    "arr = np.asarray(I)\n",
    "arr\n",
    "\n",
    "# Optionaly Convert it back to an image and show\n",
    "im = PIL.Image.fromarray(np.uint8(arr))\n",
    "Image.Image.show(im)"
   ]
  },
  {
   "cell_type": "markdown",
   "metadata": {},
   "source": [
    "<a id = 'q61'></a>\n",
    "**61. How to drop all missing values from a numpy array?**\n",
    "\n",
    "[Go back to the table of contents](#table_of_contents)"
   ]
  },
  {
   "cell_type": "code",
   "execution_count": 62,
   "metadata": {},
   "outputs": [
    {
     "name": "stdout",
     "output_type": "stream",
     "text": [
      "Input\n"
     ]
    },
    {
     "data": {
      "text/plain": [
       "array([ 1.,  2.,  3., nan,  5.,  6.,  7., nan])"
      ]
     },
     "execution_count": 62,
     "metadata": {},
     "output_type": "execute_result"
    },
    {
     "name": "stdout",
     "output_type": "stream",
     "text": [
      "Solution\n"
     ]
    },
    {
     "data": {
      "text/plain": [
       "array([1., 2., 3., 5., 6., 7.])"
      ]
     },
     "execution_count": 62,
     "metadata": {},
     "output_type": "execute_result"
    },
    {
     "name": "stdout",
     "output_type": "stream",
     "text": [
      "Solution from the website\n"
     ]
    },
    {
     "data": {
      "text/plain": [
       "array([1., 2., 3., 5., 6., 7.])"
      ]
     },
     "execution_count": 62,
     "metadata": {},
     "output_type": "execute_result"
    }
   ],
   "source": [
    "# Q. Drop all nan values from a 1D numpy array\n",
    "\n",
    "# Input\n",
    "print(\"Input\")\n",
    "a = np.array([1,2,3,np.nan,5,6,7,np.nan])\n",
    "a\n",
    "\n",
    "# Desired Output\n",
    "# array([ 1.,  2.,  3.,  5.,  6.,  7.])\n",
    "\n",
    "# Solution\n",
    "print(\"Solution\")\n",
    "a[[not np.isnan(x) for x in a]] # create a list with boolean if its np.isnan (not to reverse to True when it's not a nan) and index the original array\n",
    "\n",
    "# Solution from the website\n",
    "print(\"Solution from the website\")\n",
    "a[~np.isnan(a)]"
   ]
  },
  {
   "cell_type": "markdown",
   "metadata": {},
   "source": [
    "<a id = 'q62'></a>\n",
    "**62. How to compute the euclidean distance between two arrays?**\n",
    "\n",
    "[Go back to the table of contents](#table_of_contents)"
   ]
  },
  {
   "cell_type": "code",
   "execution_count": 63,
   "metadata": {},
   "outputs": [
    {
     "name": "stdout",
     "output_type": "stream",
     "text": [
      "Input\n"
     ]
    },
    {
     "data": {
      "text/plain": [
       "array([1, 2, 3, 4, 5])"
      ]
     },
     "execution_count": 63,
     "metadata": {},
     "output_type": "execute_result"
    },
    {
     "data": {
      "text/plain": [
       "array([4, 5, 6, 7, 8])"
      ]
     },
     "execution_count": 63,
     "metadata": {},
     "output_type": "execute_result"
    },
    {
     "name": "stdout",
     "output_type": "stream",
     "text": [
      "Solution\n"
     ]
    },
    {
     "data": {
      "text/plain": [
       "6.708203932499369"
      ]
     },
     "execution_count": 63,
     "metadata": {},
     "output_type": "execute_result"
    }
   ],
   "source": [
    "# Q. Compute the euclidean distance between two arrays a and b.\n",
    "\n",
    "# Input\n",
    "print(\"Input\")\n",
    "a = np.array([1,2,3,4,5])\n",
    "b = np.array([4,5,6,7,8])\n",
    "a\n",
    "b\n",
    "\n",
    "# Solution\n",
    "print(\"Solution\")\n",
    "dist = np.linalg.norm(a-b)\n",
    "dist\n",
    "\n",
    "# The website uses the same solution"
   ]
  },
  {
   "cell_type": "markdown",
   "metadata": {},
   "source": [
    "<a id = 'q63'></a>\n",
    "**63. How to find all the local maxima (or peaks) in a 1d array?**\n",
    "\n",
    "[Go back to the table of contents](#table_of_contents)"
   ]
  },
  {
   "cell_type": "code",
   "execution_count": 64,
   "metadata": {},
   "outputs": [
    {
     "name": "stdout",
     "output_type": "stream",
     "text": [
      "Input\n"
     ]
    },
    {
     "data": {
      "text/plain": [
       "array([1, 3, 7, 1, 2, 6, 0, 1])"
      ]
     },
     "execution_count": 64,
     "metadata": {},
     "output_type": "execute_result"
    },
    {
     "name": "stdout",
     "output_type": "stream",
     "text": [
      "Solution using scipy\n"
     ]
    },
    {
     "data": {
      "text/plain": [
       "array([2, 5])"
      ]
     },
     "execution_count": 64,
     "metadata": {},
     "output_type": "execute_result"
    },
    {
     "data": {
      "text/plain": [
       "array([7, 6])"
      ]
     },
     "execution_count": 64,
     "metadata": {},
     "output_type": "execute_result"
    },
    {
     "name": "stdout",
     "output_type": "stream",
     "text": [
      "Solution from the website using pure numpy\n"
     ]
    },
    {
     "data": {
      "text/plain": [
       "array([2, 5])"
      ]
     },
     "execution_count": 64,
     "metadata": {},
     "output_type": "execute_result"
    }
   ],
   "source": [
    "# Q. Find all the peaks in a 1D numpy array a. Peaks are points surrounded by smaller values on both sides.\n",
    "\n",
    "# Input\n",
    "print(\"Input\")\n",
    "a = np.array([1, 3, 7, 1, 2, 6, 0, 1])\n",
    "a\n",
    "\n",
    "# Desired Output\n",
    "# > array([2, 5])\n",
    "# where, 2 and 5 are the positions of peak values 7 and 6.\n",
    "\n",
    "# Solution\n",
    "print(\"Solution using scipy\")\n",
    "from scipy.signal import find_peaks\n",
    "\n",
    "ipeaks, _ = find_peaks(a)\n",
    "ipeaks\n",
    "a[ipeaks]\n",
    "\n",
    "# Solution from the website\n",
    "print(\"Solution from the website using pure numpy\")\n",
    "doublediff = np.diff(np.sign(np.diff(a)))\n",
    "peak_locations = np.where(doublediff == -2)[0] + 1\n",
    "peak_locations"
   ]
  },
  {
   "cell_type": "markdown",
   "metadata": {},
   "source": [
    "<a id = 'q64'></a>\n",
    "**64. How to subtract a 1d array from a 2d array, where each item of 1d array subtracts from respective row?**\n",
    "\n",
    "[Go back to the table of contents](#table_of_contents)"
   ]
  },
  {
   "cell_type": "code",
   "execution_count": 65,
   "metadata": {},
   "outputs": [
    {
     "name": "stdout",
     "output_type": "stream",
     "text": [
      "Input\n"
     ]
    },
    {
     "data": {
      "text/plain": [
       "array([[3, 3, 3],\n",
       "       [4, 4, 4],\n",
       "       [5, 5, 5]])"
      ]
     },
     "execution_count": 65,
     "metadata": {},
     "output_type": "execute_result"
    },
    {
     "data": {
      "text/plain": [
       "array([1, 2, 3])"
      ]
     },
     "execution_count": 65,
     "metadata": {},
     "output_type": "execute_result"
    },
    {
     "name": "stdout",
     "output_type": "stream",
     "text": [
      "Solution\n"
     ]
    },
    {
     "data": {
      "text/plain": [
       "array([[2, 2, 2],\n",
       "       [2, 2, 2],\n",
       "       [2, 2, 2]])"
      ]
     },
     "execution_count": 65,
     "metadata": {},
     "output_type": "execute_result"
    }
   ],
   "source": [
    "# Q. Subtract the 1d array b_1d from the 2d array a_2d, such that each item of b_1d subtracts from respective row of a_2d.\n",
    "\n",
    "# Input\n",
    "print(\"Input\")\n",
    "a_2d = np.array([[3,3,3],[4,4,4],[5,5,5]])\n",
    "b_1d = np.array([1,2,3])\n",
    "a_2d\n",
    "b_1d\n",
    "\n",
    "# Desired Output\n",
    "# > [[2 2 2]\n",
    "# >  [2 2 2]\n",
    "# >  [2 2 2]]\n",
    "\n",
    "# Solution\n",
    "print(\"Solution\")\n",
    "a_2d - b_1d[:, None]"
   ]
  },
  {
   "cell_type": "markdown",
   "metadata": {},
   "source": [
    "<a id = 'q65'></a>\n",
    "**65. How to find the index of n'th repetition of an item in an array**\n",
    "\n",
    "[Go back to the table of contents](#table_of_contents)\n"
   ]
  },
  {
   "cell_type": "code",
   "execution_count": 66,
   "metadata": {},
   "outputs": [
    {
     "name": "stdout",
     "output_type": "stream",
     "text": [
      "Input\n"
     ]
    },
    {
     "data": {
      "text/plain": [
       "array([1, 2, 1, 1, 3, 4, 3, 1, 1, 2, 1, 1, 2])"
      ]
     },
     "execution_count": 66,
     "metadata": {},
     "output_type": "execute_result"
    },
    {
     "name": "stdout",
     "output_type": "stream",
     "text": [
      "Solution\n"
     ]
    },
    {
     "data": {
      "text/plain": [
       "8"
      ]
     },
     "execution_count": 66,
     "metadata": {},
     "output_type": "execute_result"
    },
    {
     "name": "stdout",
     "output_type": "stream",
     "text": [
      "Solution from the website\n"
     ]
    },
    {
     "data": {
      "text/plain": [
       "8"
      ]
     },
     "execution_count": 66,
     "metadata": {},
     "output_type": "execute_result"
    },
    {
     "name": "stdout",
     "output_type": "stream",
     "text": [
      "Solution using numpy\n"
     ]
    },
    {
     "data": {
      "text/plain": [
       "8"
      ]
     },
     "execution_count": 66,
     "metadata": {},
     "output_type": "execute_result"
    }
   ],
   "source": [
    "# Q. Find the index of 5th repetition of number 1 in x.\n",
    "\n",
    "# Input\n",
    "print(\"Input\")\n",
    "x = np.array([1, 2, 1, 1, 3, 4, 3, 1, 1, 2, 1, 1, 2])\n",
    "x\n",
    "\n",
    "# Solution\n",
    "print(\"Solution\")\n",
    "np.where(x == 1)[0][4] # we do [0] since np.where returns a tupple, and then find the index of the 5 repetition\n",
    "\n",
    "# Solution from the website\n",
    "print(\"Solution from the website\")\n",
    "n = 5\n",
    "[i for i, v in enumerate(x) if v == 1][n-1]\n",
    "\n",
    "print(\"Solution using numpy\")\n",
    "np.where(x == 1)[0][n-1] # notice that n = 5, and 5 - 1 = 4, the index we did"
   ]
  },
  {
   "cell_type": "markdown",
   "metadata": {},
   "source": [
    "<a id = 'q66'></a>\n",
    "**66. How to convert numpy's datetime64 object to datetime's datetime object?**\n",
    "\n",
    "[Go back to the table of contents](#table_of_contents)"
   ]
  },
  {
   "cell_type": "code",
   "execution_count": 67,
   "metadata": {},
   "outputs": [
    {
     "name": "stdout",
     "output_type": "stream",
     "text": [
      "Input\n"
     ]
    },
    {
     "data": {
      "text/plain": [
       "numpy.datetime64('2018-02-25T22:10:10')"
      ]
     },
     "execution_count": 67,
     "metadata": {},
     "output_type": "execute_result"
    },
    {
     "name": "stdout",
     "output_type": "stream",
     "text": [
      "Solution from the website\n"
     ]
    },
    {
     "data": {
      "text/plain": [
       "datetime.datetime(2018, 2, 25, 22, 10, 10)"
      ]
     },
     "execution_count": 67,
     "metadata": {},
     "output_type": "execute_result"
    },
    {
     "data": {
      "text/plain": [
       "datetime.datetime(2018, 2, 25, 22, 10, 10)"
      ]
     },
     "execution_count": 67,
     "metadata": {},
     "output_type": "execute_result"
    }
   ],
   "source": [
    "# Q. Convert numpy's datetime64 object to datetime's datetime object\n",
    "\n",
    "# Input\n",
    "print(\"Input\")\n",
    "dt64 = np.datetime64('2018-02-25 22:10:10')\n",
    "dt64\n",
    "\n",
    "# Solution from the website\n",
    "print(\"Solution from the website\")\n",
    "from datetime import datetime\n",
    "dt64.tolist()\n",
    "\n",
    "# or\n",
    "\n",
    "dt64.astype(datetime)"
   ]
  },
  {
   "cell_type": "markdown",
   "metadata": {},
   "source": [
    "<a id = 'q67'></a>\n",
    "**67. How to compute the moving average of a numpy array?**\n",
    "\n",
    "[Go back to the table of contents](#table_of_contents)"
   ]
  },
  {
   "cell_type": "code",
   "execution_count": 68,
   "metadata": {},
   "outputs": [
    {
     "name": "stdout",
     "output_type": "stream",
     "text": [
      "Input\n"
     ]
    },
    {
     "data": {
      "text/plain": [
       "array([8, 8, 3, 7, 7, 0, 4, 2, 5, 2])"
      ]
     },
     "execution_count": 68,
     "metadata": {},
     "output_type": "execute_result"
    },
    {
     "name": "stdout",
     "output_type": "stream",
     "text": [
      "Solution\n"
     ]
    },
    {
     "data": {
      "text/plain": [
       "array([6.333, 6.   , 5.667, 4.667, 3.667, 2.   , 3.667, 3.   ])"
      ]
     },
     "execution_count": 68,
     "metadata": {},
     "output_type": "execute_result"
    },
    {
     "name": "stdout",
     "output_type": "stream",
     "text": [
      "Solution from the website\n"
     ]
    },
    {
     "data": {
      "text/plain": [
       "array([6.333, 6.   , 5.667, 4.667, 3.667, 2.   , 3.667, 3.   ])"
      ]
     },
     "execution_count": 68,
     "metadata": {},
     "output_type": "execute_result"
    }
   ],
   "source": [
    "# Q. Compute the moving average of window size 3, for the given 1D array.\n",
    "\n",
    "# Input\n",
    "print(\"Input\")\n",
    "np.random.seed(100)\n",
    "a = np.random.randint(10, size=10)\n",
    "a\n",
    "\n",
    "# Solution\n",
    "print(\"Solution\")\n",
    "# using the solution from https://stackoverflow.com/questions/14313510/how-to-calculate-moving-average-using-numpy/54628145\n",
    "def moving_average(a, n=3) :\n",
    "    ret = np.cumsum(a, dtype=float)\n",
    "    ret[n:] = ret[n:] - ret[:-n]\n",
    "    return ret[n - 1:] / n\n",
    "\n",
    "moving_average(a)\n",
    "\n",
    "# Solution from the website\n",
    "print(\"Solution from the website\")\n",
    "np.convolve(a, np.ones(3)/3, mode='valid')"
   ]
  },
  {
   "cell_type": "markdown",
   "metadata": {},
   "source": [
    "<a id = 'q68'></a>\n",
    "**68. How to create a numpy array sequence given only the starting point, length and the step?**\n",
    "\n",
    "[Go back to the table of contents](#table_of_contents)"
   ]
  },
  {
   "cell_type": "code",
   "execution_count": 69,
   "metadata": {},
   "outputs": [
    {
     "name": "stdout",
     "output_type": "stream",
     "text": [
      "Solution\n"
     ]
    },
    {
     "data": {
      "text/plain": [
       "array([ 5,  8, 11, 14, 17, 20, 23, 26, 29, 32])"
      ]
     },
     "execution_count": 69,
     "metadata": {},
     "output_type": "execute_result"
    }
   ],
   "source": [
    "# Q. Create a numpy array of length 10, starting from 5 and has a step of 3 between consecutive numbers\n",
    "\n",
    "# Solution\n",
    "print(\"Solution\")\n",
    "\n",
    "np.arange(5, (5 + (10*3)), 3) # first argument is the starting point, second is the end, and the third the step."
   ]
  },
  {
   "cell_type": "markdown",
   "metadata": {},
   "source": [
    "<a id = 'q69'></a>\n",
    "**69. How to fill in missing dates in an irregular series of numpy dates?**\n",
    "\n",
    "[Go back to the table of contents](#table_of_contents)"
   ]
  },
  {
   "cell_type": "code",
   "execution_count": 70,
   "metadata": {},
   "outputs": [
    {
     "name": "stdout",
     "output_type": "stream",
     "text": [
      "Input\n"
     ]
    },
    {
     "data": {
      "text/plain": [
       "array(['2018-02-01', '2018-02-03', '2018-02-05', '2018-02-07',\n",
       "       '2018-02-09', '2018-02-11', '2018-02-13', '2018-02-15',\n",
       "       '2018-02-17', '2018-02-19', '2018-02-21', '2018-02-23'],\n",
       "      dtype='datetime64[D]')"
      ]
     },
     "execution_count": 70,
     "metadata": {},
     "output_type": "execute_result"
    },
    {
     "name": "stdout",
     "output_type": "stream",
     "text": [
      "Solution from the website\n"
     ]
    },
    {
     "data": {
      "text/plain": [
       "array(['2018-02-01', '2018-02-02', '2018-02-03', '2018-02-04',\n",
       "       '2018-02-05', '2018-02-06', '2018-02-07', '2018-02-08',\n",
       "       '2018-02-09', '2018-02-10', '2018-02-11', '2018-02-12',\n",
       "       '2018-02-13', '2018-02-14', '2018-02-15', '2018-02-16',\n",
       "       '2018-02-17', '2018-02-18', '2018-02-19', '2018-02-20',\n",
       "       '2018-02-21', '2018-02-22', '2018-02-23'], dtype='datetime64[D]')"
      ]
     },
     "execution_count": 70,
     "metadata": {},
     "output_type": "execute_result"
    },
    {
     "data": {
      "text/plain": [
       "array(['2018-02-01', '2018-02-02', '2018-02-03', '2018-02-04',\n",
       "       '2018-02-05', '2018-02-06', '2018-02-07', '2018-02-08',\n",
       "       '2018-02-09', '2018-02-10', '2018-02-11', '2018-02-12',\n",
       "       '2018-02-13', '2018-02-14', '2018-02-15', '2018-02-16',\n",
       "       '2018-02-17', '2018-02-18', '2018-02-19', '2018-02-20',\n",
       "       '2018-02-21', '2018-02-22', '2018-02-23'], dtype='datetime64[D]')"
      ]
     },
     "execution_count": 70,
     "metadata": {},
     "output_type": "execute_result"
    }
   ],
   "source": [
    "# Q. Given an array of a non-continuous sequence of dates. Make it a continuous sequence of dates, by filling in the missing dates.\n",
    "\n",
    "# Input\n",
    "print(\"Input\")\n",
    "dates = np.arange(np.datetime64('2018-02-01'), np.datetime64('2018-02-25'), 2)\n",
    "dates\n",
    "\n",
    "# Solution from the website\n",
    "print(\"Solution from the website\")\n",
    "# Solution ---------------\n",
    "filled_in = np.array([np.arange(date, (date+d)) for date, d in zip(dates, np.diff(dates))]).reshape(-1)\n",
    "\n",
    "# add the last day\n",
    "output = np.hstack([filled_in, dates[-1]])\n",
    "output\n",
    "\n",
    "# For loop version -------\n",
    "out = []\n",
    "for date, d in zip(dates, np.diff(dates)):\n",
    "    out.append(np.arange(date, (date+d)))\n",
    "\n",
    "filled_in = np.array(out).reshape(-1)\n",
    "\n",
    "# add the last day\n",
    "output = np.hstack([filled_in, dates[-1]])\n",
    "output"
   ]
  },
  {
   "cell_type": "markdown",
   "metadata": {},
   "source": [
    "<a id = 'q70'></a>\n",
    "**70. How to create strides from a given 1D array?**\n",
    "\n",
    "[Go back to the table of contents](#table_of_contents)"
   ]
  },
  {
   "cell_type": "code",
   "execution_count": 71,
   "metadata": {},
   "outputs": [
    {
     "name": "stdout",
     "output_type": "stream",
     "text": [
      "Input\n"
     ]
    },
    {
     "data": {
      "text/plain": [
       "array([ 0,  1,  2,  3,  4,  5,  6,  7,  8,  9, 10, 11, 12, 13, 14])"
      ]
     },
     "execution_count": 71,
     "metadata": {},
     "output_type": "execute_result"
    },
    {
     "name": "stdout",
     "output_type": "stream",
     "text": [
      "Solution\n"
     ]
    },
    {
     "data": {
      "text/plain": [
       "[[array([0, 1, 2, 3])],\n",
       " [array([2, 3, 4, 5])],\n",
       " [array([4, 5, 6, 7])],\n",
       " [array([6, 7, 8, 9])],\n",
       " [array([ 8,  9, 10, 11])],\n",
       " [array([10, 11, 12, 13])]]"
      ]
     },
     "execution_count": 71,
     "metadata": {},
     "output_type": "execute_result"
    },
    {
     "name": "stdout",
     "output_type": "stream",
     "text": [
      "Solution from the website\n",
      "[[ 0  1  2  3]\n",
      " [ 2  3  4  5]\n",
      " [ 4  5  6  7]\n",
      " [ 6  7  8  9]\n",
      " [ 8  9 10 11]\n",
      " [10 11 12 13]]\n"
     ]
    }
   ],
   "source": [
    "# Q. From the given 1d array arr, generate a 2d matrix using strides, with a window length of 4 and strides of 2, like [[0,1,2,3], [2,3,4,5], [4,5,6,7]..]\n",
    "\n",
    "# Input\n",
    "print(\"Input\")\n",
    "arr = np.arange(15) \n",
    "arr\n",
    "\n",
    "# Desired Output\n",
    "# > [[ 0  1  2  3]\n",
    "# >  [ 2  3  4  5]\n",
    "# >  [ 4  5  6  7]\n",
    "# >  [ 6  7  8  9]\n",
    "# >  [ 8  9 10 11]\n",
    "# >  [10 11 12 13]]\n",
    "\n",
    "# Solution\n",
    "print(\"Solution\")\n",
    "index_ = np.arange(0, 15, 2)\n",
    "arr_ = [[arr[index_[i]:index_[i+2]]] for i in range(6)]\n",
    "arr_\n",
    "\n",
    "# Solution from the website\n",
    "print(\"Solution from the website\")\n",
    "def gen_strides(a, stride_len=5, window_len=5):\n",
    "    \n",
    "    n_strides = ((a.size-window_len)//stride_len) + 1\n",
    "    \n",
    "    return np.array([a[s:(s+window_len)] for s in np.arange(0, n_strides*stride_len, stride_len)])\n",
    "\n",
    "print(gen_strides(np.arange(15), stride_len=2, window_len=4))"
   ]
  },
  {
   "cell_type": "markdown",
   "metadata": {},
   "source": [
    "# This is the end. Thank you for following the exercises. I hope you learned a lot of Numpy."
   ]
  }
 ],
 "metadata": {
  "kernelspec": {
   "display_name": "Python 3",
   "language": "python",
   "name": "python3"
  },
  "language_info": {
   "codemirror_mode": {
    "name": "ipython",
    "version": 3
   },
   "file_extension": ".py",
   "mimetype": "text/x-python",
   "name": "python",
   "nbconvert_exporter": "python",
   "pygments_lexer": "ipython3",
   "version": "3.6.6"
  }
 },
 "nbformat": 4,
 "nbformat_minor": 4
}
